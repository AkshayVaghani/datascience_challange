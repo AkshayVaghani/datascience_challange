{
 "cells": [
  {
   "cell_type": "code",
   "execution_count": 50,
   "metadata": {},
   "outputs": [],
   "source": [
    "# Recurrent Neural Network"
   ]
  },
  {
   "cell_type": "code",
   "execution_count": 74,
   "metadata": {},
   "outputs": [],
   "source": [
    "# Part 1 - Data Preprocessing\n",
    "\n",
    "# Importing the libraries\n",
    "import numpy as np\n",
    "import matplotlib.pyplot as plt\n",
    "import pandas as pd\n",
    "%matplotlib inline\n",
    "\n",
    "\n",
    "# get data from Quandl websites using your API\n",
    "import quandl\n",
    "quandl.ApiConfig.api_key = \"GQN4nyshgdBE6gxrTyiZ\"\n",
    "\n",
    "#pd.core.common.is_list_like = pd.api.types.is_list_like"
   ]
  },
  {
   "cell_type": "code",
   "execution_count": 75,
   "metadata": {},
   "outputs": [
    {
     "data": {
      "text/plain": [
       "(3077, 3)"
      ]
     },
     "execution_count": 75,
     "metadata": {},
     "output_type": "execute_result"
    }
   ],
   "source": [
    "# using quandl API\n",
    "\n",
    "data = quandl.get_table('WIKI/PRICES', ticker = ['AAPL'], \n",
    "                        qopts = { 'columns': ['ticker', 'date', 'adj_close'] }, \n",
    "                        date = { 'gte': '2005-12-31', 'lte': '2018-12-31' }, \n",
    "                        paginate=True)\n",
    "data.shape"
   ]
  },
  {
   "cell_type": "code",
   "execution_count": 184,
   "metadata": {},
   "outputs": [],
   "source": [
    "# import data using panda's data reader\n",
    "\n",
    "import pandas_datareader.data as web\n",
    "\n",
    "from datetime import datetime\n",
    "\n",
    "start = datetime(2010, 2, 1)\n",
    "\n",
    "end = datetime(2017, 12, 30)\n",
    "\n",
    "#f = web.DataReader('MSFT', 'morningstar', start, end,)\n",
    "#f = web.DataReader('BABA', 'google', start, end,)\n",
    "\n",
    "tops = web.DataReader(\"AAPL\", \"morningstar\",start,end)\n",
    "#tops = web.DataReader(\"AAPL\", \"robinhood\",start,end)\n"
   ]
  },
  {
   "cell_type": "code",
   "execution_count": 185,
   "metadata": {},
   "outputs": [],
   "source": [
    "f=tops"
   ]
  },
  {
   "cell_type": "code",
   "execution_count": 192,
   "metadata": {},
   "outputs": [
    {
     "data": {
      "text/plain": [
       "(2065, 5)"
      ]
     },
     "execution_count": 192,
     "metadata": {},
     "output_type": "execute_result"
    }
   ],
   "source": [
    "f.head()\n",
    "f1=f.reset_index() #make index become label\n",
    "f1.head()\n",
    "#f.dtypel\n",
    "#f.Close\n",
    "f.shape"
   ]
  },
  {
   "cell_type": "code",
   "execution_count": 194,
   "metadata": {},
   "outputs": [],
   "source": [
    "#f.loc['2015-2-1':'2018-3-1']\n",
    "f_train=f1[(f1['Date'] >= '2010-2-1') & (f1['Date'] <= '2017-6-1')]\n",
    "f_test=f1[(f1['Date'] >= '2017-6-2') & (f1['Date'] <= '2017-12-30')]\n"
   ]
  },
  {
   "cell_type": "code",
   "execution_count": 218,
   "metadata": {},
   "outputs": [
    {
     "data": {
      "text/plain": [
       "(1914, 1)"
      ]
     },
     "execution_count": 218,
     "metadata": {},
     "output_type": "execute_result"
    }
   ],
   "source": [
    "# Importing the training set\n",
    "#dataset_train = pd.read_csv('Google_Stock_Price_Train.csv')\n",
    "training_set = f_train.iloc[:, 2:3].values\n",
    "training_set.shape\n",
    "#f_train\n",
    "#f_train.iloc[:, 2:3].values\n"
   ]
  },
  {
   "cell_type": "code",
   "execution_count": 219,
   "metadata": {},
   "outputs": [],
   "source": [
    "# Feature Scaling\n",
    "from sklearn.preprocessing import MinMaxScaler\n",
    "sc = MinMaxScaler(feature_range = (0, 1))\n",
    "training_set_scaled = sc.fit_transform(training_set)\n",
    "\n",
    "# Creating a data structure with 60 timesteps and 1 output\n",
    "# predict todays stocks price base on past 60 days stocks price\n",
    "X_train = []\n",
    "y_train = []\n",
    "for i in range(60, 1914):\n",
    "    X_train.append(training_set_scaled[i-60:i, 0]) # 0-60 days stocks price to train\n",
    "    y_train.append(training_set_scaled[i, 0])  # 61 day stock price will predict\n",
    "X_train, y_train = np.array(X_train), np.array(y_train)\n",
    "\n",
    "# Reshaping\n",
    "X_train = np.reshape(X_train, (X_train.shape[0], X_train.shape[1], 1))"
   ]
  },
  {
   "cell_type": "code",
   "execution_count": 248,
   "metadata": {},
   "outputs": [
    {
     "name": "stdout",
     "output_type": "stream",
     "text": [
      "Epoch 1/30\n",
      "1854/1854 [==============================] - 19s 10ms/step - loss: 0.0375\n",
      "Epoch 2/30\n",
      "1854/1854 [==============================] - 12s 7ms/step - loss: 0.0043\n",
      "Epoch 3/30\n",
      "1854/1854 [==============================] - 15s 8ms/step - loss: 0.0038\n",
      "Epoch 4/30\n",
      "1854/1854 [==============================] - 14s 8ms/step - loss: 0.0036\n",
      "Epoch 5/30\n",
      "1854/1854 [==============================] - 10s 6ms/step - loss: 0.0030\n",
      "Epoch 6/30\n",
      "1854/1854 [==============================] - 10s 5ms/step - loss: 0.0028\n",
      "Epoch 7/30\n",
      "1854/1854 [==============================] - 10s 5ms/step - loss: 0.0029\n",
      "Epoch 8/30\n",
      "1854/1854 [==============================] - 10s 5ms/step - loss: 0.0030\n",
      "Epoch 9/30\n",
      "1854/1854 [==============================] - 10s 5ms/step - loss: 0.0030\n",
      "Epoch 10/30\n",
      "1854/1854 [==============================] - 10s 5ms/step - loss: 0.0027\n",
      "Epoch 11/30\n",
      "1854/1854 [==============================] - 10s 5ms/step - loss: 0.0027\n",
      "Epoch 12/30\n",
      "1854/1854 [==============================] - 10s 5ms/step - loss: 0.0025\n",
      "Epoch 13/30\n",
      "1854/1854 [==============================] - 13s 7ms/step - loss: 0.0025\n",
      "Epoch 14/30\n",
      "1854/1854 [==============================] - 10s 5ms/step - loss: 0.0027\n",
      "Epoch 15/30\n",
      "1854/1854 [==============================] - 10s 5ms/step - loss: 0.0027\n",
      "Epoch 16/30\n",
      "1854/1854 [==============================] - 10s 5ms/step - loss: 0.0022\n",
      "Epoch 17/30\n",
      "1854/1854 [==============================] - 10s 5ms/step - loss: 0.0024\n",
      "Epoch 18/30\n",
      "1854/1854 [==============================] - 10s 6ms/step - loss: 0.0022\n",
      "Epoch 19/30\n",
      "1854/1854 [==============================] - 11s 6ms/step - loss: 0.0021\n",
      "Epoch 20/30\n",
      "1854/1854 [==============================] - 11s 6ms/step - loss: 0.0021\n",
      "Epoch 21/30\n",
      "1854/1854 [==============================] - 10s 5ms/step - loss: 0.0019\n",
      "Epoch 22/30\n",
      "1854/1854 [==============================] - 10s 5ms/step - loss: 0.0019\n",
      "Epoch 23/30\n",
      "1854/1854 [==============================] - 10s 5ms/step - loss: 0.0018\n",
      "Epoch 24/30\n",
      "1854/1854 [==============================] - 10s 5ms/step - loss: 0.0019\n",
      "Epoch 25/30\n",
      "1854/1854 [==============================] - 10s 5ms/step - loss: 0.0018\n",
      "Epoch 26/30\n",
      "1854/1854 [==============================] - 10s 5ms/step - loss: 0.0018\n",
      "Epoch 27/30\n",
      "1854/1854 [==============================] - 10s 5ms/step - loss: 0.0018\n",
      "Epoch 28/30\n",
      "1854/1854 [==============================] - 10s 5ms/step - loss: 0.0018\n",
      "Epoch 29/30\n",
      "1854/1854 [==============================] - 10s 5ms/step - loss: 0.0015\n",
      "Epoch 30/30\n",
      "1854/1854 [==============================] - 10s 5ms/step - loss: 0.0017\n"
     ]
    },
    {
     "data": {
      "text/plain": [
       "<keras.callbacks.History at 0x1a319e1208>"
      ]
     },
     "execution_count": 248,
     "metadata": {},
     "output_type": "execute_result"
    }
   ],
   "source": [
    "# Part 2 - Building the RNN\n",
    "\n",
    "# Importing the Keras libraries and packages\n",
    "from keras.models import Sequential\n",
    "from keras.layers import Dense\n",
    "from keras.layers import LSTM\n",
    "from keras.layers import Dropout\n",
    "\n",
    "# Initialising the RNN\n",
    "regressor = Sequential()\n",
    "\n",
    "# Adding the first LSTM layer and some Dropout regularisation\n",
    "regressor.add(LSTM(units = 50, return_sequences = True, input_shape = (X_train.shape[1], 1)))\n",
    "regressor.add(Dropout(0.2))\n",
    "\n",
    "# Adding a second LSTM layer and some Dropout regularisation\n",
    "regressor.add(LSTM(units = 50, return_sequences = True))\n",
    "regressor.add(Dropout(0.2))\n",
    "\n",
    "# Adding a third LSTM layer and some Dropout regularisation\n",
    "regressor.add(LSTM(units = 50, return_sequences = True))\n",
    "regressor.add(Dropout(0.2))\n",
    "\n",
    "# Adding a fourth LSTM layer and some Dropout regularisation\n",
    "regressor.add(LSTM(units = 50))\n",
    "regressor.add(Dropout(0.2))\n",
    "\n",
    "# Adding the output layer\n",
    "regressor.add(Dense(units = 1))\n",
    "\n",
    "# Compiling the RNN\n",
    "regressor.compile(optimizer = 'adam', loss = 'mean_squared_error')\n",
    "\n",
    "# Fitting the RNN to the Training set\n",
    "regressor.fit(X_train, y_train, epochs = 30, batch_size = 32)"
   ]
  },
  {
   "cell_type": "code",
   "execution_count": 250,
   "metadata": {},
   "outputs": [],
   "source": [
    "# Part 3 - Making the predictions and visualising the results\n",
    "\n",
    "# Getting the real stock price of 2017\n",
    "\n",
    "real_stock_price = f_test.iloc[:, 2:3].values\n"
   ]
  },
  {
   "cell_type": "code",
   "execution_count": 251,
   "metadata": {},
   "outputs": [],
   "source": [
    "# Getting the predicted stock price of 2017\n",
    "dataset_total = pd.concat((f_train['Close'], f_test['Close']), axis = 0)\n",
    "inputs = dataset_total[len(dataset_total) - len(f_test) - 60:].values"
   ]
  },
  {
   "cell_type": "code",
   "execution_count": 252,
   "metadata": {},
   "outputs": [],
   "source": [
    "inputs = inputs.reshape(-1,1)\n",
    "inputs = sc.transform(inputs)\n",
    "X_test = []\n",
    "for i in range(60, 210):\n",
    "    X_test.append(inputs[i-60:i, 0])\n",
    "X_test = np.array(X_test)\n",
    "X_test = np.reshape(X_test, (X_test.shape[0], X_test.shape[1], 1))\n",
    "predicted_stock_price = regressor.predict(X_test)\n",
    "predicted_stock_price = sc.inverse_transform(predicted_stock_price)"
   ]
  },
  {
   "cell_type": "code",
   "execution_count": 247,
   "metadata": {},
   "outputs": [
    {
     "data": {
      "image/png": "[encoded data removed]",
      "text/plain": [
       "<matplotlib.figure.Figure at 0x1a2e27dda0>"
      ]
     },
     "metadata": {},
     "output_type": "display_data"
    }
   ],
   "source": [
    "# Visualising the results\n",
    "plt.plot(real_stock_price, color = 'red', label = 'Real Apple Stock Price')\n",
    "plt.plot(predicted_stock_price, color = 'blue', label = 'Predicted Apple Stock Price')\n",
    "plt.title('Apple Stock Price Prediction')\n",
    "plt.xlabel('Time')\n",
    "plt.ylabel('Apple Stock Price')\n",
    "plt.legend()\n",
    "plt.show()"
   ]
  },
  {
   "cell_type": "code",
   "execution_count": 2,
   "metadata": {},
   "outputs": [
    {
     "ename": "NameError",
     "evalue": "name 'predicted_stock_price' is not defined",
     "output_type": "error",
     "traceback": [
      "\u001b[0;31m---------------------------------------------------------------------------\u001b[0m",
      "\u001b[0;31mNameError\u001b[0m                                 Traceback (most recent call last)",
      "\u001b[0;32m<ipython-input-2-d4a529264797>\u001b[0m in \u001b[0;36m<module>\u001b[0;34m()\u001b[0m\n\u001b[0;32m----> 1\u001b[0;31m \u001b[0mpredicted_stock_price\u001b[0m\u001b[0;34m\u001b[0m\u001b[0m\n\u001b[0m",
      "\u001b[0;31mNameError\u001b[0m: name 'predicted_stock_price' is not defined"
     ]
    }
   ],
   "source": [
    "predicted_stock_price"
   ]
  },
  {
   "cell_type": "code",
   "execution_count": 253,
   "metadata": {},
   "outputs": [
    {
     "data": {
      "image/png": "[encoded data removed]",
      "text/plain": [
       "<matplotlib.figure.Figure at 0x1a332f9588>"
      ]
     },
     "metadata": {},
     "output_type": "display_data"
    }
   ],
   "source": [
    "# Visualising the results\n",
    "plt.plot(real_stock_price, color = 'red', label = 'Real Apple Stock Price')\n",
    "plt.plot(predicted_stock_price, color = 'blue', label = 'Predicted Apple Stock Price')\n",
    "plt.title('Apple Stock Price Prediction')\n",
    "plt.xlabel('Time')\n",
    "plt.ylabel('Apple Stock Price')\n",
    "plt.legend()\n",
    "plt.show()"
   ]
  },
  {
   "cell_type": "code",
   "execution_count": null,
   "metadata": {},
   "outputs": [],
   "source": []
  },
  {
   "cell_type": "code",
   "execution_count": null,
   "metadata": {},
   "outputs": [],
   "source": []
  },
  {
   "cell_type": "code",
   "execution_count": null,
   "metadata": {},
   "outputs": [],
   "source": []
  },
  {
   "cell_type": "code",
   "execution_count": null,
   "metadata": {},
   "outputs": [],
   "source": []
  }
 ],
 "metadata": {
  "kernelspec": {
   "display_name": "Python 3",
   "language": "python",
   "name": "python3"
  },
  "language_info": {
   "codemirror_mode": {
    "name": "ipython",
    "version": 3
   },
   "file_extension": ".py",
   "mimetype": "text/x-python",
   "name": "python",
   "nbconvert_exporter": "python",
   "pygments_lexer": "ipython3",
   "version": "3.6.4"
  }
 },
 "nbformat": 4,
 "nbformat_minor": 2
}
