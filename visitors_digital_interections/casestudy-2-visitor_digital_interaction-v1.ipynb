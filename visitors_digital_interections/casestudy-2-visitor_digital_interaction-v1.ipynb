{
 "cells": [
  {
   "cell_type": "markdown",
   "metadata": {},
   "source": [
    "# Customer's digital interaction on ADP website"
   ]
  },
  {
   "cell_type": "markdown",
   "metadata": {},
   "source": [
    "#### ADP’s Digital team tracks behavior of web visitors on ADP.com website. The attached data gives information about web activity of our online visitors sourced from Paid Search over a month. This is a free form analysis and either R or Python can be used to run the analysis. Here are some general expectations:\n",
    "\n",
    "- Analyze the data to identify patterns \n",
    "- Identify anomalies/outlier in the data\n",
    "- Try to predict which visitors are more likely to submit a lead form\n"
   ]
  },
  {
   "cell_type": "code",
   "execution_count": 56,
   "metadata": {},
   "outputs": [],
   "source": [
    "# import library\n",
    "import pandas as pd\n",
    "import numpy as np\n",
    "import seaborn as sns\n",
    "import matplotlib.pyplot as plt\n",
    "pd.set_option('display.max_columns', None)\n",
    "#pd.set_option('display.max_rows', None)\n",
    "plt.style.use('ggplot')\n",
    "%matplotlib inline\n",
    "\n",
    "from sklearn import preprocessing\n",
    "from sklearn.model_selection import train_test_split\n",
    "from sklearn import model_selection\n",
    "from sklearn import linear_model\n",
    "\n",
    "from xgboost import plot_importance\n",
    "from matplotlib import pyplot\n",
    "from sklearn.linear_model import LogisticRegression\n",
    "from sklearn.ensemble import RandomForestClassifier, GradientBoostingClassifier\n",
    "from xgboost import XGBClassifier,XGBRegressor\n",
    "from sklearn.naive_bayes import MultinomialNB\n",
    "from sklearn.naive_bayes import GaussianNB,label_binarize,LabelBinarizer\n",
    "from sklearn.svm import LinearSVC, SVC,libsvm_sparse\n",
    "from sklearn.model_selection import cross_val_score\n",
    "\n",
    "import warnings\n",
    "warnings.filterwarnings(\"ignore\")"
   ]
  },
  {
   "cell_type": "code",
   "execution_count": 4,
   "metadata": {},
   "outputs": [],
   "source": [
    "df=pd.read_excel('CaseSTudy_2_data.xlsx')"
   ]
  },
  {
   "cell_type": "code",
   "execution_count": 5,
   "metadata": {},
   "outputs": [
    {
     "data": {
      "text/plain": [
       "(49420, 18)"
      ]
     },
     "execution_count": 5,
     "metadata": {},
     "output_type": "execute_result"
    }
   ],
   "source": [
    "df.shape"
   ]
  },
  {
   "cell_type": "code",
   "execution_count": 6,
   "metadata": {},
   "outputs": [
    {
     "data": {
      "text/plain": [
       "Visitor_Identifier       0\n",
       "Avg_Session_Duration     0\n",
       "avg_time_on_page         0\n",
       "Channel_Grouping         0\n",
       "device_category          0\n",
       "non_shopper              0\n",
       "Pages_Session            0\n",
       "pageviews                0\n",
       "Session_1plus_minute     0\n",
       "Session_3plus_minutes    0\n",
       "Session_3plus_pages      0\n",
       "Session_5plus_minutes    0\n",
       "Session_5plus_pages      0\n",
       "session_duration         0\n",
       "sessions                 0\n",
       "Unique_Views2_BU         0\n",
       "user_type                0\n",
       "Lead_Form_submission     0\n",
       "dtype: int64"
      ]
     },
     "execution_count": 6,
     "metadata": {},
     "output_type": "execute_result"
    }
   ],
   "source": [
    "# check null values \n",
    "df.isnull().sum()"
   ]
  },
  {
   "cell_type": "code",
   "execution_count": 7,
   "metadata": {},
   "outputs": [
    {
     "data": {
      "text/html": [
       "<div>\n",
       "<style scoped>\n",
       "    .dataframe tbody tr th:only-of-type {\n",
       "        vertical-align: middle;\n",
       "    }\n",
       "\n",
       "    .dataframe tbody tr th {\n",
       "        vertical-align: top;\n",
       "    }\n",
       "\n",
       "    .dataframe thead th {\n",
       "        text-align: right;\n",
       "    }\n",
       "</style>\n",
       "<table border=\"1\" class=\"dataframe\">\n",
       "  <thead>\n",
       "    <tr style=\"text-align: right;\">\n",
       "      <th></th>\n",
       "      <th>Visitor_Identifier</th>\n",
       "      <th>Avg_Session_Duration</th>\n",
       "      <th>avg_time_on_page</th>\n",
       "      <th>Channel_Grouping</th>\n",
       "      <th>device_category</th>\n",
       "      <th>non_shopper</th>\n",
       "      <th>Pages_Session</th>\n",
       "      <th>pageviews</th>\n",
       "      <th>Session_1plus_minute</th>\n",
       "      <th>Session_3plus_minutes</th>\n",
       "      <th>Session_3plus_pages</th>\n",
       "      <th>Session_5plus_minutes</th>\n",
       "      <th>Session_5plus_pages</th>\n",
       "      <th>session_duration</th>\n",
       "      <th>sessions</th>\n",
       "      <th>Unique_Views2_BU</th>\n",
       "      <th>user_type</th>\n",
       "      <th>Lead_Form_submission</th>\n",
       "    </tr>\n",
       "  </thead>\n",
       "  <tbody>\n",
       "    <tr>\n",
       "      <th>0</th>\n",
       "      <td>1.767882e+09</td>\n",
       "      <td>210.00</td>\n",
       "      <td>210.0</td>\n",
       "      <td>Paid Search</td>\n",
       "      <td>desktop</td>\n",
       "      <td>Yes</td>\n",
       "      <td>2.0</td>\n",
       "      <td>8</td>\n",
       "      <td>1</td>\n",
       "      <td>1</td>\n",
       "      <td>1</td>\n",
       "      <td>1</td>\n",
       "      <td>0</td>\n",
       "      <td>840</td>\n",
       "      <td>4</td>\n",
       "      <td>0</td>\n",
       "      <td>Returning Visitor</td>\n",
       "      <td>0</td>\n",
       "    </tr>\n",
       "    <tr>\n",
       "      <th>1</th>\n",
       "      <td>1.604589e+09</td>\n",
       "      <td>0.00</td>\n",
       "      <td>0.0</td>\n",
       "      <td>Paid Search</td>\n",
       "      <td>desktop</td>\n",
       "      <td>No</td>\n",
       "      <td>1.0</td>\n",
       "      <td>10</td>\n",
       "      <td>0</td>\n",
       "      <td>0</td>\n",
       "      <td>0</td>\n",
       "      <td>0</td>\n",
       "      <td>0</td>\n",
       "      <td>0</td>\n",
       "      <td>10</td>\n",
       "      <td>0</td>\n",
       "      <td>Returning Visitor</td>\n",
       "      <td>0</td>\n",
       "    </tr>\n",
       "    <tr>\n",
       "      <th>2</th>\n",
       "      <td>1.515450e+09</td>\n",
       "      <td>108.33</td>\n",
       "      <td>54.0</td>\n",
       "      <td>Paid Search</td>\n",
       "      <td>desktop</td>\n",
       "      <td>Yes</td>\n",
       "      <td>3.0</td>\n",
       "      <td>9</td>\n",
       "      <td>1</td>\n",
       "      <td>1</td>\n",
       "      <td>1</td>\n",
       "      <td>1</td>\n",
       "      <td>1</td>\n",
       "      <td>325</td>\n",
       "      <td>3</td>\n",
       "      <td>0</td>\n",
       "      <td>Returning Visitor</td>\n",
       "      <td>0</td>\n",
       "    </tr>\n",
       "    <tr>\n",
       "      <th>3</th>\n",
       "      <td>4.077739e+08</td>\n",
       "      <td>15.00</td>\n",
       "      <td>0.0</td>\n",
       "      <td>Paid Search</td>\n",
       "      <td>desktop</td>\n",
       "      <td>No</td>\n",
       "      <td>1.0</td>\n",
       "      <td>2</td>\n",
       "      <td>0</td>\n",
       "      <td>0</td>\n",
       "      <td>0</td>\n",
       "      <td>0</td>\n",
       "      <td>0</td>\n",
       "      <td>30</td>\n",
       "      <td>2</td>\n",
       "      <td>0</td>\n",
       "      <td>Returning Visitor</td>\n",
       "      <td>0</td>\n",
       "    </tr>\n",
       "    <tr>\n",
       "      <th>4</th>\n",
       "      <td>1.070705e+09</td>\n",
       "      <td>0.00</td>\n",
       "      <td>0.0</td>\n",
       "      <td>Paid Search</td>\n",
       "      <td>mobile</td>\n",
       "      <td>No</td>\n",
       "      <td>1.0</td>\n",
       "      <td>1</td>\n",
       "      <td>0</td>\n",
       "      <td>0</td>\n",
       "      <td>0</td>\n",
       "      <td>0</td>\n",
       "      <td>0</td>\n",
       "      <td>0</td>\n",
       "      <td>1</td>\n",
       "      <td>0</td>\n",
       "      <td>New Visitor</td>\n",
       "      <td>0</td>\n",
       "    </tr>\n",
       "  </tbody>\n",
       "</table>\n",
       "</div>"
      ],
      "text/plain": [
       "   Visitor_Identifier  Avg_Session_Duration  avg_time_on_page  \\\n",
       "0        1.767882e+09                210.00             210.0   \n",
       "1        1.604589e+09                  0.00               0.0   \n",
       "2        1.515450e+09                108.33              54.0   \n",
       "3        4.077739e+08                 15.00               0.0   \n",
       "4        1.070705e+09                  0.00               0.0   \n",
       "\n",
       "  Channel_Grouping device_category non_shopper  Pages_Session  pageviews  \\\n",
       "0      Paid Search         desktop         Yes            2.0          8   \n",
       "1      Paid Search         desktop          No            1.0         10   \n",
       "2      Paid Search         desktop         Yes            3.0          9   \n",
       "3      Paid Search         desktop          No            1.0          2   \n",
       "4      Paid Search          mobile          No            1.0          1   \n",
       "\n",
       "   Session_1plus_minute  Session_3plus_minutes  Session_3plus_pages  \\\n",
       "0                     1                      1                    1   \n",
       "1                     0                      0                    0   \n",
       "2                     1                      1                    1   \n",
       "3                     0                      0                    0   \n",
       "4                     0                      0                    0   \n",
       "\n",
       "   Session_5plus_minutes  Session_5plus_pages  session_duration  sessions  \\\n",
       "0                      1                    0               840         4   \n",
       "1                      0                    0                 0        10   \n",
       "2                      1                    1               325         3   \n",
       "3                      0                    0                30         2   \n",
       "4                      0                    0                 0         1   \n",
       "\n",
       "   Unique_Views2_BU          user_type  Lead_Form_submission  \n",
       "0                 0  Returning Visitor                     0  \n",
       "1                 0  Returning Visitor                     0  \n",
       "2                 0  Returning Visitor                     0  \n",
       "3                 0  Returning Visitor                     0  \n",
       "4                 0        New Visitor                     0  "
      ]
     },
     "execution_count": 7,
     "metadata": {},
     "output_type": "execute_result"
    }
   ],
   "source": [
    "df.head()"
   ]
  },
  {
   "cell_type": "code",
   "execution_count": 8,
   "metadata": {},
   "outputs": [
    {
     "data": {
      "text/plain": [
       "Index(['Visitor_Identifier', 'Avg_Session_Duration', 'avg_time_on_page',\n",
       "       'Channel_Grouping', 'device_category', 'non_shopper', 'Pages_Session',\n",
       "       'pageviews', 'Session_1plus_minute', 'Session_3plus_minutes',\n",
       "       'Session_3plus_pages', 'Session_5plus_minutes', 'Session_5plus_pages',\n",
       "       'session_duration', 'sessions', 'Unique_Views2_BU', 'user_type',\n",
       "       'Lead_Form_submission'],\n",
       "      dtype='object')"
      ]
     },
     "execution_count": 8,
     "metadata": {},
     "output_type": "execute_result"
    }
   ],
   "source": [
    "df.columns"
   ]
  },
  {
   "cell_type": "markdown",
   "metadata": {},
   "source": [
    "#### EDA\n",
    "\n",
    "- exploratory analysis to see how customers interact with ADP website\n",
    "- we plot barchart to see number of customers visit from different channels.\n",
    "- we plot the average time spend on page through different channel\n"
   ]
  },
  {
   "cell_type": "code",
   "execution_count": 38,
   "metadata": {},
   "outputs": [
    {
     "data": {
      "image/png": "[encoded data removed]",
      "text/plain": [
       "<matplotlib.figure.Figure at 0x1a1db110b8>"
      ]
     },
     "metadata": {
      "needs_background": "light"
     },
     "output_type": "display_data"
    }
   ],
   "source": [
    "# bar plot for device category \n",
    "sns.countplot(df['device_category'],data=df,hue='user_type')\n",
    "plt.savefig(\"/Users/akshay/Downloads/ADP_challange/ADP_datascientist_manager/device_category_counts.png\")\n"
   ]
  },
  {
   "cell_type": "code",
   "execution_count": 65,
   "metadata": {},
   "outputs": [
    {
     "data": {
      "image/png": "[encoded data removed]",
      "text/plain": [
       "<matplotlib.figure.Figure at 0x1a1dbc1390>"
      ]
     },
     "metadata": {
      "needs_background": "light"
     },
     "output_type": "display_data"
    }
   ],
   "source": [
    "sns.barplot(x='device_category',y='avg_time_on_page',data=df,hue='user_type')\n",
    "plt.savefig(\"/Users/akshay/Downloads/ADP_challange/ADP_datascientist_manager/avg_pagetime_devicecategory_usertype.png\")\n"
   ]
  },
  {
   "cell_type": "code",
   "execution_count": 66,
   "metadata": {},
   "outputs": [
    {
     "data": {
      "image/png": "[encoded data removed]",
      "text/plain": [
       "<matplotlib.figure.Figure at 0x119a89cc0>"
      ]
     },
     "metadata": {
      "needs_background": "light"
     },
     "output_type": "display_data"
    }
   ],
   "source": [
    "sns.barplot(x='device_category',y='avg_time_on_page',data=df,hue='non_shopper')\n",
    "plt.savefig(\"/Users/akshay/Downloads/ADP_challange/ADP_datascientist_manager/avg_pagetime_devicecategory_nonshopper.png\")\n"
   ]
  },
  {
   "cell_type": "code",
   "execution_count": 67,
   "metadata": {},
   "outputs": [
    {
     "data": {
      "image/png": "[encoded data removed]",
      "text/plain": [
       "<matplotlib.figure.Figure at 0x1a1dbc11d0>"
      ]
     },
     "metadata": {
      "needs_background": "light"
     },
     "output_type": "display_data"
    }
   ],
   "source": [
    "sns.barplot(x='device_category',y='avg_time_on_page',data=df,hue='Lead_Form_submission')\n",
    "plt.savefig(\"/Users/akshay/Downloads/ADP_challange/ADP_datascientist_manager/avg_pagetime_devicecategory_leadform.png\")\n"
   ]
  },
  {
   "cell_type": "markdown",
   "metadata": {},
   "source": [
    "# Anomaly detection using PyOD Library "
   ]
  },
  {
   "cell_type": "markdown",
   "metadata": {},
   "source": [
    "## Anomaly or Outlier detection\n",
    "\n",
    "- Here, we use PyOD python library to detect outliers in the data. \n",
    "- Model gives score 1 for outliers. we created flag for outlisers using different models and append to the original data frame.\n",
    "\n",
    "- we are looking to find outliers from multivariate data. One approch is to reduce the dimention of the data and apply clustering techniques on reduced dimention and find outliers in the clusters centroid. The data associated with outlier centroid are represent the outliers in original data.\n",
    "- PCA can be used for dimentionality reduction. in our case it was taking huge time so i didnt implimented it.  \n",
    "- another way to reduce the dimention is using ANN to creat embadding vectors from 19 dimentional future space to reduced dimention and apply clustering or Isolation forest techniques to detect anomally. If time permits then we can explore this option more."
   ]
  },
  {
   "cell_type": "code",
   "execution_count": 49,
   "metadata": {},
   "outputs": [],
   "source": [
    "# Import all models\n",
    "from pyod.models.abod import ABOD\n",
    "from pyod.models.cblof import CBLOF\n",
    "from pyod.models.feature_bagging import FeatureBagging\n",
    "from pyod.models.hbos import HBOS\n",
    "from pyod.models.iforest import IForest\n",
    "from pyod.models.knn import KNN\n",
    "from pyod.models.lof import LOF\n",
    "from pyod.models.mcd import MCD\n",
    "from pyod.models.ocsvm import OCSVM\n",
    "from pyod.models.pca import PCA\n",
    "from pyod.models.lscp import LSCP"
   ]
  },
  {
   "cell_type": "code",
   "execution_count": 50,
   "metadata": {},
   "outputs": [],
   "source": [
    "# separating features and target columns from the data\n",
    "\n",
    "feature=df[['Avg_Session_Duration', 'avg_time_on_page', 'device_category', 'non_shopper', 'Pages_Session',\n",
    "    'pageviews', 'Session_1plus_minute', 'Session_3plus_minutes','Session_3plus_pages', 'Session_5plus_minutes', \n",
    "    'Session_5plus_pages','session_duration', 'sessions', 'Unique_Views2_BU', 'user_type']]\n",
    "\n",
    "target=df['Lead_Form_submission']\n",
    "\n",
    "x=pd.get_dummies(feature)\n",
    "y=target\n"
   ]
  },
  {
   "cell_type": "markdown",
   "metadata": {},
   "source": [
    "#### Cluster-based Local Outlier Factor (CBLOF)\n",
    "\n",
    "- The CBLOF calculates the outlier score based on cluster-based local outlier factor. An anomaly score is computed by the distance of each instance to its cluster center multiplied by the instances belonging to its cluster\n",
    "- It classifies the data into small clusters and large clusters. The anomaly score is then calculated based on the size of the cluster the point belongs to, as well as the distance to the nearest large cluster\n"
   ]
  },
  {
   "cell_type": "code",
   "execution_count": 51,
   "metadata": {},
   "outputs": [
    {
     "data": {
      "text/plain": [
       "495"
      ]
     },
     "execution_count": 51,
     "metadata": {},
     "output_type": "execute_result"
    }
   ],
   "source": [
    "# CBLOF\n",
    "outliers_fraction = 0.01\n",
    "clf = CBLOF(contamination=outliers_fraction,check_estimator=False, random_state=0)\n",
    "clf.fit(x)\n",
    "y_pred_cblof = clf.predict(x)\n",
    "np.count_nonzero(y_pred_cblof)"
   ]
  },
  {
   "cell_type": "markdown",
   "metadata": {},
   "source": [
    "####  Histogram base outlier detector (HBOS)\n",
    "\n",
    "- HBOS assumes the feature independence and calculates the degree of anomalies by building histograms. In multivariate anomaly detection, a histogram for each single feature can be computed, scored individually and combined at the end. When using PyOD library, the code are very similar with the CBLOF.\n",
    "- It is much faster than multivariate approaches, but at the cost of less precision"
   ]
  },
  {
   "cell_type": "code",
   "execution_count": 52,
   "metadata": {},
   "outputs": [
    {
     "data": {
      "text/plain": [
       "490"
      ]
     },
     "execution_count": 52,
     "metadata": {},
     "output_type": "execute_result"
    }
   ],
   "source": [
    "#HBOS\n",
    "outliers_fraction = 0.01\n",
    "hbs = HBOS(contamination=outliers_fraction)\n",
    "hbs.fit(x)\n",
    "y_pred_hbs = hbs.predict(x)\n",
    "np.count_nonzero(y_pred_hbs)"
   ]
  },
  {
   "cell_type": "markdown",
   "metadata": {},
   "source": [
    "#### Isolation Forest\n",
    "- Isolation Forest is similar in principle to Random Forest and is built on the basis of decision trees. Isolation Forest isolates observations by randomly selecting a feature and then randomly selecting a split value between the maximum and minimum values of that selected feature.\n",
    "- It uses the scikit-learn library internally. In this method, data partitioning is done using a set of trees. Isolation Forest provides an anomaly score looking at how isolated the point is in the structure. The anomaly score is then used to identify outliers from normal observations\n",
    "- Isolation Forest performs well on multi-dimensional data\n",
    "- Isolation Forest is an unsupervised learning algorithm that belongs to the ensemble decision trees family. This approach is different from all previous methods. All the previous ones were trying to find the normal region of the data then identifies anything outside of this defined region to be an outlier or anomalous.\n",
    "- This method works differently. It explicitly isolates anomalies instead of profiling and constructing normal points and regions by assigning a score to each data point. It takes advantage of the fact that anomalies are the minority data points and that they have attribute-values that are very different from those of normal instances. This algorithm works great with very high dimensional datasets and it proved to be a very effective way of detecting anomalies.\n",
    " "
   ]
  },
  {
   "cell_type": "code",
   "execution_count": 53,
   "metadata": {},
   "outputs": [
    {
     "data": {
      "text/plain": [
       "495"
      ]
     },
     "execution_count": 53,
     "metadata": {},
     "output_type": "execute_result"
    }
   ],
   "source": [
    "outliers_fraction = 0.01\n",
    "isof = IForest(contamination=outliers_fraction,random_state=0)\n",
    "isof.fit(x)\n",
    "y_pred_isof = isof.predict(x)\n",
    "np.count_nonzero(y_pred_isof)"
   ]
  },
  {
   "cell_type": "markdown",
   "metadata": {},
   "source": [
    "####  K - Nearest Neighbors (KNN)\n",
    "- KNN is one of the simplest methods in anomaly detection. For a data point, its distance to its kth nearest neighbor could be viewed as the outlier score.\n"
   ]
  },
  {
   "cell_type": "code",
   "execution_count": 54,
   "metadata": {},
   "outputs": [
    {
     "data": {
      "text/plain": [
       "441"
      ]
     },
     "execution_count": 54,
     "metadata": {},
     "output_type": "execute_result"
    }
   ],
   "source": [
    "outliers_fraction = 0.01\n",
    "knn = KNN(contamination=outliers_fraction)\n",
    "knn.fit(x)\n",
    "y_pred_knn = knn.predict(x)\n",
    "np.count_nonzero(y_pred_knn)"
   ]
  },
  {
   "cell_type": "code",
   "execution_count": 55,
   "metadata": {},
   "outputs": [],
   "source": [
    "# joining outliers flags to the original data frame\n",
    "\n",
    "df['outlier_cblof_flg']=y_pred_cblof\n",
    "df['outlier_hbos_flg']=y_pred_hbs\n",
    "df['outlier_isof_flg']=y_pred_isof\n",
    "df['outlier_knn_flg']=y_pred_knn\n"
   ]
  },
  {
   "cell_type": "markdown",
   "metadata": {},
   "source": [
    "# Propensity models to predict which visitors more likely to submit the forms"
   ]
  },
  {
   "cell_type": "code",
   "execution_count": 58,
   "metadata": {},
   "outputs": [],
   "source": [
    "# train-test split\n",
    "# 80% data for model training, 20% for testing \n",
    "from sklearn.model_selection import train_test_split\n",
    "X_train, X_test, y_train, y_test = train_test_split(x,y,test_size=0.2, random_state = 0)"
   ]
  },
  {
   "cell_type": "code",
   "execution_count": 59,
   "metadata": {},
   "outputs": [
    {
     "name": "stdout",
     "output_type": "stream",
     "text": [
      "             precision    recall  f1-score   support\n",
      "\n",
      "          0       1.00      0.93      0.96      9537\n",
      "          1       0.34      0.96      0.50       347\n",
      "\n",
      "avg / total       0.98      0.93      0.95      9884\n",
      "\n"
     ]
    },
    {
     "data": {
      "image/png": "[encoded data removed]",
      "text/plain": [
       "<matplotlib.figure.Figure at 0x1a1de76a58>"
      ]
     },
     "metadata": {
      "needs_background": "light"
     },
     "output_type": "display_data"
    }
   ],
   "source": [
    "# Logistic regression classifiers \n",
    "# matrix to measure classification\n",
    "\n",
    "from sklearn import metrics\n",
    "from sklearn.metrics import confusion_matrix\n",
    "\n",
    "model = LogisticRegression(random_state=0,solver='lbfgs',class_weight='balanced')\n",
    "model.fit(X_train, y_train)\n",
    "y_pred = model.predict(X_test)\n",
    "\n",
    "class_names = df.Lead_Form_submission.unique()\n",
    "# print classification scores \n",
    "print(metrics.classification_report(y_test, y_pred))\n",
    "\n",
    "\n",
    "# print confusion matric\n",
    "\n",
    "conf_mat = confusion_matrix(y_test, y_pred)\n",
    "fig, ax = plt.subplots(figsize=(8,6))\n",
    "sns.heatmap(conf_mat, annot=True, fmt='d',xticklabels=class_names, yticklabels=class_names)\n",
    "plt.ylabel('Actual')\n",
    "plt.xlabel('Predicted')\n",
    "plt.show()"
   ]
  },
  {
   "cell_type": "code",
   "execution_count": 60,
   "metadata": {},
   "outputs": [
    {
     "name": "stdout",
     "output_type": "stream",
     "text": [
      "             precision    recall  f1-score   support\n",
      "\n",
      "          0       1.00      0.95      0.97      9537\n",
      "          1       0.40      0.90      0.55       347\n",
      "\n",
      "avg / total       0.98      0.95      0.96      9884\n",
      "\n"
     ]
    },
    {
     "data": {
      "image/png": "[encoded data removed]",
      "text/plain": [
       "<matplotlib.figure.Figure at 0x1a1db78860>"
      ]
     },
     "metadata": {
      "needs_background": "light"
     },
     "output_type": "display_data"
    }
   ],
   "source": [
    "# multinomial classifiers \n",
    "\n",
    "model = MultinomialNB()\n",
    "model.fit(X_train, y_train)\n",
    "y_pred = model.predict(X_test)\n",
    "\n",
    "\n",
    "# print classification scores \n",
    "print(metrics.classification_report(y_test, y_pred))\n",
    "\n",
    "# print confusion matric\n",
    "conf_mat = confusion_matrix(y_test, y_pred)\n",
    "fig, ax = plt.subplots(figsize=(8,6))\n",
    "sns.heatmap(conf_mat, annot=True, fmt='d',\n",
    "            xticklabels=class_names, yticklabels=class_names)\n",
    "plt.ylabel('Actual')\n",
    "plt.xlabel('Predicted')\n",
    "plt.show()"
   ]
  },
  {
   "cell_type": "code",
   "execution_count": 61,
   "metadata": {},
   "outputs": [
    {
     "name": "stderr",
     "output_type": "stream",
     "text": [
      "No handles with labels found to put in legend.\n"
     ]
    },
    {
     "name": "stdout",
     "output_type": "stream",
     "text": [
      "             precision    recall  f1-score   support\n",
      "\n",
      "          0       1.00      0.94      0.97      9537\n",
      "          1       0.39      0.97      0.56       347\n",
      "\n",
      "avg / total       0.98      0.95      0.96      9884\n",
      "\n"
     ]
    },
    {
     "data": {
      "image/png": "[encoded data removed]",
      "text/plain": [
       "<matplotlib.figure.Figure at 0x1a1f3ea2e8>"
      ]
     },
     "metadata": {
      "needs_background": "light"
     },
     "output_type": "display_data"
    }
   ],
   "source": [
    "# Random Forest classifiers \n",
    "\n",
    "model = RandomForestClassifier(n_estimators=500, max_depth=5,class_weight='balanced',criterion='entropy',random_state=0)\n",
    "model.fit(X_train, y_train)\n",
    "y_pred = model.predict(X_test)\n",
    "\n",
    "# print classification scores \n",
    "print(metrics.classification_report(y_test, y_pred))\n",
    "\n",
    "# print confusion matric\n",
    "conf_mat = confusion_matrix(y_test, y_pred)\n",
    "fig, ax = plt.subplots(figsize=(8,6))\n",
    "sns.heatmap(conf_mat, annot=True, fmt='d',xticklabels=class_names, yticklabels=class_names)\n",
    "plt.ylabel('Actual')\n",
    "plt.xlabel('Predicted')\n",
    "plt.title('confusion matrix - model Random Forest')    \n",
    "plt.legend()\n",
    "plt.savefig(\"/Users/akshay/Downloads/ADP_challange/ADP_datascientist_manager/RF_confusion_matrix.png\")\n",
    "plt.show()\n"
   ]
  },
  {
   "cell_type": "code",
   "execution_count": 62,
   "metadata": {},
   "outputs": [
    {
     "name": "stdout",
     "output_type": "stream",
     "text": [
      "             precision    recall  f1-score   support\n",
      "\n",
      "          0       0.99      0.99      0.99      9537\n",
      "          1       0.65      0.73      0.69       347\n",
      "\n",
      "avg / total       0.98      0.98      0.98      9884\n",
      "\n"
     ]
    },
    {
     "data": {
      "image/png": "[encoded data removed]",
      "text/plain": [
       "<matplotlib.figure.Figure at 0x1a1db44358>"
      ]
     },
     "metadata": {
      "needs_background": "light"
     },
     "output_type": "display_data"
    }
   ],
   "source": [
    "# Gradient boosting classifiers\n",
    "\n",
    "model=GradientBoostingClassifier(learning_rate=0.05, n_estimators=500, random_state=0)\n",
    "model.fit(X_train, y_train)\n",
    "y_pred = model.predict(X_test)\n",
    "\n",
    "# print classification scores \n",
    "print(metrics.classification_report(y_test, y_pred))\n",
    "\n",
    "# print confusion matric\n",
    "conf_mat = confusion_matrix(y_test, y_pred)\n",
    "fig, ax = plt.subplots(figsize=(8,6))\n",
    "sns.heatmap(conf_mat, annot=True, fmt='d',\n",
    "            xticklabels=class_names, yticklabels=class_names)\n",
    "plt.ylabel('Actual')\n",
    "plt.xlabel('Predicted')\n",
    "plt.show()"
   ]
  },
  {
   "cell_type": "code",
   "execution_count": 63,
   "metadata": {},
   "outputs": [
    {
     "name": "stdout",
     "output_type": "stream",
     "text": [
      "             precision    recall  f1-score   support\n",
      "\n",
      "          0       0.99      0.99      0.99      9537\n",
      "          1       0.65      0.74      0.70       347\n",
      "\n",
      "avg / total       0.98      0.98      0.98      9884\n",
      "\n"
     ]
    },
    {
     "data": {
      "image/png": "[encoded data removed]",
      "text/plain": [
       "<matplotlib.figure.Figure at 0x1a1f628ba8>"
      ]
     },
     "metadata": {
      "needs_background": "light"
     },
     "output_type": "display_data"
    }
   ],
   "source": [
    "# XGB classifiers \n",
    "\n",
    "model=XGBClassifier(learning_rate=0.05, n_estimators=500, random_state=0)\n",
    "model.fit(X_train, y_train)\n",
    "y_pred = model.predict(X_test)\n",
    "\n",
    "\n",
    "# print classification scores \n",
    "print(metrics.classification_report(y_test, y_pred))\n",
    "\n",
    "# print confusion matric\n",
    "conf_mat = confusion_matrix(y_test, y_pred)\n",
    "fig, ax = plt.subplots(figsize=(8,6))\n",
    "sns.heatmap(conf_mat, annot=True, fmt='d',\n",
    "            xticklabels=class_names, yticklabels=class_names)\n",
    "plt.ylabel('Actual')\n",
    "plt.xlabel('Predicted')\n",
    "plt.show()\n",
    "\n",
    "\n"
   ]
  },
  {
   "cell_type": "code",
   "execution_count": 31,
   "metadata": {},
   "outputs": [],
   "source": [
    "#comparing all models \n",
    "\n",
    "from sklearn.model_selection import cross_val_score\n",
    "from sklearn.model_selection import cross_validate\n",
    "from sklearn.metrics import recall_score\n",
    "\n",
    "models = [\n",
    "    MultinomialNB(),\n",
    "    LogisticRegression(random_state=0,solver='lbfgs',class_weight='balanced'),\n",
    "    RandomForestClassifier(n_estimators=500, max_depth=5,class_weight='balanced',criterion='entropy',random_state=0),\n",
    "    GradientBoostingClassifier(learning_rate=0.05, n_estimators=500, random_state=0),\n",
    "    XGBClassifier(learning_rate=0.05, n_estimators=500, random_state=0)\n",
    "]\n",
    "\n",
    "entries = []\n",
    "for model in models:\n",
    "    model_name = model.__class__.__name__\n",
    "    accuracies = cross_val_score(model, x, y,cv=3, scoring='roc_auc')\n",
    "    for fold_idx, accuracy in enumerate(accuracies):\n",
    "        entries.append((model_name, fold_idx, accuracy))\n",
    "cv_df = pd.DataFrame(entries, columns=['model_name', 'fold_idx', 'roc_auc'])\n",
    "#cv_df"
   ]
  },
  {
   "cell_type": "code",
   "execution_count": 70,
   "metadata": {},
   "outputs": [
    {
     "data": {
      "image/png": "[encoded data removed]",
      "text/plain": [
       "<matplotlib.figure.Figure at 0x1a1e5e49b0>"
      ]
     },
     "metadata": {
      "needs_background": "light"
     },
     "output_type": "display_data"
    }
   ],
   "source": [
    "# box plot for ROC-AUC( Area under the ROC curve )\n",
    "# box plot for model comparisons \n",
    "ax=sns.boxplot(x='model_name', y='roc_auc', data=cv_df)\n",
    "ax.set(xlabel='model_name', ylabel='roc_auc')\n",
    "ax.set_xticklabels(ax.get_xticklabels(), rotation=40, ha=\"right\")\n",
    "plt.savefig(\"/Users/akshay/Downloads/ADP_challange/ADP_datascientist_manager/model_comparisions_rocauc.png\",bbox_inches=\"tight\")\n",
    "plt.show()\n"
   ]
  },
  {
   "cell_type": "markdown",
   "metadata": {},
   "source": [
    "### ROC for Random Forest model"
   ]
  },
  {
   "cell_type": "code",
   "execution_count": 37,
   "metadata": {},
   "outputs": [
    {
     "name": "stdout",
     "output_type": "stream",
     "text": [
      "No skill : ROC AUC=0.500\n",
      "Random Forest: ROC AUC=0.987\n"
     ]
    },
    {
     "data": {
      "image/png": "[encoded data removed]",
      "text/plain": [
       "<matplotlib.figure.Figure at 0x1a1fa76eb8>"
      ]
     },
     "metadata": {
      "needs_background": "light"
     },
     "output_type": "display_data"
    }
   ],
   "source": [
    "# split into train/test sets\n",
    "#trainX, testX, trainy, testy = train_test_split(X, y, test_size=0.5, random_state=2)\n",
    "# generate a no skill prediction (majority class)\n",
    "from sklearn.metrics import roc_curve\n",
    "from sklearn.metrics import roc_auc_score\n",
    "\n",
    "ns_probs = [0 for _ in range(len(y_test))]\n",
    "\n",
    "# fit a model\n",
    "model = RandomForestClassifier(n_estimators=500, max_depth=5,class_weight='balanced',criterion='entropy',random_state=0)\n",
    "model.fit(X_train, y_train)\n",
    "\n",
    "# predict probabilities\n",
    "lr_probs = model.predict_proba(X_test)\n",
    "# keep probabilities for the positive outcome only\n",
    "lr_probs = lr_probs[:, 1]\n",
    "# calculate scores\n",
    "ns_auc = roc_auc_score(y_test, ns_probs)\n",
    "lr_auc = roc_auc_score(y_test, lr_probs)\n",
    "# summarize scores\n",
    "print('No skill : ROC AUC=%.3f' % (ns_auc))\n",
    "print('Random Forest: ROC AUC=%.3f' % (lr_auc))\n",
    "# calculate roc curves\n",
    "ns_fpr, ns_tpr, _ = roc_curve(y_test, ns_probs)\n",
    "lr_fpr, lr_tpr, _ = roc_curve(y_test, lr_probs)\n",
    "# plot the roc curve for the model\n",
    "plt.plot(ns_fpr, ns_tpr, linestyle='--', label='No skill' )\n",
    "plt.plot(lr_fpr, lr_tpr, marker='.', label='Random Forest')\n",
    "# axis labels\n",
    "plt.xlabel('False Positive Rate')\n",
    "plt.ylabel('True Positive Rate')\n",
    "plt.legend()\n",
    "plt.savefig(\"/Users/akshay/Downloads/ADP_challange/ADP_datascientist_manager/ROC_Random_Forest.png\")\n",
    "plt.show()"
   ]
  },
  {
   "cell_type": "markdown",
   "metadata": {},
   "source": [
    "### Hyperparameters tuning"
   ]
  },
  {
   "cell_type": "code",
   "execution_count": null,
   "metadata": {},
   "outputs": [],
   "source": [
    "# Perform gridsearch on RandomForest \n",
    "\n",
    "param={\"n_estimators\": np.arange(50,500,200),\"max_depth\": np.arange(1,50,10)}\n",
    "\n",
    "rfc = GridSearchCV(RandomForestClassifier(random_state=0,class_weight='balanced',criterion='entropy'),cv=3,param_grid=param)\n",
    "\n",
    "t0 = time.time()\n",
    "rfc.fit(X_train, y_train)\n",
    "rfc = time.time() - t0\n",
    "\n",
    "model_rfc=rfc.best_estimator_\n",
    "model_rfc\n",
    "model_rfc.fit(X_train, y_train)\n",
    "y_pred = model.predict(X_test)"
   ]
  },
  {
   "cell_type": "code",
   "execution_count": null,
   "metadata": {},
   "outputs": [],
   "source": []
  }
 ],
 "metadata": {
  "kernelspec": {
   "display_name": "Python 3",
   "language": "python",
   "name": "python3"
  },
  "language_info": {
   "codemirror_mode": {
    "name": "ipython",
    "version": 3
   },
   "file_extension": ".py",
   "mimetype": "text/x-python",
   "name": "python",
   "nbconvert_exporter": "python",
   "pygments_lexer": "ipython3",
   "version": "3.6.4"
  }
 },
 "nbformat": 4,
 "nbformat_minor": 2
}
