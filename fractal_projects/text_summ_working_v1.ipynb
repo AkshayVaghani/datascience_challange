{
 "cells": [
  {
   "cell_type": "code",
   "execution_count": 1,
   "metadata": {},
   "outputs": [],
   "source": [
    "import numpy as np\n",
    "import nltk\n",
    "import scipy as sp\n",
    "import pandas as pd\n",
    "import matplotlib\n",
    "#import pytextrank\n",
    "#import pytldr\n",
    "import sys\n",
    "import spacy\n",
    "import theano\n",
    "import tornado.ioloop\n",
    "import tornado.web\n",
    "import re\n",
    "import os\n",
    "from __future__ import division\n",
    "from nltk.tokenize import word_tokenize\n",
    "import theano.tensor as T\n",
    "from tornado.options import define, options"
   ]
  },
  {
   "cell_type": "code",
   "execution_count": 2,
   "metadata": {},
   "outputs": [],
   "source": [
    "os.chdir('/Users/akshay/Downloads/skip-thoughts-master')\n",
    "dt=pd.read_csv('chat_working_1.csv')"
   ]
  },
  {
   "cell_type": "code",
   "execution_count": 3,
   "metadata": {},
   "outputs": [
    {
     "data": {
      "text/html": [
       "<div>\n",
       "<style scoped>\n",
       "    .dataframe tbody tr th:only-of-type {\n",
       "        vertical-align: middle;\n",
       "    }\n",
       "\n",
       "    .dataframe tbody tr th {\n",
       "        vertical-align: top;\n",
       "    }\n",
       "\n",
       "    .dataframe thead th {\n",
       "        text-align: right;\n",
       "    }\n",
       "</style>\n",
       "<table border=\"1\" class=\"dataframe\">\n",
       "  <thead>\n",
       "    <tr style=\"text-align: right;\">\n",
       "      <th></th>\n",
       "      <th>orig_chat</th>\n",
       "      <th>orig_chat_with_punc</th>\n",
       "    </tr>\n",
       "  </thead>\n",
       "  <tbody>\n",
       "    <tr>\n",
       "      <th>0</th>\n",
       "      <td>Our daughter's phone (828-736-4673) stopped be...</td>\n",
       "      <td>Our daughter's phone ( 828-736-4673 ) stopped ...</td>\n",
       "    </tr>\n",
       "    <tr>\n",
       "      <th>1</th>\n",
       "      <td>Hi i just enabled the $40 international travel...</td>\n",
       "      <td>Hi, i just enabled the 0 international travel ...</td>\n",
       "    </tr>\n",
       "    <tr>\n",
       "      <th>2</th>\n",
       "      <td>i was wondering if i paid off the phones what ...</td>\n",
       "      <td>i was wondering if i paid off the phones what ...</td>\n",
       "    </tr>\n",
       "    <tr>\n",
       "      <th>3</th>\n",
       "      <td>I got charged a $5 late fee but my bill was no...</td>\n",
       "      <td>I got charged a late fee, but my bill was not ...</td>\n",
       "    </tr>\n",
       "    <tr>\n",
       "      <th>4</th>\n",
       "      <td>just looking for a new phone okay, i really wa...</td>\n",
       "      <td>Just looking for a new phone okay, i really wa...</td>\n",
       "    </tr>\n",
       "    <tr>\n",
       "      <th>5</th>\n",
       "      <td>Hello Looking for 2 new Galaxy 8 phones and 2 ...</td>\n",
       "      <td>Hello, Looking for 2 new Galaxy, 8 phones and ...</td>\n",
       "    </tr>\n",
       "    <tr>\n",
       "      <th>6</th>\n",
       "      <td>Hello I am trying to pay off one of the phones...</td>\n",
       "      <td>Hello, I am trying to pay off one of the phone...</td>\n",
       "    </tr>\n",
       "    <tr>\n",
       "      <th>7</th>\n",
       "      <td>I trying to figure out what the extra $41 char...</td>\n",
       "      <td>I trying to figure out what the extra 1 charge...</td>\n",
       "    </tr>\n",
       "    <tr>\n",
       "      <th>8</th>\n",
       "      <td>how do we activate voice to text for voicemail...</td>\n",
       "      <td>How do we activate voice to text for voicemail...</td>\n",
       "    </tr>\n",
       "    <tr>\n",
       "      <th>9</th>\n",
       "      <td>I was given extra data at no extra charge by o...</td>\n",
       "      <td>I was given extra data at no extra charge by o...</td>\n",
       "    </tr>\n",
       "    <tr>\n",
       "      <th>10</th>\n",
       "      <td>if I upgrade my iphone, can I give my present ...</td>\n",
       "      <td>If I upgrade my iphone, can I give my present ...</td>\n",
       "    </tr>\n",
       "    <tr>\n",
       "      <th>11</th>\n",
       "      <td>can I get a trade in on my Droid Turbo against...</td>\n",
       "      <td>Can I get a trade in on my Droid Turbo against...</td>\n",
       "    </tr>\n",
       "    <tr>\n",
       "      <th>12</th>\n",
       "      <td>in the order process ...does validate mean the...</td>\n",
       "      <td>In the order process, ... does validate mean t...</td>\n",
       "    </tr>\n",
       "  </tbody>\n",
       "</table>\n",
       "</div>"
      ],
      "text/plain": [
       "                                            orig_chat  \\\n",
       "0   Our daughter's phone (828-736-4673) stopped be...   \n",
       "1   Hi i just enabled the $40 international travel...   \n",
       "2   i was wondering if i paid off the phones what ...   \n",
       "3   I got charged a $5 late fee but my bill was no...   \n",
       "4   just looking for a new phone okay, i really wa...   \n",
       "5   Hello Looking for 2 new Galaxy 8 phones and 2 ...   \n",
       "6   Hello I am trying to pay off one of the phones...   \n",
       "7   I trying to figure out what the extra $41 char...   \n",
       "8   how do we activate voice to text for voicemail...   \n",
       "9   I was given extra data at no extra charge by o...   \n",
       "10  if I upgrade my iphone, can I give my present ...   \n",
       "11  can I get a trade in on my Droid Turbo against...   \n",
       "12  in the order process ...does validate mean the...   \n",
       "\n",
       "                                  orig_chat_with_punc  \n",
       "0   Our daughter's phone ( 828-736-4673 ) stopped ...  \n",
       "1   Hi, i just enabled the 0 international travel ...  \n",
       "2   i was wondering if i paid off the phones what ...  \n",
       "3   I got charged a late fee, but my bill was not ...  \n",
       "4   Just looking for a new phone okay, i really wa...  \n",
       "5   Hello, Looking for 2 new Galaxy, 8 phones and ...  \n",
       "6   Hello, I am trying to pay off one of the phone...  \n",
       "7   I trying to figure out what the extra 1 charge...  \n",
       "8   How do we activate voice to text for voicemail...  \n",
       "9   I was given extra data at no extra charge by o...  \n",
       "10  If I upgrade my iphone, can I give my present ...  \n",
       "11  Can I get a trade in on my Droid Turbo against...  \n",
       "12  In the order process, ... does validate mean t...  "
      ]
     },
     "execution_count": 3,
     "metadata": {},
     "output_type": "execute_result"
    }
   ],
   "source": [
    "dt"
   ]
  },
  {
   "cell_type": "code",
   "execution_count": 4,
   "metadata": {},
   "outputs": [],
   "source": [
    "#os.chdir('/Users/akshay/Downloads/skip-thoughts-master/punctuator_clean')\n",
    "os.chdir('/Users/akshay/Desktop/Fractal/NLP/skip-thoughts-master/punctuator_clean')"
   ]
  },
  {
   "cell_type": "code",
   "execution_count": 5,
   "metadata": {},
   "outputs": [
    {
     "data": {
      "text/plain": [
       "Index(['orig_chat', 'orig_chat_with_punc'], dtype='object')"
      ]
     },
     "execution_count": 5,
     "metadata": {},
     "output_type": "execute_result"
    }
   ],
   "source": [
    "dt.columns"
   ]
  },
  {
   "cell_type": "code",
   "execution_count": 6,
   "metadata": {},
   "outputs": [
    {
     "data": {
      "text/plain": [
       "'Hi i just enabled the $40 international travel pack i want to make sure this is already effective since i am flying to argentina right now can you confirm pls? flight taking off soon iphone 6 128gb 9177154330 yes just went through with it I will be in argentina till 2/19 so need it only for next 10 days no i went for the $40 per month international plan ok can we hurry flight taking off soon pls ask  I want the 40 / month one i have looked through for one month i will be mostly using data i need your help to just make sure this is effective right away and not from a later day I may get disconnected would be great if you could email me status once done i want to make sure the 40/month one is working from today and effective for only a month Ok thanks - and just to be clear the travel pass will not apply in addition right? Dont want to be paying 10/day for that in addition to the 40/month pls make sure this is the case - i need to disconnect now. Thank you. '"
      ]
     },
     "execution_count": 6,
     "metadata": {},
     "output_type": "execute_result"
    }
   ],
   "source": [
    "dt.orig_chat[1]"
   ]
  },
  {
   "cell_type": "code",
   "execution_count": 7,
   "metadata": {},
   "outputs": [
    {
     "name": "stdout",
     "output_type": "stream",
     "text": [
      "Initializing ...\n",
      "Number of parameters is 17926152\n"
     ]
    }
   ],
   "source": [
    "import punct"
   ]
  },
  {
   "cell_type": "code",
   "execution_count": 8,
   "metadata": {},
   "outputs": [],
   "source": [
    "h1=[]\n",
    "for i in range(len(dt)):\n",
    "    txt=dt.orig_chat[i]\n",
    "    h1=h1+[punct.punctuate(txt)]"
   ]
  },
  {
   "cell_type": "code",
   "execution_count": 9,
   "metadata": {},
   "outputs": [],
   "source": [
    "dt['orig_chat_with_punc2']=h1"
   ]
  },
  {
   "cell_type": "code",
   "execution_count": 10,
   "metadata": {},
   "outputs": [
    {
     "data": {
      "text/plain": [
       "Index(['orig_chat', 'orig_chat_with_punc', 'orig_chat_with_punc2'], dtype='object')"
      ]
     },
     "execution_count": 10,
     "metadata": {},
     "output_type": "execute_result"
    }
   ],
   "source": [
    "dt.columns"
   ]
  },
  {
   "cell_type": "code",
   "execution_count": 21,
   "metadata": {},
   "outputs": [
    {
     "data": {
      "text/plain": [
       "[\"Our daughter's phone ( 828-736-4673 ) stopped being able to make or receive phone calls. Do we need to bring it to the Verizon store in Waynesville N.C. or file a claim to get a replacement phone TaLani? No sorry her phone is with her. (. Ok sounds good. She can send and receive texts, just not phone calls We'll do a chat, then to see where we end up. Thank you for the advise, We'll try restarting it and then do a chat Great thanks again ). Thank you. I hope you have a great rest of the day too. \",\n",
       " 'Hi, i just enabled the $ 40 international travel pack. I want to make sure this is already effective, since i am flying to argentina right now. Can you confirm pls flight taking off soon iphone? 6. 128Gb. 9177154330. Yes, just went through with it. I will be in argentina till 2/19, so need it only for next 10 days. No, i went for the $ 40 per month international plan. Ok, can we hurry flight taking off soon pls ask I want the 40 / month, one i have looked through for one month. I will be mostly using data. I need your help to just make sure this is effective right away and not from a later day. I may get disconnected would be great if you could email me status once done. I want to make sure the 40/month one is working from today and effective for only a month. Ok, thanks and just to be clear. The travel pass will not apply in addition, right Dont want to be paying 10/day for that, in addition to the 40/month pls make sure this is the case i need to disconnect now. Thank you. ',\n",
       " \"I was wondering if i paid off the phones, what my bill would be and what it would cost to pay them off jody ballard ty. I am tired of paying so much for these phones. It is silly 310 mo, and that is with my discount. So is there no better options that still seems like a lot for 4 phones, one of which is not hardly used? No, that is what i mean. I don't mind paying what i owe for the phones, but i don't think it should be that much monthly, especially with the discount. Those smart talk. Phones that i don't want seem to be much cheaper. Ok is that with the discount for my employer. Ok, when will the phones be paid in full, if i just pay monthly, how much would the monthly bill be if I had phones paid ok.? Thank you for the information, not really, unless you can find me some more discounts. Ok, thanks! \",\n",
       " 'I got charged a $ 5 late fee, but my bill was not late. I paid by online banking and my back provided proof of payment. Can I get the late charge removed, Tracy Lowe. Thank you. Thank you very much. ',\n",
       " \"Just looking for a new phone okay, i really want a blackberry and i have no idea why Verizon doesn't offer them anymore. I really like my blackberry passport. It sucks that i cannot use it on verizon, so is it smart phones only no sliders for the texters, and i want a different color anything in color. Okay, what phone is good for texting and i want a different color anything black blah and i cannot find a different phone case for it. Motorola G plus only comes in ugly black. What does that look like and are there pretty phone cases for once? I would like to get a phone case that is sparkly and pretty. Instead of black utilitarian ugly ugh, okay, moto x, force, droid moto x, force droid phone, what kind of battery life and phone cases sKU #? Motxt1650Mrg, moto, z, force, droid. Sorry, i fat fingered. It rose gold, its pretty and i love droid. Yes, I'm looking and reading sorry, i don't see any cases just like wallets, etc. To put it in, i don't see anything like an otterbox or the like am i blind. Is the z2 a droid okay? So how is the battery life and does it come in pink or red anything, fun and or cases, I'm a pain? I know i just want something girly in my life, i live on a farm. I raise cows, i raise sheep and have lots of animals and for once i want something girly i apologize. I love the waterfall case and the incipio red case. Waterfall comes in rose gold. You made me smile when i saw those thank you, I'm not usually so picky, but for some reason i feel the need for pink. So what color does the phone come in? Is there a link for me see it? I really like the gold one and the battery life. That'S great. How good is the memory? Do i have to have a sim card with it for storage? I miss my droid turbo. If you couldn't tell sd is what i meant. I need a nap m. Getting old its not available at the Topeka store great: when would it get here? Okay, i am going to think about it. Ugh its worse than shoe shopping and purse shopping. I hate it thanks for helping me \",\n",
       " 'Hello, Looking for 2 new Galaxy, 8 phones and 2 Gizmos for kids, We are new customers. Currently with Tmobile, Looks like a BOGO for the Galaxy 8. Do you have any trade ins? We have 2 Galaxy 7 with about $ 125 balance on each Hold on. I am looking at the Gizmos now on the webpage. ',\n",
       " 'Hello, I am trying to pay off one of the phones on my account and cut the line, but I can t figure out how to do it. Can you tell me Payment and Payoff Questions? ',\n",
       " \"I trying to figure out what the extra $ 41 charge is on my bill this month. Thank you. It gives me an agreement number, but I'm not able to link that with any of the phones. Ok, ok! But what is the charge for? Is this a ont time fee or monthly, so am I being charged for her old phone still why we sent it back in the box? The new phone came in? Can we get created for the old phone on this bill since it was sent back perfect? Thank you good. What do you need from me? So? Can we pay this bill short, the $ 47 of her old phone? What is the monthly charge for the new phone? Ok, so can we pay this bill? The $ 27 short perfect. That'S all! Thank you. No \",\n",
       " \"How do we activate voice to text for voicemails on the iphone x? Actually, no, i just want to be able to have the voicemails show up as text when they come in. It was this way on my old iphone, but not on this one. The messages that show up in the voicemail app after one has been left how much to add that to the line, ok. lets go ahead and add that to that lie line its showing that its up to date, so we'll jsut, add this. For now, i can't at teh moment, but will soon. Ok thanks. That is all thanks. \",\n",
       " 'I was given extra data at no extra charge by one of your reps a month or 2 ago, and now I have a passed due balance of $ 20 ever since Hi, Yes, I know, But i was given extra data one month bc. I was about to go over, The rep told me: he/she was doing it for free bc. I have been a loyal customer for a long time. Can you pull up previous chats? I had Thank you Perfect balance to me thanks again. No, That is it ',\n",
       " \"If I upgrade my iphone, can I give my present iphone to a verizon customer who is on your pay as you go plan, but will it work for someone who just buys the cards and adds data to their phone? That way? Ok, great! That was my question. I see here that if I upgrade and buy a new phone, then i could get a new iphone 8, but that means I have to add a new line/phone number to our account. You mean, if there's two people already on our account, who both want to upgrade one i have to pay for, and one is free. Can I get the one for free and allow someone else to open a new line with it, Or does it have to be on my account? Then they could pull it and onto their own account. Do you have to be 18 to get your own account? Yes, just trying to figure out how to upgrade my phone and help a friend, I think you've helped me all you can. Thank you. I have a friend who is on that plan. I think I will jsut upgrade my phone and give my iphone 6 to her. To use on that plan, Her phone needs replaced. I wish I could help her more, but not willing to add her to our plan, So I can't figure out how to get her a better phone. She has that plan with verizon. Now, If she tried to upgrade her phone, would she have to pay full price for a phone? She is a teenager, hence my question before, but she is in the system with no parental help, so I'm trying to help her I'm talking about her being on the pay, as you gl plab, But she's only 16, so she won't be able to pull it off Onto her own accoutn anyways at that time, but will there be a balance owed on the free phone? What are the 2 monthly payments? Then the phone is free, no catch. Is there a 24 month committment to the phone number line or something, but will there be a balance owed for the phone? She will need to start a new phone number, but the new phone would be attached to a new number or that number. So if I upgrade my phone I will get a new iphone 8 and I have to start a new phone number/line on our account. I have to keep it for 2 months. Then I can cancel that line and the phone is mine to keep \",\n",
       " 'Can I get a trade in on my Droid Turbo against a Iphone 6s3 kate? I am looking to upgrade my phone and I saw there was a rebate if I purchase and Iphone 6S well thanks, but I am on the website and you are too slow for me. Have a nice day. ',\n",
       " \"In the order process, ... does validate mean the order is placed. How do you know if its not it validated and came back Complete Your Order then asks me to enter card # again. This is a joke. ... been thru this process 4 times ... won't. Allow me to complete wasted an hour on this .... 2 cards... Fine! Yes, no ..., just xxxx IPhone 7 .... Can you just check my cart? \"]"
      ]
     },
     "execution_count": 21,
     "metadata": {},
     "output_type": "execute_result"
    }
   ],
   "source": [
    "h1"
   ]
  },
  {
   "cell_type": "code",
   "execution_count": 20,
   "metadata": {},
   "outputs": [
    {
     "ename": "ModuleNotFoundError",
     "evalue": "No module named 'pytldr'",
     "output_type": "error",
     "traceback": [
      "\u001b[0;31m---------------------------------------------------------------------------\u001b[0m",
      "\u001b[0;31mModuleNotFoundError\u001b[0m                       Traceback (most recent call last)",
      "\u001b[0;32m<ipython-input-20-bdfda7a2c3dc>\u001b[0m in \u001b[0;36m<module>\u001b[0;34m()\u001b[0m\n\u001b[0;32m----> 1\u001b[0;31m \u001b[0;32mfrom\u001b[0m \u001b[0mpytldr\u001b[0m\u001b[0;34m.\u001b[0m\u001b[0mnlp\u001b[0m\u001b[0;34m.\u001b[0m\u001b[0mtokenizer\u001b[0m \u001b[0;32mimport\u001b[0m \u001b[0mTokenizer\u001b[0m\u001b[0;34m\u001b[0m\u001b[0m\n\u001b[0m\u001b[1;32m      2\u001b[0m \u001b[0;32mfrom\u001b[0m \u001b[0mpytldr\u001b[0m\u001b[0;34m.\u001b[0m\u001b[0msummarize\u001b[0m\u001b[0;34m.\u001b[0m\u001b[0mtextrank\u001b[0m \u001b[0;32mimport\u001b[0m \u001b[0mTextRankSummarizer\u001b[0m\u001b[0;34m\u001b[0m\u001b[0m\n\u001b[1;32m      3\u001b[0m \u001b[0;32mfrom\u001b[0m \u001b[0mpytldr\u001b[0m\u001b[0;34m.\u001b[0m\u001b[0msummarize\u001b[0m\u001b[0;34m.\u001b[0m\u001b[0mlsa\u001b[0m \u001b[0;32mimport\u001b[0m \u001b[0mLsaSummarizer\u001b[0m\u001b[0;34m,\u001b[0m \u001b[0mLsaOzsoy\u001b[0m\u001b[0;34m,\u001b[0m \u001b[0mLsaSteinberger\u001b[0m\u001b[0;34m\u001b[0m\u001b[0m\n\u001b[1;32m      4\u001b[0m \u001b[0;32mfrom\u001b[0m \u001b[0mpytldr\u001b[0m\u001b[0;34m.\u001b[0m\u001b[0msummarize\u001b[0m\u001b[0;34m.\u001b[0m\u001b[0mrelevance\u001b[0m \u001b[0;32mimport\u001b[0m \u001b[0mRelevanceSummarizer\u001b[0m\u001b[0;34m\u001b[0m\u001b[0m\n\u001b[1;32m      5\u001b[0m \u001b[0;34m\u001b[0m\u001b[0m\n",
      "\u001b[0;31mModuleNotFoundError\u001b[0m: No module named 'pytldr'"
     ]
    }
   ],
   "source": [
    "from pytldr.nlp.tokenizer import Tokenizer\n",
    "from pytldr.summarize.textrank import TextRankSummarizer\n",
    "from pytldr.summarize.lsa import LsaSummarizer, LsaOzsoy, LsaSteinberger\n",
    "from pytldr.summarize.relevance import RelevanceSummarizer\n",
    "\n",
    "\n",
    "tokenizer = Tokenizer(language='english', stopwords=None, stemming=True)\n",
    "\n",
    "summarizer_rnk = TextRankSummarizer()\n",
    "summarizer_oz = LsaOzsoy()\n",
    "summarizer_ste = LsaSteinberger()\n",
    "summarizer_summ = LsaSummarizer()\n",
    "summarizer_relv = RelevanceSummarizer()\n",
    "\n",
    "summary_txtrnk = summarizer_rnk.summarize(txt, length=1)\n",
    "summary_oz = summarizer_oz.summarize(txt, topics=3, length=4, binary_matrix=False, topic_sigma_threshold=0.5)\n",
    "summary_ste = summarizer_ste.summarize(txt, topics=3, length=4, binary_matrix=False, topic_sigma_threshold=0.5)\n",
    "summary_lsa = summarizer_summ.summarize(txt, topics=3, length=4, binary_matrix=False, topic_sigma_threshold=0.5)\n",
    "summary_relv = summarizer_relv.summarize(txt, length=4, binary_matrix=False)"
   ]
  },
  {
   "cell_type": "code",
   "execution_count": 13,
   "metadata": {},
   "outputs": [],
   "source": [
    "\n",
    "def sent_num(sent):\n",
    "    k1=str('')\n",
    "    for k in range((len(sent)-1)):\n",
    "        p1=str(k+1)+str(\": \")+sent[k]+str('; ')\n",
    "        k1=k1+p1\n",
    "    k1=k1+str(len(sent))+str(\": \")+sent[len(sent)-1]\n",
    "    return(k1)"
   ]
  },
  {
   "cell_type": "code",
   "execution_count": 14,
   "metadata": {},
   "outputs": [
    {
     "ename": "NameError",
     "evalue": "name 'summarizer_rnk' is not defined",
     "output_type": "error",
     "traceback": [
      "\u001b[0;31m---------------------------------------------------------------------------\u001b[0m",
      "\u001b[0;31mNameError\u001b[0m                                 Traceback (most recent call last)",
      "\u001b[0;32m<ipython-input-14-bdf3c73f7efe>\u001b[0m in \u001b[0;36m<module>\u001b[0;34m()\u001b[0m\n\u001b[1;32m      3\u001b[0m \u001b[0;32mfor\u001b[0m \u001b[0mi\u001b[0m \u001b[0;32min\u001b[0m \u001b[0mrange\u001b[0m\u001b[0;34m(\u001b[0m\u001b[0mlen\u001b[0m\u001b[0;34m(\u001b[0m\u001b[0mdt\u001b[0m\u001b[0;34m)\u001b[0m\u001b[0;34m)\u001b[0m\u001b[0;34m:\u001b[0m\u001b[0;34m\u001b[0m\u001b[0m\n\u001b[1;32m      4\u001b[0m     \u001b[0mtxt\u001b[0m\u001b[0;34m=\u001b[0m\u001b[0mdt\u001b[0m\u001b[0;34m.\u001b[0m\u001b[0morig_chat_with_punc2\u001b[0m\u001b[0;34m[\u001b[0m\u001b[0mi\u001b[0m\u001b[0;34m]\u001b[0m\u001b[0;34m\u001b[0m\u001b[0m\n\u001b[0;32m----> 5\u001b[0;31m     \u001b[0msummary_txtrnk\u001b[0m \u001b[0;34m=\u001b[0m \u001b[0msummarizer_rnk\u001b[0m\u001b[0;34m.\u001b[0m\u001b[0msummarize\u001b[0m\u001b[0;34m(\u001b[0m\u001b[0mtxt\u001b[0m\u001b[0;34m,\u001b[0m \u001b[0mlength\u001b[0m\u001b[0;34m=\u001b[0m\u001b[0;36m4\u001b[0m\u001b[0;34m)\u001b[0m\u001b[0;34m\u001b[0m\u001b[0m\n\u001b[0m\u001b[1;32m      6\u001b[0m     \u001b[0msn1\u001b[0m\u001b[0;34m=\u001b[0m\u001b[0msn1\u001b[0m\u001b[0;34m+\u001b[0m\u001b[0;34m[\u001b[0m\u001b[0msent_num\u001b[0m\u001b[0;34m(\u001b[0m\u001b[0msummary_txtrnk\u001b[0m\u001b[0;34m)\u001b[0m\u001b[0;34m]\u001b[0m\u001b[0;34m\u001b[0m\u001b[0m\n\u001b[1;32m      7\u001b[0m     \u001b[0msummary_oz\u001b[0m \u001b[0;34m=\u001b[0m \u001b[0msummarizer_oz\u001b[0m\u001b[0;34m.\u001b[0m\u001b[0msummarize\u001b[0m\u001b[0;34m(\u001b[0m\u001b[0mtxt\u001b[0m\u001b[0;34m,\u001b[0m \u001b[0mtopics\u001b[0m\u001b[0;34m=\u001b[0m\u001b[0;36m3\u001b[0m\u001b[0;34m,\u001b[0m \u001b[0mlength\u001b[0m\u001b[0;34m=\u001b[0m\u001b[0;36m4\u001b[0m\u001b[0;34m,\u001b[0m \u001b[0mbinary_matrix\u001b[0m\u001b[0;34m=\u001b[0m\u001b[0;32mFalse\u001b[0m\u001b[0;34m,\u001b[0m \u001b[0mtopic_sigma_threshold\u001b[0m\u001b[0;34m=\u001b[0m\u001b[0;36m0.5\u001b[0m\u001b[0;34m)\u001b[0m\u001b[0;34m\u001b[0m\u001b[0m\n",
      "\u001b[0;31mNameError\u001b[0m: name 'summarizer_rnk' is not defined"
     ]
    }
   ],
   "source": [
    "\n",
    "sn1=[]; sn2=[]; sn3=[]; sn4=[]; sn5=[]\n",
    "for i in range(len(dt)):\n",
    "    txt=dt.orig_chat_with_punc2[i]\n",
    "    summary_txtrnk = summarizer_rnk.summarize(txt, length=4)\n",
    "    sn1=sn1+[sent_num(summary_txtrnk)]\n",
    "    summary_oz = summarizer_oz.summarize(txt, topics=3, length=4, binary_matrix=False, topic_sigma_threshold=0.5)\n",
    "    sn2=sn2+[sent_num(summary_oz)]\n",
    "    summary_ste = summarizer_ste.summarize(txt, topics=3, length=4, binary_matrix=False, topic_sigma_threshold=0.5)\n",
    "    sn3=sn3+[sent_num(summary_ste)]\n",
    "    summary_lsa = summarizer_summ.summarize(txt, topics=3, length=4, binary_matrix=False, topic_sigma_threshold=0.5)\n",
    "    sn4=sn4+[sent_num(summary_lsa)]\n",
    "    summary_relv = summarizer_relv.summarize(txt, length=4, binary_matrix=False)\n",
    "    sn5=sn5+[sent_num(summary_relv)]\n",
    "    \n",
    "    \n"
   ]
  },
  {
   "cell_type": "code",
   "execution_count": 13,
   "metadata": {},
   "outputs": [
    {
     "data": {
      "text/plain": [
       "Index([u'orig_chat', u'orig_chat_with_punc', u'orig_chat_with_punc2'], dtype='object')"
      ]
     },
     "execution_count": 13,
     "metadata": {},
     "output_type": "execute_result"
    }
   ],
   "source": [
    "dt.columns "
   ]
  },
  {
   "cell_type": "code",
   "execution_count": 14,
   "metadata": {
    "collapsed": true
   },
   "outputs": [],
   "source": [
    "dt['summ_text_rank']=sn1\n",
    "dt['summ_oz']=sn2\n",
    "dt['summ_ste']=sn3\n",
    "dt['summ_lsa']=sn4\n",
    "dt['summ_lsa_relv']=sn5\n"
   ]
  },
  {
   "cell_type": "code",
   "execution_count": 15,
   "metadata": {},
   "outputs": [
    {
     "data": {
      "text/plain": [
       "Index([u'orig_chat', u'orig_chat_with_punc', u'orig_chat_with_punc2',\n",
       "       u'summ_text_rank', u'summ_oz', u'summ_ste', u'summ_lsa',\n",
       "       u'summ_lsa_relv'],\n",
       "      dtype='object')"
      ]
     },
     "execution_count": 15,
     "metadata": {},
     "output_type": "execute_result"
    }
   ],
   "source": [
    "dt.columns"
   ]
  },
  {
   "cell_type": "code",
   "execution_count": 16,
   "metadata": {},
   "outputs": [
    {
     "data": {
      "text/html": [
       "<div>\n",
       "<style>\n",
       "    .dataframe thead tr:only-child th {\n",
       "        text-align: right;\n",
       "    }\n",
       "\n",
       "    .dataframe thead th {\n",
       "        text-align: left;\n",
       "    }\n",
       "\n",
       "    .dataframe tbody tr th {\n",
       "        vertical-align: top;\n",
       "    }\n",
       "</style>\n",
       "<table border=\"1\" class=\"dataframe\">\n",
       "  <thead>\n",
       "    <tr style=\"text-align: right;\">\n",
       "      <th></th>\n",
       "      <th>orig_chat</th>\n",
       "      <th>orig_chat_with_punc</th>\n",
       "      <th>orig_chat_with_punc2</th>\n",
       "      <th>summ_text_rank</th>\n",
       "      <th>summ_oz</th>\n",
       "      <th>summ_ste</th>\n",
       "      <th>summ_lsa</th>\n",
       "      <th>summ_lsa_relv</th>\n",
       "    </tr>\n",
       "  </thead>\n",
       "  <tbody>\n",
       "    <tr>\n",
       "      <th>0</th>\n",
       "      <td>Our daughter's phone (828-736-4673) stopped be...</td>\n",
       "      <td>Our daughter's phone ( 828-736-4673 ) stopped ...</td>\n",
       "      <td>Our daughter's phone ( 828-736-4673 ) stopped ...</td>\n",
       "      <td>1: Our daughter's phone ( 828-736-4673 ) stopp...</td>\n",
       "      <td>1: Our daughter's phone ( 828-736-4673 ) stopp...</td>\n",
       "      <td>1: Our daughter's phone ( 828-736-4673 ) stopp...</td>\n",
       "      <td>1: Our daughter's phone ( 828-736-4673 ) stopp...</td>\n",
       "      <td>1: Our daughter's phone ( 828-736-4673 ) stopp...</td>\n",
       "    </tr>\n",
       "    <tr>\n",
       "      <th>1</th>\n",
       "      <td>Hi i just enabled the $40 international travel...</td>\n",
       "      <td>Hi, i just enabled the 0 international travel ...</td>\n",
       "      <td>Hi, i just enabled the $ 40 international trav...</td>\n",
       "      <td>1: Hi, i just enabled the $ 40 international t...</td>\n",
       "      <td>1: Hi, i just enabled the $ 40 international t...</td>\n",
       "      <td>1: Hi, i just enabled the $ 40 international t...</td>\n",
       "      <td>1: Hi, i just enabled the $ 40 international t...</td>\n",
       "      <td>1: Hi, i just enabled the $ 40 international t...</td>\n",
       "    </tr>\n",
       "    <tr>\n",
       "      <th>2</th>\n",
       "      <td>i was wondering if i paid off the phones what ...</td>\n",
       "      <td>i was wondering if i paid off the phones what ...</td>\n",
       "      <td>I was wondering if i paid off the phones, what...</td>\n",
       "      <td>1: I was wondering if i paid off the phones, w...</td>\n",
       "      <td>1: I was wondering if i paid off the phones, w...</td>\n",
       "      <td>1: I was wondering if i paid off the phones, w...</td>\n",
       "      <td>1: I was wondering if i paid off the phones, w...</td>\n",
       "      <td>1: I was wondering if i paid off the phones, w...</td>\n",
       "    </tr>\n",
       "    <tr>\n",
       "      <th>3</th>\n",
       "      <td>I got charged a $5 late fee but my bill was no...</td>\n",
       "      <td>I got charged a late fee, but my bill was not ...</td>\n",
       "      <td>I got charged a $ 5 late fee, but my bill was ...</td>\n",
       "      <td>1: I got charged a $ 5 late fee, but my bill w...</td>\n",
       "      <td>1: I got charged a $ 5 late fee, but my bill w...</td>\n",
       "      <td>1: I got charged a $ 5 late fee, but my bill w...</td>\n",
       "      <td>1: I got charged a $ 5 late fee, but my bill w...</td>\n",
       "      <td>1: I got charged a $ 5 late fee, but my bill w...</td>\n",
       "    </tr>\n",
       "    <tr>\n",
       "      <th>4</th>\n",
       "      <td>just looking for a new phone okay, i really wa...</td>\n",
       "      <td>Just looking for a new phone okay, i really wa...</td>\n",
       "      <td>Just looking for a new phone okay, i really wa...</td>\n",
       "      <td>1: It sucks that i cannot use it on verizon, s...</td>\n",
       "      <td>1: It sucks that i cannot use it on verizon, s...</td>\n",
       "      <td>1: It sucks that i cannot use it on verizon, s...</td>\n",
       "      <td>1: Just looking for a new phone okay, i really...</td>\n",
       "      <td>1: It sucks that i cannot use it on verizon, s...</td>\n",
       "    </tr>\n",
       "    <tr>\n",
       "      <th>5</th>\n",
       "      <td>Hello Looking for 2 new Galaxy 8 phones and 2 ...</td>\n",
       "      <td>Hello, Looking for 2 new Galaxy, 8 phones and ...</td>\n",
       "      <td>Hello, Looking for 2 new Galaxy, 8 phones and ...</td>\n",
       "      <td>1: Hello, Looking for 2 new Galaxy, 8 phones a...</td>\n",
       "      <td>1: Hello, Looking for 2 new Galaxy, 8 phones a...</td>\n",
       "      <td>1: Hello, Looking for 2 new Galaxy, 8 phones a...</td>\n",
       "      <td>1: Hello, Looking for 2 new Galaxy, 8 phones a...</td>\n",
       "      <td>1: Hello, Looking for 2 new Galaxy, 8 phones a...</td>\n",
       "    </tr>\n",
       "    <tr>\n",
       "      <th>6</th>\n",
       "      <td>Hello I am trying to pay off one of the phones...</td>\n",
       "      <td>Hello, I am trying to pay off one of the phone...</td>\n",
       "      <td>Hello, I am trying to pay off one of the phone...</td>\n",
       "      <td>1: Hello, I am trying to pay off one of the ph...</td>\n",
       "      <td>1: Hello, I am trying to pay off one of the ph...</td>\n",
       "      <td>1: Hello, I am trying to pay off one of the ph...</td>\n",
       "      <td>1: Hello, I am trying to pay off one of the ph...</td>\n",
       "      <td>1: Hello, I am trying to pay off one of the ph...</td>\n",
       "    </tr>\n",
       "    <tr>\n",
       "      <th>7</th>\n",
       "      <td>I trying to figure out what the extra $41 char...</td>\n",
       "      <td>I trying to figure out what the extra 1 charge...</td>\n",
       "      <td>I trying to figure out what the extra $ 41 cha...</td>\n",
       "      <td>1: I trying to figure out what the extra $ 41 ...</td>\n",
       "      <td>1: I trying to figure out what the extra $ 41 ...</td>\n",
       "      <td>1: I trying to figure out what the extra $ 41 ...</td>\n",
       "      <td>1: I trying to figure out what the extra $ 41 ...</td>\n",
       "      <td>1: I trying to figure out what the extra $ 41 ...</td>\n",
       "    </tr>\n",
       "    <tr>\n",
       "      <th>8</th>\n",
       "      <td>how do we activate voice to text for voicemail...</td>\n",
       "      <td>How do we activate voice to text for voicemail...</td>\n",
       "      <td>How do we activate voice to text for voicemail...</td>\n",
       "      <td>1: The messages that show up in the voicemail ...</td>\n",
       "      <td>1: The messages that show up in the voicemail ...</td>\n",
       "      <td>1: The messages that show up in the voicemail ...</td>\n",
       "      <td>1: The messages that show up in the voicemail ...</td>\n",
       "      <td>1: The messages that show up in the voicemail ...</td>\n",
       "    </tr>\n",
       "    <tr>\n",
       "      <th>9</th>\n",
       "      <td>I was given extra data at no extra charge by o...</td>\n",
       "      <td>I was given extra data at no extra charge by o...</td>\n",
       "      <td>I was given extra data at no extra charge by o...</td>\n",
       "      <td>1: I was given extra data at no extra charge b...</td>\n",
       "      <td>1: I was given extra data at no extra charge b...</td>\n",
       "      <td>1: I was given extra data at no extra charge b...</td>\n",
       "      <td>1: I was given extra data at no extra charge b...</td>\n",
       "      <td>1: I was given extra data at no extra charge b...</td>\n",
       "    </tr>\n",
       "    <tr>\n",
       "      <th>10</th>\n",
       "      <td>if I upgrade my iphone, can I give my present ...</td>\n",
       "      <td>If I upgrade my iphone, can I give my present ...</td>\n",
       "      <td>If I upgrade my iphone, can I give my present ...</td>\n",
       "      <td>1: If I upgrade my iphone, can I give my prese...</td>\n",
       "      <td>1: If I upgrade my iphone, can I give my prese...</td>\n",
       "      <td>1: If I upgrade my iphone, can I give my prese...</td>\n",
       "      <td>1: Yes, just trying to figure out how to upgra...</td>\n",
       "      <td>1: If I upgrade my iphone, can I give my prese...</td>\n",
       "    </tr>\n",
       "    <tr>\n",
       "      <th>11</th>\n",
       "      <td>can I get a trade in on my Droid Turbo against...</td>\n",
       "      <td>Can I get a trade in on my Droid Turbo against...</td>\n",
       "      <td>Can I get a trade in on my Droid Turbo against...</td>\n",
       "      <td>1: Can I get a trade in on my Droid Turbo agai...</td>\n",
       "      <td>1: Can I get a trade in on my Droid Turbo agai...</td>\n",
       "      <td>1: Can I get a trade in on my Droid Turbo agai...</td>\n",
       "      <td>1: Can I get a trade in on my Droid Turbo agai...</td>\n",
       "      <td>1: Can I get a trade in on my Droid Turbo agai...</td>\n",
       "    </tr>\n",
       "    <tr>\n",
       "      <th>12</th>\n",
       "      <td>in the order process ...does validate mean the...</td>\n",
       "      <td>In the order process, ... does validate mean t...</td>\n",
       "      <td>In the order process, ... does validate mean t...</td>\n",
       "      <td>1: Allow me to complete wasted an hour on this...</td>\n",
       "      <td>1: Allow me to complete wasted an hour on this...</td>\n",
       "      <td>1: Allow me to complete wasted an hour on this...</td>\n",
       "      <td>1: Allow me to complete wasted an hour on this...</td>\n",
       "      <td>1: Allow me to complete wasted an hour on this...</td>\n",
       "    </tr>\n",
       "  </tbody>\n",
       "</table>\n",
       "</div>"
      ],
      "text/plain": [
       "                                            orig_chat  \\\n",
       "0   Our daughter's phone (828-736-4673) stopped be...   \n",
       "1   Hi i just enabled the $40 international travel...   \n",
       "2   i was wondering if i paid off the phones what ...   \n",
       "3   I got charged a $5 late fee but my bill was no...   \n",
       "4   just looking for a new phone okay, i really wa...   \n",
       "5   Hello Looking for 2 new Galaxy 8 phones and 2 ...   \n",
       "6   Hello I am trying to pay off one of the phones...   \n",
       "7   I trying to figure out what the extra $41 char...   \n",
       "8   how do we activate voice to text for voicemail...   \n",
       "9   I was given extra data at no extra charge by o...   \n",
       "10  if I upgrade my iphone, can I give my present ...   \n",
       "11  can I get a trade in on my Droid Turbo against...   \n",
       "12  in the order process ...does validate mean the...   \n",
       "\n",
       "                                  orig_chat_with_punc  \\\n",
       "0   Our daughter's phone ( 828-736-4673 ) stopped ...   \n",
       "1   Hi, i just enabled the 0 international travel ...   \n",
       "2   i was wondering if i paid off the phones what ...   \n",
       "3   I got charged a late fee, but my bill was not ...   \n",
       "4   Just looking for a new phone okay, i really wa...   \n",
       "5   Hello, Looking for 2 new Galaxy, 8 phones and ...   \n",
       "6   Hello, I am trying to pay off one of the phone...   \n",
       "7   I trying to figure out what the extra 1 charge...   \n",
       "8   How do we activate voice to text for voicemail...   \n",
       "9   I was given extra data at no extra charge by o...   \n",
       "10  If I upgrade my iphone, can I give my present ...   \n",
       "11  Can I get a trade in on my Droid Turbo against...   \n",
       "12  In the order process, ... does validate mean t...   \n",
       "\n",
       "                                 orig_chat_with_punc2  \\\n",
       "0   Our daughter's phone ( 828-736-4673 ) stopped ...   \n",
       "1   Hi, i just enabled the $ 40 international trav...   \n",
       "2   I was wondering if i paid off the phones, what...   \n",
       "3   I got charged a $ 5 late fee, but my bill was ...   \n",
       "4   Just looking for a new phone okay, i really wa...   \n",
       "5   Hello, Looking for 2 new Galaxy, 8 phones and ...   \n",
       "6   Hello, I am trying to pay off one of the phone...   \n",
       "7   I trying to figure out what the extra $ 41 cha...   \n",
       "8   How do we activate voice to text for voicemail...   \n",
       "9   I was given extra data at no extra charge by o...   \n",
       "10  If I upgrade my iphone, can I give my present ...   \n",
       "11  Can I get a trade in on my Droid Turbo against...   \n",
       "12  In the order process, ... does validate mean t...   \n",
       "\n",
       "                                       summ_text_rank  \\\n",
       "0   1: Our daughter's phone ( 828-736-4673 ) stopp...   \n",
       "1   1: Hi, i just enabled the $ 40 international t...   \n",
       "2   1: I was wondering if i paid off the phones, w...   \n",
       "3   1: I got charged a $ 5 late fee, but my bill w...   \n",
       "4   1: It sucks that i cannot use it on verizon, s...   \n",
       "5   1: Hello, Looking for 2 new Galaxy, 8 phones a...   \n",
       "6   1: Hello, I am trying to pay off one of the ph...   \n",
       "7   1: I trying to figure out what the extra $ 41 ...   \n",
       "8   1: The messages that show up in the voicemail ...   \n",
       "9   1: I was given extra data at no extra charge b...   \n",
       "10  1: If I upgrade my iphone, can I give my prese...   \n",
       "11  1: Can I get a trade in on my Droid Turbo agai...   \n",
       "12  1: Allow me to complete wasted an hour on this...   \n",
       "\n",
       "                                              summ_oz  \\\n",
       "0   1: Our daughter's phone ( 828-736-4673 ) stopp...   \n",
       "1   1: Hi, i just enabled the $ 40 international t...   \n",
       "2   1: I was wondering if i paid off the phones, w...   \n",
       "3   1: I got charged a $ 5 late fee, but my bill w...   \n",
       "4   1: It sucks that i cannot use it on verizon, s...   \n",
       "5   1: Hello, Looking for 2 new Galaxy, 8 phones a...   \n",
       "6   1: Hello, I am trying to pay off one of the ph...   \n",
       "7   1: I trying to figure out what the extra $ 41 ...   \n",
       "8   1: The messages that show up in the voicemail ...   \n",
       "9   1: I was given extra data at no extra charge b...   \n",
       "10  1: If I upgrade my iphone, can I give my prese...   \n",
       "11  1: Can I get a trade in on my Droid Turbo agai...   \n",
       "12  1: Allow me to complete wasted an hour on this...   \n",
       "\n",
       "                                             summ_ste  \\\n",
       "0   1: Our daughter's phone ( 828-736-4673 ) stopp...   \n",
       "1   1: Hi, i just enabled the $ 40 international t...   \n",
       "2   1: I was wondering if i paid off the phones, w...   \n",
       "3   1: I got charged a $ 5 late fee, but my bill w...   \n",
       "4   1: It sucks that i cannot use it on verizon, s...   \n",
       "5   1: Hello, Looking for 2 new Galaxy, 8 phones a...   \n",
       "6   1: Hello, I am trying to pay off one of the ph...   \n",
       "7   1: I trying to figure out what the extra $ 41 ...   \n",
       "8   1: The messages that show up in the voicemail ...   \n",
       "9   1: I was given extra data at no extra charge b...   \n",
       "10  1: If I upgrade my iphone, can I give my prese...   \n",
       "11  1: Can I get a trade in on my Droid Turbo agai...   \n",
       "12  1: Allow me to complete wasted an hour on this...   \n",
       "\n",
       "                                             summ_lsa  \\\n",
       "0   1: Our daughter's phone ( 828-736-4673 ) stopp...   \n",
       "1   1: Hi, i just enabled the $ 40 international t...   \n",
       "2   1: I was wondering if i paid off the phones, w...   \n",
       "3   1: I got charged a $ 5 late fee, but my bill w...   \n",
       "4   1: Just looking for a new phone okay, i really...   \n",
       "5   1: Hello, Looking for 2 new Galaxy, 8 phones a...   \n",
       "6   1: Hello, I am trying to pay off one of the ph...   \n",
       "7   1: I trying to figure out what the extra $ 41 ...   \n",
       "8   1: The messages that show up in the voicemail ...   \n",
       "9   1: I was given extra data at no extra charge b...   \n",
       "10  1: Yes, just trying to figure out how to upgra...   \n",
       "11  1: Can I get a trade in on my Droid Turbo agai...   \n",
       "12  1: Allow me to complete wasted an hour on this...   \n",
       "\n",
       "                                        summ_lsa_relv  \n",
       "0   1: Our daughter's phone ( 828-736-4673 ) stopp...  \n",
       "1   1: Hi, i just enabled the $ 40 international t...  \n",
       "2   1: I was wondering if i paid off the phones, w...  \n",
       "3   1: I got charged a $ 5 late fee, but my bill w...  \n",
       "4   1: It sucks that i cannot use it on verizon, s...  \n",
       "5   1: Hello, Looking for 2 new Galaxy, 8 phones a...  \n",
       "6   1: Hello, I am trying to pay off one of the ph...  \n",
       "7   1: I trying to figure out what the extra $ 41 ...  \n",
       "8   1: The messages that show up in the voicemail ...  \n",
       "9   1: I was given extra data at no extra charge b...  \n",
       "10  1: If I upgrade my iphone, can I give my prese...  \n",
       "11  1: Can I get a trade in on my Droid Turbo agai...  \n",
       "12  1: Allow me to complete wasted an hour on this...  "
      ]
     },
     "execution_count": 16,
     "metadata": {},
     "output_type": "execute_result"
    }
   ],
   "source": [
    "dt"
   ]
  },
  {
   "cell_type": "code",
   "execution_count": 188,
   "metadata": {
    "collapsed": true
   },
   "outputs": [],
   "source": [
    "dt.to_csv('dt_summ_v1.csv')"
   ]
  },
  {
   "cell_type": "code",
   "execution_count": 20,
   "metadata": {},
   "outputs": [
    {
     "data": {
      "text/plain": [
       "Index([u'orig_chat', u'orig_chat_with_punc', u'orig_chat_with_punc2',\n",
       "       u'summ_text_rank', u'summ_oz', u'summ_ste', u'summ_lsa',\n",
       "       u'summ_lsa_relv'],\n",
       "      dtype='object')"
      ]
     },
     "execution_count": 20,
     "metadata": {},
     "output_type": "execute_result"
    }
   ],
   "source": [
    " dt.columns"
   ]
  },
  {
   "cell_type": "code",
   "execution_count": 22,
   "metadata": {},
   "outputs": [
    {
     "data": {
      "text/plain": [
       "'Hi i just enabled the $40 international travel pack i want to make sure this is already effective since i am flying to argentina right now can you confirm pls? flight taking off soon iphone 6 128gb 9177154330 yes just went through with it I will be in argentina till 2/19 so need it only for next 10 days no i went for the $40 per month international plan ok can we hurry flight taking off soon pls ask  I want the 40 / month one i have looked through for one month i will be mostly using data i need your help to just make sure this is effective right away and not from a later day I may get disconnected would be great if you could email me status once done i want to make sure the 40/month one is working from today and effective for only a month Ok thanks - and just to be clear the travel pass will not apply in addition right? Dont want to be paying 10/day for that in addition to the 40/month pls make sure this is the case - i need to disconnect now. Thank you. '"
      ]
     },
     "execution_count": 22,
     "metadata": {},
     "output_type": "execute_result"
    }
   ],
   "source": [
    "dt.orig_chat[1]"
   ]
  },
  {
   "cell_type": "code",
   "execution_count": 23,
   "metadata": {},
   "outputs": [
    {
     "data": {
      "text/plain": [
       "'Hi, i just enabled the $ 40 international travel pack. I want to make sure this is already effective, since i am flying to argentina right now. Can you confirm pls flight taking off soon iphone? 6. 128Gb. 9177154330. Yes, just went through with it. I will be in argentina till 2/19, so need it only for next 10 days. No, i went for the $ 40 per month international plan. Ok, can we hurry flight taking off soon pls ask I want the 40 / month, one i have looked through for one month. I will be mostly using data. I need your help to just make sure this is effective right away and not from a later day. I may get disconnected would be great if you could email me status once done. I want to make sure the 40/month one is working from today and effective for only a month. Ok, thanks and just to be clear. The travel pass will not apply in addition, right Dont want to be paying 10/day for that, in addition to the 40/month pls make sure this is the case i need to disconnect now. Thank you. '"
      ]
     },
     "execution_count": 23,
     "metadata": {},
     "output_type": "execute_result"
    }
   ],
   "source": [
    "dt.orig_chat_with_punc2[1]"
   ]
  },
  {
   "cell_type": "code",
   "execution_count": 24,
   "metadata": {},
   "outputs": [
    {
     "data": {
      "text/plain": [
       "'1: Hi, i just enabled the $ 40 international travel pack.; 2: Can you confirm pls flight taking off soon iphone?; 3: Ok, can we hurry flight taking off soon pls ask I want the 40 / month, one i have looked through for one month.; 4: The travel pass will not apply in addition, right Dont want to be paying 10/day for that, in addition to the 40/month pls make sure this is the case i need to disconnect now.'"
      ]
     },
     "execution_count": 24,
     "metadata": {},
     "output_type": "execute_result"
    }
   ],
   "source": [
    "dt.summ_text_rank[1]"
   ]
  },
  {
   "cell_type": "code",
   "execution_count": null,
   "metadata": {
    "collapsed": true
   },
   "outputs": [],
   "source": []
  },
  {
   "cell_type": "code",
   "execution_count": null,
   "metadata": {
    "collapsed": true
   },
   "outputs": [],
   "source": []
  },
  {
   "cell_type": "code",
   "execution_count": null,
   "metadata": {
    "collapsed": true
   },
   "outputs": [],
   "source": []
  },
  {
   "cell_type": "code",
   "execution_count": 603,
   "metadata": {
    "collapsed": true
   },
   "outputs": [],
   "source": [
    "u1=[\"Rule: VIS-SMS-Chat Conversation ID: 758674615775740762 Chat ID: 758674615978473662 Date: Feb-19 2018 Time: 12:53:42 You: My name is Alix, I'm currently chatting with care and need to restart my phone Agent '2480158140@verizon' enters chat (as Carnell) Start Keyword: My name is Alix, I'm currently chatting with care and need to restart my phone 00:08 - Transfer accepted and sent to 7487348316@verizon 00:08 - Customer sees: Carnell has left the chat You are being transferred, please hold... 00:08 - transfer notes: (none) 00:08 - transfer initiates 2480158140@verizon (agentGroup: VIS_Care, businessUnit: VIS_Care) - attributes required: NONE Agent '2480158140@verizon' loses connection Nicholas: I got you Alix, please go ahead and restart your device. and make a test call. You: Great! Thank you Nicholas: No problem at all. Delivery Confirmation not received. Message not resent. Nicholas: How'd that go? Nicholas: Just checking on you, I'm still here for you if you still need me. =) Delivery Confirmation not received. Message not resent. Warning Message: Don't want you to disappear on me. I'm still here to help. Text me back so we can get this resolved. You: It worked! Nicholas: WooHoo! Delivery Confirmation not received. Message not resent. You: It works now! Thank you Nicholas: Yes, you got that auto message again, sorry about that Alix. Delivery Confirmation not received. Message not resent. You: No problem You: 🤗🤗👏🏻 Nicholas: I'm so happy we got it working again! Did you have anymore questions or concerns? Delivery Confirmation not received. Message not resent. You: Nope, I'm good thank you! Nicholas: No problem, Thanks again for chatting in. and I hope you enjoy the rest of your Monday!\"]"
   ]
  },
  {
   "cell_type": "code",
   "execution_count": 604,
   "metadata": {},
   "outputs": [
    {
     "data": {
      "text/plain": [
       "[u\"Rule: VIS-SMS-Chat Conversation ID: 758674615775740762 Chat ID: 758674615978473662 Date: Feb-19 2018 Time: 12:53:42 You: My name is Alix, I'm currently chatting with care and need to restart my phone Agent '2480158140@verizon' enters chat (as Carnell) Start Keyword: My name is Alix, I'm currently chatting with care and need to restart my phone 00:08 - Transfer accepted and sent to 7487348316@verizon 00:08 - Customer sees: Carnell has left the chat You are being transferred, please hold... 00:08 - transfer notes: (none) 00:08 - transfer initiates 2480158140@verizon (agentGroup: VIS_Care, businessUnit: VIS_Care) - attributes required: NONE Agent '2480158140@verizon' loses connection Nicholas: I got you Alix, please go ahead and restart your device. and make a test call. You: Great! Thank you Nicholas: No problem at all. Delivery Confirmation not received. Message not resent. Nicholas: How'd that go? Nicholas: Just checking on you, I'm still here for you if you still need me. =) Delivery Confirmation not received. Message not resent. Warning Message: Don't want you to disappear on me. I'm still here to help. Text me back so we can get this resolved. You: It worked! Nicholas: WooHoo! Delivery Confirmation not received. Message not resent. You: It works now! Thank you Nicholas: Yes, you got that auto message again, sorry about that Alix. Delivery Confirmation not received. Message not resent. You: No problem You: \\U0001f917\\U0001f917\\U0001f44f\\U0001f3fb Nicholas: I'm so happy we got it working again! Did you have anymore questions or concerns? Delivery Confirmation not received. Message not resent. You: Nope, I'm good thank you! Nicholas: No problem, Thanks again for chatting in. and I hope you enjoy the rest of your Monday!\"]"
      ]
     },
     "execution_count": 604,
     "metadata": {},
     "output_type": "execute_result"
    }
   ],
   "source": [
    "u1"
   ]
  },
  {
   "cell_type": "code",
   "execution_count": 473,
   "metadata": {
    "collapsed": true
   },
   "outputs": [],
   "source": [
    "u1=['ty: bnmkk mnnb vvdvvd jk: jkku wer tk 12:08:67 ): ty: klop :hjklll : yu7: 90-569-1234']"
   ]
  },
  {
   "cell_type": "code",
   "execution_count": 605,
   "metadata": {},
   "outputs": [
    {
     "data": {
      "text/plain": [
       "u\"Rule: VIS-SMS-Chat Conversation ID: 758674615775740762 Chat ID: 758674615978473662 Date: Feb-19 2018 Time: 12:53:42 You: My name is Alix, I'm currently chatting with care and need to restart my phone Agent '2480158140@verizon' enters chat (as Carnell) Start Keyword: My name is Alix, I'm currently chatting with care and need to restart my phone 00:08 - Transfer accepted and sent to 7487348316@verizon 00:08 - Customer sees: Carnell has left the chat You are being transferred, please hold... 00:08 - transfer notes: (none) 00:08 - transfer initiates 2480158140@verizon (agentGroup: VIS_Care, businessUnit: VIS_Care) - attributes required: NONE Agent '2480158140@verizon' loses connection Nicholas: I got you Alix, please go ahead and restart your device. and make a test call. You: Great! Thank you Nicholas: No problem at all. Delivery Confirmation not received. Message not resent. Nicholas: How'd that go? Nicholas: Just checking on you, I'm still here for you if you still need me. =) Delivery Confirmation not received. Message not resent. Warning Message: Don't want you to disappear on me. I'm still here to help. Text me back so we can get this resolved. You: It worked! Nicholas: WooHoo! Delivery Confirmation not received. Message not resent. You: It works now! Thank you Nicholas: Yes, you got that auto message again, sorry about that Alix. Delivery Confirmation not received. Message not resent. You: No problem You: \\U0001f917\\U0001f917\\U0001f44f\\U0001f3fb Nicholas: I'm so happy we got it working again! Did you have anymore questions or concerns? Delivery Confirmation not received. Message not resent. You: Nope, I'm good thank you! Nicholas: No problem, Thanks again for chatting in. and I hope you enjoy the rest of your Monday!\""
      ]
     },
     "execution_count": 605,
     "metadata": {},
     "output_type": "execute_result"
    }
   ],
   "source": [
    "u1[0]"
   ]
  },
  {
   "cell_type": "code",
   "execution_count": 606,
   "metadata": {
    "collapsed": true
   },
   "outputs": [],
   "source": [
    "y1=re.split(r' ', u1[0])"
   ]
  },
  {
   "cell_type": "code",
   "execution_count": 607,
   "metadata": {},
   "outputs": [
    {
     "data": {
      "text/plain": [
       "[u'Rule:',\n",
       " u'VIS-SMS-Chat',\n",
       " u'Conversation',\n",
       " u'ID:',\n",
       " u'758674615775740762',\n",
       " u'Chat',\n",
       " u'ID:',\n",
       " u'758674615978473662',\n",
       " u'Date:',\n",
       " u'Feb-19',\n",
       " u'2018',\n",
       " u'Time:',\n",
       " u'12:53:42',\n",
       " u'You:',\n",
       " u'My',\n",
       " u'name',\n",
       " u'is',\n",
       " u'Alix,',\n",
       " u\"I'm\",\n",
       " u'currently',\n",
       " u'chatting',\n",
       " u'with',\n",
       " u'care',\n",
       " u'and',\n",
       " u'need',\n",
       " u'to',\n",
       " u'restart',\n",
       " u'my',\n",
       " u'phone',\n",
       " u'Agent',\n",
       " u\"'2480158140@verizon'\",\n",
       " u'enters',\n",
       " u'chat',\n",
       " u'(as',\n",
       " u'Carnell)',\n",
       " u'Start',\n",
       " u'Keyword:',\n",
       " u'My',\n",
       " u'name',\n",
       " u'is',\n",
       " u'Alix,',\n",
       " u\"I'm\",\n",
       " u'currently',\n",
       " u'chatting',\n",
       " u'with',\n",
       " u'care',\n",
       " u'and',\n",
       " u'need',\n",
       " u'to',\n",
       " u'restart',\n",
       " u'my',\n",
       " u'phone',\n",
       " u'00:08',\n",
       " u'-',\n",
       " u'Transfer',\n",
       " u'accepted',\n",
       " u'and',\n",
       " u'sent',\n",
       " u'to',\n",
       " u'7487348316@verizon',\n",
       " u'00:08',\n",
       " u'-',\n",
       " u'Customer',\n",
       " u'sees:',\n",
       " u'Carnell',\n",
       " u'has',\n",
       " u'left',\n",
       " u'the',\n",
       " u'chat',\n",
       " u'You',\n",
       " u'are',\n",
       " u'being',\n",
       " u'transferred,',\n",
       " u'please',\n",
       " u'hold...',\n",
       " u'00:08',\n",
       " u'-',\n",
       " u'transfer',\n",
       " u'notes:',\n",
       " u'(none)',\n",
       " u'00:08',\n",
       " u'-',\n",
       " u'transfer',\n",
       " u'initiates',\n",
       " u'2480158140@verizon',\n",
       " u'(agentGroup:',\n",
       " u'VIS_Care,',\n",
       " u'businessUnit:',\n",
       " u'VIS_Care)',\n",
       " u'-',\n",
       " u'attributes',\n",
       " u'required:',\n",
       " u'NONE',\n",
       " u'Agent',\n",
       " u\"'2480158140@verizon'\",\n",
       " u'loses',\n",
       " u'connection',\n",
       " u'Nicholas:',\n",
       " u'I',\n",
       " u'got',\n",
       " u'you',\n",
       " u'Alix,',\n",
       " u'please',\n",
       " u'go',\n",
       " u'ahead',\n",
       " u'and',\n",
       " u'restart',\n",
       " u'your',\n",
       " u'device.',\n",
       " u'and',\n",
       " u'make',\n",
       " u'a',\n",
       " u'test',\n",
       " u'call.',\n",
       " u'You:',\n",
       " u'Great!',\n",
       " u'Thank',\n",
       " u'you',\n",
       " u'Nicholas:',\n",
       " u'No',\n",
       " u'problem',\n",
       " u'at',\n",
       " u'all.',\n",
       " u'Delivery',\n",
       " u'Confirmation',\n",
       " u'not',\n",
       " u'received.',\n",
       " u'Message',\n",
       " u'not',\n",
       " u'resent.',\n",
       " u'Nicholas:',\n",
       " u\"How'd\",\n",
       " u'that',\n",
       " u'go?',\n",
       " u'Nicholas:',\n",
       " u'Just',\n",
       " u'checking',\n",
       " u'on',\n",
       " u'you,',\n",
       " u\"I'm\",\n",
       " u'still',\n",
       " u'here',\n",
       " u'for',\n",
       " u'you',\n",
       " u'if',\n",
       " u'you',\n",
       " u'still',\n",
       " u'need',\n",
       " u'me.',\n",
       " u'=)',\n",
       " u'Delivery',\n",
       " u'Confirmation',\n",
       " u'not',\n",
       " u'received.',\n",
       " u'Message',\n",
       " u'not',\n",
       " u'resent.',\n",
       " u'Warning',\n",
       " u'Message:',\n",
       " u\"Don't\",\n",
       " u'want',\n",
       " u'you',\n",
       " u'to',\n",
       " u'disappear',\n",
       " u'on',\n",
       " u'me.',\n",
       " u\"I'm\",\n",
       " u'still',\n",
       " u'here',\n",
       " u'to',\n",
       " u'help.',\n",
       " u'Text',\n",
       " u'me',\n",
       " u'back',\n",
       " u'so',\n",
       " u'we',\n",
       " u'can',\n",
       " u'get',\n",
       " u'this',\n",
       " u'resolved.',\n",
       " u'You:',\n",
       " u'It',\n",
       " u'worked!',\n",
       " u'Nicholas:',\n",
       " u'WooHoo!',\n",
       " u'Delivery',\n",
       " u'Confirmation',\n",
       " u'not',\n",
       " u'received.',\n",
       " u'Message',\n",
       " u'not',\n",
       " u'resent.',\n",
       " u'You:',\n",
       " u'It',\n",
       " u'works',\n",
       " u'now!',\n",
       " u'Thank',\n",
       " u'you',\n",
       " u'Nicholas:',\n",
       " u'Yes,',\n",
       " u'you',\n",
       " u'got',\n",
       " u'that',\n",
       " u'auto',\n",
       " u'message',\n",
       " u'again,',\n",
       " u'sorry',\n",
       " u'about',\n",
       " u'that',\n",
       " u'Alix.',\n",
       " u'Delivery',\n",
       " u'Confirmation',\n",
       " u'not',\n",
       " u'received.',\n",
       " u'Message',\n",
       " u'not',\n",
       " u'resent.',\n",
       " u'You:',\n",
       " u'No',\n",
       " u'problem',\n",
       " u'You:',\n",
       " u'\\U0001f917\\U0001f917\\U0001f44f\\U0001f3fb',\n",
       " u'Nicholas:',\n",
       " u\"I'm\",\n",
       " u'so',\n",
       " u'happy',\n",
       " u'we',\n",
       " u'got',\n",
       " u'it',\n",
       " u'working',\n",
       " u'again!',\n",
       " u'Did',\n",
       " u'you',\n",
       " u'have',\n",
       " u'anymore',\n",
       " u'questions',\n",
       " u'or',\n",
       " u'concerns?',\n",
       " u'Delivery',\n",
       " u'Confirmation',\n",
       " u'not',\n",
       " u'received.',\n",
       " u'Message',\n",
       " u'not',\n",
       " u'resent.',\n",
       " u'You:',\n",
       " u'Nope,',\n",
       " u\"I'm\",\n",
       " u'good',\n",
       " u'thank',\n",
       " u'you!',\n",
       " u'Nicholas:',\n",
       " u'No',\n",
       " u'problem,',\n",
       " u'Thanks',\n",
       " u'again',\n",
       " u'for',\n",
       " u'chatting',\n",
       " u'in.',\n",
       " u'and',\n",
       " u'I',\n",
       " u'hope',\n",
       " u'you',\n",
       " u'enjoy',\n",
       " u'the',\n",
       " u'rest',\n",
       " u'of',\n",
       " u'your',\n",
       " u'Monday!']"
      ]
     },
     "execution_count": 607,
     "metadata": {},
     "output_type": "execute_result"
    }
   ],
   "source": [
    "y1"
   ]
  },
  {
   "cell_type": "code",
   "execution_count": 608,
   "metadata": {
    "collapsed": true
   },
   "outputs": [],
   "source": [
    "m1=[]\n",
    "for i in y1:\n",
    "    p=i.find(str(':'))\n",
    "    if (p!=-1) & (p!=0):\n",
    "        v=re.split(r':',i)\n",
    "        v1=[j for j in v if j!='']\n",
    "        if len(v1)==1:\n",
    "            if (v1[0]!='(') & (v1[0]!=')'):\n",
    "                m1=m1+[v1[0]]\n",
    "            else:\n",
    "                m1=m1\n",
    "        else:\n",
    "            m1=m1\n",
    "    else:\n",
    "        m1=m1"
   ]
  },
  {
   "cell_type": "code",
   "execution_count": 609,
   "metadata": {},
   "outputs": [
    {
     "data": {
      "text/plain": [
       "[u'Rule',\n",
       " u'ID',\n",
       " u'ID',\n",
       " u'Date',\n",
       " u'Time',\n",
       " u'You',\n",
       " u'Keyword',\n",
       " u'sees',\n",
       " u'notes',\n",
       " u'(agentGroup',\n",
       " u'businessUnit',\n",
       " u'required',\n",
       " u'Nicholas',\n",
       " u'You',\n",
       " u'Nicholas',\n",
       " u'Nicholas',\n",
       " u'Nicholas',\n",
       " u'Message',\n",
       " u'You',\n",
       " u'Nicholas',\n",
       " u'You',\n",
       " u'Nicholas',\n",
       " u'You',\n",
       " u'You',\n",
       " u'Nicholas',\n",
       " u'You',\n",
       " u'Nicholas']"
      ]
     },
     "execution_count": 609,
     "metadata": {},
     "output_type": "execute_result"
    }
   ],
   "source": [
    "m1"
   ]
  },
  {
   "cell_type": "code",
   "execution_count": 610,
   "metadata": {
    "collapsed": true
   },
   "outputs": [],
   "source": [
    "df_tmp1=pd.DataFrame([['NA','NA']],columns=['knm','vnm'])"
   ]
  },
  {
   "cell_type": "code",
   "execution_count": 611,
   "metadata": {},
   "outputs": [
    {
     "data": {
      "text/html": [
       "<div>\n",
       "<style>\n",
       "    .dataframe thead tr:only-child th {\n",
       "        text-align: right;\n",
       "    }\n",
       "\n",
       "    .dataframe thead th {\n",
       "        text-align: left;\n",
       "    }\n",
       "\n",
       "    .dataframe tbody tr th {\n",
       "        vertical-align: top;\n",
       "    }\n",
       "</style>\n",
       "<table border=\"1\" class=\"dataframe\">\n",
       "  <thead>\n",
       "    <tr style=\"text-align: right;\">\n",
       "      <th></th>\n",
       "      <th>knm</th>\n",
       "      <th>vnm</th>\n",
       "    </tr>\n",
       "  </thead>\n",
       "  <tbody>\n",
       "    <tr>\n",
       "      <th>0</th>\n",
       "      <td>NA</td>\n",
       "      <td>NA</td>\n",
       "    </tr>\n",
       "  </tbody>\n",
       "</table>\n",
       "</div>"
      ],
      "text/plain": [
       "  knm vnm\n",
       "0  NA  NA"
      ]
     },
     "execution_count": 611,
     "metadata": {},
     "output_type": "execute_result"
    }
   ],
   "source": [
    "df_tmp1"
   ]
  },
  {
   "cell_type": "code",
   "execution_count": 612,
   "metadata": {
    "collapsed": true
   },
   "outputs": [],
   "source": [
    "m1=[j1+':' for j1 in m1]\n",
    "m1=list(set(m1))\n",
    "df1=pd.DataFrame(y1,columns=['key'])\n",
    "df2=pd.DataFrame(m1,columns=['key'])"
   ]
  },
  {
   "cell_type": "code",
   "execution_count": 623,
   "metadata": {},
   "outputs": [
    {
     "data": {
      "text/plain": [
       "[u'Rule:',\n",
       " u'ID:',\n",
       " u'Message:',\n",
       " u'Time:',\n",
       " u'notes:',\n",
       " u'Nicholas:',\n",
       " u'Date:',\n",
       " u'Keyword:',\n",
       " u'You:',\n",
       " u'(agentGroup:',\n",
       " u'required:',\n",
       " u'businessUnit:',\n",
       " u'sees:']"
      ]
     },
     "execution_count": 623,
     "metadata": {},
     "output_type": "execute_result"
    }
   ],
   "source": [
    "m1"
   ]
  },
  {
   "cell_type": "code",
   "execution_count": 624,
   "metadata": {
    "collapsed": true
   },
   "outputs": [],
   "source": [
    "df2['val_k']=1\n",
    "df12=pd.merge(df1,df2,how='left',left_on='key',right_on='key')\n",
    "df12=df12.fillna(0)\n",
    "df12['tt']=range(1,len(df12)+1)"
   ]
  },
  {
   "cell_type": "code",
   "execution_count": 625,
   "metadata": {},
   "outputs": [
    {
     "data": {
      "text/html": [
       "<div>\n",
       "<style>\n",
       "    .dataframe thead tr:only-child th {\n",
       "        text-align: right;\n",
       "    }\n",
       "\n",
       "    .dataframe thead th {\n",
       "        text-align: left;\n",
       "    }\n",
       "\n",
       "    .dataframe tbody tr th {\n",
       "        vertical-align: top;\n",
       "    }\n",
       "</style>\n",
       "<table border=\"1\" class=\"dataframe\">\n",
       "  <thead>\n",
       "    <tr style=\"text-align: right;\">\n",
       "      <th></th>\n",
       "      <th>key</th>\n",
       "      <th>val_k</th>\n",
       "      <th>tt</th>\n",
       "    </tr>\n",
       "  </thead>\n",
       "  <tbody>\n",
       "    <tr>\n",
       "      <th>0</th>\n",
       "      <td>Rule:</td>\n",
       "      <td>1.0</td>\n",
       "      <td>1</td>\n",
       "    </tr>\n",
       "    <tr>\n",
       "      <th>1</th>\n",
       "      <td>VIS-SMS-Chat</td>\n",
       "      <td>0.0</td>\n",
       "      <td>2</td>\n",
       "    </tr>\n",
       "    <tr>\n",
       "      <th>2</th>\n",
       "      <td>Conversation</td>\n",
       "      <td>0.0</td>\n",
       "      <td>3</td>\n",
       "    </tr>\n",
       "    <tr>\n",
       "      <th>3</th>\n",
       "      <td>ID:</td>\n",
       "      <td>1.0</td>\n",
       "      <td>4</td>\n",
       "    </tr>\n",
       "    <tr>\n",
       "      <th>4</th>\n",
       "      <td>758674615775740762</td>\n",
       "      <td>0.0</td>\n",
       "      <td>5</td>\n",
       "    </tr>\n",
       "    <tr>\n",
       "      <th>5</th>\n",
       "      <td>Chat</td>\n",
       "      <td>0.0</td>\n",
       "      <td>6</td>\n",
       "    </tr>\n",
       "    <tr>\n",
       "      <th>6</th>\n",
       "      <td>ID:</td>\n",
       "      <td>1.0</td>\n",
       "      <td>7</td>\n",
       "    </tr>\n",
       "    <tr>\n",
       "      <th>7</th>\n",
       "      <td>758674615978473662</td>\n",
       "      <td>0.0</td>\n",
       "      <td>8</td>\n",
       "    </tr>\n",
       "    <tr>\n",
       "      <th>8</th>\n",
       "      <td>Date:</td>\n",
       "      <td>1.0</td>\n",
       "      <td>9</td>\n",
       "    </tr>\n",
       "    <tr>\n",
       "      <th>9</th>\n",
       "      <td>Feb-19</td>\n",
       "      <td>0.0</td>\n",
       "      <td>10</td>\n",
       "    </tr>\n",
       "    <tr>\n",
       "      <th>10</th>\n",
       "      <td>2018</td>\n",
       "      <td>0.0</td>\n",
       "      <td>11</td>\n",
       "    </tr>\n",
       "    <tr>\n",
       "      <th>11</th>\n",
       "      <td>Time:</td>\n",
       "      <td>1.0</td>\n",
       "      <td>12</td>\n",
       "    </tr>\n",
       "    <tr>\n",
       "      <th>12</th>\n",
       "      <td>12:53:42</td>\n",
       "      <td>0.0</td>\n",
       "      <td>13</td>\n",
       "    </tr>\n",
       "    <tr>\n",
       "      <th>13</th>\n",
       "      <td>You:</td>\n",
       "      <td>1.0</td>\n",
       "      <td>14</td>\n",
       "    </tr>\n",
       "    <tr>\n",
       "      <th>14</th>\n",
       "      <td>My</td>\n",
       "      <td>0.0</td>\n",
       "      <td>15</td>\n",
       "    </tr>\n",
       "    <tr>\n",
       "      <th>15</th>\n",
       "      <td>name</td>\n",
       "      <td>0.0</td>\n",
       "      <td>16</td>\n",
       "    </tr>\n",
       "    <tr>\n",
       "      <th>16</th>\n",
       "      <td>is</td>\n",
       "      <td>0.0</td>\n",
       "      <td>17</td>\n",
       "    </tr>\n",
       "    <tr>\n",
       "      <th>17</th>\n",
       "      <td>Alix,</td>\n",
       "      <td>0.0</td>\n",
       "      <td>18</td>\n",
       "    </tr>\n",
       "    <tr>\n",
       "      <th>18</th>\n",
       "      <td>I'm</td>\n",
       "      <td>0.0</td>\n",
       "      <td>19</td>\n",
       "    </tr>\n",
       "    <tr>\n",
       "      <th>19</th>\n",
       "      <td>currently</td>\n",
       "      <td>0.0</td>\n",
       "      <td>20</td>\n",
       "    </tr>\n",
       "    <tr>\n",
       "      <th>20</th>\n",
       "      <td>chatting</td>\n",
       "      <td>0.0</td>\n",
       "      <td>21</td>\n",
       "    </tr>\n",
       "    <tr>\n",
       "      <th>21</th>\n",
       "      <td>with</td>\n",
       "      <td>0.0</td>\n",
       "      <td>22</td>\n",
       "    </tr>\n",
       "    <tr>\n",
       "      <th>22</th>\n",
       "      <td>care</td>\n",
       "      <td>0.0</td>\n",
       "      <td>23</td>\n",
       "    </tr>\n",
       "    <tr>\n",
       "      <th>23</th>\n",
       "      <td>and</td>\n",
       "      <td>0.0</td>\n",
       "      <td>24</td>\n",
       "    </tr>\n",
       "    <tr>\n",
       "      <th>24</th>\n",
       "      <td>need</td>\n",
       "      <td>0.0</td>\n",
       "      <td>25</td>\n",
       "    </tr>\n",
       "    <tr>\n",
       "      <th>25</th>\n",
       "      <td>to</td>\n",
       "      <td>0.0</td>\n",
       "      <td>26</td>\n",
       "    </tr>\n",
       "    <tr>\n",
       "      <th>26</th>\n",
       "      <td>restart</td>\n",
       "      <td>0.0</td>\n",
       "      <td>27</td>\n",
       "    </tr>\n",
       "    <tr>\n",
       "      <th>27</th>\n",
       "      <td>my</td>\n",
       "      <td>0.0</td>\n",
       "      <td>28</td>\n",
       "    </tr>\n",
       "    <tr>\n",
       "      <th>28</th>\n",
       "      <td>phone</td>\n",
       "      <td>0.0</td>\n",
       "      <td>29</td>\n",
       "    </tr>\n",
       "    <tr>\n",
       "      <th>29</th>\n",
       "      <td>Agent</td>\n",
       "      <td>0.0</td>\n",
       "      <td>30</td>\n",
       "    </tr>\n",
       "    <tr>\n",
       "      <th>...</th>\n",
       "      <td>...</td>\n",
       "      <td>...</td>\n",
       "      <td>...</td>\n",
       "    </tr>\n",
       "    <tr>\n",
       "      <th>239</th>\n",
       "      <td>Confirmation</td>\n",
       "      <td>0.0</td>\n",
       "      <td>240</td>\n",
       "    </tr>\n",
       "    <tr>\n",
       "      <th>240</th>\n",
       "      <td>not</td>\n",
       "      <td>0.0</td>\n",
       "      <td>241</td>\n",
       "    </tr>\n",
       "    <tr>\n",
       "      <th>241</th>\n",
       "      <td>received.</td>\n",
       "      <td>0.0</td>\n",
       "      <td>242</td>\n",
       "    </tr>\n",
       "    <tr>\n",
       "      <th>242</th>\n",
       "      <td>Message</td>\n",
       "      <td>0.0</td>\n",
       "      <td>243</td>\n",
       "    </tr>\n",
       "    <tr>\n",
       "      <th>243</th>\n",
       "      <td>not</td>\n",
       "      <td>0.0</td>\n",
       "      <td>244</td>\n",
       "    </tr>\n",
       "    <tr>\n",
       "      <th>244</th>\n",
       "      <td>resent.</td>\n",
       "      <td>0.0</td>\n",
       "      <td>245</td>\n",
       "    </tr>\n",
       "    <tr>\n",
       "      <th>245</th>\n",
       "      <td>You:</td>\n",
       "      <td>1.0</td>\n",
       "      <td>246</td>\n",
       "    </tr>\n",
       "    <tr>\n",
       "      <th>246</th>\n",
       "      <td>Nope,</td>\n",
       "      <td>0.0</td>\n",
       "      <td>247</td>\n",
       "    </tr>\n",
       "    <tr>\n",
       "      <th>247</th>\n",
       "      <td>I'm</td>\n",
       "      <td>0.0</td>\n",
       "      <td>248</td>\n",
       "    </tr>\n",
       "    <tr>\n",
       "      <th>248</th>\n",
       "      <td>good</td>\n",
       "      <td>0.0</td>\n",
       "      <td>249</td>\n",
       "    </tr>\n",
       "    <tr>\n",
       "      <th>249</th>\n",
       "      <td>thank</td>\n",
       "      <td>0.0</td>\n",
       "      <td>250</td>\n",
       "    </tr>\n",
       "    <tr>\n",
       "      <th>250</th>\n",
       "      <td>you!</td>\n",
       "      <td>0.0</td>\n",
       "      <td>251</td>\n",
       "    </tr>\n",
       "    <tr>\n",
       "      <th>251</th>\n",
       "      <td>Nicholas:</td>\n",
       "      <td>1.0</td>\n",
       "      <td>252</td>\n",
       "    </tr>\n",
       "    <tr>\n",
       "      <th>252</th>\n",
       "      <td>No</td>\n",
       "      <td>0.0</td>\n",
       "      <td>253</td>\n",
       "    </tr>\n",
       "    <tr>\n",
       "      <th>253</th>\n",
       "      <td>problem,</td>\n",
       "      <td>0.0</td>\n",
       "      <td>254</td>\n",
       "    </tr>\n",
       "    <tr>\n",
       "      <th>254</th>\n",
       "      <td>Thanks</td>\n",
       "      <td>0.0</td>\n",
       "      <td>255</td>\n",
       "    </tr>\n",
       "    <tr>\n",
       "      <th>255</th>\n",
       "      <td>again</td>\n",
       "      <td>0.0</td>\n",
       "      <td>256</td>\n",
       "    </tr>\n",
       "    <tr>\n",
       "      <th>256</th>\n",
       "      <td>for</td>\n",
       "      <td>0.0</td>\n",
       "      <td>257</td>\n",
       "    </tr>\n",
       "    <tr>\n",
       "      <th>257</th>\n",
       "      <td>chatting</td>\n",
       "      <td>0.0</td>\n",
       "      <td>258</td>\n",
       "    </tr>\n",
       "    <tr>\n",
       "      <th>258</th>\n",
       "      <td>in.</td>\n",
       "      <td>0.0</td>\n",
       "      <td>259</td>\n",
       "    </tr>\n",
       "    <tr>\n",
       "      <th>259</th>\n",
       "      <td>and</td>\n",
       "      <td>0.0</td>\n",
       "      <td>260</td>\n",
       "    </tr>\n",
       "    <tr>\n",
       "      <th>260</th>\n",
       "      <td>I</td>\n",
       "      <td>0.0</td>\n",
       "      <td>261</td>\n",
       "    </tr>\n",
       "    <tr>\n",
       "      <th>261</th>\n",
       "      <td>hope</td>\n",
       "      <td>0.0</td>\n",
       "      <td>262</td>\n",
       "    </tr>\n",
       "    <tr>\n",
       "      <th>262</th>\n",
       "      <td>you</td>\n",
       "      <td>0.0</td>\n",
       "      <td>263</td>\n",
       "    </tr>\n",
       "    <tr>\n",
       "      <th>263</th>\n",
       "      <td>enjoy</td>\n",
       "      <td>0.0</td>\n",
       "      <td>264</td>\n",
       "    </tr>\n",
       "    <tr>\n",
       "      <th>264</th>\n",
       "      <td>the</td>\n",
       "      <td>0.0</td>\n",
       "      <td>265</td>\n",
       "    </tr>\n",
       "    <tr>\n",
       "      <th>265</th>\n",
       "      <td>rest</td>\n",
       "      <td>0.0</td>\n",
       "      <td>266</td>\n",
       "    </tr>\n",
       "    <tr>\n",
       "      <th>266</th>\n",
       "      <td>of</td>\n",
       "      <td>0.0</td>\n",
       "      <td>267</td>\n",
       "    </tr>\n",
       "    <tr>\n",
       "      <th>267</th>\n",
       "      <td>your</td>\n",
       "      <td>0.0</td>\n",
       "      <td>268</td>\n",
       "    </tr>\n",
       "    <tr>\n",
       "      <th>268</th>\n",
       "      <td>Monday!</td>\n",
       "      <td>0.0</td>\n",
       "      <td>269</td>\n",
       "    </tr>\n",
       "  </tbody>\n",
       "</table>\n",
       "<p>269 rows × 3 columns</p>\n",
       "</div>"
      ],
      "text/plain": [
       "                    key  val_k   tt\n",
       "0                 Rule:    1.0    1\n",
       "1          VIS-SMS-Chat    0.0    2\n",
       "2          Conversation    0.0    3\n",
       "3                   ID:    1.0    4\n",
       "4    758674615775740762    0.0    5\n",
       "5                  Chat    0.0    6\n",
       "6                   ID:    1.0    7\n",
       "7    758674615978473662    0.0    8\n",
       "8                 Date:    1.0    9\n",
       "9                Feb-19    0.0   10\n",
       "10                 2018    0.0   11\n",
       "11                Time:    1.0   12\n",
       "12             12:53:42    0.0   13\n",
       "13                 You:    1.0   14\n",
       "14                   My    0.0   15\n",
       "15                 name    0.0   16\n",
       "16                   is    0.0   17\n",
       "17                Alix,    0.0   18\n",
       "18                  I'm    0.0   19\n",
       "19            currently    0.0   20\n",
       "20             chatting    0.0   21\n",
       "21                 with    0.0   22\n",
       "22                 care    0.0   23\n",
       "23                  and    0.0   24\n",
       "24                 need    0.0   25\n",
       "25                   to    0.0   26\n",
       "26              restart    0.0   27\n",
       "27                   my    0.0   28\n",
       "28                phone    0.0   29\n",
       "29                Agent    0.0   30\n",
       "..                  ...    ...  ...\n",
       "239        Confirmation    0.0  240\n",
       "240                 not    0.0  241\n",
       "241           received.    0.0  242\n",
       "242             Message    0.0  243\n",
       "243                 not    0.0  244\n",
       "244             resent.    0.0  245\n",
       "245                You:    1.0  246\n",
       "246               Nope,    0.0  247\n",
       "247                 I'm    0.0  248\n",
       "248                good    0.0  249\n",
       "249               thank    0.0  250\n",
       "250                you!    0.0  251\n",
       "251           Nicholas:    1.0  252\n",
       "252                  No    0.0  253\n",
       "253            problem,    0.0  254\n",
       "254              Thanks    0.0  255\n",
       "255               again    0.0  256\n",
       "256                 for    0.0  257\n",
       "257            chatting    0.0  258\n",
       "258                 in.    0.0  259\n",
       "259                 and    0.0  260\n",
       "260                   I    0.0  261\n",
       "261                hope    0.0  262\n",
       "262                 you    0.0  263\n",
       "263               enjoy    0.0  264\n",
       "264                 the    0.0  265\n",
       "265                rest    0.0  266\n",
       "266                  of    0.0  267\n",
       "267                your    0.0  268\n",
       "268             Monday!    0.0  269\n",
       "\n",
       "[269 rows x 3 columns]"
      ]
     },
     "execution_count": 625,
     "metadata": {},
     "output_type": "execute_result"
    }
   ],
   "source": [
    "df12"
   ]
  },
  {
   "cell_type": "code",
   "execution_count": 626,
   "metadata": {
    "collapsed": true
   },
   "outputs": [],
   "source": [
    "s1=list(df12[df12.val_k>0].tt)\n",
    "s2=list(df12[df12.val_k>0].key)"
   ]
  },
  {
   "cell_type": "code",
   "execution_count": 627,
   "metadata": {},
   "outputs": [
    {
     "data": {
      "text/plain": [
       "[1,\n",
       " 4,\n",
       " 7,\n",
       " 9,\n",
       " 12,\n",
       " 14,\n",
       " 37,\n",
       " 64,\n",
       " 79,\n",
       " 86,\n",
       " 88,\n",
       " 92,\n",
       " 98,\n",
       " 115,\n",
       " 119,\n",
       " 131,\n",
       " 135,\n",
       " 159,\n",
       " 181,\n",
       " 184,\n",
       " 193,\n",
       " 199,\n",
       " 218,\n",
       " 221,\n",
       " 223,\n",
       " 246,\n",
       " 252]"
      ]
     },
     "execution_count": 627,
     "metadata": {},
     "output_type": "execute_result"
    }
   ],
   "source": [
    "s1"
   ]
  },
  {
   "cell_type": "code",
   "execution_count": 628,
   "metadata": {},
   "outputs": [
    {
     "data": {
      "text/plain": [
       "[u'Rule:',\n",
       " u'ID:',\n",
       " u'ID:',\n",
       " u'Date:',\n",
       " u'Time:',\n",
       " u'You:',\n",
       " u'Keyword:',\n",
       " u'sees:',\n",
       " u'notes:',\n",
       " u'(agentGroup:',\n",
       " u'businessUnit:',\n",
       " u'required:',\n",
       " u'Nicholas:',\n",
       " u'You:',\n",
       " u'Nicholas:',\n",
       " u'Nicholas:',\n",
       " u'Nicholas:',\n",
       " u'Message:',\n",
       " u'You:',\n",
       " u'Nicholas:',\n",
       " u'You:',\n",
       " u'Nicholas:',\n",
       " u'You:',\n",
       " u'You:',\n",
       " u'Nicholas:',\n",
       " u'You:',\n",
       " u'Nicholas:']"
      ]
     },
     "execution_count": 628,
     "metadata": {},
     "output_type": "execute_result"
    }
   ],
   "source": [
    "s2"
   ]
  },
  {
   "cell_type": "code",
   "execution_count": 640,
   "metadata": {
    "collapsed": true
   },
   "outputs": [],
   "source": [
    "def tmp1(l):\n",
    "    s=''\n",
    "    if len(l)>0:\n",
    "        for f in range(len(l)-1):\n",
    "            s=s+l[f]+' '\n",
    "        s=s+l[len(l)-1]\n",
    "    else:\n",
    "        s='NA'\n",
    "    return(s)"
   ]
  },
  {
   "cell_type": "code",
   "execution_count": 648,
   "metadata": {},
   "outputs": [
    {
     "data": {
      "text/plain": [
       "u'No problem, Thanks again for chatting in. and I hope you enjoy the rest of your Monday!'"
      ]
     },
     "execution_count": 648,
     "metadata": {},
     "output_type": "execute_result"
    }
   ],
   "source": [
    "tmp1(l)"
   ]
  },
  {
   "cell_type": "code",
   "execution_count": 709,
   "metadata": {
    "collapsed": true
   },
   "outputs": [],
   "source": [
    "l=[df12[df12.tt>s1[len(s1)-1]].key if len(s1)>0 else l]"
   ]
  },
  {
   "cell_type": "code",
   "execution_count": 717,
   "metadata": {},
   "outputs": [
    {
     "data": {
      "text/plain": [
       "list"
      ]
     },
     "execution_count": 717,
     "metadata": {},
     "output_type": "execute_result"
    }
   ],
   "source": [
    "type(l)"
   ]
  },
  {
   "cell_type": "code",
   "execution_count": 722,
   "metadata": {},
   "outputs": [
    {
     "data": {
      "text/plain": [
       "pandas.core.series.Series"
      ]
     },
     "execution_count": 722,
     "metadata": {},
     "output_type": "execute_result"
    }
   ],
   "source": [
    "type(l[len(l)-1])"
   ]
  },
  {
   "cell_type": "code",
   "execution_count": 719,
   "metadata": {
    "collapsed": true
   },
   "outputs": [],
   "source": [
    "s=''\n",
    "s=s+l[len(l)-1]"
   ]
  },
  {
   "cell_type": "code",
   "execution_count": 720,
   "metadata": {},
   "outputs": [
    {
     "data": {
      "text/plain": [
       "252          No\n",
       "253    problem,\n",
       "254      Thanks\n",
       "255       again\n",
       "256         for\n",
       "257    chatting\n",
       "258         in.\n",
       "259         and\n",
       "260           I\n",
       "261        hope\n",
       "262         you\n",
       "263       enjoy\n",
       "264         the\n",
       "265        rest\n",
       "266          of\n",
       "267        your\n",
       "268     Monday!\n",
       "Name: key, dtype: object"
      ]
     },
     "execution_count": 720,
     "metadata": {},
     "output_type": "execute_result"
    }
   ],
   "source": [
    "s"
   ]
  },
  {
   "cell_type": "code",
   "execution_count": 712,
   "metadata": {},
   "outputs": [
    {
     "data": {
      "text/plain": [
       "[u'No',\n",
       " u'problem,',\n",
       " u'Thanks',\n",
       " u'again',\n",
       " u'for',\n",
       " u'chatting',\n",
       " u'in.',\n",
       " u'and',\n",
       " u'I',\n",
       " u'hope',\n",
       " u'you',\n",
       " u'enjoy',\n",
       " u'the',\n",
       " u'rest',\n",
       " u'of',\n",
       " u'your',\n",
       " u'Monday!']"
      ]
     },
     "execution_count": 712,
     "metadata": {},
     "output_type": "execute_result"
    }
   ],
   "source": [
    "list(tmp1(l))"
   ]
  },
  {
   "cell_type": "code",
   "execution_count": 691,
   "metadata": {
    "collapsed": true
   },
   "outputs": [],
   "source": [
    "s3=pd.DataFrame([[s2[len(s2)-1],list(tmp1(l))]],columns=['knm','vnm'])"
   ]
  },
  {
   "cell_type": "code",
   "execution_count": 692,
   "metadata": {},
   "outputs": [
    {
     "data": {
      "text/html": [
       "<div>\n",
       "<style>\n",
       "    .dataframe thead tr:only-child th {\n",
       "        text-align: right;\n",
       "    }\n",
       "\n",
       "    .dataframe thead th {\n",
       "        text-align: left;\n",
       "    }\n",
       "\n",
       "    .dataframe tbody tr th {\n",
       "        vertical-align: top;\n",
       "    }\n",
       "</style>\n",
       "<table border=\"1\" class=\"dataframe\">\n",
       "  <thead>\n",
       "    <tr style=\"text-align: right;\">\n",
       "      <th></th>\n",
       "      <th>knm</th>\n",
       "      <th>vnm</th>\n",
       "    </tr>\n",
       "  </thead>\n",
       "  <tbody>\n",
       "    <tr>\n",
       "      <th>0</th>\n",
       "      <td>Nicholas:</td>\n",
       "      <td>[No, problem,, Thanks, again, for, chatting, i...</td>\n",
       "    </tr>\n",
       "  </tbody>\n",
       "</table>\n",
       "</div>"
      ],
      "text/plain": [
       "         knm                                                vnm\n",
       "0  Nicholas:  [No, problem,, Thanks, again, for, chatting, i..."
      ]
     },
     "execution_count": 692,
     "metadata": {},
     "output_type": "execute_result"
    }
   ],
   "source": [
    "s3"
   ]
  },
  {
   "cell_type": "code",
   "execution_count": 707,
   "metadata": {},
   "outputs": [
    {
     "data": {
      "text/plain": [
       "27"
      ]
     },
     "execution_count": 707,
     "metadata": {},
     "output_type": "execute_result"
    }
   ],
   "source": [
    "len(s1)"
   ]
  },
  {
   "cell_type": "code",
   "execution_count": 727,
   "metadata": {
    "collapsed": true
   },
   "outputs": [],
   "source": [
    "l=[list(df12[df12.tt>s1[len(s1)-1]].key)]"
   ]
  },
  {
   "cell_type": "code",
   "execution_count": 736,
   "metadata": {},
   "outputs": [
    {
     "data": {
      "text/plain": [
       "[]"
      ]
     },
     "execution_count": 736,
     "metadata": {},
     "output_type": "execute_result"
    }
   ],
   "source": [
    "l=[]\n",
    "list(l)"
   ]
  },
  {
   "cell_type": "code",
   "execution_count": 737,
   "metadata": {
    "collapsed": true
   },
   "outputs": [],
   "source": [
    "l=[list(df12[df12.tt>s1[len(s1)-1]].key) if len(s1)>0 else list(l)]"
   ]
  },
  {
   "cell_type": "code",
   "execution_count": 750,
   "metadata": {
    "collapsed": true
   },
   "outputs": [],
   "source": [
    "l=''\n",
    "l=[list(l)]"
   ]
  },
  {
   "cell_type": "code",
   "execution_count": 751,
   "metadata": {},
   "outputs": [
    {
     "data": {
      "text/plain": [
       "[[]]"
      ]
     },
     "execution_count": 751,
     "metadata": {},
     "output_type": "execute_result"
    }
   ],
   "source": [
    "l"
   ]
  },
  {
   "cell_type": "code",
   "execution_count": 752,
   "metadata": {},
   "outputs": [
    {
     "data": {
      "text/plain": [
       "[]"
      ]
     },
     "execution_count": 752,
     "metadata": {},
     "output_type": "execute_result"
    }
   ],
   "source": [
    "l[0]"
   ]
  },
  {
   "cell_type": "code",
   "execution_count": 744,
   "metadata": {},
   "outputs": [
    {
     "data": {
      "text/plain": [
       "27"
      ]
     },
     "execution_count": 744,
     "metadata": {},
     "output_type": "execute_result"
    }
   ],
   "source": [
    "len(s1)"
   ]
  },
  {
   "cell_type": "code",
   "execution_count": 729,
   "metadata": {},
   "outputs": [
    {
     "data": {
      "text/plain": [
       "u'No problem, Thanks again for chatting in. and I hope you enjoy the rest of your Monday!'"
      ]
     },
     "execution_count": 729,
     "metadata": {},
     "output_type": "execute_result"
    }
   ],
   "source": [
    "tmp1(l[0])"
   ]
  },
  {
   "cell_type": "code",
   "execution_count": 748,
   "metadata": {
    "collapsed": true
   },
   "outputs": [],
   "source": [
    "df_tmp=pd.DataFrame(columns=['knm','vnm'])\n",
    "l=''\n",
    "for i in range(len(s1)-1):\n",
    "    l=list(df12[(df12.tt>s1[i]) & (df12.tt<s1[i+1])].key)\n",
    "    s3=pd.DataFrame([[s2[i],tmp1(l)]],columns=['knm','vnm'])\n",
    "    df_tmp=pd.concat([df_tmp,s3], axis=0)\n",
    "l=[list(df12[df12.tt>s1[len(s1)-1]].key) if len(s1)>0 else list(l)]\n",
    "s3=pd.DataFrame([[s2[len(s2)-1],tmp1(l[0])]],columns=['knm','vnm'])\n",
    "df_tmp=pd.concat([df_tmp,s3], axis=0)"
   ]
  },
  {
   "cell_type": "code",
   "execution_count": 749,
   "metadata": {},
   "outputs": [
    {
     "data": {
      "text/html": [
       "<div>\n",
       "<style>\n",
       "    .dataframe thead tr:only-child th {\n",
       "        text-align: right;\n",
       "    }\n",
       "\n",
       "    .dataframe thead th {\n",
       "        text-align: left;\n",
       "    }\n",
       "\n",
       "    .dataframe tbody tr th {\n",
       "        vertical-align: top;\n",
       "    }\n",
       "</style>\n",
       "<table border=\"1\" class=\"dataframe\">\n",
       "  <thead>\n",
       "    <tr style=\"text-align: right;\">\n",
       "      <th></th>\n",
       "      <th>knm</th>\n",
       "      <th>vnm</th>\n",
       "    </tr>\n",
       "  </thead>\n",
       "  <tbody>\n",
       "    <tr>\n",
       "      <th>0</th>\n",
       "      <td>Rule:</td>\n",
       "      <td>VIS-SMS-Chat Conversation</td>\n",
       "    </tr>\n",
       "    <tr>\n",
       "      <th>0</th>\n",
       "      <td>ID:</td>\n",
       "      <td>758674615775740762 Chat</td>\n",
       "    </tr>\n",
       "    <tr>\n",
       "      <th>0</th>\n",
       "      <td>ID:</td>\n",
       "      <td>758674615978473662</td>\n",
       "    </tr>\n",
       "    <tr>\n",
       "      <th>0</th>\n",
       "      <td>Date:</td>\n",
       "      <td>Feb-19 2018</td>\n",
       "    </tr>\n",
       "    <tr>\n",
       "      <th>0</th>\n",
       "      <td>Time:</td>\n",
       "      <td>12:53:42</td>\n",
       "    </tr>\n",
       "    <tr>\n",
       "      <th>0</th>\n",
       "      <td>You:</td>\n",
       "      <td>My name is Alix, I'm currently chatting with c...</td>\n",
       "    </tr>\n",
       "    <tr>\n",
       "      <th>0</th>\n",
       "      <td>Keyword:</td>\n",
       "      <td>My name is Alix, I'm currently chatting with c...</td>\n",
       "    </tr>\n",
       "    <tr>\n",
       "      <th>0</th>\n",
       "      <td>sees:</td>\n",
       "      <td>Carnell has left the chat You are being transf...</td>\n",
       "    </tr>\n",
       "    <tr>\n",
       "      <th>0</th>\n",
       "      <td>notes:</td>\n",
       "      <td>(none) 00:08 - transfer initiates 2480158140@v...</td>\n",
       "    </tr>\n",
       "    <tr>\n",
       "      <th>0</th>\n",
       "      <td>(agentGroup:</td>\n",
       "      <td>VIS_Care,</td>\n",
       "    </tr>\n",
       "    <tr>\n",
       "      <th>0</th>\n",
       "      <td>businessUnit:</td>\n",
       "      <td>VIS_Care) - attributes</td>\n",
       "    </tr>\n",
       "    <tr>\n",
       "      <th>0</th>\n",
       "      <td>required:</td>\n",
       "      <td>NONE Agent '2480158140@verizon' loses connection</td>\n",
       "    </tr>\n",
       "    <tr>\n",
       "      <th>0</th>\n",
       "      <td>Nicholas:</td>\n",
       "      <td>I got you Alix, please go ahead and restart yo...</td>\n",
       "    </tr>\n",
       "    <tr>\n",
       "      <th>0</th>\n",
       "      <td>You:</td>\n",
       "      <td>Great! Thank you</td>\n",
       "    </tr>\n",
       "    <tr>\n",
       "      <th>0</th>\n",
       "      <td>Nicholas:</td>\n",
       "      <td>No problem at all. Delivery Confirmation not r...</td>\n",
       "    </tr>\n",
       "    <tr>\n",
       "      <th>0</th>\n",
       "      <td>Nicholas:</td>\n",
       "      <td>How'd that go?</td>\n",
       "    </tr>\n",
       "    <tr>\n",
       "      <th>0</th>\n",
       "      <td>Nicholas:</td>\n",
       "      <td>Just checking on you, I'm still here for you i...</td>\n",
       "    </tr>\n",
       "    <tr>\n",
       "      <th>0</th>\n",
       "      <td>Message:</td>\n",
       "      <td>Don't want you to disappear on me. I'm still h...</td>\n",
       "    </tr>\n",
       "    <tr>\n",
       "      <th>0</th>\n",
       "      <td>You:</td>\n",
       "      <td>It worked!</td>\n",
       "    </tr>\n",
       "    <tr>\n",
       "      <th>0</th>\n",
       "      <td>Nicholas:</td>\n",
       "      <td>WooHoo! Delivery Confirmation not received. Me...</td>\n",
       "    </tr>\n",
       "    <tr>\n",
       "      <th>0</th>\n",
       "      <td>You:</td>\n",
       "      <td>It works now! Thank you</td>\n",
       "    </tr>\n",
       "    <tr>\n",
       "      <th>0</th>\n",
       "      <td>Nicholas:</td>\n",
       "      <td>Yes, you got that auto message again, sorry ab...</td>\n",
       "    </tr>\n",
       "    <tr>\n",
       "      <th>0</th>\n",
       "      <td>You:</td>\n",
       "      <td>No problem</td>\n",
       "    </tr>\n",
       "    <tr>\n",
       "      <th>0</th>\n",
       "      <td>You:</td>\n",
       "      <td>🤗🤗👏🏻</td>\n",
       "    </tr>\n",
       "    <tr>\n",
       "      <th>0</th>\n",
       "      <td>Nicholas:</td>\n",
       "      <td>I'm so happy we got it working again! Did you ...</td>\n",
       "    </tr>\n",
       "    <tr>\n",
       "      <th>0</th>\n",
       "      <td>You:</td>\n",
       "      <td>Nope, I'm good thank you!</td>\n",
       "    </tr>\n",
       "    <tr>\n",
       "      <th>0</th>\n",
       "      <td>Nicholas:</td>\n",
       "      <td>No problem, Thanks again for chatting in. and ...</td>\n",
       "    </tr>\n",
       "  </tbody>\n",
       "</table>\n",
       "</div>"
      ],
      "text/plain": [
       "             knm                                                vnm\n",
       "0          Rule:                          VIS-SMS-Chat Conversation\n",
       "0            ID:                            758674615775740762 Chat\n",
       "0            ID:                                 758674615978473662\n",
       "0          Date:                                        Feb-19 2018\n",
       "0          Time:                                           12:53:42\n",
       "0           You:  My name is Alix, I'm currently chatting with c...\n",
       "0       Keyword:  My name is Alix, I'm currently chatting with c...\n",
       "0          sees:  Carnell has left the chat You are being transf...\n",
       "0         notes:  (none) 00:08 - transfer initiates 2480158140@v...\n",
       "0   (agentGroup:                                          VIS_Care,\n",
       "0  businessUnit:                             VIS_Care) - attributes\n",
       "0      required:   NONE Agent '2480158140@verizon' loses connection\n",
       "0      Nicholas:  I got you Alix, please go ahead and restart yo...\n",
       "0           You:                                   Great! Thank you\n",
       "0      Nicholas:  No problem at all. Delivery Confirmation not r...\n",
       "0      Nicholas:                                     How'd that go?\n",
       "0      Nicholas:  Just checking on you, I'm still here for you i...\n",
       "0       Message:  Don't want you to disappear on me. I'm still h...\n",
       "0           You:                                         It worked!\n",
       "0      Nicholas:  WooHoo! Delivery Confirmation not received. Me...\n",
       "0           You:                            It works now! Thank you\n",
       "0      Nicholas:  Yes, you got that auto message again, sorry ab...\n",
       "0           You:                                         No problem\n",
       "0           You:                                               🤗🤗👏🏻\n",
       "0      Nicholas:  I'm so happy we got it working again! Did you ...\n",
       "0           You:                          Nope, I'm good thank you!\n",
       "0      Nicholas:  No problem, Thanks again for chatting in. and ..."
      ]
     },
     "execution_count": 749,
     "metadata": {},
     "output_type": "execute_result"
    }
   ],
   "source": [
    "df_tmp"
   ]
  },
  {
   "cell_type": "code",
   "execution_count": 651,
   "metadata": {},
   "outputs": [
    {
     "data": {
      "text/plain": [
       "[u\"Rule: VIS-SMS-Chat Conversation ID: 758674615775740762 Chat ID: 758674615978473662 Date: Feb-19 2018 Time: 12:53:42 You: My name is Alix, I'm currently chatting with care and need to restart my phone Agent '2480158140@verizon' enters chat (as Carnell) Start Keyword: My name is Alix, I'm currently chatting with care and need to restart my phone 00:08 - Transfer accepted and sent to 7487348316@verizon 00:08 - Customer sees: Carnell has left the chat You are being transferred, please hold... 00:08 - transfer notes: (none) 00:08 - transfer initiates 2480158140@verizon (agentGroup: VIS_Care, businessUnit: VIS_Care) - attributes required: NONE Agent '2480158140@verizon' loses connection Nicholas: I got you Alix, please go ahead and restart your device. and make a test call. You: Great! Thank you Nicholas: No problem at all. Delivery Confirmation not received. Message not resent. Nicholas: How'd that go? Nicholas: Just checking on you, I'm still here for you if you still need me. =) Delivery Confirmation not received. Message not resent. Warning Message: Don't want you to disappear on me. I'm still here to help. Text me back so we can get this resolved. You: It worked! Nicholas: WooHoo! Delivery Confirmation not received. Message not resent. You: It works now! Thank you Nicholas: Yes, you got that auto message again, sorry about that Alix. Delivery Confirmation not received. Message not resent. You: No problem You: \\U0001f917\\U0001f917\\U0001f44f\\U0001f3fb Nicholas: I'm so happy we got it working again! Did you have anymore questions or concerns? Delivery Confirmation not received. Message not resent. You: Nope, I'm good thank you! Nicholas: No problem, Thanks again for chatting in. and I hope you enjoy the rest of your Monday!\"]"
      ]
     },
     "execution_count": 651,
     "metadata": {},
     "output_type": "execute_result"
    }
   ],
   "source": [
    "u1"
   ]
  },
  {
   "cell_type": "code",
   "execution_count": 755,
   "metadata": {
    "collapsed": true
   },
   "outputs": [],
   "source": [
    "df_tmp1=pd.DataFrame(columns=['knm','vnm'])\n",
    "for h1 in range(len(m1)):\n",
    "    u1=list(df_tmp[df_tmp.knm==m1[h1]].vnm)\n",
    "    s4=''\n",
    "    for h2 in range(len(u1)-1):\n",
    "        s4=s4+u1[h2]+'; '\n",
    "    if len(u1)>0:\n",
    "        s4=s4+u1[len(u1)-1]\n",
    "    else:\n",
    "        s4=s4\n",
    "    s4=pd.DataFrame([[m1[h1],s4]], columns=['knm','vnm'])\n",
    "    df_tmp1=pd.concat([df_tmp1,s4], axis=0)\n",
    "    "
   ]
  },
  {
   "cell_type": "code",
   "execution_count": 756,
   "metadata": {},
   "outputs": [
    {
     "data": {
      "text/html": [
       "<div>\n",
       "<style>\n",
       "    .dataframe thead tr:only-child th {\n",
       "        text-align: right;\n",
       "    }\n",
       "\n",
       "    .dataframe thead th {\n",
       "        text-align: left;\n",
       "    }\n",
       "\n",
       "    .dataframe tbody tr th {\n",
       "        vertical-align: top;\n",
       "    }\n",
       "</style>\n",
       "<table border=\"1\" class=\"dataframe\">\n",
       "  <thead>\n",
       "    <tr style=\"text-align: right;\">\n",
       "      <th></th>\n",
       "      <th>knm</th>\n",
       "      <th>vnm</th>\n",
       "    </tr>\n",
       "  </thead>\n",
       "  <tbody>\n",
       "    <tr>\n",
       "      <th>0</th>\n",
       "      <td>Rule:</td>\n",
       "      <td>VIS-SMS-Chat Conversation</td>\n",
       "    </tr>\n",
       "    <tr>\n",
       "      <th>0</th>\n",
       "      <td>ID:</td>\n",
       "      <td>758674615775740762 Chat; 758674615978473662</td>\n",
       "    </tr>\n",
       "    <tr>\n",
       "      <th>0</th>\n",
       "      <td>Message:</td>\n",
       "      <td>Don't want you to disappear on me. I'm still h...</td>\n",
       "    </tr>\n",
       "    <tr>\n",
       "      <th>0</th>\n",
       "      <td>Time:</td>\n",
       "      <td>12:53:42</td>\n",
       "    </tr>\n",
       "    <tr>\n",
       "      <th>0</th>\n",
       "      <td>notes:</td>\n",
       "      <td>(none) 00:08 - transfer initiates 2480158140@v...</td>\n",
       "    </tr>\n",
       "    <tr>\n",
       "      <th>0</th>\n",
       "      <td>Nicholas:</td>\n",
       "      <td>I got you Alix, please go ahead and restart yo...</td>\n",
       "    </tr>\n",
       "    <tr>\n",
       "      <th>0</th>\n",
       "      <td>Date:</td>\n",
       "      <td>Feb-19 2018</td>\n",
       "    </tr>\n",
       "    <tr>\n",
       "      <th>0</th>\n",
       "      <td>Keyword:</td>\n",
       "      <td>My name is Alix, I'm currently chatting with c...</td>\n",
       "    </tr>\n",
       "    <tr>\n",
       "      <th>0</th>\n",
       "      <td>You:</td>\n",
       "      <td>My name is Alix, I'm currently chatting with c...</td>\n",
       "    </tr>\n",
       "    <tr>\n",
       "      <th>0</th>\n",
       "      <td>(agentGroup:</td>\n",
       "      <td>VIS_Care,</td>\n",
       "    </tr>\n",
       "    <tr>\n",
       "      <th>0</th>\n",
       "      <td>required:</td>\n",
       "      <td>NONE Agent '2480158140@verizon' loses connection</td>\n",
       "    </tr>\n",
       "    <tr>\n",
       "      <th>0</th>\n",
       "      <td>businessUnit:</td>\n",
       "      <td>VIS_Care) - attributes</td>\n",
       "    </tr>\n",
       "    <tr>\n",
       "      <th>0</th>\n",
       "      <td>sees:</td>\n",
       "      <td>Carnell has left the chat You are being transf...</td>\n",
       "    </tr>\n",
       "  </tbody>\n",
       "</table>\n",
       "</div>"
      ],
      "text/plain": [
       "             knm                                                vnm\n",
       "0          Rule:                          VIS-SMS-Chat Conversation\n",
       "0            ID:        758674615775740762 Chat; 758674615978473662\n",
       "0       Message:  Don't want you to disappear on me. I'm still h...\n",
       "0          Time:                                           12:53:42\n",
       "0         notes:  (none) 00:08 - transfer initiates 2480158140@v...\n",
       "0      Nicholas:  I got you Alix, please go ahead and restart yo...\n",
       "0          Date:                                        Feb-19 2018\n",
       "0       Keyword:  My name is Alix, I'm currently chatting with c...\n",
       "0           You:  My name is Alix, I'm currently chatting with c...\n",
       "0   (agentGroup:                                          VIS_Care,\n",
       "0      required:   NONE Agent '2480158140@verizon' loses connection\n",
       "0  businessUnit:                             VIS_Care) - attributes\n",
       "0          sees:  Carnell has left the chat You are being transf..."
      ]
     },
     "execution_count": 756,
     "metadata": {},
     "output_type": "execute_result"
    }
   ],
   "source": [
    "df_tmp1"
   ]
  },
  {
   "cell_type": "code",
   "execution_count": 757,
   "metadata": {
    "collapsed": true
   },
   "outputs": [],
   "source": [
    "ke=list(df_tmp1[df_tmp1.knm=='You:'].vnm)"
   ]
  },
  {
   "cell_type": "code",
   "execution_count": 758,
   "metadata": {},
   "outputs": [
    {
     "data": {
      "text/plain": [
       "[u\"My name is Alix, I'm currently chatting with care and need to restart my phone Agent '2480158140@verizon' enters chat (as Carnell) Start; Great! Thank you; It worked!; It works now! Thank you; No problem; \\U0001f917\\U0001f917\\U0001f44f\\U0001f3fb; Nope, I'm good thank you!\"]"
      ]
     },
     "execution_count": 758,
     "metadata": {},
     "output_type": "execute_result"
    }
   ],
   "source": [
    "ke"
   ]
  },
  {
   "cell_type": "code",
   "execution_count": 760,
   "metadata": {
    "collapsed": true
   },
   "outputs": [],
   "source": [
    "ke=list(df_tmp1[df_tmp1.knm=='Nicholas:'].vnm)"
   ]
  },
  {
   "cell_type": "code",
   "execution_count": 761,
   "metadata": {},
   "outputs": [
    {
     "data": {
      "text/plain": [
       "[u\"I got you Alix, please go ahead and restart your device. and make a test call.; No problem at all. Delivery Confirmation not received. Message not resent.; How'd that go?; Just checking on you, I'm still here for you if you still need me. =) Delivery Confirmation not received. Message not resent. Warning; WooHoo! Delivery Confirmation not received. Message not resent.; Yes, you got that auto message again, sorry about that Alix. Delivery Confirmation not received. Message not resent.; I'm so happy we got it working again! Did you have anymore questions or concerns? Delivery Confirmation not received. Message not resent.; No problem, Thanks again for chatting in. and I hope you enjoy the rest of your Monday!\"]"
      ]
     },
     "execution_count": 761,
     "metadata": {},
     "output_type": "execute_result"
    }
   ],
   "source": [
    "ke"
   ]
  },
  {
   "cell_type": "code",
   "execution_count": 598,
   "metadata": {
    "collapsed": true
   },
   "outputs": [],
   "source": [
    "ke=list(df_tmp1[df_tmp1.knm=='Nicholas:'].vnm)"
   ]
  },
  {
   "cell_type": "code",
   "execution_count": 599,
   "metadata": {},
   "outputs": [
    {
     "data": {
      "text/plain": [
       "[[u\"I call.got call.you call.Alix, call.please call.go call.ahead call.and call.restart call.your call.device. call.and call.make call.a call.test call.; No resent.problem resent.at resent.all. resent.Delivery resent.Confirmation resent.not resent.received. resent.Message resent.not resent.; How'd go?that go?; Just Warningchecking Warningon Warningyou, WarningI'm Warningstill Warninghere Warningfor Warningyou Warningif Warningyou Warningstill Warningneed Warningme. Warning=) WarningDelivery WarningConfirmation Warningnot Warningreceived. WarningMessage Warningnot Warningresent. Warning; WooHoo! resent.Delivery resent.Confirmation resent.not resent.received. resent.Message resent.not resent.; Yes, resent.you resent.got resent.that resent.auto resent.message resent.again, resent.sorry resent.about resent.that resent.Alix. resent.Delivery resent.Confirmation resent.not resent.received. resent.Message resent.not resent.; I'm resent.so resent.happy resent.we resent.got resent.it resent.working resent.again! resent.Did resent.you resent.have resent.anymore resent.questions resent.or resent.concerns? resent.Delivery resent.Confirmation resent.not resent.received. resent.Message resent.not resent.; \"]]"
      ]
     },
     "execution_count": 599,
     "metadata": {},
     "output_type": "execute_result"
    }
   ],
   "source": [
    "ke"
   ]
  },
  {
   "cell_type": "code",
   "execution_count": null,
   "metadata": {
    "collapsed": true
   },
   "outputs": [],
   "source": []
  },
  {
   "cell_type": "code",
   "execution_count": null,
   "metadata": {
    "collapsed": true
   },
   "outputs": [],
   "source": []
  },
  {
   "cell_type": "code",
   "execution_count": null,
   "metadata": {
    "collapsed": true
   },
   "outputs": [],
   "source": []
  }
 ],
 "metadata": {
  "kernelspec": {
   "display_name": "Python 3",
   "language": "python",
   "name": "python3"
  },
  "language_info": {
   "codemirror_mode": {
    "name": "ipython",
    "version": 3
   },
   "file_extension": ".py",
   "mimetype": "text/x-python",
   "name": "python",
   "nbconvert_exporter": "python",
   "pygments_lexer": "ipython3",
   "version": "3.6.4"
  }
 },
 "nbformat": 4,
 "nbformat_minor": 2
}
