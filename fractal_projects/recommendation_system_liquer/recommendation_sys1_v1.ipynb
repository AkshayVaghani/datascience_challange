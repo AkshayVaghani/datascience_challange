{
 "cells": [
  {
   "cell_type": "markdown",
   "metadata": {},
   "source": [
    "# Recommendation system"
   ]
  },
  {
   "cell_type": "raw",
   "metadata": {},
   "source": [
    "Problem Statement: Build machine learning model to provide product recommendation at each store level using store and sales data\n",
    " \n",
    "Data sets:\n",
    "Store_data: Contains Store attributes like SQ FT (Square feet), Weekly Volume, Last_365 day sales, Last_90 day sales, Last_180 day sales, Income groups, Age groups etc.\n",
    "Sales_data: Contains Store Name, Product name and unit sales in last 365 days\n",
    " \n",
    "Submission: \n",
    "\n",
    "Model used for product recommendation\n",
    "Product recommendation at each store level\n"
   ]
  },
  {
   "cell_type": "markdown",
   "metadata": {},
   "source": [
    "# ideas to solve the problem\n",
    "\n",
    "- we want to recommend the produts to the stores. \n",
    "- different stores has different/common products on sales.\n",
    "- we have stores data related information data\n",
    "- first we take prodcut sales data and using turicreate library we built recommendation system base on popularity and cosine similarity\n",
    "\n",
    "- In store table, there are stores which doents have product sale data/information\n",
    "- we recommend products to these stores base on the similaroty of this stores to another stores which has sales data using cosine similarity \n",
    "\n",
    "- Example \n",
    "- If store A sales a,b,c,d,e products and store B sales b,c,d,e,f products, and if store A is similar to store B then product sales in store A can be recommendaded in store B.\n",
    "- In this case product a can be recommendaded to store B and product f can be recommendaded to store A.\n",
    "\n",
    "\n"
   ]
  },
  {
   "cell_type": "code",
   "execution_count": 1,
   "metadata": {},
   "outputs": [
    {
     "name": "stderr",
     "output_type": "stream",
     "text": [
      "/anaconda3/lib/python3.6/site-packages/h5py/__init__.py:36: FutureWarning: Conversion of the second argument of issubdtype from `float` to `np.floating` is deprecated. In future, it will be treated as `np.float64 == np.dtype(float).type`.\n",
      "  from ._conv import register_converters as _register_converters\n",
      "/anaconda3/lib/python3.6/site-packages/sklearn/cross_validation.py:41: DeprecationWarning: This module was deprecated in version 0.18 in favor of the model_selection module into which all the refactored classes and functions are moved. Also note that the interface of the new CV iterators are different from that of this module. This module will be removed in 0.20.\n",
      "  \"This module will be removed in 0.20.\", DeprecationWarning)\n"
     ]
    }
   ],
   "source": [
    "# import library\n",
    "import pandas as pd\n",
    "import numpy as np\n",
    "import time\n",
    "import turicreate as tc\n",
    "from sklearn.cross_validation import train_test_split\n",
    "import sys"
   ]
  },
  {
   "cell_type": "code",
   "execution_count": 2,
   "metadata": {},
   "outputs": [],
   "source": [
    "%load_ext autoreload\n",
    "%autoreload 2"
   ]
  },
  {
   "cell_type": "code",
   "execution_count": 3,
   "metadata": {},
   "outputs": [
    {
     "name": "stderr",
     "output_type": "stream",
     "text": [
      "/anaconda3/lib/python3.6/site-packages/_pytest/fixtures.py:844: DeprecationWarning: The `convert` argument is deprecated in favor of `converter`.  It will be removed after 2019/01.\n",
      "  params = attr.ib(convert=attr.converters.optional(tuple))\n",
      "/anaconda3/lib/python3.6/site-packages/_pytest/fixtures.py:846: DeprecationWarning: The `convert` argument is deprecated in favor of `converter`.  It will be removed after 2019/01.\n",
      "  ids = attr.ib(default=None, convert=_ensure_immutable_ids)\n"
     ]
    }
   ],
   "source": [
    "# load the data\n",
    "sales = pd.read_csv('Sales_data.csv')\n",
    "store = pd.read_csv('Store_data.csv')"
   ]
  },
  {
   "cell_type": "markdown",
   "metadata": {},
   "source": [
    "# EDA"
   ]
  },
  {
   "cell_type": "code",
   "execution_count": 4,
   "metadata": {},
   "outputs": [
    {
     "data": {
      "text/html": [
       "<div>\n",
       "<style scoped>\n",
       "    .dataframe tbody tr th:only-of-type {\n",
       "        vertical-align: middle;\n",
       "    }\n",
       "\n",
       "    .dataframe tbody tr th {\n",
       "        vertical-align: top;\n",
       "    }\n",
       "\n",
       "    .dataframe thead th {\n",
       "        text-align: right;\n",
       "    }\n",
       "</style>\n",
       "<table border=\"1\" class=\"dataframe\">\n",
       "  <thead>\n",
       "    <tr style=\"text-align: right;\">\n",
       "      <th></th>\n",
       "      <th>STORE_CD</th>\n",
       "      <th>LAST_90DAYS_DEPL</th>\n",
       "      <th>LAST_180DAYS_DEPL</th>\n",
       "      <th>STORE_AREA_SQ_FT</th>\n",
       "      <th>STORE_WEEKLY_VOLUME</th>\n",
       "      <th>LAST_365DAYS_DEPL</th>\n",
       "      <th>INCOME_FEATURE_1</th>\n",
       "      <th>INCOME_FEATURE2</th>\n",
       "      <th>INCOME_FEATURE3</th>\n",
       "      <th>INCOME_FEATURE4</th>\n",
       "      <th>...</th>\n",
       "      <th>MALE_POP_5</th>\n",
       "      <th>MALE_POP_6</th>\n",
       "      <th>MALE_POP_7</th>\n",
       "      <th>FEMALE_POP_1</th>\n",
       "      <th>FEMALE_POP_2</th>\n",
       "      <th>FEMALE_POP_3</th>\n",
       "      <th>FEMALE_POP_4</th>\n",
       "      <th>FEMALE_POP_5</th>\n",
       "      <th>FEMALE_POP_6</th>\n",
       "      <th>FEMALE_POP_7</th>\n",
       "    </tr>\n",
       "  </thead>\n",
       "  <tbody>\n",
       "    <tr>\n",
       "      <th>0</th>\n",
       "      <td>STORE_A</td>\n",
       "      <td>541.2502</td>\n",
       "      <td>1018.5504</td>\n",
       "      <td>8</td>\n",
       "      <td>20</td>\n",
       "      <td>1715.3688</td>\n",
       "      <td>0.0231</td>\n",
       "      <td>0.0388</td>\n",
       "      <td>0.0526</td>\n",
       "      <td>0.0711</td>\n",
       "      <td>...</td>\n",
       "      <td>0.0494</td>\n",
       "      <td>0.0295</td>\n",
       "      <td>0.0132</td>\n",
       "      <td>0.0273</td>\n",
       "      <td>0.0877</td>\n",
       "      <td>0.0682</td>\n",
       "      <td>0.0538</td>\n",
       "      <td>0.0518</td>\n",
       "      <td>0.0317</td>\n",
       "      <td>0.0181</td>\n",
       "    </tr>\n",
       "    <tr>\n",
       "      <th>1</th>\n",
       "      <td>STORE_B</td>\n",
       "      <td>51.7506</td>\n",
       "      <td>438.1680</td>\n",
       "      <td>55</td>\n",
       "      <td>1350</td>\n",
       "      <td>1149.0872</td>\n",
       "      <td>0.0236</td>\n",
       "      <td>0.0440</td>\n",
       "      <td>0.0585</td>\n",
       "      <td>0.0754</td>\n",
       "      <td>...</td>\n",
       "      <td>0.0484</td>\n",
       "      <td>0.0288</td>\n",
       "      <td>0.0137</td>\n",
       "      <td>0.0270</td>\n",
       "      <td>0.0894</td>\n",
       "      <td>0.0685</td>\n",
       "      <td>0.0520</td>\n",
       "      <td>0.0509</td>\n",
       "      <td>0.0318</td>\n",
       "      <td>0.0192</td>\n",
       "    </tr>\n",
       "    <tr>\n",
       "      <th>2</th>\n",
       "      <td>STORE_C</td>\n",
       "      <td>207.9166</td>\n",
       "      <td>428.4165</td>\n",
       "      <td>7</td>\n",
       "      <td>90</td>\n",
       "      <td>812.4164</td>\n",
       "      <td>0.0262</td>\n",
       "      <td>0.0474</td>\n",
       "      <td>0.0523</td>\n",
       "      <td>0.0977</td>\n",
       "      <td>...</td>\n",
       "      <td>0.0313</td>\n",
       "      <td>0.0176</td>\n",
       "      <td>0.0080</td>\n",
       "      <td>0.0275</td>\n",
       "      <td>0.0989</td>\n",
       "      <td>0.0751</td>\n",
       "      <td>0.0458</td>\n",
       "      <td>0.0295</td>\n",
       "      <td>0.0169</td>\n",
       "      <td>0.0106</td>\n",
       "    </tr>\n",
       "    <tr>\n",
       "      <th>3</th>\n",
       "      <td>STORE_D</td>\n",
       "      <td>23.8919</td>\n",
       "      <td>54.6919</td>\n",
       "      <td>9</td>\n",
       "      <td>350</td>\n",
       "      <td>113.8689</td>\n",
       "      <td>0.0236</td>\n",
       "      <td>0.0440</td>\n",
       "      <td>0.0585</td>\n",
       "      <td>0.0754</td>\n",
       "      <td>...</td>\n",
       "      <td>0.0484</td>\n",
       "      <td>0.0288</td>\n",
       "      <td>0.0137</td>\n",
       "      <td>0.0270</td>\n",
       "      <td>0.0894</td>\n",
       "      <td>0.0685</td>\n",
       "      <td>0.0520</td>\n",
       "      <td>0.0509</td>\n",
       "      <td>0.0318</td>\n",
       "      <td>0.0192</td>\n",
       "    </tr>\n",
       "    <tr>\n",
       "      <th>4</th>\n",
       "      <td>STORE_E</td>\n",
       "      <td>NaN</td>\n",
       "      <td>NaN</td>\n",
       "      <td>8</td>\n",
       "      <td>100</td>\n",
       "      <td>471.3765</td>\n",
       "      <td>0.0236</td>\n",
       "      <td>0.0440</td>\n",
       "      <td>0.0585</td>\n",
       "      <td>0.0754</td>\n",
       "      <td>...</td>\n",
       "      <td>0.0484</td>\n",
       "      <td>0.0288</td>\n",
       "      <td>0.0137</td>\n",
       "      <td>0.0270</td>\n",
       "      <td>0.0894</td>\n",
       "      <td>0.0685</td>\n",
       "      <td>0.0520</td>\n",
       "      <td>0.0509</td>\n",
       "      <td>0.0318</td>\n",
       "      <td>0.0192</td>\n",
       "    </tr>\n",
       "  </tbody>\n",
       "</table>\n",
       "<p>5 rows × 28 columns</p>\n",
       "</div>"
      ],
      "text/plain": [
       "  STORE_CD  LAST_90DAYS_DEPL  LAST_180DAYS_DEPL  STORE_AREA_SQ_FT  \\\n",
       "0  STORE_A          541.2502          1018.5504                 8   \n",
       "1  STORE_B           51.7506           438.1680                55   \n",
       "2  STORE_C          207.9166           428.4165                 7   \n",
       "3  STORE_D           23.8919            54.6919                 9   \n",
       "4  STORE_E               NaN                NaN                 8   \n",
       "\n",
       "   STORE_WEEKLY_VOLUME  LAST_365DAYS_DEPL  INCOME_FEATURE_1  INCOME_FEATURE2  \\\n",
       "0                   20          1715.3688            0.0231           0.0388   \n",
       "1                 1350          1149.0872            0.0236           0.0440   \n",
       "2                   90           812.4164            0.0262           0.0474   \n",
       "3                  350           113.8689            0.0236           0.0440   \n",
       "4                  100           471.3765            0.0236           0.0440   \n",
       "\n",
       "   INCOME_FEATURE3  INCOME_FEATURE4      ...       MALE_POP_5  MALE_POP_6  \\\n",
       "0           0.0526           0.0711      ...           0.0494      0.0295   \n",
       "1           0.0585           0.0754      ...           0.0484      0.0288   \n",
       "2           0.0523           0.0977      ...           0.0313      0.0176   \n",
       "3           0.0585           0.0754      ...           0.0484      0.0288   \n",
       "4           0.0585           0.0754      ...           0.0484      0.0288   \n",
       "\n",
       "   MALE_POP_7  FEMALE_POP_1  FEMALE_POP_2  FEMALE_POP_3  FEMALE_POP_4  \\\n",
       "0      0.0132        0.0273        0.0877        0.0682        0.0538   \n",
       "1      0.0137        0.0270        0.0894        0.0685        0.0520   \n",
       "2      0.0080        0.0275        0.0989        0.0751        0.0458   \n",
       "3      0.0137        0.0270        0.0894        0.0685        0.0520   \n",
       "4      0.0137        0.0270        0.0894        0.0685        0.0520   \n",
       "\n",
       "   FEMALE_POP_5  FEMALE_POP_6  FEMALE_POP_7  \n",
       "0        0.0518        0.0317        0.0181  \n",
       "1        0.0509        0.0318        0.0192  \n",
       "2        0.0295        0.0169        0.0106  \n",
       "3        0.0509        0.0318        0.0192  \n",
       "4        0.0509        0.0318        0.0192  \n",
       "\n",
       "[5 rows x 28 columns]"
      ]
     },
     "execution_count": 4,
     "metadata": {},
     "output_type": "execute_result"
    }
   ],
   "source": [
    "store.head()"
   ]
  },
  {
   "cell_type": "code",
   "execution_count": 5,
   "metadata": {},
   "outputs": [
    {
     "data": {
      "text/plain": [
       "Index(['STORE_CD', 'LAST_90DAYS_DEPL', 'LAST_180DAYS_DEPL', 'STORE_AREA_SQ_FT',\n",
       "       'STORE_WEEKLY_VOLUME', 'LAST_365DAYS_DEPL', 'INCOME_FEATURE_1',\n",
       "       'INCOME_FEATURE2', 'INCOME_FEATURE3', 'INCOME_FEATURE4',\n",
       "       'INCOME_FEATURE5', 'INCOME_FEATURE6', 'INCOME_FEATURE7',\n",
       "       'INCOME_FEATURE8', 'MALE_POP_1', 'MALE_POP_2', 'MALE_POP_3',\n",
       "       'MALE_POP_4', 'MALE_POP_5', 'MALE_POP_6', 'MALE_POP_7', 'FEMALE_POP_1',\n",
       "       'FEMALE_POP_2', 'FEMALE_POP_3', 'FEMALE_POP_4', 'FEMALE_POP_5',\n",
       "       'FEMALE_POP_6', 'FEMALE_POP_7'],\n",
       "      dtype='object')"
      ]
     },
     "execution_count": 5,
     "metadata": {},
     "output_type": "execute_result"
    }
   ],
   "source": [
    "store.columns"
   ]
  },
  {
   "cell_type": "code",
   "execution_count": 6,
   "metadata": {},
   "outputs": [
    {
     "name": "stdout",
     "output_type": "stream",
     "text": [
      "(214, 3)\n"
     ]
    },
    {
     "data": {
      "text/html": [
       "<div>\n",
       "<style scoped>\n",
       "    .dataframe tbody tr th:only-of-type {\n",
       "        vertical-align: middle;\n",
       "    }\n",
       "\n",
       "    .dataframe tbody tr th {\n",
       "        vertical-align: top;\n",
       "    }\n",
       "\n",
       "    .dataframe thead th {\n",
       "        text-align: right;\n",
       "    }\n",
       "</style>\n",
       "<table border=\"1\" class=\"dataframe\">\n",
       "  <thead>\n",
       "    <tr style=\"text-align: right;\">\n",
       "      <th></th>\n",
       "      <th>STORE_CD</th>\n",
       "      <th>PRODUCT_CODE</th>\n",
       "      <th>LAST_365DAYS_DEPL</th>\n",
       "    </tr>\n",
       "  </thead>\n",
       "  <tbody>\n",
       "    <tr>\n",
       "      <th>0</th>\n",
       "      <td>STORE_A</td>\n",
       "      <td>PRODUCT_1</td>\n",
       "      <td>11.00</td>\n",
       "    </tr>\n",
       "    <tr>\n",
       "      <th>1</th>\n",
       "      <td>STORE_A</td>\n",
       "      <td>PRODUCT_2</td>\n",
       "      <td>8.25</td>\n",
       "    </tr>\n",
       "    <tr>\n",
       "      <th>2</th>\n",
       "      <td>STORE_A</td>\n",
       "      <td>PRODUCT_3</td>\n",
       "      <td>93.00</td>\n",
       "    </tr>\n",
       "    <tr>\n",
       "      <th>3</th>\n",
       "      <td>STORE_A</td>\n",
       "      <td>PRODUCT_4</td>\n",
       "      <td>3.00</td>\n",
       "    </tr>\n",
       "    <tr>\n",
       "      <th>4</th>\n",
       "      <td>STORE_A</td>\n",
       "      <td>PRODUCT_5</td>\n",
       "      <td>29.00</td>\n",
       "    </tr>\n",
       "  </tbody>\n",
       "</table>\n",
       "</div>"
      ],
      "text/plain": [
       "  STORE_CD PRODUCT_CODE  LAST_365DAYS_DEPL\n",
       "0  STORE_A    PRODUCT_1              11.00\n",
       "1  STORE_A    PRODUCT_2               8.25\n",
       "2  STORE_A    PRODUCT_3              93.00\n",
       "3  STORE_A    PRODUCT_4               3.00\n",
       "4  STORE_A    PRODUCT_5              29.00"
      ]
     },
     "execution_count": 6,
     "metadata": {},
     "output_type": "execute_result"
    }
   ],
   "source": [
    "print(sales.shape)\n",
    "sales = sales.rename(columns={'STORE_CODE': 'STORE_CD'})\n",
    "sales.head()"
   ]
  },
  {
   "cell_type": "code",
   "execution_count": 7,
   "metadata": {},
   "outputs": [
    {
     "data": {
      "text/plain": [
       "array(['STORE_A', 'STORE_B', 'STORE_C', 'STORE_I', 'STORE_K', 'STORE_L',\n",
       "       'STORE_M', 'STORE_N', 'STORE_R', 'STORE_S', 'STORE_T'],\n",
       "      dtype=object)"
      ]
     },
     "execution_count": 7,
     "metadata": {},
     "output_type": "execute_result"
    }
   ],
   "source": [
    "sales['STORE_CD'].unique()"
   ]
  },
  {
   "cell_type": "code",
   "execution_count": 8,
   "metadata": {},
   "outputs": [
    {
     "data": {
      "text/plain": [
       "array(['STORE_A', 'STORE_B', 'STORE_C', 'STORE_D', 'STORE_E', 'STORE_F',\n",
       "       'STORE_G', 'STORE_H', 'STORE_I', 'STORE_J', 'STORE_K', 'STORE_L',\n",
       "       'STORE_M', 'STORE_N', 'STORE_O', 'STORE_P', 'STORE_Q', 'STORE_R',\n",
       "       'STORE_S', 'STORE_T'], dtype=object)"
      ]
     },
     "execution_count": 8,
     "metadata": {},
     "output_type": "execute_result"
    }
   ],
   "source": [
    "store['STORE_CD'].unique()"
   ]
  },
  {
   "cell_type": "code",
   "execution_count": 9,
   "metadata": {
    "scrolled": true
   },
   "outputs": [],
   "source": [
    "#sales.groupby('STORE_CD').count()\n",
    "#sales.groupby('STORE_CD').sum()\n",
    "#df=sales.merge(store,how='left',on='STORE_CD')\n",
    "#df.head()"
   ]
  },
  {
   "cell_type": "code",
   "execution_count": null,
   "metadata": {},
   "outputs": [],
   "source": []
  },
  {
   "cell_type": "markdown",
   "metadata": {},
   "source": [
    "# Recommendation system "
   ]
  },
  {
   "cell_type": "markdown",
   "metadata": {},
   "source": [
    "- Store M has only one product product_39 which has last 365 days sales is 0, which create problem in normalization (0/0), so we replace it with very small number "
   ]
  },
  {
   "cell_type": "code",
   "execution_count": 10,
   "metadata": {},
   "outputs": [
    {
     "data": {
      "text/html": [
       "<div>\n",
       "<style scoped>\n",
       "    .dataframe tbody tr th:only-of-type {\n",
       "        vertical-align: middle;\n",
       "    }\n",
       "\n",
       "    .dataframe tbody tr th {\n",
       "        vertical-align: top;\n",
       "    }\n",
       "\n",
       "    .dataframe thead th {\n",
       "        text-align: right;\n",
       "    }\n",
       "</style>\n",
       "<table border=\"1\" class=\"dataframe\">\n",
       "  <thead>\n",
       "    <tr style=\"text-align: right;\">\n",
       "      <th></th>\n",
       "      <th>STORE_CD</th>\n",
       "      <th>PRODUCT_CODE</th>\n",
       "      <th>LAST_365DAYS_DEPL</th>\n",
       "    </tr>\n",
       "  </thead>\n",
       "  <tbody>\n",
       "    <tr>\n",
       "      <th>138</th>\n",
       "      <td>STORE_M</td>\n",
       "      <td>PRODUCT_39</td>\n",
       "      <td>0.0</td>\n",
       "    </tr>\n",
       "  </tbody>\n",
       "</table>\n",
       "</div>"
      ],
      "text/plain": [
       "    STORE_CD PRODUCT_CODE  LAST_365DAYS_DEPL\n",
       "138  STORE_M   PRODUCT_39                0.0"
      ]
     },
     "execution_count": 10,
     "metadata": {},
     "output_type": "execute_result"
    }
   ],
   "source": [
    "sales.loc[sales['PRODUCT_CODE']=='PRODUCT_39']"
   ]
  },
  {
   "cell_type": "code",
   "execution_count": 11,
   "metadata": {},
   "outputs": [
    {
     "data": {
      "text/html": [
       "<div>\n",
       "<style scoped>\n",
       "    .dataframe tbody tr th:only-of-type {\n",
       "        vertical-align: middle;\n",
       "    }\n",
       "\n",
       "    .dataframe tbody tr th {\n",
       "        vertical-align: top;\n",
       "    }\n",
       "\n",
       "    .dataframe thead th {\n",
       "        text-align: right;\n",
       "    }\n",
       "</style>\n",
       "<table border=\"1\" class=\"dataframe\">\n",
       "  <thead>\n",
       "    <tr style=\"text-align: right;\">\n",
       "      <th></th>\n",
       "      <th>STORE_CD</th>\n",
       "      <th>PRODUCT_CODE</th>\n",
       "      <th>LAST_365DAYS_DEPL</th>\n",
       "    </tr>\n",
       "  </thead>\n",
       "  <tbody>\n",
       "    <tr>\n",
       "      <th>138</th>\n",
       "      <td>STORE_M</td>\n",
       "      <td>PRODUCT_39</td>\n",
       "      <td>0.001</td>\n",
       "    </tr>\n",
       "  </tbody>\n",
       "</table>\n",
       "</div>"
      ],
      "text/plain": [
       "    STORE_CD PRODUCT_CODE  LAST_365DAYS_DEPL\n",
       "138  STORE_M   PRODUCT_39              0.001"
      ]
     },
     "execution_count": 11,
     "metadata": {},
     "output_type": "execute_result"
    }
   ],
   "source": [
    "sales1=sales.copy()\n",
    "sales1.loc[sales1['PRODUCT_CODE']=='PRODUCT_39','LAST_365DAYS_DEPL']=0.001\n",
    "sales1.loc[sales1['PRODUCT_CODE']=='PRODUCT_39']"
   ]
  },
  {
   "cell_type": "code",
   "execution_count": 12,
   "metadata": {},
   "outputs": [
    {
     "data": {
      "text/plain": [
       "\"\\n\\n# create dummy values base on condition on columns\\n# create column which represent 1 if there is sales and 0 if there is no sales for perticular product\\ndef create_dummy(row):\\n    if row['LAST_365DAYS_DEPL']==0:\\n        val=0\\n    else:\\n        val=1\\n    return val\\n\\n## apply function to create dummy column\\ndata_dummy=sales1.copy()\\ndata_dummy['sales_dummy'] = data_dummy.apply(create_dummy, axis=1)\\ndata_dummy.head()\\n\\n\""
      ]
     },
     "execution_count": 12,
     "metadata": {},
     "output_type": "execute_result"
    }
   ],
   "source": [
    "'''\n",
    "\n",
    "# create dummy values base on condition on columns\n",
    "# create column which represent 1 if there is sales and 0 if there is no sales for perticular product\n",
    "def create_dummy(row):\n",
    "    if row['LAST_365DAYS_DEPL']==0:\n",
    "        val=0\n",
    "    else:\n",
    "        val=1\n",
    "    return val\n",
    "\n",
    "## apply function to create dummy column\n",
    "data_dummy=sales1.copy()\n",
    "data_dummy['sales_dummy'] = data_dummy.apply(create_dummy, axis=1)\n",
    "data_dummy.head()\n",
    "\n",
    "'''"
   ]
  },
  {
   "cell_type": "code",
   "execution_count": 13,
   "metadata": {},
   "outputs": [
    {
     "data": {
      "text/html": [
       "<div>\n",
       "<style scoped>\n",
       "    .dataframe tbody tr th:only-of-type {\n",
       "        vertical-align: middle;\n",
       "    }\n",
       "\n",
       "    .dataframe tbody tr th {\n",
       "        vertical-align: top;\n",
       "    }\n",
       "\n",
       "    .dataframe thead th {\n",
       "        text-align: right;\n",
       "    }\n",
       "</style>\n",
       "<table border=\"1\" class=\"dataframe\">\n",
       "  <thead>\n",
       "    <tr style=\"text-align: right;\">\n",
       "      <th>PRODUCT_CODE</th>\n",
       "      <th>PRODUCT_1</th>\n",
       "      <th>PRODUCT_10</th>\n",
       "      <th>PRODUCT_11</th>\n",
       "      <th>PRODUCT_12</th>\n",
       "      <th>PRODUCT_13</th>\n",
       "      <th>PRODUCT_14</th>\n",
       "      <th>PRODUCT_15</th>\n",
       "      <th>PRODUCT_16</th>\n",
       "      <th>PRODUCT_17</th>\n",
       "      <th>PRODUCT_18</th>\n",
       "      <th>...</th>\n",
       "      <th>PRODUCT_37</th>\n",
       "      <th>PRODUCT_38</th>\n",
       "      <th>PRODUCT_39</th>\n",
       "      <th>PRODUCT_4</th>\n",
       "      <th>PRODUCT_40</th>\n",
       "      <th>PRODUCT_5</th>\n",
       "      <th>PRODUCT_6</th>\n",
       "      <th>PRODUCT_7</th>\n",
       "      <th>PRODUCT_8</th>\n",
       "      <th>PRODUCT_9</th>\n",
       "    </tr>\n",
       "    <tr>\n",
       "      <th>STORE_CD</th>\n",
       "      <th></th>\n",
       "      <th></th>\n",
       "      <th></th>\n",
       "      <th></th>\n",
       "      <th></th>\n",
       "      <th></th>\n",
       "      <th></th>\n",
       "      <th></th>\n",
       "      <th></th>\n",
       "      <th></th>\n",
       "      <th></th>\n",
       "      <th></th>\n",
       "      <th></th>\n",
       "      <th></th>\n",
       "      <th></th>\n",
       "      <th></th>\n",
       "      <th></th>\n",
       "      <th></th>\n",
       "      <th></th>\n",
       "      <th></th>\n",
       "      <th></th>\n",
       "    </tr>\n",
       "  </thead>\n",
       "  <tbody>\n",
       "    <tr>\n",
       "      <th>STORE_A</th>\n",
       "      <td>11.0</td>\n",
       "      <td>7.0</td>\n",
       "      <td>179.25</td>\n",
       "      <td>0.0</td>\n",
       "      <td>28.0</td>\n",
       "      <td>0.0</td>\n",
       "      <td>136.0</td>\n",
       "      <td>69.0</td>\n",
       "      <td>7.0</td>\n",
       "      <td>53.0</td>\n",
       "      <td>...</td>\n",
       "      <td>0.0</td>\n",
       "      <td>0.0</td>\n",
       "      <td>0.0</td>\n",
       "      <td>3.0</td>\n",
       "      <td>0.0</td>\n",
       "      <td>29.0</td>\n",
       "      <td>7.0</td>\n",
       "      <td>0.0</td>\n",
       "      <td>14.0</td>\n",
       "      <td>6.0</td>\n",
       "    </tr>\n",
       "    <tr>\n",
       "      <th>STORE_B</th>\n",
       "      <td>0.0</td>\n",
       "      <td>1.0</td>\n",
       "      <td>0.00</td>\n",
       "      <td>0.0</td>\n",
       "      <td>28.0</td>\n",
       "      <td>1.0</td>\n",
       "      <td>21.0</td>\n",
       "      <td>1.0</td>\n",
       "      <td>2.0</td>\n",
       "      <td>1.0</td>\n",
       "      <td>...</td>\n",
       "      <td>0.0</td>\n",
       "      <td>0.0</td>\n",
       "      <td>0.0</td>\n",
       "      <td>0.0</td>\n",
       "      <td>0.0</td>\n",
       "      <td>0.0</td>\n",
       "      <td>1.0</td>\n",
       "      <td>7.0</td>\n",
       "      <td>0.0</td>\n",
       "      <td>1.0</td>\n",
       "    </tr>\n",
       "    <tr>\n",
       "      <th>STORE_C</th>\n",
       "      <td>6.0</td>\n",
       "      <td>13.0</td>\n",
       "      <td>0.00</td>\n",
       "      <td>4.0</td>\n",
       "      <td>11.0</td>\n",
       "      <td>2.0</td>\n",
       "      <td>58.0</td>\n",
       "      <td>38.0</td>\n",
       "      <td>1.0</td>\n",
       "      <td>21.0</td>\n",
       "      <td>...</td>\n",
       "      <td>0.0</td>\n",
       "      <td>0.0</td>\n",
       "      <td>0.0</td>\n",
       "      <td>0.0</td>\n",
       "      <td>0.0</td>\n",
       "      <td>9.0</td>\n",
       "      <td>0.0</td>\n",
       "      <td>9.0</td>\n",
       "      <td>8.0</td>\n",
       "      <td>26.0</td>\n",
       "    </tr>\n",
       "    <tr>\n",
       "      <th>STORE_I</th>\n",
       "      <td>10.0</td>\n",
       "      <td>11.0</td>\n",
       "      <td>27.75</td>\n",
       "      <td>8.0</td>\n",
       "      <td>46.0</td>\n",
       "      <td>2.0</td>\n",
       "      <td>158.0</td>\n",
       "      <td>42.0</td>\n",
       "      <td>12.0</td>\n",
       "      <td>62.0</td>\n",
       "      <td>...</td>\n",
       "      <td>0.0</td>\n",
       "      <td>0.0</td>\n",
       "      <td>0.0</td>\n",
       "      <td>0.0</td>\n",
       "      <td>0.0</td>\n",
       "      <td>13.0</td>\n",
       "      <td>12.0</td>\n",
       "      <td>31.0</td>\n",
       "      <td>18.0</td>\n",
       "      <td>15.0</td>\n",
       "    </tr>\n",
       "    <tr>\n",
       "      <th>STORE_K</th>\n",
       "      <td>0.0</td>\n",
       "      <td>0.0</td>\n",
       "      <td>0.00</td>\n",
       "      <td>0.0</td>\n",
       "      <td>0.0</td>\n",
       "      <td>0.0</td>\n",
       "      <td>0.0</td>\n",
       "      <td>0.0</td>\n",
       "      <td>0.0</td>\n",
       "      <td>0.0</td>\n",
       "      <td>...</td>\n",
       "      <td>0.0</td>\n",
       "      <td>0.0</td>\n",
       "      <td>0.0</td>\n",
       "      <td>0.0</td>\n",
       "      <td>0.0</td>\n",
       "      <td>7.0</td>\n",
       "      <td>0.0</td>\n",
       "      <td>0.0</td>\n",
       "      <td>0.0</td>\n",
       "      <td>0.0</td>\n",
       "    </tr>\n",
       "  </tbody>\n",
       "</table>\n",
       "<p>5 rows × 40 columns</p>\n",
       "</div>"
      ],
      "text/plain": [
       "PRODUCT_CODE  PRODUCT_1  PRODUCT_10  PRODUCT_11  PRODUCT_12  PRODUCT_13  \\\n",
       "STORE_CD                                                                  \n",
       "STORE_A            11.0         7.0      179.25         0.0        28.0   \n",
       "STORE_B             0.0         1.0        0.00         0.0        28.0   \n",
       "STORE_C             6.0        13.0        0.00         4.0        11.0   \n",
       "STORE_I            10.0        11.0       27.75         8.0        46.0   \n",
       "STORE_K             0.0         0.0        0.00         0.0         0.0   \n",
       "\n",
       "PRODUCT_CODE  PRODUCT_14  PRODUCT_15  PRODUCT_16  PRODUCT_17  PRODUCT_18  \\\n",
       "STORE_CD                                                                   \n",
       "STORE_A              0.0       136.0        69.0         7.0        53.0   \n",
       "STORE_B              1.0        21.0         1.0         2.0         1.0   \n",
       "STORE_C              2.0        58.0        38.0         1.0        21.0   \n",
       "STORE_I              2.0       158.0        42.0        12.0        62.0   \n",
       "STORE_K              0.0         0.0         0.0         0.0         0.0   \n",
       "\n",
       "PRODUCT_CODE    ...      PRODUCT_37  PRODUCT_38  PRODUCT_39  PRODUCT_4  \\\n",
       "STORE_CD        ...                                                      \n",
       "STORE_A         ...             0.0         0.0         0.0        3.0   \n",
       "STORE_B         ...             0.0         0.0         0.0        0.0   \n",
       "STORE_C         ...             0.0         0.0         0.0        0.0   \n",
       "STORE_I         ...             0.0         0.0         0.0        0.0   \n",
       "STORE_K         ...             0.0         0.0         0.0        0.0   \n",
       "\n",
       "PRODUCT_CODE  PRODUCT_40  PRODUCT_5  PRODUCT_6  PRODUCT_7  PRODUCT_8  \\\n",
       "STORE_CD                                                               \n",
       "STORE_A              0.0       29.0        7.0        0.0       14.0   \n",
       "STORE_B              0.0        0.0        1.0        7.0        0.0   \n",
       "STORE_C              0.0        9.0        0.0        9.0        8.0   \n",
       "STORE_I              0.0       13.0       12.0       31.0       18.0   \n",
       "STORE_K              0.0        7.0        0.0        0.0        0.0   \n",
       "\n",
       "PRODUCT_CODE  PRODUCT_9  \n",
       "STORE_CD                 \n",
       "STORE_A             6.0  \n",
       "STORE_B             1.0  \n",
       "STORE_C            26.0  \n",
       "STORE_I            15.0  \n",
       "STORE_K             0.0  \n",
       "\n",
       "[5 rows x 40 columns]"
      ]
     },
     "execution_count": 13,
     "metadata": {},
     "output_type": "execute_result"
    }
   ],
   "source": [
    "# create pivot table ofr sales data\n",
    "df_matrix = pd.pivot_table(sales1, values='LAST_365DAYS_DEPL', index='STORE_CD', columns='PRODUCT_CODE')\n",
    "# replace NAN with 0\n",
    "df_matrix=df_matrix.fillna(0)\n",
    "df_matrix.head()\n"
   ]
  },
  {
   "cell_type": "code",
   "execution_count": 14,
   "metadata": {},
   "outputs": [
    {
     "data": {
      "text/html": [
       "<div>\n",
       "<style scoped>\n",
       "    .dataframe tbody tr th:only-of-type {\n",
       "        vertical-align: middle;\n",
       "    }\n",
       "\n",
       "    .dataframe tbody tr th {\n",
       "        vertical-align: top;\n",
       "    }\n",
       "\n",
       "    .dataframe thead th {\n",
       "        text-align: right;\n",
       "    }\n",
       "</style>\n",
       "<table border=\"1\" class=\"dataframe\">\n",
       "  <thead>\n",
       "    <tr style=\"text-align: right;\">\n",
       "      <th>PRODUCT_CODE</th>\n",
       "      <th>PRODUCT_1</th>\n",
       "      <th>PRODUCT_10</th>\n",
       "      <th>PRODUCT_11</th>\n",
       "      <th>PRODUCT_12</th>\n",
       "      <th>PRODUCT_13</th>\n",
       "      <th>PRODUCT_14</th>\n",
       "      <th>PRODUCT_15</th>\n",
       "      <th>PRODUCT_16</th>\n",
       "      <th>PRODUCT_17</th>\n",
       "      <th>PRODUCT_18</th>\n",
       "      <th>...</th>\n",
       "      <th>PRODUCT_37</th>\n",
       "      <th>PRODUCT_38</th>\n",
       "      <th>PRODUCT_39</th>\n",
       "      <th>PRODUCT_4</th>\n",
       "      <th>PRODUCT_40</th>\n",
       "      <th>PRODUCT_5</th>\n",
       "      <th>PRODUCT_6</th>\n",
       "      <th>PRODUCT_7</th>\n",
       "      <th>PRODUCT_8</th>\n",
       "      <th>PRODUCT_9</th>\n",
       "    </tr>\n",
       "    <tr>\n",
       "      <th>STORE_CD</th>\n",
       "      <th></th>\n",
       "      <th></th>\n",
       "      <th></th>\n",
       "      <th></th>\n",
       "      <th></th>\n",
       "      <th></th>\n",
       "      <th></th>\n",
       "      <th></th>\n",
       "      <th></th>\n",
       "      <th></th>\n",
       "      <th></th>\n",
       "      <th></th>\n",
       "      <th></th>\n",
       "      <th></th>\n",
       "      <th></th>\n",
       "      <th></th>\n",
       "      <th></th>\n",
       "      <th></th>\n",
       "      <th></th>\n",
       "      <th></th>\n",
       "      <th></th>\n",
       "    </tr>\n",
       "  </thead>\n",
       "  <tbody>\n",
       "    <tr>\n",
       "      <th>STORE_A</th>\n",
       "      <td>11.0</td>\n",
       "      <td>7.0</td>\n",
       "      <td>179.25</td>\n",
       "      <td>0.0</td>\n",
       "      <td>28.0</td>\n",
       "      <td>0.0</td>\n",
       "      <td>136.0</td>\n",
       "      <td>69.0</td>\n",
       "      <td>7.0</td>\n",
       "      <td>53.0</td>\n",
       "      <td>...</td>\n",
       "      <td>0.0000</td>\n",
       "      <td>0.0000</td>\n",
       "      <td>0.000</td>\n",
       "      <td>3.0</td>\n",
       "      <td>0.0</td>\n",
       "      <td>29.0</td>\n",
       "      <td>7.0</td>\n",
       "      <td>0.0</td>\n",
       "      <td>14.0</td>\n",
       "      <td>6.0</td>\n",
       "    </tr>\n",
       "    <tr>\n",
       "      <th>STORE_B</th>\n",
       "      <td>0.0</td>\n",
       "      <td>1.0</td>\n",
       "      <td>0.00</td>\n",
       "      <td>0.0</td>\n",
       "      <td>28.0</td>\n",
       "      <td>1.0</td>\n",
       "      <td>21.0</td>\n",
       "      <td>1.0</td>\n",
       "      <td>2.0</td>\n",
       "      <td>1.0</td>\n",
       "      <td>...</td>\n",
       "      <td>0.0000</td>\n",
       "      <td>0.0000</td>\n",
       "      <td>0.000</td>\n",
       "      <td>0.0</td>\n",
       "      <td>0.0</td>\n",
       "      <td>0.0</td>\n",
       "      <td>1.0</td>\n",
       "      <td>7.0</td>\n",
       "      <td>0.0</td>\n",
       "      <td>1.0</td>\n",
       "    </tr>\n",
       "    <tr>\n",
       "      <th>STORE_C</th>\n",
       "      <td>6.0</td>\n",
       "      <td>13.0</td>\n",
       "      <td>0.00</td>\n",
       "      <td>4.0</td>\n",
       "      <td>11.0</td>\n",
       "      <td>2.0</td>\n",
       "      <td>58.0</td>\n",
       "      <td>38.0</td>\n",
       "      <td>1.0</td>\n",
       "      <td>21.0</td>\n",
       "      <td>...</td>\n",
       "      <td>0.0000</td>\n",
       "      <td>0.0000</td>\n",
       "      <td>0.000</td>\n",
       "      <td>0.0</td>\n",
       "      <td>0.0</td>\n",
       "      <td>9.0</td>\n",
       "      <td>0.0</td>\n",
       "      <td>9.0</td>\n",
       "      <td>8.0</td>\n",
       "      <td>26.0</td>\n",
       "    </tr>\n",
       "    <tr>\n",
       "      <th>STORE_I</th>\n",
       "      <td>10.0</td>\n",
       "      <td>11.0</td>\n",
       "      <td>27.75</td>\n",
       "      <td>8.0</td>\n",
       "      <td>46.0</td>\n",
       "      <td>2.0</td>\n",
       "      <td>158.0</td>\n",
       "      <td>42.0</td>\n",
       "      <td>12.0</td>\n",
       "      <td>62.0</td>\n",
       "      <td>...</td>\n",
       "      <td>0.0000</td>\n",
       "      <td>0.0000</td>\n",
       "      <td>0.000</td>\n",
       "      <td>0.0</td>\n",
       "      <td>0.0</td>\n",
       "      <td>13.0</td>\n",
       "      <td>12.0</td>\n",
       "      <td>31.0</td>\n",
       "      <td>18.0</td>\n",
       "      <td>15.0</td>\n",
       "    </tr>\n",
       "    <tr>\n",
       "      <th>STORE_K</th>\n",
       "      <td>0.0</td>\n",
       "      <td>0.0</td>\n",
       "      <td>0.00</td>\n",
       "      <td>0.0</td>\n",
       "      <td>0.0</td>\n",
       "      <td>0.0</td>\n",
       "      <td>0.0</td>\n",
       "      <td>0.0</td>\n",
       "      <td>0.0</td>\n",
       "      <td>0.0</td>\n",
       "      <td>...</td>\n",
       "      <td>0.0000</td>\n",
       "      <td>0.0000</td>\n",
       "      <td>0.000</td>\n",
       "      <td>0.0</td>\n",
       "      <td>0.0</td>\n",
       "      <td>7.0</td>\n",
       "      <td>0.0</td>\n",
       "      <td>0.0</td>\n",
       "      <td>0.0</td>\n",
       "      <td>0.0</td>\n",
       "    </tr>\n",
       "    <tr>\n",
       "      <th>STORE_L</th>\n",
       "      <td>0.0</td>\n",
       "      <td>0.0</td>\n",
       "      <td>0.00</td>\n",
       "      <td>0.0</td>\n",
       "      <td>0.0</td>\n",
       "      <td>0.0</td>\n",
       "      <td>0.0</td>\n",
       "      <td>0.0</td>\n",
       "      <td>0.0</td>\n",
       "      <td>0.0</td>\n",
       "      <td>...</td>\n",
       "      <td>0.0000</td>\n",
       "      <td>0.0000</td>\n",
       "      <td>0.000</td>\n",
       "      <td>0.0</td>\n",
       "      <td>0.0</td>\n",
       "      <td>0.0</td>\n",
       "      <td>0.0</td>\n",
       "      <td>0.0</td>\n",
       "      <td>0.0</td>\n",
       "      <td>0.0</td>\n",
       "    </tr>\n",
       "    <tr>\n",
       "      <th>STORE_M</th>\n",
       "      <td>4.0</td>\n",
       "      <td>87.0</td>\n",
       "      <td>574.50</td>\n",
       "      <td>0.0</td>\n",
       "      <td>142.0</td>\n",
       "      <td>0.0</td>\n",
       "      <td>148.0</td>\n",
       "      <td>1.0</td>\n",
       "      <td>14.0</td>\n",
       "      <td>122.0</td>\n",
       "      <td>...</td>\n",
       "      <td>0.5833</td>\n",
       "      <td>22.7492</td>\n",
       "      <td>0.001</td>\n",
       "      <td>0.0</td>\n",
       "      <td>0.0</td>\n",
       "      <td>76.0</td>\n",
       "      <td>0.0</td>\n",
       "      <td>68.0</td>\n",
       "      <td>48.0</td>\n",
       "      <td>70.0</td>\n",
       "    </tr>\n",
       "    <tr>\n",
       "      <th>STORE_N</th>\n",
       "      <td>0.0</td>\n",
       "      <td>0.0</td>\n",
       "      <td>0.00</td>\n",
       "      <td>2.0</td>\n",
       "      <td>68.0</td>\n",
       "      <td>0.0</td>\n",
       "      <td>112.0</td>\n",
       "      <td>0.0</td>\n",
       "      <td>5.0</td>\n",
       "      <td>15.0</td>\n",
       "      <td>...</td>\n",
       "      <td>0.0000</td>\n",
       "      <td>0.0000</td>\n",
       "      <td>0.000</td>\n",
       "      <td>0.0</td>\n",
       "      <td>1.0</td>\n",
       "      <td>30.0</td>\n",
       "      <td>0.0</td>\n",
       "      <td>19.0</td>\n",
       "      <td>18.0</td>\n",
       "      <td>0.0</td>\n",
       "    </tr>\n",
       "    <tr>\n",
       "      <th>STORE_R</th>\n",
       "      <td>0.0</td>\n",
       "      <td>0.0</td>\n",
       "      <td>0.00</td>\n",
       "      <td>0.0</td>\n",
       "      <td>1.0</td>\n",
       "      <td>0.0</td>\n",
       "      <td>5.0</td>\n",
       "      <td>1.0</td>\n",
       "      <td>1.0</td>\n",
       "      <td>0.0</td>\n",
       "      <td>...</td>\n",
       "      <td>0.0000</td>\n",
       "      <td>0.0000</td>\n",
       "      <td>0.000</td>\n",
       "      <td>0.0</td>\n",
       "      <td>0.0</td>\n",
       "      <td>0.0</td>\n",
       "      <td>0.0</td>\n",
       "      <td>11.0</td>\n",
       "      <td>0.0</td>\n",
       "      <td>0.0</td>\n",
       "    </tr>\n",
       "    <tr>\n",
       "      <th>STORE_S</th>\n",
       "      <td>0.0</td>\n",
       "      <td>0.0</td>\n",
       "      <td>0.00</td>\n",
       "      <td>0.0</td>\n",
       "      <td>0.0</td>\n",
       "      <td>0.0</td>\n",
       "      <td>0.0</td>\n",
       "      <td>0.0</td>\n",
       "      <td>19.0</td>\n",
       "      <td>17.0</td>\n",
       "      <td>...</td>\n",
       "      <td>0.0000</td>\n",
       "      <td>0.0000</td>\n",
       "      <td>0.000</td>\n",
       "      <td>0.0</td>\n",
       "      <td>0.0</td>\n",
       "      <td>0.0</td>\n",
       "      <td>0.0</td>\n",
       "      <td>46.0</td>\n",
       "      <td>0.0</td>\n",
       "      <td>10.0</td>\n",
       "    </tr>\n",
       "    <tr>\n",
       "      <th>STORE_T</th>\n",
       "      <td>0.0</td>\n",
       "      <td>0.0</td>\n",
       "      <td>0.00</td>\n",
       "      <td>0.0</td>\n",
       "      <td>0.0</td>\n",
       "      <td>0.0</td>\n",
       "      <td>0.0</td>\n",
       "      <td>0.0</td>\n",
       "      <td>0.0</td>\n",
       "      <td>0.0</td>\n",
       "      <td>...</td>\n",
       "      <td>0.0000</td>\n",
       "      <td>0.0000</td>\n",
       "      <td>0.000</td>\n",
       "      <td>0.0</td>\n",
       "      <td>0.0</td>\n",
       "      <td>0.0</td>\n",
       "      <td>0.0</td>\n",
       "      <td>12.0</td>\n",
       "      <td>0.0</td>\n",
       "      <td>0.0</td>\n",
       "    </tr>\n",
       "  </tbody>\n",
       "</table>\n",
       "<p>11 rows × 40 columns</p>\n",
       "</div>"
      ],
      "text/plain": [
       "PRODUCT_CODE  PRODUCT_1  PRODUCT_10  PRODUCT_11  PRODUCT_12  PRODUCT_13  \\\n",
       "STORE_CD                                                                  \n",
       "STORE_A            11.0         7.0      179.25         0.0        28.0   \n",
       "STORE_B             0.0         1.0        0.00         0.0        28.0   \n",
       "STORE_C             6.0        13.0        0.00         4.0        11.0   \n",
       "STORE_I            10.0        11.0       27.75         8.0        46.0   \n",
       "STORE_K             0.0         0.0        0.00         0.0         0.0   \n",
       "STORE_L             0.0         0.0        0.00         0.0         0.0   \n",
       "STORE_M             4.0        87.0      574.50         0.0       142.0   \n",
       "STORE_N             0.0         0.0        0.00         2.0        68.0   \n",
       "STORE_R             0.0         0.0        0.00         0.0         1.0   \n",
       "STORE_S             0.0         0.0        0.00         0.0         0.0   \n",
       "STORE_T             0.0         0.0        0.00         0.0         0.0   \n",
       "\n",
       "PRODUCT_CODE  PRODUCT_14  PRODUCT_15  PRODUCT_16  PRODUCT_17  PRODUCT_18  \\\n",
       "STORE_CD                                                                   \n",
       "STORE_A              0.0       136.0        69.0         7.0        53.0   \n",
       "STORE_B              1.0        21.0         1.0         2.0         1.0   \n",
       "STORE_C              2.0        58.0        38.0         1.0        21.0   \n",
       "STORE_I              2.0       158.0        42.0        12.0        62.0   \n",
       "STORE_K              0.0         0.0         0.0         0.0         0.0   \n",
       "STORE_L              0.0         0.0         0.0         0.0         0.0   \n",
       "STORE_M              0.0       148.0         1.0        14.0       122.0   \n",
       "STORE_N              0.0       112.0         0.0         5.0        15.0   \n",
       "STORE_R              0.0         5.0         1.0         1.0         0.0   \n",
       "STORE_S              0.0         0.0         0.0        19.0        17.0   \n",
       "STORE_T              0.0         0.0         0.0         0.0         0.0   \n",
       "\n",
       "PRODUCT_CODE    ...      PRODUCT_37  PRODUCT_38  PRODUCT_39  PRODUCT_4  \\\n",
       "STORE_CD        ...                                                      \n",
       "STORE_A         ...          0.0000      0.0000       0.000        3.0   \n",
       "STORE_B         ...          0.0000      0.0000       0.000        0.0   \n",
       "STORE_C         ...          0.0000      0.0000       0.000        0.0   \n",
       "STORE_I         ...          0.0000      0.0000       0.000        0.0   \n",
       "STORE_K         ...          0.0000      0.0000       0.000        0.0   \n",
       "STORE_L         ...          0.0000      0.0000       0.000        0.0   \n",
       "STORE_M         ...          0.5833     22.7492       0.001        0.0   \n",
       "STORE_N         ...          0.0000      0.0000       0.000        0.0   \n",
       "STORE_R         ...          0.0000      0.0000       0.000        0.0   \n",
       "STORE_S         ...          0.0000      0.0000       0.000        0.0   \n",
       "STORE_T         ...          0.0000      0.0000       0.000        0.0   \n",
       "\n",
       "PRODUCT_CODE  PRODUCT_40  PRODUCT_5  PRODUCT_6  PRODUCT_7  PRODUCT_8  \\\n",
       "STORE_CD                                                               \n",
       "STORE_A              0.0       29.0        7.0        0.0       14.0   \n",
       "STORE_B              0.0        0.0        1.0        7.0        0.0   \n",
       "STORE_C              0.0        9.0        0.0        9.0        8.0   \n",
       "STORE_I              0.0       13.0       12.0       31.0       18.0   \n",
       "STORE_K              0.0        7.0        0.0        0.0        0.0   \n",
       "STORE_L              0.0        0.0        0.0        0.0        0.0   \n",
       "STORE_M              0.0       76.0        0.0       68.0       48.0   \n",
       "STORE_N              1.0       30.0        0.0       19.0       18.0   \n",
       "STORE_R              0.0        0.0        0.0       11.0        0.0   \n",
       "STORE_S              0.0        0.0        0.0       46.0        0.0   \n",
       "STORE_T              0.0        0.0        0.0       12.0        0.0   \n",
       "\n",
       "PRODUCT_CODE  PRODUCT_9  \n",
       "STORE_CD                 \n",
       "STORE_A             6.0  \n",
       "STORE_B             1.0  \n",
       "STORE_C            26.0  \n",
       "STORE_I            15.0  \n",
       "STORE_K             0.0  \n",
       "STORE_L             0.0  \n",
       "STORE_M            70.0  \n",
       "STORE_N             0.0  \n",
       "STORE_R             0.0  \n",
       "STORE_S            10.0  \n",
       "STORE_T             0.0  \n",
       "\n",
       "[11 rows x 40 columns]"
      ]
     },
     "execution_count": 14,
     "metadata": {},
     "output_type": "execute_result"
    }
   ],
   "source": [
    "# replace NAN with 0\n",
    "df_matrix=df_matrix.fillna(0)\n",
    "df_matrix"
   ]
  },
  {
   "cell_type": "markdown",
   "metadata": {},
   "source": [
    "### Normalization of sales values\n",
    "\n",
    "- normalization happens across the product values ( column wise )\n",
    "- In this step, we have normalized the the product, from 0–1 (1 represent the maximum value of the product and 0 is the minimum value of the product)"
   ]
  },
  {
   "cell_type": "code",
   "execution_count": 15,
   "metadata": {},
   "outputs": [
    {
     "data": {
      "text/html": [
       "<div>\n",
       "<style scoped>\n",
       "    .dataframe tbody tr th:only-of-type {\n",
       "        vertical-align: middle;\n",
       "    }\n",
       "\n",
       "    .dataframe tbody tr th {\n",
       "        vertical-align: top;\n",
       "    }\n",
       "\n",
       "    .dataframe thead th {\n",
       "        text-align: right;\n",
       "    }\n",
       "</style>\n",
       "<table border=\"1\" class=\"dataframe\">\n",
       "  <thead>\n",
       "    <tr style=\"text-align: right;\">\n",
       "      <th>PRODUCT_CODE</th>\n",
       "      <th>PRODUCT_1</th>\n",
       "      <th>PRODUCT_10</th>\n",
       "      <th>PRODUCT_11</th>\n",
       "      <th>PRODUCT_12</th>\n",
       "      <th>PRODUCT_13</th>\n",
       "      <th>PRODUCT_14</th>\n",
       "      <th>PRODUCT_15</th>\n",
       "      <th>PRODUCT_16</th>\n",
       "      <th>PRODUCT_17</th>\n",
       "      <th>PRODUCT_18</th>\n",
       "      <th>...</th>\n",
       "      <th>PRODUCT_37</th>\n",
       "      <th>PRODUCT_38</th>\n",
       "      <th>PRODUCT_39</th>\n",
       "      <th>PRODUCT_4</th>\n",
       "      <th>PRODUCT_40</th>\n",
       "      <th>PRODUCT_5</th>\n",
       "      <th>PRODUCT_6</th>\n",
       "      <th>PRODUCT_7</th>\n",
       "      <th>PRODUCT_8</th>\n",
       "      <th>PRODUCT_9</th>\n",
       "    </tr>\n",
       "    <tr>\n",
       "      <th>STORE_CD</th>\n",
       "      <th></th>\n",
       "      <th></th>\n",
       "      <th></th>\n",
       "      <th></th>\n",
       "      <th></th>\n",
       "      <th></th>\n",
       "      <th></th>\n",
       "      <th></th>\n",
       "      <th></th>\n",
       "      <th></th>\n",
       "      <th></th>\n",
       "      <th></th>\n",
       "      <th></th>\n",
       "      <th></th>\n",
       "      <th></th>\n",
       "      <th></th>\n",
       "      <th></th>\n",
       "      <th></th>\n",
       "      <th></th>\n",
       "      <th></th>\n",
       "      <th></th>\n",
       "    </tr>\n",
       "  </thead>\n",
       "  <tbody>\n",
       "    <tr>\n",
       "      <th>STORE_A</th>\n",
       "      <td>1.000000</td>\n",
       "      <td>0.080460</td>\n",
       "      <td>0.312010</td>\n",
       "      <td>0.00</td>\n",
       "      <td>0.197183</td>\n",
       "      <td>0.0</td>\n",
       "      <td>0.860759</td>\n",
       "      <td>1.000000</td>\n",
       "      <td>0.368421</td>\n",
       "      <td>0.434426</td>\n",
       "      <td>...</td>\n",
       "      <td>0.0</td>\n",
       "      <td>0.0</td>\n",
       "      <td>0.0</td>\n",
       "      <td>1.0</td>\n",
       "      <td>0.0</td>\n",
       "      <td>0.381579</td>\n",
       "      <td>0.583333</td>\n",
       "      <td>0.000000</td>\n",
       "      <td>0.291667</td>\n",
       "      <td>0.085714</td>\n",
       "    </tr>\n",
       "    <tr>\n",
       "      <th>STORE_B</th>\n",
       "      <td>0.000000</td>\n",
       "      <td>0.011494</td>\n",
       "      <td>0.000000</td>\n",
       "      <td>0.00</td>\n",
       "      <td>0.197183</td>\n",
       "      <td>0.5</td>\n",
       "      <td>0.132911</td>\n",
       "      <td>0.014493</td>\n",
       "      <td>0.105263</td>\n",
       "      <td>0.008197</td>\n",
       "      <td>...</td>\n",
       "      <td>0.0</td>\n",
       "      <td>0.0</td>\n",
       "      <td>0.0</td>\n",
       "      <td>0.0</td>\n",
       "      <td>0.0</td>\n",
       "      <td>0.000000</td>\n",
       "      <td>0.083333</td>\n",
       "      <td>0.102941</td>\n",
       "      <td>0.000000</td>\n",
       "      <td>0.014286</td>\n",
       "    </tr>\n",
       "    <tr>\n",
       "      <th>STORE_C</th>\n",
       "      <td>0.545455</td>\n",
       "      <td>0.149425</td>\n",
       "      <td>0.000000</td>\n",
       "      <td>0.50</td>\n",
       "      <td>0.077465</td>\n",
       "      <td>1.0</td>\n",
       "      <td>0.367089</td>\n",
       "      <td>0.550725</td>\n",
       "      <td>0.052632</td>\n",
       "      <td>0.172131</td>\n",
       "      <td>...</td>\n",
       "      <td>0.0</td>\n",
       "      <td>0.0</td>\n",
       "      <td>0.0</td>\n",
       "      <td>0.0</td>\n",
       "      <td>0.0</td>\n",
       "      <td>0.118421</td>\n",
       "      <td>0.000000</td>\n",
       "      <td>0.132353</td>\n",
       "      <td>0.166667</td>\n",
       "      <td>0.371429</td>\n",
       "    </tr>\n",
       "    <tr>\n",
       "      <th>STORE_I</th>\n",
       "      <td>0.909091</td>\n",
       "      <td>0.126437</td>\n",
       "      <td>0.048303</td>\n",
       "      <td>1.00</td>\n",
       "      <td>0.323944</td>\n",
       "      <td>1.0</td>\n",
       "      <td>1.000000</td>\n",
       "      <td>0.608696</td>\n",
       "      <td>0.631579</td>\n",
       "      <td>0.508197</td>\n",
       "      <td>...</td>\n",
       "      <td>0.0</td>\n",
       "      <td>0.0</td>\n",
       "      <td>0.0</td>\n",
       "      <td>0.0</td>\n",
       "      <td>0.0</td>\n",
       "      <td>0.171053</td>\n",
       "      <td>1.000000</td>\n",
       "      <td>0.455882</td>\n",
       "      <td>0.375000</td>\n",
       "      <td>0.214286</td>\n",
       "    </tr>\n",
       "    <tr>\n",
       "      <th>STORE_K</th>\n",
       "      <td>0.000000</td>\n",
       "      <td>0.000000</td>\n",
       "      <td>0.000000</td>\n",
       "      <td>0.00</td>\n",
       "      <td>0.000000</td>\n",
       "      <td>0.0</td>\n",
       "      <td>0.000000</td>\n",
       "      <td>0.000000</td>\n",
       "      <td>0.000000</td>\n",
       "      <td>0.000000</td>\n",
       "      <td>...</td>\n",
       "      <td>0.0</td>\n",
       "      <td>0.0</td>\n",
       "      <td>0.0</td>\n",
       "      <td>0.0</td>\n",
       "      <td>0.0</td>\n",
       "      <td>0.092105</td>\n",
       "      <td>0.000000</td>\n",
       "      <td>0.000000</td>\n",
       "      <td>0.000000</td>\n",
       "      <td>0.000000</td>\n",
       "    </tr>\n",
       "    <tr>\n",
       "      <th>STORE_L</th>\n",
       "      <td>0.000000</td>\n",
       "      <td>0.000000</td>\n",
       "      <td>0.000000</td>\n",
       "      <td>0.00</td>\n",
       "      <td>0.000000</td>\n",
       "      <td>0.0</td>\n",
       "      <td>0.000000</td>\n",
       "      <td>0.000000</td>\n",
       "      <td>0.000000</td>\n",
       "      <td>0.000000</td>\n",
       "      <td>...</td>\n",
       "      <td>0.0</td>\n",
       "      <td>0.0</td>\n",
       "      <td>0.0</td>\n",
       "      <td>0.0</td>\n",
       "      <td>0.0</td>\n",
       "      <td>0.000000</td>\n",
       "      <td>0.000000</td>\n",
       "      <td>0.000000</td>\n",
       "      <td>0.000000</td>\n",
       "      <td>0.000000</td>\n",
       "    </tr>\n",
       "    <tr>\n",
       "      <th>STORE_M</th>\n",
       "      <td>0.363636</td>\n",
       "      <td>1.000000</td>\n",
       "      <td>1.000000</td>\n",
       "      <td>0.00</td>\n",
       "      <td>1.000000</td>\n",
       "      <td>0.0</td>\n",
       "      <td>0.936709</td>\n",
       "      <td>0.014493</td>\n",
       "      <td>0.736842</td>\n",
       "      <td>1.000000</td>\n",
       "      <td>...</td>\n",
       "      <td>1.0</td>\n",
       "      <td>1.0</td>\n",
       "      <td>1.0</td>\n",
       "      <td>0.0</td>\n",
       "      <td>0.0</td>\n",
       "      <td>1.000000</td>\n",
       "      <td>0.000000</td>\n",
       "      <td>1.000000</td>\n",
       "      <td>1.000000</td>\n",
       "      <td>1.000000</td>\n",
       "    </tr>\n",
       "    <tr>\n",
       "      <th>STORE_N</th>\n",
       "      <td>0.000000</td>\n",
       "      <td>0.000000</td>\n",
       "      <td>0.000000</td>\n",
       "      <td>0.25</td>\n",
       "      <td>0.478873</td>\n",
       "      <td>0.0</td>\n",
       "      <td>0.708861</td>\n",
       "      <td>0.000000</td>\n",
       "      <td>0.263158</td>\n",
       "      <td>0.122951</td>\n",
       "      <td>...</td>\n",
       "      <td>0.0</td>\n",
       "      <td>0.0</td>\n",
       "      <td>0.0</td>\n",
       "      <td>0.0</td>\n",
       "      <td>1.0</td>\n",
       "      <td>0.394737</td>\n",
       "      <td>0.000000</td>\n",
       "      <td>0.279412</td>\n",
       "      <td>0.375000</td>\n",
       "      <td>0.000000</td>\n",
       "    </tr>\n",
       "    <tr>\n",
       "      <th>STORE_R</th>\n",
       "      <td>0.000000</td>\n",
       "      <td>0.000000</td>\n",
       "      <td>0.000000</td>\n",
       "      <td>0.00</td>\n",
       "      <td>0.007042</td>\n",
       "      <td>0.0</td>\n",
       "      <td>0.031646</td>\n",
       "      <td>0.014493</td>\n",
       "      <td>0.052632</td>\n",
       "      <td>0.000000</td>\n",
       "      <td>...</td>\n",
       "      <td>0.0</td>\n",
       "      <td>0.0</td>\n",
       "      <td>0.0</td>\n",
       "      <td>0.0</td>\n",
       "      <td>0.0</td>\n",
       "      <td>0.000000</td>\n",
       "      <td>0.000000</td>\n",
       "      <td>0.161765</td>\n",
       "      <td>0.000000</td>\n",
       "      <td>0.000000</td>\n",
       "    </tr>\n",
       "    <tr>\n",
       "      <th>STORE_S</th>\n",
       "      <td>0.000000</td>\n",
       "      <td>0.000000</td>\n",
       "      <td>0.000000</td>\n",
       "      <td>0.00</td>\n",
       "      <td>0.000000</td>\n",
       "      <td>0.0</td>\n",
       "      <td>0.000000</td>\n",
       "      <td>0.000000</td>\n",
       "      <td>1.000000</td>\n",
       "      <td>0.139344</td>\n",
       "      <td>...</td>\n",
       "      <td>0.0</td>\n",
       "      <td>0.0</td>\n",
       "      <td>0.0</td>\n",
       "      <td>0.0</td>\n",
       "      <td>0.0</td>\n",
       "      <td>0.000000</td>\n",
       "      <td>0.000000</td>\n",
       "      <td>0.676471</td>\n",
       "      <td>0.000000</td>\n",
       "      <td>0.142857</td>\n",
       "    </tr>\n",
       "    <tr>\n",
       "      <th>STORE_T</th>\n",
       "      <td>0.000000</td>\n",
       "      <td>0.000000</td>\n",
       "      <td>0.000000</td>\n",
       "      <td>0.00</td>\n",
       "      <td>0.000000</td>\n",
       "      <td>0.0</td>\n",
       "      <td>0.000000</td>\n",
       "      <td>0.000000</td>\n",
       "      <td>0.000000</td>\n",
       "      <td>0.000000</td>\n",
       "      <td>...</td>\n",
       "      <td>0.0</td>\n",
       "      <td>0.0</td>\n",
       "      <td>0.0</td>\n",
       "      <td>0.0</td>\n",
       "      <td>0.0</td>\n",
       "      <td>0.000000</td>\n",
       "      <td>0.000000</td>\n",
       "      <td>0.176471</td>\n",
       "      <td>0.000000</td>\n",
       "      <td>0.000000</td>\n",
       "    </tr>\n",
       "  </tbody>\n",
       "</table>\n",
       "<p>11 rows × 40 columns</p>\n",
       "</div>"
      ],
      "text/plain": [
       "PRODUCT_CODE  PRODUCT_1  PRODUCT_10  PRODUCT_11  PRODUCT_12  PRODUCT_13  \\\n",
       "STORE_CD                                                                  \n",
       "STORE_A        1.000000    0.080460    0.312010        0.00    0.197183   \n",
       "STORE_B        0.000000    0.011494    0.000000        0.00    0.197183   \n",
       "STORE_C        0.545455    0.149425    0.000000        0.50    0.077465   \n",
       "STORE_I        0.909091    0.126437    0.048303        1.00    0.323944   \n",
       "STORE_K        0.000000    0.000000    0.000000        0.00    0.000000   \n",
       "STORE_L        0.000000    0.000000    0.000000        0.00    0.000000   \n",
       "STORE_M        0.363636    1.000000    1.000000        0.00    1.000000   \n",
       "STORE_N        0.000000    0.000000    0.000000        0.25    0.478873   \n",
       "STORE_R        0.000000    0.000000    0.000000        0.00    0.007042   \n",
       "STORE_S        0.000000    0.000000    0.000000        0.00    0.000000   \n",
       "STORE_T        0.000000    0.000000    0.000000        0.00    0.000000   \n",
       "\n",
       "PRODUCT_CODE  PRODUCT_14  PRODUCT_15  PRODUCT_16  PRODUCT_17  PRODUCT_18  \\\n",
       "STORE_CD                                                                   \n",
       "STORE_A              0.0    0.860759    1.000000    0.368421    0.434426   \n",
       "STORE_B              0.5    0.132911    0.014493    0.105263    0.008197   \n",
       "STORE_C              1.0    0.367089    0.550725    0.052632    0.172131   \n",
       "STORE_I              1.0    1.000000    0.608696    0.631579    0.508197   \n",
       "STORE_K              0.0    0.000000    0.000000    0.000000    0.000000   \n",
       "STORE_L              0.0    0.000000    0.000000    0.000000    0.000000   \n",
       "STORE_M              0.0    0.936709    0.014493    0.736842    1.000000   \n",
       "STORE_N              0.0    0.708861    0.000000    0.263158    0.122951   \n",
       "STORE_R              0.0    0.031646    0.014493    0.052632    0.000000   \n",
       "STORE_S              0.0    0.000000    0.000000    1.000000    0.139344   \n",
       "STORE_T              0.0    0.000000    0.000000    0.000000    0.000000   \n",
       "\n",
       "PRODUCT_CODE    ...      PRODUCT_37  PRODUCT_38  PRODUCT_39  PRODUCT_4  \\\n",
       "STORE_CD        ...                                                      \n",
       "STORE_A         ...             0.0         0.0         0.0        1.0   \n",
       "STORE_B         ...             0.0         0.0         0.0        0.0   \n",
       "STORE_C         ...             0.0         0.0         0.0        0.0   \n",
       "STORE_I         ...             0.0         0.0         0.0        0.0   \n",
       "STORE_K         ...             0.0         0.0         0.0        0.0   \n",
       "STORE_L         ...             0.0         0.0         0.0        0.0   \n",
       "STORE_M         ...             1.0         1.0         1.0        0.0   \n",
       "STORE_N         ...             0.0         0.0         0.0        0.0   \n",
       "STORE_R         ...             0.0         0.0         0.0        0.0   \n",
       "STORE_S         ...             0.0         0.0         0.0        0.0   \n",
       "STORE_T         ...             0.0         0.0         0.0        0.0   \n",
       "\n",
       "PRODUCT_CODE  PRODUCT_40  PRODUCT_5  PRODUCT_6  PRODUCT_7  PRODUCT_8  \\\n",
       "STORE_CD                                                               \n",
       "STORE_A              0.0   0.381579   0.583333   0.000000   0.291667   \n",
       "STORE_B              0.0   0.000000   0.083333   0.102941   0.000000   \n",
       "STORE_C              0.0   0.118421   0.000000   0.132353   0.166667   \n",
       "STORE_I              0.0   0.171053   1.000000   0.455882   0.375000   \n",
       "STORE_K              0.0   0.092105   0.000000   0.000000   0.000000   \n",
       "STORE_L              0.0   0.000000   0.000000   0.000000   0.000000   \n",
       "STORE_M              0.0   1.000000   0.000000   1.000000   1.000000   \n",
       "STORE_N              1.0   0.394737   0.000000   0.279412   0.375000   \n",
       "STORE_R              0.0   0.000000   0.000000   0.161765   0.000000   \n",
       "STORE_S              0.0   0.000000   0.000000   0.676471   0.000000   \n",
       "STORE_T              0.0   0.000000   0.000000   0.176471   0.000000   \n",
       "\n",
       "PRODUCT_CODE  PRODUCT_9  \n",
       "STORE_CD                 \n",
       "STORE_A        0.085714  \n",
       "STORE_B        0.014286  \n",
       "STORE_C        0.371429  \n",
       "STORE_I        0.214286  \n",
       "STORE_K        0.000000  \n",
       "STORE_L        0.000000  \n",
       "STORE_M        1.000000  \n",
       "STORE_N        0.000000  \n",
       "STORE_R        0.000000  \n",
       "STORE_S        0.142857  \n",
       "STORE_T        0.000000  \n",
       "\n",
       "[11 rows x 40 columns]"
      ]
     },
     "execution_count": 15,
     "metadata": {},
     "output_type": "execute_result"
    }
   ],
   "source": [
    "df_matrix_norm = (df_matrix-df_matrix.min())/(df_matrix.max()-df_matrix.min())\n",
    "df_matrix_norm"
   ]
  },
  {
   "cell_type": "code",
   "execution_count": 16,
   "metadata": {},
   "outputs": [
    {
     "data": {
      "text/html": [
       "<div>\n",
       "<style scoped>\n",
       "    .dataframe tbody tr th:only-of-type {\n",
       "        vertical-align: middle;\n",
       "    }\n",
       "\n",
       "    .dataframe tbody tr th {\n",
       "        vertical-align: top;\n",
       "    }\n",
       "\n",
       "    .dataframe thead th {\n",
       "        text-align: right;\n",
       "    }\n",
       "</style>\n",
       "<table border=\"1\" class=\"dataframe\">\n",
       "  <thead>\n",
       "    <tr style=\"text-align: right;\">\n",
       "      <th></th>\n",
       "      <th>STORE_CD</th>\n",
       "      <th>PRODUCT_CODE</th>\n",
       "      <th>scaled_365days_sales</th>\n",
       "    </tr>\n",
       "  </thead>\n",
       "  <tbody>\n",
       "    <tr>\n",
       "      <th>0</th>\n",
       "      <td>STORE_A</td>\n",
       "      <td>PRODUCT_1</td>\n",
       "      <td>1.000000</td>\n",
       "    </tr>\n",
       "    <tr>\n",
       "      <th>1</th>\n",
       "      <td>STORE_B</td>\n",
       "      <td>PRODUCT_1</td>\n",
       "      <td>0.000000</td>\n",
       "    </tr>\n",
       "    <tr>\n",
       "      <th>2</th>\n",
       "      <td>STORE_C</td>\n",
       "      <td>PRODUCT_1</td>\n",
       "      <td>0.545455</td>\n",
       "    </tr>\n",
       "    <tr>\n",
       "      <th>3</th>\n",
       "      <td>STORE_I</td>\n",
       "      <td>PRODUCT_1</td>\n",
       "      <td>0.909091</td>\n",
       "    </tr>\n",
       "    <tr>\n",
       "      <th>4</th>\n",
       "      <td>STORE_K</td>\n",
       "      <td>PRODUCT_1</td>\n",
       "      <td>0.000000</td>\n",
       "    </tr>\n",
       "  </tbody>\n",
       "</table>\n",
       "</div>"
      ],
      "text/plain": [
       "  STORE_CD PRODUCT_CODE  scaled_365days_sales\n",
       "0  STORE_A    PRODUCT_1              1.000000\n",
       "1  STORE_B    PRODUCT_1              0.000000\n",
       "2  STORE_C    PRODUCT_1              0.545455\n",
       "3  STORE_I    PRODUCT_1              0.909091\n",
       "4  STORE_K    PRODUCT_1              0.000000"
      ]
     },
     "execution_count": 16,
     "metadata": {},
     "output_type": "execute_result"
    }
   ],
   "source": [
    "# convert pivot table to orignal dataframe, which will use as input for models\n",
    "d = df_matrix_norm.reset_index() \n",
    "d.index.names = ['scaled_365days_sales'] \n",
    "data_norm = pd.melt(d, id_vars=['STORE_CD'], value_name='scaled_365days_sales').dropna()\n",
    "data_norm.head()\n",
    "## number of row increase because all stores have all product infomation (11*39)"
   ]
  },
  {
   "cell_type": "raw",
   "metadata": {},
   "source": [
    "In this step, we have normalized the the product, from 0–1 (1 represent the maximum value of the product and 0 is the minimum value of the product)"
   ]
  },
  {
   "cell_type": "markdown",
   "metadata": {},
   "source": [
    "### Divide data to training and test set\n",
    "- we also convert pandas data frame to Sframe to use in Turicreate"
   ]
  },
  {
   "cell_type": "code",
   "execution_count": 17,
   "metadata": {},
   "outputs": [],
   "source": [
    "def split_data(data):\n",
    "    '''\n",
    "    Splits dataset into training and test set.\n",
    "    Args:\n",
    "        data (pandas.DataFrame)\n",
    "    Returns\n",
    "        train_data (tc.SFrame)\n",
    "        test_data (tc.SFrame)\n",
    "    '''\n",
    "    train, test = train_test_split(data, test_size = .2)\n",
    "    train_data = tc.SFrame(train)\n",
    "    test_data = tc.SFrame(test)\n",
    "    return train_data, test_data"
   ]
  },
  {
   "cell_type": "code",
   "execution_count": 18,
   "metadata": {},
   "outputs": [],
   "source": [
    "train_data, test_data = split_data(sales1)  # original 365 days sales values\n",
    "train_data_norm, test_data_norm = split_data(data_norm)  # normalised 365 days sales values"
   ]
  },
  {
   "cell_type": "code",
   "execution_count": 19,
   "metadata": {},
   "outputs": [
    {
     "name": "stdout",
     "output_type": "stream",
     "text": [
      "(171, 3)\n",
      "(43, 3)\n",
      "(343, 3)\n",
      "(86, 3)\n"
     ]
    }
   ],
   "source": [
    "print(train_data.shape)\n",
    "print(test_data.shape)\n",
    "print(train_data_norm.shape)\n",
    "print(test_data_norm.shape)"
   ]
  },
  {
   "cell_type": "markdown",
   "metadata": {},
   "source": [
    "## Recommendation function using popularity, cosine similarity and pearson \n",
    "\n",
    "- we use Turicreate library for recommendation modeling\n",
    "- we create models base on 3 different way, populariry base, cosine similarity and pearson "
   ]
  },
  {
   "cell_type": "code",
   "execution_count": 20,
   "metadata": {},
   "outputs": [],
   "source": [
    "def model(train_data, name, user_id, item_id, target, users_to_recommend, n_rec, n_display):\n",
    "    if name == 'popularity':\n",
    "        model = tc.popularity_recommender.create(train_data, \n",
    "                                                    user_id=user_id, \n",
    "                                                    item_id=item_id, \n",
    "                                                    target=target)\n",
    "    elif name == 'cosine':\n",
    "        model = tc.item_similarity_recommender.create(train_data, \n",
    "                                                    user_id=user_id, \n",
    "                                                    item_id=item_id, \n",
    "                                                    target=target, \n",
    "                                                    similarity_type='cosine')\n",
    "    elif name == 'pearson':\n",
    "        model = tc.item_similarity_recommender.create(train_data, \n",
    "                                                    user_id=user_id, \n",
    "                                                    item_id=item_id, \n",
    "                                                    target=target, \n",
    "                                                    similarity_type='pearson')\n",
    "        \n",
    "    recom = model.recommend(users=users_to_recommend, k=n_rec)\n",
    "    recom.print_rows(n_display)\n",
    "    return model"
   ]
  },
  {
   "cell_type": "code",
   "execution_count": 21,
   "metadata": {},
   "outputs": [],
   "source": [
    "# define some globle parameters\n",
    "user_id = 'STORE_CD'\n",
    "item_id = 'PRODUCT_CODE'\n",
    "users_to_recommend = list(sales1[user_id].unique())\n",
    "n_rec = 5 # number of items to recommend\n",
    "n_display = 50 # to display the first few rows in an output dataset"
   ]
  },
  {
   "cell_type": "markdown",
   "metadata": {},
   "source": [
    "### Popularity base models\n",
    "\n",
    "-  When no target column is provided, the popularity is determined by the number of observations involving each item. \n",
    "- When a target is provided, popularity is computed using the item's mean target value.\n",
    "- When the target column contains sales over 365 days, for example, the model computes the mean sales for each item and uses this to rank items for recommendations.\n"
   ]
  },
  {
   "cell_type": "code",
   "execution_count": 22,
   "metadata": {},
   "outputs": [
    {
     "data": {
      "text/html": [
       "<pre>Preparing data set.</pre>"
      ],
      "text/plain": [
       "Preparing data set."
      ]
     },
     "metadata": {},
     "output_type": "display_data"
    },
    {
     "data": {
      "text/html": [
       "<pre>    Data has 171 observations with 11 users and 39 items.</pre>"
      ],
      "text/plain": [
       "    Data has 171 observations with 11 users and 39 items."
      ]
     },
     "metadata": {},
     "output_type": "display_data"
    },
    {
     "data": {
      "text/html": [
       "<pre>    Data prepared in: 0.004265s</pre>"
      ],
      "text/plain": [
       "    Data prepared in: 0.004265s"
      ]
     },
     "metadata": {},
     "output_type": "display_data"
    },
    {
     "data": {
      "text/html": [
       "<pre>171 observations to process; with 39 unique items.</pre>"
      ],
      "text/plain": [
       "171 observations to process; with 39 unique items."
      ]
     },
     "metadata": {},
     "output_type": "display_data"
    },
    {
     "name": "stdout",
     "output_type": "stream",
     "text": [
      "+----------+--------------+--------------------+------+\n",
      "| STORE_CD | PRODUCT_CODE |       score        | rank |\n",
      "+----------+--------------+--------------------+------+\n",
      "| STORE_A  |  PRODUCT_29  |        39.0        |  1   |\n",
      "| STORE_A  |  PRODUCT_30  |        24.0        |  2   |\n",
      "| STORE_A  |  PRODUCT_38  |      22.7492       |  3   |\n",
      "| STORE_A  |  PRODUCT_36  |       13.875       |  4   |\n",
      "| STORE_A  |  PRODUCT_31  |      13.33305      |  5   |\n",
      "| STORE_B  |  PRODUCT_11  |      195.375       |  1   |\n",
      "| STORE_B  |  PRODUCT_20  |      123.125       |  2   |\n",
      "| STORE_B  |  PRODUCT_5   |        29.5        |  3   |\n",
      "| STORE_B  |  PRODUCT_16  | 25.166666666666668 |  4   |\n",
      "| STORE_B  |  PRODUCT_30  |        24.0        |  5   |\n",
      "| STORE_C  |  PRODUCT_19  |      464.375       |  1   |\n",
      "| STORE_C  |  PRODUCT_11  |      195.375       |  2   |\n",
      "| STORE_C  |  PRODUCT_20  |      123.125       |  3   |\n",
      "| STORE_C  |  PRODUCT_15  | 82.85714285714286  |  4   |\n",
      "| STORE_C  |  PRODUCT_26  |        45.5        |  5   |\n",
      "| STORE_I  |  PRODUCT_26  |        45.5        |  1   |\n",
      "| STORE_I  |  PRODUCT_30  |        24.0        |  2   |\n",
      "| STORE_I  |  PRODUCT_38  |      22.7492       |  3   |\n",
      "| STORE_I  |  PRODUCT_36  |       13.875       |  4   |\n",
      "| STORE_I  |  PRODUCT_1   |        4.0         |  5   |\n",
      "| STORE_K  |  PRODUCT_19  |      464.375       |  1   |\n",
      "| STORE_K  |  PRODUCT_11  |      195.375       |  2   |\n",
      "| STORE_K  |  PRODUCT_25  | 92.28571428571429  |  3   |\n",
      "| STORE_K  |  PRODUCT_15  | 82.85714285714286  |  4   |\n",
      "| STORE_K  |  PRODUCT_3   | 64.85714285714286  |  5   |\n",
      "| STORE_L  |  PRODUCT_19  |      464.375       |  1   |\n",
      "| STORE_L  |  PRODUCT_11  |      195.375       |  2   |\n",
      "| STORE_L  |  PRODUCT_25  | 92.28571428571429  |  3   |\n",
      "| STORE_L  |  PRODUCT_15  | 82.85714285714286  |  4   |\n",
      "| STORE_L  |  PRODUCT_3   | 64.85714285714286  |  5   |\n",
      "| STORE_M  |  PRODUCT_25  | 92.28571428571429  |  1   |\n",
      "| STORE_M  |  PRODUCT_29  |        39.0        |  2   |\n",
      "| STORE_M  |  PRODUCT_13  | 30.333333333333332 |  3   |\n",
      "| STORE_M  |  PRODUCT_7   | 17.714285714285715 |  4   |\n",
      "| STORE_M  |  PRODUCT_31  |      13.33305      |  5   |\n",
      "| STORE_N  |  PRODUCT_11  |      195.375       |  1   |\n",
      "| STORE_N  |  PRODUCT_18  |        46.0        |  2   |\n",
      "| STORE_N  |  PRODUCT_26  |        45.5        |  3   |\n",
      "| STORE_N  |  PRODUCT_5   |        29.5        |  4   |\n",
      "| STORE_N  |  PRODUCT_16  | 25.166666666666668 |  5   |\n",
      "| STORE_R  |  PRODUCT_11  |      195.375       |  1   |\n",
      "| STORE_R  |  PRODUCT_25  | 92.28571428571429  |  2   |\n",
      "| STORE_R  |  PRODUCT_18  |        46.0        |  3   |\n",
      "| STORE_R  |  PRODUCT_26  |        45.5        |  4   |\n",
      "| STORE_R  |  PRODUCT_5   |        29.5        |  5   |\n",
      "| STORE_S  |  PRODUCT_20  |      123.125       |  1   |\n",
      "| STORE_S  |  PRODUCT_3   | 64.85714285714286  |  2   |\n",
      "| STORE_S  |  PRODUCT_26  |        45.5        |  3   |\n",
      "| STORE_S  |  PRODUCT_29  |        39.0        |  4   |\n",
      "| STORE_S  |  PRODUCT_13  | 30.333333333333332 |  5   |\n",
      "+----------+--------------+--------------------+------+\n",
      "[55 rows x 4 columns]\n",
      "\n"
     ]
    }
   ],
   "source": [
    "# models with direct sales as a target values\n",
    "name = 'popularity'\n",
    "target = 'LAST_365DAYS_DEPL'\n",
    "popularity = model(train_data, name, user_id, item_id, target, users_to_recommend, n_rec, n_display)"
   ]
  },
  {
   "cell_type": "code",
   "execution_count": 23,
   "metadata": {},
   "outputs": [
    {
     "data": {
      "text/html": [
       "<pre>Preparing data set.</pre>"
      ],
      "text/plain": [
       "Preparing data set."
      ]
     },
     "metadata": {},
     "output_type": "display_data"
    },
    {
     "data": {
      "text/html": [
       "<pre>    Data has 343 observations with 11 users and 39 items.</pre>"
      ],
      "text/plain": [
       "    Data has 343 observations with 11 users and 39 items."
      ]
     },
     "metadata": {},
     "output_type": "display_data"
    },
    {
     "data": {
      "text/html": [
       "<pre>    Data prepared in: 0.005414s</pre>"
      ],
      "text/plain": [
       "    Data prepared in: 0.005414s"
      ]
     },
     "metadata": {},
     "output_type": "display_data"
    },
    {
     "data": {
      "text/html": [
       "<pre>343 observations to process; with 39 unique items.</pre>"
      ],
      "text/plain": [
       "343 observations to process; with 39 unique items."
      ]
     },
     "metadata": {},
     "output_type": "display_data"
    },
    {
     "name": "stdout",
     "output_type": "stream",
     "text": [
      "+----------+--------------+---------------------+------+\n",
      "| STORE_CD | PRODUCT_CODE |        score        | rank |\n",
      "+----------+--------------+---------------------+------+\n",
      "| STORE_A  |  PRODUCT_12  | 0.16666666666666666 |  1   |\n",
      "| STORE_A  |  PRODUCT_32  |        0.125        |  2   |\n",
      "| STORE_A  |  PRODUCT_31  |  0.1111111111111111 |  3   |\n",
      "| STORE_A  |  PRODUCT_22  | 0.07619047619047618 |  4   |\n",
      "| STORE_A  |  PRODUCT_11  | 0.00805047867711053 |  5   |\n",
      "| STORE_B  |  PRODUCT_23  | 0.33409090909090905 |  1   |\n",
      "| STORE_B  |  PRODUCT_25  | 0.28485838779956424 |  2   |\n",
      "| STORE_B  |  PRODUCT_2   |         0.17        |  3   |\n",
      "| STORE_B  |  PRODUCT_14  | 0.16666666666666666 |  4   |\n",
      "| STORE_B  |  PRODUCT_8   | 0.15104166666666666 |  5   |\n",
      "| STORE_C  |  PRODUCT_5   | 0.19736842105263158 |  1   |\n",
      "| STORE_C  |  PRODUCT_9   | 0.17755102040816326 |  2   |\n",
      "| STORE_C  |  PRODUCT_14  | 0.16666666666666666 |  3   |\n",
      "| STORE_C  |  PRODUCT_16  | 0.16521739130434784 |  4   |\n",
      "| STORE_C  |  PRODUCT_38  | 0.14285714285714285 |  5   |\n",
      "| STORE_I  |  PRODUCT_7   |  0.2529411764705882 |  1   |\n",
      "| STORE_I  |  PRODUCT_15  | 0.19891500904159135 |  2   |\n",
      "| STORE_I  |  PRODUCT_5   | 0.19736842105263158 |  3   |\n",
      "| STORE_I  |  PRODUCT_26  | 0.19715909090909087 |  4   |\n",
      "| STORE_I  |  PRODUCT_1   | 0.19090909090909092 |  5   |\n",
      "| STORE_K  |  PRODUCT_17  | 0.32105263157894737 |  1   |\n",
      "| STORE_K  |  PRODUCT_25  | 0.28485838779956424 |  2   |\n",
      "| STORE_K  |  PRODUCT_15  | 0.19891500904159135 |  3   |\n",
      "| STORE_K  |  PRODUCT_5   | 0.19736842105263158 |  4   |\n",
      "| STORE_K  |  PRODUCT_29  |  0.1811594202898551 |  5   |\n",
      "| STORE_L  |  PRODUCT_20  |  0.2910569105691057 |  1   |\n",
      "| STORE_L  |  PRODUCT_18  | 0.23852459016393443 |  2   |\n",
      "| STORE_L  |  PRODUCT_13  | 0.22816901408450702 |  3   |\n",
      "| STORE_L  |  PRODUCT_9   | 0.17755102040816326 |  4   |\n",
      "| STORE_L  |  PRODUCT_21  | 0.14444444444444443 |  5   |\n",
      "| STORE_M  |  PRODUCT_15  | 0.19891500904159135 |  1   |\n",
      "| STORE_M  |  PRODUCT_8   | 0.15104166666666666 |  2   |\n",
      "| STORE_M  |  PRODUCT_27  | 0.14893617021276595 |  3   |\n",
      "| STORE_M  |  PRODUCT_28  |        0.125        |  4   |\n",
      "| STORE_M  |  PRODUCT_22  | 0.07619047619047618 |  5   |\n",
      "| STORE_N  |  PRODUCT_15  | 0.19891500904159135 |  1   |\n",
      "| STORE_N  |  PRODUCT_5   | 0.19736842105263158 |  2   |\n",
      "| STORE_N  |  PRODUCT_24  | 0.19444444444444445 |  3   |\n",
      "| STORE_N  |  PRODUCT_29  |  0.1811594202898551 |  4   |\n",
      "| STORE_N  |  PRODUCT_14  | 0.16666666666666666 |  5   |\n",
      "| STORE_R  |  PRODUCT_11  | 0.00805047867711053 |  1   |\n",
      "| STORE_S  |  PRODUCT_35  |         0.3         |  1   |\n",
      "| STORE_S  |  PRODUCT_14  | 0.16666666666666666 |  2   |\n",
      "| STORE_S  |  PRODUCT_38  | 0.14285714285714285 |  3   |\n",
      "| STORE_S  |  PRODUCT_40  |  0.1111111111111111 |  4   |\n",
      "| STORE_S  |  PRODUCT_39  |         0.0         |  5   |\n",
      "| STORE_T  |  PRODUCT_20  |  0.2910569105691057 |  1   |\n",
      "| STORE_T  |  PRODUCT_9   | 0.17755102040816326 |  2   |\n",
      "| STORE_T  |  PRODUCT_39  |         0.0         |  3   |\n",
      "+----------+--------------+---------------------+------+\n",
      "[49 rows x 4 columns]\n",
      "\n"
     ]
    }
   ],
   "source": [
    "# models with normalised sales as a target values\n",
    "name = 'popularity'\n",
    "target = 'scaled_365days_sales'\n",
    "pop_norm = model(train_data_norm, name, user_id, item_id, target, users_to_recommend, n_rec, n_display)"
   ]
  },
  {
   "cell_type": "markdown",
   "metadata": {},
   "source": [
    "### Collaborative filtering \n",
    "\n",
    "- cosine similarity/Pearson base : Create a recommender that uses item-item similarities based on users in common.\n"
   ]
  },
  {
   "cell_type": "code",
   "execution_count": 24,
   "metadata": {},
   "outputs": [
    {
     "data": {
      "text/html": [
       "<pre>Preparing data set.</pre>"
      ],
      "text/plain": [
       "Preparing data set."
      ]
     },
     "metadata": {},
     "output_type": "display_data"
    },
    {
     "data": {
      "text/html": [
       "<pre>    Data has 171 observations with 11 users and 39 items.</pre>"
      ],
      "text/plain": [
       "    Data has 171 observations with 11 users and 39 items."
      ]
     },
     "metadata": {},
     "output_type": "display_data"
    },
    {
     "data": {
      "text/html": [
       "<pre>    Data prepared in: 0.00427s</pre>"
      ],
      "text/plain": [
       "    Data prepared in: 0.00427s"
      ]
     },
     "metadata": {},
     "output_type": "display_data"
    },
    {
     "data": {
      "text/html": [
       "<pre>Training model from provided data.</pre>"
      ],
      "text/plain": [
       "Training model from provided data."
      ]
     },
     "metadata": {},
     "output_type": "display_data"
    },
    {
     "data": {
      "text/html": [
       "<pre>Gathering per-item and per-user statistics.</pre>"
      ],
      "text/plain": [
       "Gathering per-item and per-user statistics."
      ]
     },
     "metadata": {},
     "output_type": "display_data"
    },
    {
     "data": {
      "text/html": [
       "<pre>+--------------------------------+------------+</pre>"
      ],
      "text/plain": [
       "+--------------------------------+------------+"
      ]
     },
     "metadata": {},
     "output_type": "display_data"
    },
    {
     "data": {
      "text/html": [
       "<pre>| Elapsed Time (Item Statistics) | % Complete |</pre>"
      ],
      "text/plain": [
       "| Elapsed Time (Item Statistics) | % Complete |"
      ]
     },
     "metadata": {},
     "output_type": "display_data"
    },
    {
     "data": {
      "text/html": [
       "<pre>+--------------------------------+------------+</pre>"
      ],
      "text/plain": [
       "+--------------------------------+------------+"
      ]
     },
     "metadata": {},
     "output_type": "display_data"
    },
    {
     "data": {
      "text/html": [
       "<pre>| 2.15ms                         | 100        |</pre>"
      ],
      "text/plain": [
       "| 2.15ms                         | 100        |"
      ]
     },
     "metadata": {},
     "output_type": "display_data"
    },
    {
     "data": {
      "text/html": [
       "<pre>+--------------------------------+------------+</pre>"
      ],
      "text/plain": [
       "+--------------------------------+------------+"
      ]
     },
     "metadata": {},
     "output_type": "display_data"
    },
    {
     "data": {
      "text/html": [
       "<pre>Setting up lookup tables.</pre>"
      ],
      "text/plain": [
       "Setting up lookup tables."
      ]
     },
     "metadata": {},
     "output_type": "display_data"
    },
    {
     "name": "stdout",
     "output_type": "stream",
     "text": [
      "+----------+--------------+--------------------+------+\n",
      "| STORE_CD | PRODUCT_CODE |       score        | rank |\n",
      "+----------+--------------+--------------------+------+\n",
      "| STORE_A  |  PRODUCT_39  | 1865.3319786381721 |  1   |\n",
      "| STORE_A  |  PRODUCT_34  | 91.20783054113389  |  2   |\n",
      "| STORE_A  |  PRODUCT_35  | 37.13945673465729  |  3   |\n",
      "| STORE_A  |  PRODUCT_29  | 34.951668746471405 |  4   |\n",
      "| STORE_A  |  PRODUCT_32  | 28.448675091266633 |  5   |\n",
      "| STORE_B  |  PRODUCT_39  | 198.6305210684475  |  1   |\n",
      "| STORE_B  |  PRODUCT_23  | 11.21723409075486  |  2   |\n",
      "| STORE_B  |  PRODUCT_34  | 7.184577474468632  |  3   |\n",
      "| STORE_B  |  PRODUCT_35  | 4.259339925489928  |  4   |\n",
      "| STORE_B  |  PRODUCT_32  | 3.1722834486710396 |  5   |\n",
      "| STORE_C  |  PRODUCT_26  | 11.347194933891297 |  1   |\n",
      "| STORE_C  |  PRODUCT_8   | 8.577633291482925  |  2   |\n",
      "| STORE_C  |  PRODUCT_11  |  8.40709325671196  |  3   |\n",
      "| STORE_C  |  PRODUCT_15  | 6.383392396569252  |  4   |\n",
      "| STORE_C  |  PRODUCT_5   | 5.478106436133385  |  5   |\n",
      "| STORE_I  |  PRODUCT_39  | 2748.1282098447837 |  1   |\n",
      "| STORE_I  |  PRODUCT_35  | 48.18067142477742  |  2   |\n",
      "| STORE_I  |  PRODUCT_4   | 38.22129349134587  |  3   |\n",
      "| STORE_I  |  PRODUCT_32  | 33.49976575374603  |  4   |\n",
      "| STORE_I  |  PRODUCT_37  | 31.739999879289556 |  5   |\n",
      "| STORE_K  |  PRODUCT_39  | 637.7327276865641  |  1   |\n",
      "| STORE_K  |  PRODUCT_34  | 167.48148131370544 |  2   |\n",
      "| STORE_K  |  PRODUCT_18  | 76.57034575939178  |  3   |\n",
      "| STORE_K  |  PRODUCT_35  |  74.8573180437088  |  4   |\n",
      "| STORE_K  |  PRODUCT_37  | 63.50853145122528  |  5   |\n",
      "| STORE_L  |  PRODUCT_39  | 453.6645179986954  |  1   |\n",
      "| STORE_L  |  PRODUCT_23  | 152.67707109451294 |  2   |\n",
      "| STORE_L  |  PRODUCT_34  | 132.22222208976746 |  3   |\n",
      "| STORE_L  |  PRODUCT_35  | 30.150514245033264 |  4   |\n",
      "| STORE_L  |  PRODUCT_1   |        30.0        |  5   |\n",
      "| STORE_M  |  PRODUCT_34  | 194.19919088482857 |  1   |\n",
      "| STORE_M  |  PRODUCT_29  | 91.96011489203998  |  2   |\n",
      "| STORE_M  |  PRODUCT_13  | 69.78114335451808  |  3   |\n",
      "| STORE_M  |  PRODUCT_4   | 21.67724203637668  |  4   |\n",
      "| STORE_M  |  PRODUCT_31  | 17.521060730729783 |  5   |\n",
      "| STORE_N  |  PRODUCT_39  | 1963.9565363592571 |  1   |\n",
      "| STORE_N  |  PRODUCT_23  | 143.7499153316021  |  2   |\n",
      "| STORE_N  |  PRODUCT_32  | 31.977840059333378 |  3   |\n",
      "| STORE_N  |  PRODUCT_11  | 26.079062312841415 |  4   |\n",
      "| STORE_N  |  PRODUCT_18  | 25.84127880798446  |  5   |\n",
      "| STORE_R  |  PRODUCT_39  | 558.9154597173134  |  1   |\n",
      "| STORE_R  |  PRODUCT_23  | 39.075999269882836 |  2   |\n",
      "| STORE_R  |  PRODUCT_34  | 32.48024274408817  |  3   |\n",
      "| STORE_R  |  PRODUCT_14  | 15.535383452971777 |  4   |\n",
      "| STORE_R  |  PRODUCT_1   | 7.418486202756564  |  5   |\n",
      "| STORE_S  |  PRODUCT_39  | 1238.850558936596  |  1   |\n",
      "| STORE_S  |  PRODUCT_22  | 33.884614911946386 |  2   |\n",
      "| STORE_S  |  PRODUCT_32  | 29.05051050944762  |  3   |\n",
      "| STORE_S  |  PRODUCT_2   | 28.757293316450987 |  4   |\n",
      "| STORE_S  |  PRODUCT_10  | 24.53738646073775  |  5   |\n",
      "+----------+--------------+--------------------+------+\n",
      "[55 rows x 4 columns]\n",
      "\n"
     ]
    },
    {
     "data": {
      "text/html": [
       "<pre>Processing data in one pass using dense lookup tables.</pre>"
      ],
      "text/plain": [
       "Processing data in one pass using dense lookup tables."
      ]
     },
     "metadata": {},
     "output_type": "display_data"
    },
    {
     "data": {
      "text/html": [
       "<pre>+-------------------------------------+------------------+-----------------+</pre>"
      ],
      "text/plain": [
       "+-------------------------------------+------------------+-----------------+"
      ]
     },
     "metadata": {},
     "output_type": "display_data"
    }
   ],
   "source": [
    "name = 'cosine'\n",
    "target = 'LAST_365DAYS_DEPL'\n",
    "cos = model(train_data, name, user_id, item_id, target, users_to_recommend, n_rec, n_display)"
   ]
  },
  {
   "cell_type": "code",
   "execution_count": 25,
   "metadata": {},
   "outputs": [
    {
     "data": {
      "text/html": [
       "<pre>| Elapsed Time (Constructing Lookups) | Total % Complete | Items Processed |</pre>"
      ],
      "text/plain": [
       "| Elapsed Time (Constructing Lookups) | Total % Complete | Items Processed |"
      ]
     },
     "metadata": {},
     "output_type": "display_data"
    },
    {
     "data": {
      "text/html": [
       "<pre>+-------------------------------------+------------------+-----------------+</pre>"
      ],
      "text/plain": [
       "+-------------------------------------+------------------+-----------------+"
      ]
     },
     "metadata": {},
     "output_type": "display_data"
    },
    {
     "data": {
      "text/html": [
       "<pre>| 2.832ms                             | 20.5             | 8               |</pre>"
      ],
      "text/plain": [
       "| 2.832ms                             | 20.5             | 8               |"
      ]
     },
     "metadata": {},
     "output_type": "display_data"
    },
    {
     "data": {
      "text/html": [
       "<pre>| 5.973ms                             | 100              | 39              |</pre>"
      ],
      "text/plain": [
       "| 5.973ms                             | 100              | 39              |"
      ]
     },
     "metadata": {},
     "output_type": "display_data"
    },
    {
     "data": {
      "text/html": [
       "<pre>+-------------------------------------+------------------+-----------------+</pre>"
      ],
      "text/plain": [
       "+-------------------------------------+------------------+-----------------+"
      ]
     },
     "metadata": {},
     "output_type": "display_data"
    },
    {
     "data": {
      "text/html": [
       "<pre>Finalizing lookup tables.</pre>"
      ],
      "text/plain": [
       "Finalizing lookup tables."
      ]
     },
     "metadata": {},
     "output_type": "display_data"
    },
    {
     "data": {
      "text/html": [
       "<pre>Generating candidate set for working with new users.</pre>"
      ],
      "text/plain": [
       "Generating candidate set for working with new users."
      ]
     },
     "metadata": {},
     "output_type": "display_data"
    },
    {
     "data": {
      "text/html": [
       "<pre>Finished training in 1.00777s</pre>"
      ],
      "text/plain": [
       "Finished training in 1.00777s"
      ]
     },
     "metadata": {},
     "output_type": "display_data"
    },
    {
     "data": {
      "text/html": [
       "<pre>Preparing data set.</pre>"
      ],
      "text/plain": [
       "Preparing data set."
      ]
     },
     "metadata": {},
     "output_type": "display_data"
    },
    {
     "data": {
      "text/html": [
       "<pre>    Data has 171 observations with 11 users and 39 items.</pre>"
      ],
      "text/plain": [
       "    Data has 171 observations with 11 users and 39 items."
      ]
     },
     "metadata": {},
     "output_type": "display_data"
    },
    {
     "data": {
      "text/html": [
       "<pre>    Data prepared in: 0.004647s</pre>"
      ],
      "text/plain": [
       "    Data prepared in: 0.004647s"
      ]
     },
     "metadata": {},
     "output_type": "display_data"
    },
    {
     "data": {
      "text/html": [
       "<pre>Training model from provided data.</pre>"
      ],
      "text/plain": [
       "Training model from provided data."
      ]
     },
     "metadata": {},
     "output_type": "display_data"
    },
    {
     "data": {
      "text/html": [
       "<pre>Gathering per-item and per-user statistics.</pre>"
      ],
      "text/plain": [
       "Gathering per-item and per-user statistics."
      ]
     },
     "metadata": {},
     "output_type": "display_data"
    },
    {
     "data": {
      "text/html": [
       "<pre>+--------------------------------+------------+</pre>"
      ],
      "text/plain": [
       "+--------------------------------+------------+"
      ]
     },
     "metadata": {},
     "output_type": "display_data"
    },
    {
     "data": {
      "text/html": [
       "<pre>| Elapsed Time (Item Statistics) | % Complete |</pre>"
      ],
      "text/plain": [
       "| Elapsed Time (Item Statistics) | % Complete |"
      ]
     },
     "metadata": {},
     "output_type": "display_data"
    },
    {
     "name": "stdout",
     "output_type": "stream",
     "text": [
      "+----------+--------------+--------------------+------+\n",
      "| STORE_CD | PRODUCT_CODE |       score        | rank |\n",
      "+----------+--------------+--------------------+------+\n",
      "| STORE_A  |  PRODUCT_29  | 42.69764308929443  |  1   |\n",
      "| STORE_A  |  PRODUCT_30  | 24.49019595861435  |  2   |\n",
      "| STORE_A  |  PRODUCT_38  |      22.7492       |  3   |\n",
      "| STORE_A  |  PRODUCT_36  |  16.3212655210495  |  4   |\n",
      "| STORE_A  |  PRODUCT_31  | 15.185181013870238 |  5   |\n",
      "| STORE_B  |  PRODUCT_11  | 176.86838976019308 |  1   |\n",
      "| STORE_B  |  PRODUCT_20  | 97.04105002629129  |  2   |\n",
      "| STORE_B  |  PRODUCT_30  | 23.975090914650966 |  3   |\n",
      "| STORE_B  |  PRODUCT_38  |      22.7492       |  4   |\n",
      "| STORE_B  |  PRODUCT_16  | 21.34759361074682  |  5   |\n",
      "| STORE_C  |  PRODUCT_19  | 459.67193821370597 |  1   |\n",
      "| STORE_C  |  PRODUCT_11  | 192.65022540986539 |  2   |\n",
      "| STORE_C  |  PRODUCT_20  | 119.13464323878289 |  3   |\n",
      "| STORE_C  |  PRODUCT_15  | 78.65264439923422  |  4   |\n",
      "| STORE_C  |  PRODUCT_26  | 41.822162449359894 |  5   |\n",
      "| STORE_I  |  PRODUCT_26  | 54.56219897446809  |  1   |\n",
      "| STORE_I  |  PRODUCT_30  | 24.256763482535327 |  2   |\n",
      "| STORE_I  |  PRODUCT_38  |      22.7492       |  3   |\n",
      "| STORE_I  |  PRODUCT_36  | 21.552794264422523 |  4   |\n",
      "| STORE_I  |  PRODUCT_6   | 5.195835325453016  |  5   |\n",
      "| STORE_K  |  PRODUCT_19  |  437.532390097777  |  1   |\n",
      "| STORE_K  |  PRODUCT_11  | 179.07355111837387 |  2   |\n",
      "| STORE_K  |  PRODUCT_25  | 81.57128532443728  |  3   |\n",
      "| STORE_K  |  PRODUCT_15  | 65.82329459133601  |  4   |\n",
      "| STORE_K  |  PRODUCT_3   | 42.67560769262768  |  5   |\n",
      "| STORE_L  |  PRODUCT_19  | 378.9913559556007  |  1   |\n",
      "| STORE_L  |  PRODUCT_11  | 144.96855956315994 |  2   |\n",
      "| STORE_L  |  PRODUCT_25  | 59.28278185640063  |  3   |\n",
      "| STORE_L  |  PRODUCT_15  | 29.70948099238531  |  4   |\n",
      "| STORE_L  |  PRODUCT_16  | 25.166666666666668 |  5   |\n",
      "| STORE_M  |  PRODUCT_25  | 114.13909003990038 |  1   |\n",
      "| STORE_M  |  PRODUCT_29  | 56.25675814279488  |  2   |\n",
      "| STORE_M  |  PRODUCT_13  | 41.85892762314706  |  3   |\n",
      "| STORE_M  |  PRODUCT_8   | 29.115260315792902 |  4   |\n",
      "| STORE_M  |  PRODUCT_7   | 21.489731471453396 |  5   |\n",
      "| STORE_N  |  PRODUCT_11  | 192.1244978904724  |  1   |\n",
      "| STORE_N  |  PRODUCT_18  | 44.13125694791476  |  2   |\n",
      "| STORE_N  |  PRODUCT_26  | 42.542123940255905 |  3   |\n",
      "| STORE_N  |  PRODUCT_16  | 27.464024917946922 |  4   |\n",
      "| STORE_N  |  PRODUCT_5   | 26.319341676102745 |  5   |\n",
      "| STORE_R  |  PRODUCT_11  | 168.95402184625468 |  1   |\n",
      "| STORE_R  |  PRODUCT_25  | 70.59199919019427  |  2   |\n",
      "| STORE_R  |  PRODUCT_30  | 23.44645685950915  |  3   |\n",
      "| STORE_R  |  PRODUCT_38  |      22.7492       |  4   |\n",
      "| STORE_R  |  PRODUCT_7   | 13.993089663840477 |  5   |\n",
      "| STORE_S  |  PRODUCT_20  | 88.21191995794123  |  1   |\n",
      "| STORE_S  |  PRODUCT_3   | 28.31431189682577  |  2   |\n",
      "| STORE_S  |  PRODUCT_29  | 26.31791912425648  |  3   |\n",
      "| STORE_S  |  PRODUCT_30  | 23.348915815353394 |  4   |\n",
      "| STORE_S  |  PRODUCT_38  |      22.7492       |  5   |\n",
      "+----------+--------------+--------------------+------+\n",
      "[55 rows x 4 columns]\n",
      "\n"
     ]
    },
    {
     "data": {
      "text/html": [
       "<pre>+--------------------------------+------------+</pre>"
      ],
      "text/plain": [
       "+--------------------------------+------------+"
      ]
     },
     "metadata": {},
     "output_type": "display_data"
    },
    {
     "data": {
      "text/html": [
       "<pre>| 10.977ms                       | 100        |</pre>"
      ],
      "text/plain": [
       "| 10.977ms                       | 100        |"
      ]
     },
     "metadata": {},
     "output_type": "display_data"
    },
    {
     "data": {
      "text/html": [
       "<pre>+--------------------------------+------------+</pre>"
      ],
      "text/plain": [
       "+--------------------------------+------------+"
      ]
     },
     "metadata": {},
     "output_type": "display_data"
    }
   ],
   "source": [
    "name = 'pearson'\n",
    "target = 'LAST_365DAYS_DEPL'\n",
    "pear = model(train_data, name, user_id, item_id, target, users_to_recommend, n_rec, n_display)"
   ]
  },
  {
   "cell_type": "code",
   "execution_count": 26,
   "metadata": {},
   "outputs": [
    {
     "data": {
      "text/html": [
       "<pre>Setting up lookup tables.</pre>"
      ],
      "text/plain": [
       "Setting up lookup tables."
      ]
     },
     "metadata": {},
     "output_type": "display_data"
    },
    {
     "data": {
      "text/html": [
       "<pre>Processing data in one pass using dense lookup tables.</pre>"
      ],
      "text/plain": [
       "Processing data in one pass using dense lookup tables."
      ]
     },
     "metadata": {},
     "output_type": "display_data"
    },
    {
     "data": {
      "text/html": [
       "<pre>+-------------------------------------+------------------+-----------------+</pre>"
      ],
      "text/plain": [
       "+-------------------------------------+------------------+-----------------+"
      ]
     },
     "metadata": {},
     "output_type": "display_data"
    },
    {
     "data": {
      "text/html": [
       "<pre>| Elapsed Time (Constructing Lookups) | Total % Complete | Items Processed |</pre>"
      ],
      "text/plain": [
       "| Elapsed Time (Constructing Lookups) | Total % Complete | Items Processed |"
      ]
     },
     "metadata": {},
     "output_type": "display_data"
    },
    {
     "data": {
      "text/html": [
       "<pre>+-------------------------------------+------------------+-----------------+</pre>"
      ],
      "text/plain": [
       "+-------------------------------------+------------------+-----------------+"
      ]
     },
     "metadata": {},
     "output_type": "display_data"
    },
    {
     "data": {
      "text/html": [
       "<pre>| 11.65ms                             | 20.5             | 8               |</pre>"
      ],
      "text/plain": [
       "| 11.65ms                             | 20.5             | 8               |"
      ]
     },
     "metadata": {},
     "output_type": "display_data"
    },
    {
     "data": {
      "text/html": [
       "<pre>| 23.038ms                            | 100              | 39              |</pre>"
      ],
      "text/plain": [
       "| 23.038ms                            | 100              | 39              |"
      ]
     },
     "metadata": {},
     "output_type": "display_data"
    },
    {
     "data": {
      "text/html": [
       "<pre>+-------------------------------------+------------------+-----------------+</pre>"
      ],
      "text/plain": [
       "+-------------------------------------+------------------+-----------------+"
      ]
     },
     "metadata": {},
     "output_type": "display_data"
    },
    {
     "data": {
      "text/html": [
       "<pre>Finalizing lookup tables.</pre>"
      ],
      "text/plain": [
       "Finalizing lookup tables."
      ]
     },
     "metadata": {},
     "output_type": "display_data"
    },
    {
     "data": {
      "text/html": [
       "<pre>Generating candidate set for working with new users.</pre>"
      ],
      "text/plain": [
       "Generating candidate set for working with new users."
      ]
     },
     "metadata": {},
     "output_type": "display_data"
    },
    {
     "data": {
      "text/html": [
       "<pre>Finished training in 0.023818s</pre>"
      ],
      "text/plain": [
       "Finished training in 0.023818s"
      ]
     },
     "metadata": {},
     "output_type": "display_data"
    },
    {
     "data": {
      "text/html": [
       "<pre>Preparing data set.</pre>"
      ],
      "text/plain": [
       "Preparing data set."
      ]
     },
     "metadata": {},
     "output_type": "display_data"
    },
    {
     "data": {
      "text/html": [
       "<pre>    Data has 343 observations with 11 users and 39 items.</pre>"
      ],
      "text/plain": [
       "    Data has 343 observations with 11 users and 39 items."
      ]
     },
     "metadata": {},
     "output_type": "display_data"
    },
    {
     "data": {
      "text/html": [
       "<pre>    Data prepared in: 0.006264s</pre>"
      ],
      "text/plain": [
       "    Data prepared in: 0.006264s"
      ]
     },
     "metadata": {},
     "output_type": "display_data"
    },
    {
     "data": {
      "text/html": [
       "<pre>Training model from provided data.</pre>"
      ],
      "text/plain": [
       "Training model from provided data."
      ]
     },
     "metadata": {},
     "output_type": "display_data"
    },
    {
     "data": {
      "text/html": [
       "<pre>Gathering per-item and per-user statistics.</pre>"
      ],
      "text/plain": [
       "Gathering per-item and per-user statistics."
      ]
     },
     "metadata": {},
     "output_type": "display_data"
    },
    {
     "name": "stdout",
     "output_type": "stream",
     "text": [
      "+----------+--------------+-----------------------+------+\n",
      "| STORE_CD | PRODUCT_CODE |         score         | rank |\n",
      "+----------+--------------+-----------------------+------+\n",
      "| STORE_A  |  PRODUCT_12  |  0.09364078938961029  |  1   |\n",
      "| STORE_A  |  PRODUCT_11  |  0.08375277556478977  |  2   |\n",
      "| STORE_A  |  PRODUCT_31  |  0.08375273086130619  |  3   |\n",
      "| STORE_A  |  PRODUCT_32  |  0.08375273086130619  |  4   |\n",
      "| STORE_A  |  PRODUCT_22  |  0.049687065184116364 |  5   |\n",
      "| STORE_B  |  PRODUCT_25  |  0.020045054810387746 |  1   |\n",
      "| STORE_B  |  PRODUCT_23  |  0.018344898309026445 |  2   |\n",
      "| STORE_B  |  PRODUCT_37  |  0.014052599668502808 |  3   |\n",
      "| STORE_B  |  PRODUCT_8   |  0.013395905494689941 |  4   |\n",
      "| STORE_B  |  PRODUCT_2   |  0.012052710567201887 |  5   |\n",
      "| STORE_C  |  PRODUCT_16  |  0.07350521683692932  |  1   |\n",
      "| STORE_C  |  PRODUCT_31  |  0.06677776177724203  |  2   |\n",
      "| STORE_C  |  PRODUCT_14  |  0.06677776177724203  |  3   |\n",
      "| STORE_C  |  PRODUCT_32  |  0.06677776177724203  |  4   |\n",
      "| STORE_C  |  PRODUCT_5   |  0.05719572106997172  |  5   |\n",
      "| STORE_I  |  PRODUCT_26  |  0.16537269398018165  |  1   |\n",
      "| STORE_I  |  PRODUCT_5   |  0.16445281991252192  |  2   |\n",
      "| STORE_I  |  PRODUCT_1   |  0.15887243880165947  |  3   |\n",
      "| STORE_I  |  PRODUCT_9   |  0.14811703231599596  |  4   |\n",
      "| STORE_I  |  PRODUCT_7   |  0.14074939047848736  |  5   |\n",
      "| STORE_K  |  PRODUCT_25  |  0.017137015307391132 |  1   |\n",
      "| STORE_K  |  PRODUCT_5   |  0.013600358256587276 |  2   |\n",
      "| STORE_K  |  PRODUCT_29  |  0.01305767121138396  |  3   |\n",
      "| STORE_K  |  PRODUCT_8   |  0.01289048018278899  |  4   |\n",
      "| STORE_K  |  PRODUCT_17  |  0.01271716312125877  |  5   |\n",
      "| STORE_L  |  PRODUCT_9   | 0.0018579344595632246 |  1   |\n",
      "| STORE_L  |  PRODUCT_18  | 0.0017838631906817036 |  2   |\n",
      "| STORE_L  |  PRODUCT_20  | 0.0017366197801405383 |  3   |\n",
      "| STORE_L  |  PRODUCT_13  | 0.0016874747891579905 |  4   |\n",
      "| STORE_L  |  PRODUCT_21  | 0.0001591386333588631 |  5   |\n",
      "| STORE_M  |  PRODUCT_8   |  0.19196892579396566  |  1   |\n",
      "| STORE_M  |  PRODUCT_10  |   0.1470520516236623  |  2   |\n",
      "| STORE_M  |  PRODUCT_27  |  0.13211069107055665  |  3   |\n",
      "| STORE_M  |  PRODUCT_11  |  0.12432790795962016  |  4   |\n",
      "| STORE_M  |  PRODUCT_28  |   0.1243278165658315  |  5   |\n",
      "| STORE_N  |  PRODUCT_3   |  0.10237562457720438  |  1   |\n",
      "| STORE_N  |  PRODUCT_5   |  0.09906107584635417  |  2   |\n",
      "| STORE_N  |  PRODUCT_38  |   0.0933458924293518  |  3   |\n",
      "| STORE_N  |  PRODUCT_24  |   0.0891558051109314  |  4   |\n",
      "| STORE_N  |  PRODUCT_29  |  0.08585714896519979  |  5   |\n",
      "| STORE_R  |  PRODUCT_11  |  0.006311774253845215 |  1   |\n",
      "| STORE_S  |  PRODUCT_38  |  0.04715866551679723  |  1   |\n",
      "| STORE_S  |  PRODUCT_35  |  0.03684614160481621  |  2   |\n",
      "| STORE_S  |  PRODUCT_14  |  0.018981237621868357 |  3   |\n",
      "| STORE_S  |  PRODUCT_40  |  0.012803238980910358 |  4   |\n",
      "| STORE_S  |  PRODUCT_39  |          0.0          |  5   |\n",
      "| STORE_T  |  PRODUCT_9   |  0.006909333997302585 |  1   |\n",
      "| STORE_T  |  PRODUCT_20  |  0.006653643316692776 |  2   |\n",
      "| STORE_T  |  PRODUCT_39  |          0.0          |  3   |\n",
      "+----------+--------------+-----------------------+------+\n",
      "[49 rows x 4 columns]\n",
      "\n"
     ]
    },
    {
     "data": {
      "text/html": [
       "<pre>+--------------------------------+------------+</pre>"
      ],
      "text/plain": [
       "+--------------------------------+------------+"
      ]
     },
     "metadata": {},
     "output_type": "display_data"
    },
    {
     "data": {
      "text/html": [
       "<pre>| Elapsed Time (Item Statistics) | % Complete |</pre>"
      ],
      "text/plain": [
       "| Elapsed Time (Item Statistics) | % Complete |"
      ]
     },
     "metadata": {},
     "output_type": "display_data"
    }
   ],
   "source": [
    "name = 'cosine'\n",
    "target = 'scaled_365days_sales'\n",
    "cos_norm = model(train_data_norm, name, user_id, item_id, target, users_to_recommend, n_rec, n_display)"
   ]
  },
  {
   "cell_type": "code",
   "execution_count": 27,
   "metadata": {},
   "outputs": [
    {
     "data": {
      "text/html": [
       "<pre>+--------------------------------+------------+</pre>"
      ],
      "text/plain": [
       "+--------------------------------+------------+"
      ]
     },
     "metadata": {},
     "output_type": "display_data"
    },
    {
     "data": {
      "text/html": [
       "<pre>| 449us                          | 100        |</pre>"
      ],
      "text/plain": [
       "| 449us                          | 100        |"
      ]
     },
     "metadata": {},
     "output_type": "display_data"
    },
    {
     "data": {
      "text/html": [
       "<pre>+--------------------------------+------------+</pre>"
      ],
      "text/plain": [
       "+--------------------------------+------------+"
      ]
     },
     "metadata": {},
     "output_type": "display_data"
    },
    {
     "data": {
      "text/html": [
       "<pre>Setting up lookup tables.</pre>"
      ],
      "text/plain": [
       "Setting up lookup tables."
      ]
     },
     "metadata": {},
     "output_type": "display_data"
    },
    {
     "data": {
      "text/html": [
       "<pre>Processing data in one pass using dense lookup tables.</pre>"
      ],
      "text/plain": [
       "Processing data in one pass using dense lookup tables."
      ]
     },
     "metadata": {},
     "output_type": "display_data"
    },
    {
     "data": {
      "text/html": [
       "<pre>+-------------------------------------+------------------+-----------------+</pre>"
      ],
      "text/plain": [
       "+-------------------------------------+------------------+-----------------+"
      ]
     },
     "metadata": {},
     "output_type": "display_data"
    },
    {
     "data": {
      "text/html": [
       "<pre>| Elapsed Time (Constructing Lookups) | Total % Complete | Items Processed |</pre>"
      ],
      "text/plain": [
       "| Elapsed Time (Constructing Lookups) | Total % Complete | Items Processed |"
      ]
     },
     "metadata": {},
     "output_type": "display_data"
    },
    {
     "data": {
      "text/html": [
       "<pre>+-------------------------------------+------------------+-----------------+</pre>"
      ],
      "text/plain": [
       "+-------------------------------------+------------------+-----------------+"
      ]
     },
     "metadata": {},
     "output_type": "display_data"
    },
    {
     "data": {
      "text/html": [
       "<pre>| 989us                               | 8.25             | 3               |</pre>"
      ],
      "text/plain": [
       "| 989us                               | 8.25             | 3               |"
      ]
     },
     "metadata": {},
     "output_type": "display_data"
    },
    {
     "data": {
      "text/html": [
       "<pre>| 1.645ms                             | 100              | 39              |</pre>"
      ],
      "text/plain": [
       "| 1.645ms                             | 100              | 39              |"
      ]
     },
     "metadata": {},
     "output_type": "display_data"
    },
    {
     "data": {
      "text/html": [
       "<pre>+-------------------------------------+------------------+-----------------+</pre>"
      ],
      "text/plain": [
       "+-------------------------------------+------------------+-----------------+"
      ]
     },
     "metadata": {},
     "output_type": "display_data"
    },
    {
     "data": {
      "text/html": [
       "<pre>Finalizing lookup tables.</pre>"
      ],
      "text/plain": [
       "Finalizing lookup tables."
      ]
     },
     "metadata": {},
     "output_type": "display_data"
    },
    {
     "data": {
      "text/html": [
       "<pre>Generating candidate set for working with new users.</pre>"
      ],
      "text/plain": [
       "Generating candidate set for working with new users."
      ]
     },
     "metadata": {},
     "output_type": "display_data"
    },
    {
     "data": {
      "text/html": [
       "<pre>Finished training in 0.003924s</pre>"
      ],
      "text/plain": [
       "Finished training in 0.003924s"
      ]
     },
     "metadata": {},
     "output_type": "display_data"
    },
    {
     "data": {
      "text/html": [
       "<pre>Preparing data set.</pre>"
      ],
      "text/plain": [
       "Preparing data set."
      ]
     },
     "metadata": {},
     "output_type": "display_data"
    },
    {
     "data": {
      "text/html": [
       "<pre>    Data has 343 observations with 11 users and 39 items.</pre>"
      ],
      "text/plain": [
       "    Data has 343 observations with 11 users and 39 items."
      ]
     },
     "metadata": {},
     "output_type": "display_data"
    },
    {
     "data": {
      "text/html": [
       "<pre>    Data prepared in: 0.007089s</pre>"
      ],
      "text/plain": [
       "    Data prepared in: 0.007089s"
      ]
     },
     "metadata": {},
     "output_type": "display_data"
    },
    {
     "data": {
      "text/html": [
       "<pre>Training model from provided data.</pre>"
      ],
      "text/plain": [
       "Training model from provided data."
      ]
     },
     "metadata": {},
     "output_type": "display_data"
    },
    {
     "data": {
      "text/html": [
       "<pre>Gathering per-item and per-user statistics.</pre>"
      ],
      "text/plain": [
       "Gathering per-item and per-user statistics."
      ]
     },
     "metadata": {},
     "output_type": "display_data"
    },
    {
     "data": {
      "text/html": [
       "<pre>+--------------------------------+------------+</pre>"
      ],
      "text/plain": [
       "+--------------------------------+------------+"
      ]
     },
     "metadata": {},
     "output_type": "display_data"
    },
    {
     "name": "stdout",
     "output_type": "stream",
     "text": [
      "+----------+--------------+----------------------+------+\n",
      "| STORE_CD | PRODUCT_CODE |        score         | rank |\n",
      "+----------+--------------+----------------------+------+\n",
      "| STORE_A  |  PRODUCT_12  | 0.19331348004440466  |  1   |\n",
      "| STORE_A  |  PRODUCT_32  | 0.14751209877431395  |  2   |\n",
      "| STORE_A  |  PRODUCT_31  | 0.13377614609069297  |  3   |\n",
      "| STORE_A  |  PRODUCT_22  | 0.09046681679430461  |  4   |\n",
      "| STORE_A  |  PRODUCT_11  |  0.0289463770192431  |  5   |\n",
      "| STORE_B  |  PRODUCT_23  |  0.2712101993235675  |  1   |\n",
      "| STORE_B  |  PRODUCT_25  |  0.2127629170304995  |  2   |\n",
      "| STORE_B  |  PRODUCT_14  | 0.13582867951620195  |  3   |\n",
      "| STORE_B  |  PRODUCT_2   |  0.1319540806327547  |  4   |\n",
      "| STORE_B  |  PRODUCT_8   |  0.1105288111028217  |  5   |\n",
      "| STORE_C  |  PRODUCT_16  | 0.17261227732119352  |  1   |\n",
      "| STORE_C  |  PRODUCT_14  | 0.17245950301488241  |  2   |\n",
      "| STORE_C  |  PRODUCT_5   | 0.17033430923495377  |  3   |\n",
      "| STORE_C  |  PRODUCT_9   | 0.14764905892261843  |  4   |\n",
      "| STORE_C  |  PRODUCT_32  | 0.13204622069994612  |  5   |\n",
      "| STORE_I  |  PRODUCT_7   |  0.3009070099049404  |  1   |\n",
      "| STORE_I  |  PRODUCT_5   |  0.2772418151357253  |  2   |\n",
      "| STORE_I  |  PRODUCT_1   |  0.2679974226437835  |  3   |\n",
      "| STORE_I  |  PRODUCT_15  |  0.2673620602664765  |  4   |\n",
      "| STORE_I  |  PRODUCT_26  |  0.2662366466891484  |  5   |\n",
      "| STORE_K  |  PRODUCT_17  |  0.276774751652054   |  1   |\n",
      "| STORE_K  |  PRODUCT_25  | 0.21323100933581912  |  2   |\n",
      "| STORE_K  |  PRODUCT_15  | 0.16947828829947165  |  3   |\n",
      "| STORE_K  |  PRODUCT_14  | 0.13372008005777997  |  4   |\n",
      "| STORE_K  |  PRODUCT_5   | 0.12925863719125938  |  5   |\n",
      "| STORE_L  |  PRODUCT_20  | 0.21846801304860972  |  1   |\n",
      "| STORE_L  |  PRODUCT_13  |  0.1608323605750594  |  2   |\n",
      "| STORE_L  |  PRODUCT_18  |  0.1598388238976961  |  3   |\n",
      "| STORE_L  |  PRODUCT_9   | 0.12101425746304961  |  4   |\n",
      "| STORE_L  |  PRODUCT_40  | 0.10034641997361271  |  5   |\n",
      "| STORE_M  |  PRODUCT_15  |  0.2474729124108591  |  1   |\n",
      "| STORE_M  |  PRODUCT_8   | 0.22916941245396932  |  2   |\n",
      "| STORE_M  |  PRODUCT_27  | 0.20280847338074487  |  3   |\n",
      "| STORE_M  |  PRODUCT_28  | 0.17766760190327965  |  4   |\n",
      "| STORE_M  |  PRODUCT_22  | 0.12393880145890371  |  5   |\n",
      "| STORE_N  |  PRODUCT_5   | 0.20799372781787004  |  1   |\n",
      "| STORE_N  |  PRODUCT_15  | 0.19291741881764318  |  2   |\n",
      "| STORE_N  |  PRODUCT_24  | 0.18565641310479905  |  3   |\n",
      "| STORE_N  |  PRODUCT_29  | 0.17257744220719823  |  4   |\n",
      "| STORE_N  |  PRODUCT_3   | 0.16465969603016692  |  5   |\n",
      "| STORE_R  |  PRODUCT_11  | -0.04054724770559677 |  1   |\n",
      "| STORE_S  |  PRODUCT_35  |  0.2880394251907573  |  1   |\n",
      "| STORE_S  |  PRODUCT_14  | 0.13085179060113197  |  2   |\n",
      "| STORE_S  |  PRODUCT_38  | 0.11390317513161347  |  3   |\n",
      "| STORE_S  |  PRODUCT_40  | 0.10333514700528065  |  4   |\n",
      "| STORE_S  |  PRODUCT_39  |         0.0          |  5   |\n",
      "| STORE_T  |  PRODUCT_20  | 0.22110588128166148  |  1   |\n",
      "| STORE_T  |  PRODUCT_9   | 0.12364579825714872  |  2   |\n",
      "| STORE_T  |  PRODUCT_39  |         0.0          |  3   |\n",
      "+----------+--------------+----------------------+------+\n",
      "[49 rows x 4 columns]\n",
      "\n"
     ]
    },
    {
     "data": {
      "text/html": [
       "<pre>| Elapsed Time (Item Statistics) | % Complete |</pre>"
      ],
      "text/plain": [
       "| Elapsed Time (Item Statistics) | % Complete |"
      ]
     },
     "metadata": {},
     "output_type": "display_data"
    },
    {
     "data": {
      "text/html": [
       "<pre>+--------------------------------+------------+</pre>"
      ],
      "text/plain": [
       "+--------------------------------+------------+"
      ]
     },
     "metadata": {},
     "output_type": "display_data"
    }
   ],
   "source": [
    "name = 'pearson'\n",
    "target = 'scaled_365days_sales'\n",
    "pear_norm = model(train_data_norm, name, user_id, item_id, target, users_to_recommend, n_rec, n_display)"
   ]
  },
  {
   "cell_type": "markdown",
   "metadata": {},
   "source": [
    "# Model evaluation\n",
    "\n",
    "- we consider model with normalised sales values"
   ]
  },
  {
   "cell_type": "code",
   "execution_count": 28,
   "metadata": {},
   "outputs": [
    {
     "data": {
      "text/html": [
       "<pre>| 356us                          | 100        |</pre>"
      ],
      "text/plain": [
       "| 356us                          | 100        |"
      ]
     },
     "metadata": {},
     "output_type": "display_data"
    },
    {
     "data": {
      "text/html": [
       "<pre>+--------------------------------+------------+</pre>"
      ],
      "text/plain": [
       "+--------------------------------+------------+"
      ]
     },
     "metadata": {},
     "output_type": "display_data"
    },
    {
     "data": {
      "text/html": [
       "<pre>Setting up lookup tables.</pre>"
      ],
      "text/plain": [
       "Setting up lookup tables."
      ]
     },
     "metadata": {},
     "output_type": "display_data"
    },
    {
     "data": {
      "text/html": [
       "<pre>Processing data in one pass using dense lookup tables.</pre>"
      ],
      "text/plain": [
       "Processing data in one pass using dense lookup tables."
      ]
     },
     "metadata": {},
     "output_type": "display_data"
    },
    {
     "data": {
      "text/html": [
       "<pre>+-------------------------------------+------------------+-----------------+</pre>"
      ],
      "text/plain": [
       "+-------------------------------------+------------------+-----------------+"
      ]
     },
     "metadata": {},
     "output_type": "display_data"
    },
    {
     "data": {
      "text/html": [
       "<pre>| Elapsed Time (Constructing Lookups) | Total % Complete | Items Processed |</pre>"
      ],
      "text/plain": [
       "| Elapsed Time (Constructing Lookups) | Total % Complete | Items Processed |"
      ]
     },
     "metadata": {},
     "output_type": "display_data"
    },
    {
     "data": {
      "text/html": [
       "<pre>+-------------------------------------+------------------+-----------------+</pre>"
      ],
      "text/plain": [
       "+-------------------------------------+------------------+-----------------+"
      ]
     },
     "metadata": {},
     "output_type": "display_data"
    },
    {
     "data": {
      "text/html": [
       "<pre>| 645us                               | 8.25             | 3               |</pre>"
      ],
      "text/plain": [
       "| 645us                               | 8.25             | 3               |"
      ]
     },
     "metadata": {},
     "output_type": "display_data"
    },
    {
     "data": {
      "text/html": [
       "<pre>| 14.293ms                            | 100              | 39              |</pre>"
      ],
      "text/plain": [
       "| 14.293ms                            | 100              | 39              |"
      ]
     },
     "metadata": {},
     "output_type": "display_data"
    },
    {
     "data": {
      "text/html": [
       "<pre>+-------------------------------------+------------------+-----------------+</pre>"
      ],
      "text/plain": [
       "+-------------------------------------+------------------+-----------------+"
      ]
     },
     "metadata": {},
     "output_type": "display_data"
    },
    {
     "data": {
      "text/html": [
       "<pre>Finalizing lookup tables.</pre>"
      ],
      "text/plain": [
       "Finalizing lookup tables."
      ]
     },
     "metadata": {},
     "output_type": "display_data"
    },
    {
     "data": {
      "text/html": [
       "<pre>Generating candidate set for working with new users.</pre>"
      ],
      "text/plain": [
       "Generating candidate set for working with new users."
      ]
     },
     "metadata": {},
     "output_type": "display_data"
    },
    {
     "data": {
      "text/html": [
       "<pre>Finished training in 0.015803s</pre>"
      ],
      "text/plain": [
       "Finished training in 0.015803s"
      ]
     },
     "metadata": {},
     "output_type": "display_data"
    }
   ],
   "source": [
    "models_w_counts = [popularity, cos, pear]\n",
    "models_w_norm = [pop_norm, cos_norm, pear_norm]\n",
    "names_w_counts = ['Popularity Model on sales Counts', 'Cosine Similarity on sales Counts', 'Pearson Similarity on sales Counts']\n",
    "names_w_norm = ['Popularity Model on Scaled sales Counts', 'Cosine Similarity on Scaled sales Counts', 'Pearson Similarity on Scaled sales Counts']"
   ]
  },
  {
   "cell_type": "code",
   "execution_count": 29,
   "metadata": {},
   "outputs": [
    {
     "name": "stdout",
     "output_type": "stream",
     "text": [
      "PROGRESS: Evaluate model Popularity Model on sales Counts\n",
      "\n",
      "Precision and recall summary statistics by cutoff\n",
      "+--------+---------------------+---------------------+\n",
      "| cutoff |    mean_precision   |     mean_recall     |\n",
      "+--------+---------------------+---------------------+\n",
      "|   1    |  0.7272727272727272 | 0.23484848484848483 |\n",
      "|   2    | 0.49999999999999994 | 0.27651515151515155 |\n",
      "|   3    |  0.3333333333333333 | 0.27651515151515155 |\n",
      "|   4    | 0.29545454545454547 | 0.30303030303030304 |\n",
      "|   5    | 0.29090909090909095 | 0.34469696969696967 |\n",
      "|   6    |  0.2727272727272727 |  0.4015151515151515 |\n",
      "|   7    | 0.28571428571428575 |  0.4848484848484848 |\n",
      "|   8    | 0.26136363636363635 |  0.4962121212121212 |\n",
      "|   9    | 0.24242424242424243 |  0.5265151515151516 |\n",
      "|   10   |  0.2272727272727273 |  0.5416666666666666 |\n",
      "+--------+---------------------+---------------------+\n",
      "[10 rows x 3 columns]\n",
      "\n",
      "\n",
      "Overall RMSE: 89.48924275176967\n",
      "\n",
      "Per User RMSE (best)\n",
      "+----------+--------------------+-------+\n",
      "| STORE_CD |        rmse        | count |\n",
      "+----------+--------------------+-------+\n",
      "| STORE_T  | 0.7142857142857143 |   1   |\n",
      "+----------+--------------------+-------+\n",
      "[1 rows x 3 columns]\n",
      "\n",
      "\n",
      "Per User RMSE (worst)\n",
      "+----------+--------------------+-------+\n",
      "| STORE_CD |        rmse        | count |\n",
      "+----------+--------------------+-------+\n",
      "| STORE_K  | 269.43588349085945 |   2   |\n",
      "+----------+--------------------+-------+\n",
      "[1 rows x 3 columns]\n",
      "\n",
      "\n",
      "Per Item RMSE (best)\n",
      "+--------------+--------------------+-------+\n",
      "| PRODUCT_CODE |        rmse        | count |\n",
      "+--------------+--------------------+-------+\n",
      "|  PRODUCT_14  | 0.7142857142857143 |   1   |\n",
      "+--------------+--------------------+-------+\n",
      "[1 rows x 3 columns]\n",
      "\n",
      "\n",
      "Per Item RMSE (worst)\n",
      "+--------------+-------------------+-------+\n",
      "| PRODUCT_CODE |        rmse       | count |\n",
      "+--------------+-------------------+-------+\n",
      "|  PRODUCT_19  | 284.5562609133737 |   2   |\n",
      "+--------------+-------------------+-------+\n",
      "[1 rows x 3 columns]\n",
      "\n",
      "PROGRESS: Evaluate model Cosine Similarity on sales Counts\n",
      "\n",
      "Precision and recall summary statistics by cutoff\n",
      "+--------+---------------------+----------------------+\n",
      "| cutoff |    mean_precision   |     mean_recall      |\n",
      "+--------+---------------------+----------------------+\n",
      "|   1    |         0.0         |         0.0          |\n",
      "|   2    | 0.13636363636363638 | 0.041666666666666664 |\n",
      "|   3    | 0.21212121212121213 |  0.0946969696969697  |\n",
      "|   4    | 0.18181818181818182 | 0.10606060606060605  |\n",
      "|   5    | 0.18181818181818182 | 0.16666666666666666  |\n",
      "|   6    | 0.22727272727272724 | 0.24999999999999997  |\n",
      "|   7    | 0.24675324675324678 |  0.3333333333333333  |\n",
      "|   8    | 0.23863636363636362 |        0.375         |\n",
      "|   9    |  0.2121212121212121 |        0.375         |\n",
      "|   10   | 0.20909090909090908 | 0.40530303030303033  |\n",
      "+--------+---------------------+----------------------+\n",
      "[10 rows x 3 columns]\n",
      "\n",
      "\n",
      "Overall RMSE: 92.14544820291631\n",
      "\n",
      "Per User RMSE (best)\n",
      "+----------+--------------------+-------+\n",
      "| STORE_CD |        rmse        | count |\n",
      "+----------+--------------------+-------+\n",
      "| STORE_B  | 0.4422720644404263 |   3   |\n",
      "+----------+--------------------+-------+\n",
      "[1 rows x 3 columns]\n",
      "\n",
      "\n",
      "Per User RMSE (worst)\n",
      "+----------+--------------------+-------+\n",
      "| STORE_CD |        rmse        | count |\n",
      "+----------+--------------------+-------+\n",
      "| STORE_M  | 180.10630289291024 |   6   |\n",
      "+----------+--------------------+-------+\n",
      "[1 rows x 3 columns]\n",
      "\n",
      "\n",
      "Per Item RMSE (best)\n",
      "+--------------+--------------------+-------+\n",
      "| PRODUCT_CODE |        rmse        | count |\n",
      "+--------------+--------------------+-------+\n",
      "|  PRODUCT_9   | 0.3816131570122465 |   1   |\n",
      "+--------------+--------------------+-------+\n",
      "[1 rows x 3 columns]\n",
      "\n",
      "\n",
      "Per Item RMSE (worst)\n",
      "+--------------+-------------------+-------+\n",
      "| PRODUCT_CODE |        rmse       | count |\n",
      "+--------------+-------------------+-------+\n",
      "|  PRODUCT_25  | 286.8315987802182 |   2   |\n",
      "+--------------+-------------------+-------+\n",
      "[1 rows x 3 columns]\n",
      "\n",
      "PROGRESS: Evaluate model Pearson Similarity on sales Counts\n",
      "\n",
      "Precision and recall summary statistics by cutoff\n",
      "+--------+---------------------+---------------------+\n",
      "| cutoff |    mean_precision   |     mean_recall     |\n",
      "+--------+---------------------+---------------------+\n",
      "|   1    |  0.5454545454545454 |  0.1931818181818182 |\n",
      "|   2    |  0.3181818181818182 | 0.20833333333333334 |\n",
      "|   3    |  0.3333333333333333 | 0.27651515151515155 |\n",
      "|   4    |  0.2954545454545454 | 0.30303030303030304 |\n",
      "|   5    |  0.2545454545454545 |  0.3484848484848485 |\n",
      "|   6    | 0.24242424242424238 |        0.375        |\n",
      "|   7    | 0.22077922077922074 | 0.39015151515151514 |\n",
      "|   8    | 0.19318181818181818 | 0.39015151515151514 |\n",
      "|   9    | 0.18181818181818182 |  0.4053030303030303 |\n",
      "|   10   | 0.18181818181818182 | 0.43560606060606055 |\n",
      "+--------+---------------------+---------------------+\n",
      "[10 rows x 3 columns]\n",
      "\n",
      "\n",
      "Overall RMSE: 84.74412297386591\n",
      "\n",
      "Per User RMSE (best)\n",
      "+----------+-----------------+-------+\n",
      "| STORE_CD |       rmse      | count |\n",
      "+----------+-----------------+-------+\n",
      "| STORE_T  | 0.4285905786923 |   1   |\n",
      "+----------+-----------------+-------+\n",
      "[1 rows x 3 columns]\n",
      "\n",
      "\n",
      "Per User RMSE (worst)\n",
      "+----------+--------------------+-------+\n",
      "| STORE_CD |        rmse        | count |\n",
      "+----------+--------------------+-------+\n",
      "| STORE_K  | 250.02021777582465 |   2   |\n",
      "+----------+--------------------+-------+\n",
      "[1 rows x 3 columns]\n",
      "\n",
      "\n",
      "Per Item RMSE (best)\n",
      "+--------------+---------------------+-------+\n",
      "| PRODUCT_CODE |         rmse        | count |\n",
      "+--------------+---------------------+-------+\n",
      "|  PRODUCT_29  | 0.11390099993774072 |   1   |\n",
      "+--------------+---------------------+-------+\n",
      "[1 rows x 3 columns]\n",
      "\n",
      "\n",
      "Per Item RMSE (worst)\n",
      "+--------------+--------------------+-------+\n",
      "| PRODUCT_CODE |        rmse        | count |\n",
      "+--------------+--------------------+-------+\n",
      "|  PRODUCT_19  | 265.54748236338423 |   2   |\n",
      "+--------------+--------------------+-------+\n",
      "[1 rows x 3 columns]\n",
      "\n"
     ]
    }
   ],
   "source": [
    "eval_counts = tc.recommender.util.compare_models(test_data, models_w_counts, model_names=names_w_counts)"
   ]
  },
  {
   "cell_type": "code",
   "execution_count": 30,
   "metadata": {},
   "outputs": [
    {
     "name": "stdout",
     "output_type": "stream",
     "text": [
      "PROGRESS: Evaluate model Popularity Model on Scaled sales Counts\n",
      "\n",
      "Precision and recall summary statistics by cutoff\n",
      "+--------+----------------+---------------------+\n",
      "| cutoff | mean_precision |     mean_recall     |\n",
      "+--------+----------------+---------------------+\n",
      "|   1    |      1.0       | 0.21746359700905155 |\n",
      "|   2    |      1.0       |  0.3440181031090122 |\n",
      "|   3    |      1.0       |  0.4705726092089728 |\n",
      "|   4    |      1.0       |  0.5668240850059032 |\n",
      "|   5    |      1.0       |  0.6630755608028336 |\n",
      "|   6    |      1.0       |  0.7411452184179458 |\n",
      "|   7    |      1.0       |  0.8192148760330578 |\n",
      "|   8    |      1.0       |  0.8842975206611571 |\n",
      "|   9    |      1.0       |  0.9380165289256198 |\n",
      "|   10   |      1.0       |  0.9614325068870523 |\n",
      "+--------+----------------+---------------------+\n",
      "[10 rows x 3 columns]\n",
      "\n",
      "\n",
      "Overall RMSE: 0.40013999327215954\n",
      "\n",
      "Per User RMSE (best)\n",
      "+----------+---------------------+-------+\n",
      "| STORE_CD |         rmse        | count |\n",
      "+----------+---------------------+-------+\n",
      "| STORE_R  | 0.00805047867711053 |   1   |\n",
      "+----------+---------------------+-------+\n",
      "[1 rows x 3 columns]\n",
      "\n",
      "\n",
      "Per User RMSE (worst)\n",
      "+----------+--------------------+-------+\n",
      "| STORE_CD |        rmse        | count |\n",
      "+----------+--------------------+-------+\n",
      "| STORE_M  | 0.7017665192534892 |   9   |\n",
      "+----------+--------------------+-------+\n",
      "[1 rows x 3 columns]\n",
      "\n",
      "\n",
      "Per Item RMSE (best)\n",
      "+--------------+---------------------+-------+\n",
      "| PRODUCT_CODE |         rmse        | count |\n",
      "+--------------+---------------------+-------+\n",
      "|  PRODUCT_3   | 0.09245283018867925 |   1   |\n",
      "+--------------+---------------------+-------+\n",
      "[1 rows x 3 columns]\n",
      "\n",
      "\n",
      "Per Item RMSE (worst)\n",
      "+--------------+--------------------+-------+\n",
      "| PRODUCT_CODE |        rmse        | count |\n",
      "+--------------+--------------------+-------+\n",
      "|  PRODUCT_10  | 0.9632183908045977 |   1   |\n",
      "+--------------+--------------------+-------+\n",
      "[1 rows x 3 columns]\n",
      "\n",
      "PROGRESS: Evaluate model Cosine Similarity on Scaled sales Counts\n",
      "\n",
      "Precision and recall summary statistics by cutoff\n",
      "+--------+----------------+---------------------+\n",
      "| cutoff | mean_precision |     mean_recall     |\n",
      "+--------+----------------+---------------------+\n",
      "|   1    |      1.0       | 0.21746359700905157 |\n",
      "|   2    |      1.0       |  0.3440181031090122 |\n",
      "|   3    |      1.0       |  0.4705726092089728 |\n",
      "|   4    |      1.0       |  0.5668240850059032 |\n",
      "|   5    |      1.0       |  0.6630755608028335 |\n",
      "|   6    |      1.0       |  0.7411452184179457 |\n",
      "|   7    |      1.0       |  0.8192148760330578 |\n",
      "|   8    |      1.0       |  0.8842975206611571 |\n",
      "|   9    |      1.0       |  0.9380165289256198 |\n",
      "|   10   |      1.0       |  0.9614325068870523 |\n",
      "+--------+----------------+---------------------+\n",
      "[10 rows x 3 columns]\n",
      "\n",
      "\n",
      "Overall RMSE: 0.39716891909012897\n",
      "\n",
      "Per User RMSE (best)\n",
      "+----------+----------------------+-------+\n",
      "| STORE_CD |         rmse         | count |\n",
      "+----------+----------------------+-------+\n",
      "| STORE_T  | 0.004672683346909724 |   3   |\n",
      "+----------+----------------------+-------+\n",
      "[1 rows x 3 columns]\n",
      "\n",
      "\n",
      "Per User RMSE (worst)\n",
      "+----------+--------------------+-------+\n",
      "| STORE_CD |        rmse        | count |\n",
      "+----------+--------------------+-------+\n",
      "| STORE_M  | 0.6740220983707867 |   9   |\n",
      "+----------+--------------------+-------+\n",
      "[1 rows x 3 columns]\n",
      "\n",
      "\n",
      "Per Item RMSE (best)\n",
      "+--------------+-----------------------+-------+\n",
      "| PRODUCT_CODE |          rmse         | count |\n",
      "+--------------+-----------------------+-------+\n",
      "|  PRODUCT_21  | 0.0001591386333588631 |   1   |\n",
      "+--------------+-----------------------+-------+\n",
      "[1 rows x 3 columns]\n",
      "\n",
      "\n",
      "Per Item RMSE (worst)\n",
      "+--------------+--------------------+-------+\n",
      "| PRODUCT_CODE |        rmse        | count |\n",
      "+--------------+--------------------+-------+\n",
      "|  PRODUCT_30  | 0.9558283984661102 |   1   |\n",
      "+--------------+--------------------+-------+\n",
      "[1 rows x 3 columns]\n",
      "\n",
      "PROGRESS: Evaluate model Pearson Similarity on Scaled sales Counts\n",
      "\n",
      "Precision and recall summary statistics by cutoff\n",
      "+--------+----------------+---------------------+\n",
      "| cutoff | mean_precision |     mean_recall     |\n",
      "+--------+----------------+---------------------+\n",
      "|   1    |      1.0       | 0.21746359700905157 |\n",
      "|   2    |      1.0       |  0.3440181031090122 |\n",
      "|   3    |      1.0       |  0.4705726092089728 |\n",
      "|   4    |      1.0       |  0.5668240850059032 |\n",
      "|   5    |      1.0       |  0.6630755608028336 |\n",
      "|   6    |      1.0       |  0.7411452184179457 |\n",
      "|   7    |      1.0       |  0.8192148760330578 |\n",
      "|   8    |      1.0       |  0.8842975206611571 |\n",
      "|   9    |      1.0       |  0.9380165289256198 |\n",
      "|   10   |      1.0       |  0.9614325068870523 |\n",
      "+--------+----------------+---------------------+\n",
      "[10 rows x 3 columns]\n",
      "\n",
      "\n",
      "Overall RMSE: 0.3821331187248237\n",
      "\n",
      "Per User RMSE (best)\n",
      "+----------+---------------------+-------+\n",
      "| STORE_CD |         rmse        | count |\n",
      "+----------+---------------------+-------+\n",
      "| STORE_R  | 0.04054724770559677 |   1   |\n",
      "+----------+---------------------+-------+\n",
      "[1 rows x 3 columns]\n",
      "\n",
      "\n",
      "Per User RMSE (worst)\n",
      "+----------+--------------------+-------+\n",
      "| STORE_CD |        rmse        | count |\n",
      "+----------+--------------------+-------+\n",
      "| STORE_M  | 0.6673586104558356 |   9   |\n",
      "+----------+--------------------+-------+\n",
      "[1 rows x 3 columns]\n",
      "\n",
      "\n",
      "Per Item RMSE (best)\n",
      "+--------------+---------------------+-------+\n",
      "| PRODUCT_CODE |         rmse        | count |\n",
      "+--------------+---------------------+-------+\n",
      "|  PRODUCT_3   | 0.08062332283775761 |   1   |\n",
      "+--------------+---------------------+-------+\n",
      "[1 rows x 3 columns]\n",
      "\n",
      "\n",
      "Per Item RMSE (worst)\n",
      "+--------------+--------------------+-------+\n",
      "| PRODUCT_CODE |        rmse        | count |\n",
      "+--------------+--------------------+-------+\n",
      "|  PRODUCT_30  | 0.9435620891112907 |   1   |\n",
      "+--------------+--------------------+-------+\n",
      "[1 rows x 3 columns]\n",
      "\n"
     ]
    }
   ],
   "source": [
    "eval_norm = tc.recommender.util.compare_models(test_data_norm, models_w_norm, model_names=names_w_norm)"
   ]
  },
  {
   "cell_type": "markdown",
   "metadata": {},
   "source": [
    "# Final output files"
   ]
  },
  {
   "cell_type": "code",
   "execution_count": 31,
   "metadata": {},
   "outputs": [
    {
     "data": {
      "text/html": [
       "<div>\n",
       "<style scoped>\n",
       "    .dataframe tbody tr th:only-of-type {\n",
       "        vertical-align: middle;\n",
       "    }\n",
       "\n",
       "    .dataframe tbody tr th {\n",
       "        vertical-align: top;\n",
       "    }\n",
       "\n",
       "    .dataframe thead th {\n",
       "        text-align: right;\n",
       "    }\n",
       "</style>\n",
       "<table border=\"1\" class=\"dataframe\">\n",
       "  <thead>\n",
       "    <tr style=\"text-align: right;\">\n",
       "      <th></th>\n",
       "      <th>STORE_CD</th>\n",
       "      <th>PRODUCT_CODE</th>\n",
       "      <th>scaled_365days_sales</th>\n",
       "    </tr>\n",
       "  </thead>\n",
       "  <tbody>\n",
       "    <tr>\n",
       "      <th>0</th>\n",
       "      <td>STORE_A</td>\n",
       "      <td>PRODUCT_1</td>\n",
       "      <td>1.000000</td>\n",
       "    </tr>\n",
       "    <tr>\n",
       "      <th>1</th>\n",
       "      <td>STORE_B</td>\n",
       "      <td>PRODUCT_1</td>\n",
       "      <td>0.000000</td>\n",
       "    </tr>\n",
       "    <tr>\n",
       "      <th>2</th>\n",
       "      <td>STORE_C</td>\n",
       "      <td>PRODUCT_1</td>\n",
       "      <td>0.545455</td>\n",
       "    </tr>\n",
       "    <tr>\n",
       "      <th>3</th>\n",
       "      <td>STORE_I</td>\n",
       "      <td>PRODUCT_1</td>\n",
       "      <td>0.909091</td>\n",
       "    </tr>\n",
       "    <tr>\n",
       "      <th>4</th>\n",
       "      <td>STORE_K</td>\n",
       "      <td>PRODUCT_1</td>\n",
       "      <td>0.000000</td>\n",
       "    </tr>\n",
       "  </tbody>\n",
       "</table>\n",
       "</div>"
      ],
      "text/plain": [
       "  STORE_CD PRODUCT_CODE  scaled_365days_sales\n",
       "0  STORE_A    PRODUCT_1              1.000000\n",
       "1  STORE_B    PRODUCT_1              0.000000\n",
       "2  STORE_C    PRODUCT_1              0.545455\n",
       "3  STORE_I    PRODUCT_1              0.909091\n",
       "4  STORE_K    PRODUCT_1              0.000000"
      ]
     },
     "execution_count": 31,
     "metadata": {},
     "output_type": "execute_result"
    }
   ],
   "source": [
    "data_norm.head()"
   ]
  },
  {
   "cell_type": "code",
   "execution_count": 32,
   "metadata": {},
   "outputs": [
    {
     "data": {
      "text/html": [
       "<div style=\"max-height:1000px;max-width:1500px;overflow:auto;\"><table frame=\"box\" rules=\"cols\">\n",
       "    <tr>\n",
       "        <th style=\"padding-left: 1em; padding-right: 1em; text-align: center\">STORE_CD</th>\n",
       "        <th style=\"padding-left: 1em; padding-right: 1em; text-align: center\">PRODUCT_CODE</th>\n",
       "        <th style=\"padding-left: 1em; padding-right: 1em; text-align: center\">scaled_365days_sales</th>\n",
       "    </tr>\n",
       "    <tr>\n",
       "        <td style=\"padding-left: 1em; padding-right: 1em; text-align: center; vertical-align: top\">STORE_N</td>\n",
       "        <td style=\"padding-left: 1em; padding-right: 1em; text-align: center; vertical-align: top\">PRODUCT_4</td>\n",
       "        <td style=\"padding-left: 1em; padding-right: 1em; text-align: center; vertical-align: top\">0.0</td>\n",
       "    </tr>\n",
       "    <tr>\n",
       "        <td style=\"padding-left: 1em; padding-right: 1em; text-align: center; vertical-align: top\">STORE_B</td>\n",
       "        <td style=\"padding-left: 1em; padding-right: 1em; text-align: center; vertical-align: top\">PRODUCT_13</td>\n",
       "        <td style=\"padding-left: 1em; padding-right: 1em; text-align: center; vertical-align: top\">0.19718309859154928</td>\n",
       "    </tr>\n",
       "    <tr>\n",
       "        <td style=\"padding-left: 1em; padding-right: 1em; text-align: center; vertical-align: top\">STORE_C</td>\n",
       "        <td style=\"padding-left: 1em; padding-right: 1em; text-align: center; vertical-align: top\">PRODUCT_25</td>\n",
       "        <td style=\"padding-left: 1em; padding-right: 1em; text-align: center; vertical-align: top\">0.13480392156862744</td>\n",
       "    </tr>\n",
       "    <tr>\n",
       "        <td style=\"padding-left: 1em; padding-right: 1em; text-align: center; vertical-align: top\">STORE_A</td>\n",
       "        <td style=\"padding-left: 1em; padding-right: 1em; text-align: center; vertical-align: top\">PRODUCT_20</td>\n",
       "        <td style=\"padding-left: 1em; padding-right: 1em; text-align: center; vertical-align: top\">0.3902439024390244</td>\n",
       "    </tr>\n",
       "    <tr>\n",
       "        <td style=\"padding-left: 1em; padding-right: 1em; text-align: center; vertical-align: top\">STORE_T</td>\n",
       "        <td style=\"padding-left: 1em; padding-right: 1em; text-align: center; vertical-align: top\">PRODUCT_32</td>\n",
       "        <td style=\"padding-left: 1em; padding-right: 1em; text-align: center; vertical-align: top\">0.0</td>\n",
       "    </tr>\n",
       "    <tr>\n",
       "        <td style=\"padding-left: 1em; padding-right: 1em; text-align: center; vertical-align: top\">STORE_C</td>\n",
       "        <td style=\"padding-left: 1em; padding-right: 1em; text-align: center; vertical-align: top\">PRODUCT_6</td>\n",
       "        <td style=\"padding-left: 1em; padding-right: 1em; text-align: center; vertical-align: top\">0.0</td>\n",
       "    </tr>\n",
       "    <tr>\n",
       "        <td style=\"padding-left: 1em; padding-right: 1em; text-align: center; vertical-align: top\">STORE_T</td>\n",
       "        <td style=\"padding-left: 1em; padding-right: 1em; text-align: center; vertical-align: top\">PRODUCT_1</td>\n",
       "        <td style=\"padding-left: 1em; padding-right: 1em; text-align: center; vertical-align: top\">0.0</td>\n",
       "    </tr>\n",
       "    <tr>\n",
       "        <td style=\"padding-left: 1em; padding-right: 1em; text-align: center; vertical-align: top\">STORE_I</td>\n",
       "        <td style=\"padding-left: 1em; padding-right: 1em; text-align: center; vertical-align: top\">PRODUCT_17</td>\n",
       "        <td style=\"padding-left: 1em; padding-right: 1em; text-align: center; vertical-align: top\">0.631578947368421</td>\n",
       "    </tr>\n",
       "    <tr>\n",
       "        <td style=\"padding-left: 1em; padding-right: 1em; text-align: center; vertical-align: top\">STORE_K</td>\n",
       "        <td style=\"padding-left: 1em; padding-right: 1em; text-align: center; vertical-align: top\">PRODUCT_32</td>\n",
       "        <td style=\"padding-left: 1em; padding-right: 1em; text-align: center; vertical-align: top\">0.0</td>\n",
       "    </tr>\n",
       "    <tr>\n",
       "        <td style=\"padding-left: 1em; padding-right: 1em; text-align: center; vertical-align: top\">STORE_R</td>\n",
       "        <td style=\"padding-left: 1em; padding-right: 1em; text-align: center; vertical-align: top\">PRODUCT_28</td>\n",
       "        <td style=\"padding-left: 1em; padding-right: 1em; text-align: center; vertical-align: top\">0.0</td>\n",
       "    </tr>\n",
       "</table>\n",
       "[10 rows x 3 columns]<br/>\n",
       "</div>"
      ],
      "text/plain": [
       "Columns:\n",
       "\tSTORE_CD\tstr\n",
       "\tPRODUCT_CODE\tstr\n",
       "\tscaled_365days_sales\tfloat\n",
       "\n",
       "Rows: 10\n",
       "\n",
       "Data:\n",
       "+----------+--------------+----------------------+\n",
       "| STORE_CD | PRODUCT_CODE | scaled_365days_sales |\n",
       "+----------+--------------+----------------------+\n",
       "| STORE_N  |  PRODUCT_4   |         0.0          |\n",
       "| STORE_B  |  PRODUCT_13  | 0.19718309859154928  |\n",
       "| STORE_C  |  PRODUCT_25  | 0.13480392156862744  |\n",
       "| STORE_A  |  PRODUCT_20  |  0.3902439024390244  |\n",
       "| STORE_T  |  PRODUCT_32  |         0.0          |\n",
       "| STORE_C  |  PRODUCT_6   |         0.0          |\n",
       "| STORE_T  |  PRODUCT_1   |         0.0          |\n",
       "| STORE_I  |  PRODUCT_17  |  0.631578947368421   |\n",
       "| STORE_K  |  PRODUCT_32  |         0.0          |\n",
       "| STORE_R  |  PRODUCT_28  |         0.0          |\n",
       "+----------+--------------+----------------------+\n",
       "[10 rows x 3 columns]"
      ]
     },
     "execution_count": 32,
     "metadata": {},
     "output_type": "execute_result"
    }
   ],
   "source": [
    "train_data_norm.head()"
   ]
  },
  {
   "cell_type": "code",
   "execution_count": 33,
   "metadata": {},
   "outputs": [],
   "source": [
    "def split_data1(data):\n",
    "    train, test = train_test_split(data, test_size = 0.2)\n",
    "    train_data = tc.SFrame(train)\n",
    "    test_data = tc.SFrame(test)\n",
    "    return train_data, test_data"
   ]
  },
  {
   "cell_type": "code",
   "execution_count": 34,
   "metadata": {},
   "outputs": [
    {
     "data": {
      "text/html": [
       "<div style=\"max-height:1000px;max-width:1500px;overflow:auto;\"><table frame=\"box\" rules=\"cols\">\n",
       "    <tr>\n",
       "        <th style=\"padding-left: 1em; padding-right: 1em; text-align: center\">STORE_CD</th>\n",
       "        <th style=\"padding-left: 1em; padding-right: 1em; text-align: center\">PRODUCT_CODE</th>\n",
       "        <th style=\"padding-left: 1em; padding-right: 1em; text-align: center\">scaled_365days_sales</th>\n",
       "    </tr>\n",
       "    <tr>\n",
       "        <td style=\"padding-left: 1em; padding-right: 1em; text-align: center; vertical-align: top\">STORE_K</td>\n",
       "        <td style=\"padding-left: 1em; padding-right: 1em; text-align: center; vertical-align: top\">PRODUCT_2</td>\n",
       "        <td style=\"padding-left: 1em; padding-right: 1em; text-align: center; vertical-align: top\">0.0</td>\n",
       "    </tr>\n",
       "    <tr>\n",
       "        <td style=\"padding-left: 1em; padding-right: 1em; text-align: center; vertical-align: top\">STORE_M</td>\n",
       "        <td style=\"padding-left: 1em; padding-right: 1em; text-align: center; vertical-align: top\">PRODUCT_32</td>\n",
       "        <td style=\"padding-left: 1em; padding-right: 1em; text-align: center; vertical-align: top\">0.0</td>\n",
       "    </tr>\n",
       "    <tr>\n",
       "        <td style=\"padding-left: 1em; padding-right: 1em; text-align: center; vertical-align: top\">STORE_M</td>\n",
       "        <td style=\"padding-left: 1em; padding-right: 1em; text-align: center; vertical-align: top\">PRODUCT_26</td>\n",
       "        <td style=\"padding-left: 1em; padding-right: 1em; text-align: center; vertical-align: top\">0.6590909090909091</td>\n",
       "    </tr>\n",
       "    <tr>\n",
       "        <td style=\"padding-left: 1em; padding-right: 1em; text-align: center; vertical-align: top\">STORE_A</td>\n",
       "        <td style=\"padding-left: 1em; padding-right: 1em; text-align: center; vertical-align: top\">PRODUCT_2</td>\n",
       "        <td style=\"padding-left: 1em; padding-right: 1em; text-align: center; vertical-align: top\">0.55</td>\n",
       "    </tr>\n",
       "    <tr>\n",
       "        <td style=\"padding-left: 1em; padding-right: 1em; text-align: center; vertical-align: top\">STORE_I</td>\n",
       "        <td style=\"padding-left: 1em; padding-right: 1em; text-align: center; vertical-align: top\">PRODUCT_18</td>\n",
       "        <td style=\"padding-left: 1em; padding-right: 1em; text-align: center; vertical-align: top\">0.5081967213114754</td>\n",
       "    </tr>\n",
       "    <tr>\n",
       "        <td style=\"padding-left: 1em; padding-right: 1em; text-align: center; vertical-align: top\">STORE_C</td>\n",
       "        <td style=\"padding-left: 1em; padding-right: 1em; text-align: center; vertical-align: top\">PRODUCT_4</td>\n",
       "        <td style=\"padding-left: 1em; padding-right: 1em; text-align: center; vertical-align: top\">0.0</td>\n",
       "    </tr>\n",
       "    <tr>\n",
       "        <td style=\"padding-left: 1em; padding-right: 1em; text-align: center; vertical-align: top\">STORE_B</td>\n",
       "        <td style=\"padding-left: 1em; padding-right: 1em; text-align: center; vertical-align: top\">PRODUCT_13</td>\n",
       "        <td style=\"padding-left: 1em; padding-right: 1em; text-align: center; vertical-align: top\">0.19718309859154928</td>\n",
       "    </tr>\n",
       "    <tr>\n",
       "        <td style=\"padding-left: 1em; padding-right: 1em; text-align: center; vertical-align: top\">STORE_N</td>\n",
       "        <td style=\"padding-left: 1em; padding-right: 1em; text-align: center; vertical-align: top\">PRODUCT_37</td>\n",
       "        <td style=\"padding-left: 1em; padding-right: 1em; text-align: center; vertical-align: top\">0.0</td>\n",
       "    </tr>\n",
       "    <tr>\n",
       "        <td style=\"padding-left: 1em; padding-right: 1em; text-align: center; vertical-align: top\">STORE_L</td>\n",
       "        <td style=\"padding-left: 1em; padding-right: 1em; text-align: center; vertical-align: top\">PRODUCT_18</td>\n",
       "        <td style=\"padding-left: 1em; padding-right: 1em; text-align: center; vertical-align: top\">0.0</td>\n",
       "    </tr>\n",
       "    <tr>\n",
       "        <td style=\"padding-left: 1em; padding-right: 1em; text-align: center; vertical-align: top\">STORE_B</td>\n",
       "        <td style=\"padding-left: 1em; padding-right: 1em; text-align: center; vertical-align: top\">PRODUCT_38</td>\n",
       "        <td style=\"padding-left: 1em; padding-right: 1em; text-align: center; vertical-align: top\">0.0</td>\n",
       "    </tr>\n",
       "</table>\n",
       "[343 rows x 3 columns]<br/>Note: Only the head of the SFrame is printed.<br/>You can use print_rows(num_rows=m, num_columns=n) to print more rows and columns.\n",
       "</div>"
      ],
      "text/plain": [
       "Columns:\n",
       "\tSTORE_CD\tstr\n",
       "\tPRODUCT_CODE\tstr\n",
       "\tscaled_365days_sales\tfloat\n",
       "\n",
       "Rows: 343\n",
       "\n",
       "Data:\n",
       "+----------+--------------+----------------------+\n",
       "| STORE_CD | PRODUCT_CODE | scaled_365days_sales |\n",
       "+----------+--------------+----------------------+\n",
       "| STORE_K  |  PRODUCT_2   |         0.0          |\n",
       "| STORE_M  |  PRODUCT_32  |         0.0          |\n",
       "| STORE_M  |  PRODUCT_26  |  0.6590909090909091  |\n",
       "| STORE_A  |  PRODUCT_2   |         0.55         |\n",
       "| STORE_I  |  PRODUCT_18  |  0.5081967213114754  |\n",
       "| STORE_C  |  PRODUCT_4   |         0.0          |\n",
       "| STORE_B  |  PRODUCT_13  | 0.19718309859154928  |\n",
       "| STORE_N  |  PRODUCT_37  |         0.0          |\n",
       "| STORE_L  |  PRODUCT_18  |         0.0          |\n",
       "| STORE_B  |  PRODUCT_38  |         0.0          |\n",
       "+----------+--------------+----------------------+\n",
       "[343 rows x 3 columns]\n",
       "Note: Only the head of the SFrame is printed.\n",
       "You can use print_rows(num_rows=m, num_columns=n) to print more rows and columns."
      ]
     },
     "execution_count": 34,
     "metadata": {},
     "output_type": "execute_result"
    }
   ],
   "source": [
    "data_norm_1,data_norm_2=split_data1(data_norm)\n",
    "data_norm_1"
   ]
  },
  {
   "cell_type": "code",
   "execution_count": 35,
   "metadata": {},
   "outputs": [
    {
     "data": {
      "text/html": [
       "<pre>Preparing data set.</pre>"
      ],
      "text/plain": [
       "Preparing data set."
      ]
     },
     "metadata": {},
     "output_type": "display_data"
    },
    {
     "data": {
      "text/html": [
       "<pre>    Data has 343 observations with 11 users and 39 items.</pre>"
      ],
      "text/plain": [
       "    Data has 343 observations with 11 users and 39 items."
      ]
     },
     "metadata": {},
     "output_type": "display_data"
    },
    {
     "data": {
      "text/html": [
       "<pre>    Data prepared in: 0.004733s</pre>"
      ],
      "text/plain": [
       "    Data prepared in: 0.004733s"
      ]
     },
     "metadata": {},
     "output_type": "display_data"
    },
    {
     "data": {
      "text/html": [
       "<pre>Training model from provided data.</pre>"
      ],
      "text/plain": [
       "Training model from provided data."
      ]
     },
     "metadata": {},
     "output_type": "display_data"
    },
    {
     "data": {
      "text/html": [
       "<pre>Gathering per-item and per-user statistics.</pre>"
      ],
      "text/plain": [
       "Gathering per-item and per-user statistics."
      ]
     },
     "metadata": {},
     "output_type": "display_data"
    },
    {
     "data": {
      "text/html": [
       "<pre>+--------------------------------+------------+</pre>"
      ],
      "text/plain": [
       "+--------------------------------+------------+"
      ]
     },
     "metadata": {},
     "output_type": "display_data"
    },
    {
     "data": {
      "text/html": [
       "<pre>| Elapsed Time (Item Statistics) | % Complete |</pre>"
      ],
      "text/plain": [
       "| Elapsed Time (Item Statistics) | % Complete |"
      ]
     },
     "metadata": {},
     "output_type": "display_data"
    },
    {
     "data": {
      "text/html": [
       "<pre>+--------------------------------+------------+</pre>"
      ],
      "text/plain": [
       "+--------------------------------+------------+"
      ]
     },
     "metadata": {},
     "output_type": "display_data"
    },
    {
     "data": {
      "text/html": [
       "<pre>| 556us                          | 100        |</pre>"
      ],
      "text/plain": [
       "| 556us                          | 100        |"
      ]
     },
     "metadata": {},
     "output_type": "display_data"
    },
    {
     "data": {
      "text/html": [
       "<pre>+--------------------------------+------------+</pre>"
      ],
      "text/plain": [
       "+--------------------------------+------------+"
      ]
     },
     "metadata": {},
     "output_type": "display_data"
    },
    {
     "data": {
      "text/html": [
       "<pre>Setting up lookup tables.</pre>"
      ],
      "text/plain": [
       "Setting up lookup tables."
      ]
     },
     "metadata": {},
     "output_type": "display_data"
    },
    {
     "data": {
      "text/html": [
       "<pre>Processing data in one pass using dense lookup tables.</pre>"
      ],
      "text/plain": [
       "Processing data in one pass using dense lookup tables."
      ]
     },
     "metadata": {},
     "output_type": "display_data"
    },
    {
     "data": {
      "text/html": [
       "<pre>+-------------------------------------+------------------+-----------------+</pre>"
      ],
      "text/plain": [
       "+-------------------------------------+------------------+-----------------+"
      ]
     },
     "metadata": {},
     "output_type": "display_data"
    },
    {
     "data": {
      "text/html": [
       "<pre>| Elapsed Time (Constructing Lookups) | Total % Complete | Items Processed |</pre>"
      ],
      "text/plain": [
       "| Elapsed Time (Constructing Lookups) | Total % Complete | Items Processed |"
      ]
     },
     "metadata": {},
     "output_type": "display_data"
    },
    {
     "data": {
      "text/html": [
       "<pre>+-------------------------------------+------------------+-----------------+</pre>"
      ],
      "text/plain": [
       "+-------------------------------------+------------------+-----------------+"
      ]
     },
     "metadata": {},
     "output_type": "display_data"
    },
    {
     "name": "stdout",
     "output_type": "stream",
     "text": [
      "+----------+--------------+-----------------------+------+\n",
      "| STORE_CD | PRODUCT_CODE |         score         | rank |\n",
      "+----------+--------------+-----------------------+------+\n",
      "| STORE_A  |  PRODUCT_20  |  0.14223893284797667  |  1   |\n",
      "| STORE_A  |  PRODUCT_12  |   0.1403818468252818  |  2   |\n",
      "| STORE_A  |  PRODUCT_32  |   0.132467778523763   |  3   |\n",
      "| STORE_A  |  PRODUCT_28  |  0.12904014587402343  |  4   |\n",
      "| STORE_A  |  PRODUCT_29  |  0.12232717672983805  |  5   |\n",
      "| STORE_B  |  PRODUCT_15  |  0.014795303344726562 |  1   |\n",
      "| STORE_B  |  PRODUCT_23  |  0.014597838744521141 |  2   |\n",
      "| STORE_B  |  PRODUCT_10  |  0.011196691542863846 |  3   |\n",
      "| STORE_B  |  PRODUCT_36  |  0.01085217110812664  |  4   |\n",
      "| STORE_B  |  PRODUCT_6   |  0.009509321302175522 |  5   |\n",
      "| STORE_C  |  PRODUCT_26  |  0.10617608037488215  |  1   |\n",
      "| STORE_C  |  PRODUCT_31  |  0.09187258523086021  |  2   |\n",
      "| STORE_C  |  PRODUCT_8   |  0.08753966463023219  |  3   |\n",
      "| STORE_C  |  PRODUCT_13  |  0.08264730511040523  |  4   |\n",
      "| STORE_C  |  PRODUCT_29  |  0.07373348803355775  |  5   |\n",
      "| STORE_I  |  PRODUCT_1   |  0.15241516567766666  |  1   |\n",
      "| STORE_I  |  PRODUCT_22  |   0.1420493647456169  |  2   |\n",
      "| STORE_I  |  PRODUCT_10  |  0.12264908105134964  |  3   |\n",
      "| STORE_I  |  PRODUCT_40  |  0.11150881461799145  |  4   |\n",
      "| STORE_I  |  PRODUCT_35  |  0.08596990816295147  |  5   |\n",
      "| STORE_K  |  PRODUCT_15  |  0.016365977850827305 |  1   |\n",
      "| STORE_K  |  PRODUCT_27  |  0.014269229137536251 |  2   |\n",
      "| STORE_K  |  PRODUCT_17  |  0.012342429522312048 |  3   |\n",
      "| STORE_K  |  PRODUCT_31  |  0.011130381714213978 |  4   |\n",
      "| STORE_K  |  PRODUCT_10  |  0.009632020285635284 |  5   |\n",
      "| STORE_L  |  PRODUCT_39  |  0.001673981998905991 |  1   |\n",
      "| STORE_L  |  PRODUCT_2   | 0.0004071918400851163 |  2   |\n",
      "| STORE_L  |  PRODUCT_24  | 0.0003517522956385757 |  3   |\n",
      "| STORE_L  |  PRODUCT_20  | 0.0003131068114078406 |  4   |\n",
      "| STORE_L  |  PRODUCT_21  |  0.000145680976636482 |  5   |\n",
      "| STORE_M  |  PRODUCT_25  |  0.18625847569533757  |  1   |\n",
      "| STORE_M  |  PRODUCT_18  |   0.1841962252344404  |  2   |\n",
      "| STORE_M  |  PRODUCT_8   |  0.17557645269802638  |  3   |\n",
      "| STORE_M  |  PRODUCT_24  |  0.16555999219417572  |  4   |\n",
      "| STORE_M  |  PRODUCT_20  |  0.16457158752850123  |  5   |\n",
      "| STORE_N  |  PRODUCT_19  |  0.11547484643319074  |  1   |\n",
      "| STORE_N  |  PRODUCT_31  |  0.10494946556932785  |  2   |\n",
      "| STORE_N  |  PRODUCT_22  |  0.05289085472331328  |  3   |\n",
      "| STORE_N  |  PRODUCT_35  |  0.04797532628564274  |  4   |\n",
      "| STORE_N  |  PRODUCT_38  |          0.0          |  5   |\n",
      "| STORE_R  |  PRODUCT_13  |  0.028253188056330526 |  1   |\n",
      "| STORE_R  |  PRODUCT_15  |  0.02244935304887833  |  2   |\n",
      "| STORE_R  |  PRODUCT_30  |  0.020885125283272035 |  3   |\n",
      "| STORE_R  |  PRODUCT_18  |  0.00940315185054656  |  4   |\n",
      "| STORE_R  |  PRODUCT_20  |  0.00931195866677069  |  5   |\n",
      "| STORE_S  |  PRODUCT_25  |  0.03239866418223227  |  1   |\n",
      "| STORE_S  |  PRODUCT_6   |  0.030458319571710402 |  2   |\n",
      "| STORE_S  |  PRODUCT_29  |  0.027981504317252867 |  3   |\n",
      "| STORE_S  |  PRODUCT_30  |  0.027614064754978303 |  4   |\n",
      "| STORE_S  |  PRODUCT_1   |  0.023015272232793992 |  5   |\n",
      "+----------+--------------+-----------------------+------+\n",
      "[55 rows x 4 columns]\n",
      "\n"
     ]
    },
    {
     "data": {
      "text/html": [
       "<pre>| 863us                               | 10               | 3               |</pre>"
      ],
      "text/plain": [
       "| 863us                               | 10               | 3               |"
      ]
     },
     "metadata": {},
     "output_type": "display_data"
    },
    {
     "data": {
      "text/html": [
       "<pre>| 1.394ms                             | 100              | 39              |</pre>"
      ],
      "text/plain": [
       "| 1.394ms                             | 100              | 39              |"
      ]
     },
     "metadata": {},
     "output_type": "display_data"
    },
    {
     "data": {
      "text/html": [
       "<pre>+-------------------------------------+------------------+-----------------+</pre>"
      ],
      "text/plain": [
       "+-------------------------------------+------------------+-----------------+"
      ]
     },
     "metadata": {},
     "output_type": "display_data"
    },
    {
     "data": {
      "text/html": [
       "<pre>Finalizing lookup tables.</pre>"
      ],
      "text/plain": [
       "Finalizing lookup tables."
      ]
     },
     "metadata": {},
     "output_type": "display_data"
    }
   ],
   "source": [
    "final_model = tc.item_similarity_recommender.create(data_norm_1,\n",
    "                                            user_id=user_id, \n",
    "                                            item_id=item_id, \n",
    "                                            target='scaled_365days_sales', similarity_type='cosine')\n",
    "recom = final_model.recommend(users=users_to_recommend, k=n_rec)\n",
    "recom.print_rows(n_display)"
   ]
  },
  {
   "cell_type": "code",
   "execution_count": 36,
   "metadata": {},
   "outputs": [
    {
     "data": {
      "text/html": [
       "<pre>Generating candidate set for working with new users.</pre>"
      ],
      "text/plain": [
       "Generating candidate set for working with new users."
      ]
     },
     "metadata": {},
     "output_type": "display_data"
    },
    {
     "data": {
      "text/html": [
       "<pre>Finished training in 0.004804s</pre>"
      ],
      "text/plain": [
       "Finished training in 0.004804s"
      ]
     },
     "metadata": {},
     "output_type": "display_data"
    },
    {
     "name": "stdout",
     "output_type": "stream",
     "text": [
      "(55, 4)\n"
     ]
    },
    {
     "data": {
      "text/html": [
       "<div>\n",
       "<style scoped>\n",
       "    .dataframe tbody tr th:only-of-type {\n",
       "        vertical-align: middle;\n",
       "    }\n",
       "\n",
       "    .dataframe tbody tr th {\n",
       "        vertical-align: top;\n",
       "    }\n",
       "\n",
       "    .dataframe thead th {\n",
       "        text-align: right;\n",
       "    }\n",
       "</style>\n",
       "<table border=\"1\" class=\"dataframe\">\n",
       "  <thead>\n",
       "    <tr style=\"text-align: right;\">\n",
       "      <th></th>\n",
       "      <th>STORE_CD</th>\n",
       "      <th>PRODUCT_CODE</th>\n",
       "      <th>score</th>\n",
       "      <th>rank</th>\n",
       "    </tr>\n",
       "  </thead>\n",
       "  <tbody>\n",
       "    <tr>\n",
       "      <th>0</th>\n",
       "      <td>STORE_A</td>\n",
       "      <td>PRODUCT_20</td>\n",
       "      <td>0.142239</td>\n",
       "      <td>1</td>\n",
       "    </tr>\n",
       "    <tr>\n",
       "      <th>1</th>\n",
       "      <td>STORE_A</td>\n",
       "      <td>PRODUCT_12</td>\n",
       "      <td>0.140382</td>\n",
       "      <td>2</td>\n",
       "    </tr>\n",
       "    <tr>\n",
       "      <th>2</th>\n",
       "      <td>STORE_A</td>\n",
       "      <td>PRODUCT_32</td>\n",
       "      <td>0.132468</td>\n",
       "      <td>3</td>\n",
       "    </tr>\n",
       "    <tr>\n",
       "      <th>3</th>\n",
       "      <td>STORE_A</td>\n",
       "      <td>PRODUCT_28</td>\n",
       "      <td>0.129040</td>\n",
       "      <td>4</td>\n",
       "    </tr>\n",
       "    <tr>\n",
       "      <th>4</th>\n",
       "      <td>STORE_A</td>\n",
       "      <td>PRODUCT_29</td>\n",
       "      <td>0.122327</td>\n",
       "      <td>5</td>\n",
       "    </tr>\n",
       "  </tbody>\n",
       "</table>\n",
       "</div>"
      ],
      "text/plain": [
       "  STORE_CD PRODUCT_CODE     score  rank\n",
       "0  STORE_A   PRODUCT_20  0.142239     1\n",
       "1  STORE_A   PRODUCT_12  0.140382     2\n",
       "2  STORE_A   PRODUCT_32  0.132468     3\n",
       "3  STORE_A   PRODUCT_28  0.129040     4\n",
       "4  STORE_A   PRODUCT_29  0.122327     5"
      ]
     },
     "execution_count": 36,
     "metadata": {},
     "output_type": "execute_result"
    }
   ],
   "source": [
    "df_rec = recom.to_dataframe()\n",
    "print(df_rec.shape)\n",
    "df_rec.head()"
   ]
  },
  {
   "cell_type": "code",
   "execution_count": 37,
   "metadata": {},
   "outputs": [],
   "source": [
    "# function to create list of recomendation for the list of stores \n",
    "# function craete output csv file and save it in local folder\n",
    "\n",
    "def create_output(model, store_to_recommend, n_rec, print_csv=True):\n",
    "    recomendation = final_model.recommend(users=store_to_recommend, k=n_rec)\n",
    "    df_rec = recomendation.to_dataframe()\n",
    "    df_rec['recommendedProducts'] = df_rec.groupby([user_id])[item_id] \\\n",
    "        .transform(lambda x: '|'.join(x.astype(str)))\n",
    "    df_output = df_rec[['STORE_CD', 'recommendedProducts']].drop_duplicates() \\\n",
    "        .sort_values('STORE_CD').set_index('STORE_CD')\n",
    "    if print_csv:\n",
    "        df_output.to_csv('option1_recommendation.csv')\n",
    "        print(\"An output file can be found in local folder\")\n",
    "    return df_output"
   ]
  },
  {
   "cell_type": "code",
   "execution_count": 38,
   "metadata": {},
   "outputs": [
    {
     "name": "stdout",
     "output_type": "stream",
     "text": [
      "An output file can be found in local folder\n",
      "(11, 1)\n"
     ]
    },
    {
     "data": {
      "text/html": [
       "<div>\n",
       "<style scoped>\n",
       "    .dataframe tbody tr th:only-of-type {\n",
       "        vertical-align: middle;\n",
       "    }\n",
       "\n",
       "    .dataframe tbody tr th {\n",
       "        vertical-align: top;\n",
       "    }\n",
       "\n",
       "    .dataframe thead th {\n",
       "        text-align: right;\n",
       "    }\n",
       "</style>\n",
       "<table border=\"1\" class=\"dataframe\">\n",
       "  <thead>\n",
       "    <tr style=\"text-align: right;\">\n",
       "      <th></th>\n",
       "      <th>recommendedProducts</th>\n",
       "    </tr>\n",
       "    <tr>\n",
       "      <th>STORE_CD</th>\n",
       "      <th></th>\n",
       "    </tr>\n",
       "  </thead>\n",
       "  <tbody>\n",
       "    <tr>\n",
       "      <th>STORE_A</th>\n",
       "      <td>PRODUCT_20|PRODUCT_12|PRODUCT_32|PRODUCT_28|PR...</td>\n",
       "    </tr>\n",
       "    <tr>\n",
       "      <th>STORE_B</th>\n",
       "      <td>PRODUCT_15|PRODUCT_23|PRODUCT_10|PRODUCT_36|PR...</td>\n",
       "    </tr>\n",
       "    <tr>\n",
       "      <th>STORE_C</th>\n",
       "      <td>PRODUCT_26|PRODUCT_31|PRODUCT_8|PRODUCT_13|PRO...</td>\n",
       "    </tr>\n",
       "    <tr>\n",
       "      <th>STORE_I</th>\n",
       "      <td>PRODUCT_1|PRODUCT_22|PRODUCT_10|PRODUCT_40|PRO...</td>\n",
       "    </tr>\n",
       "    <tr>\n",
       "      <th>STORE_K</th>\n",
       "      <td>PRODUCT_15|PRODUCT_27|PRODUCT_17|PRODUCT_31|PR...</td>\n",
       "    </tr>\n",
       "  </tbody>\n",
       "</table>\n",
       "</div>"
      ],
      "text/plain": [
       "                                        recommendedProducts\n",
       "STORE_CD                                                   \n",
       "STORE_A   PRODUCT_20|PRODUCT_12|PRODUCT_32|PRODUCT_28|PR...\n",
       "STORE_B   PRODUCT_15|PRODUCT_23|PRODUCT_10|PRODUCT_36|PR...\n",
       "STORE_C   PRODUCT_26|PRODUCT_31|PRODUCT_8|PRODUCT_13|PRO...\n",
       "STORE_I   PRODUCT_1|PRODUCT_22|PRODUCT_10|PRODUCT_40|PRO...\n",
       "STORE_K   PRODUCT_15|PRODUCT_27|PRODUCT_17|PRODUCT_31|PR..."
      ]
     },
     "execution_count": 38,
     "metadata": {},
     "output_type": "execute_result"
    }
   ],
   "source": [
    "df_output = create_output(pear_norm, users_to_recommend, n_rec, print_csv=True)\n",
    "print(df_output.shape)\n",
    "df_output.head()"
   ]
  },
  {
   "cell_type": "code",
   "execution_count": 39,
   "metadata": {},
   "outputs": [
    {
     "data": {
      "text/plain": [
       "['PRODUCT_20|PRODUCT_12|PRODUCT_32|PRODUCT_28|PRODUCT_29']"
      ]
     },
     "execution_count": 39,
     "metadata": {},
     "output_type": "execute_result"
    }
   ],
   "source": [
    "list(df_output.loc['STORE_A'])"
   ]
  },
  {
   "cell_type": "markdown",
   "metadata": {},
   "source": [
    "# Store recomendation function\n",
    "\n",
    "- given name of the stores, show the recomendation of the products"
   ]
  },
  {
   "cell_type": "code",
   "execution_count": 40,
   "metadata": {},
   "outputs": [],
   "source": [
    "def product_recomendation(store_id):\n",
    "    if store_id not in df_output.index:\n",
    "        print('Store not found.')\n",
    "        return store_id\n",
    "    return list(df_output.loc[store_id])"
   ]
  },
  {
   "cell_type": "code",
   "execution_count": 41,
   "metadata": {},
   "outputs": [
    {
     "data": {
      "text/plain": [
       "['PRODUCT_20|PRODUCT_12|PRODUCT_32|PRODUCT_28|PRODUCT_29']"
      ]
     },
     "execution_count": 41,
     "metadata": {},
     "output_type": "execute_result"
    }
   ],
   "source": [
    "product_recomendation('STORE_A')"
   ]
  },
  {
   "cell_type": "code",
   "execution_count": null,
   "metadata": {},
   "outputs": [],
   "source": []
  },
  {
   "cell_type": "markdown",
   "metadata": {},
   "source": [
    "# Predict recommendation for the stores which was not present in sales data\n",
    "\n",
    "- use similiarity measure to find out which stores are similar to others stores base on the stores data \n",
    "- recommend products to the stores \n",
    "- can improve this with eature enginering if more time permited "
   ]
  },
  {
   "cell_type": "code",
   "execution_count": 42,
   "metadata": {},
   "outputs": [
    {
     "data": {
      "text/html": [
       "<div>\n",
       "<style scoped>\n",
       "    .dataframe tbody tr th:only-of-type {\n",
       "        vertical-align: middle;\n",
       "    }\n",
       "\n",
       "    .dataframe tbody tr th {\n",
       "        vertical-align: top;\n",
       "    }\n",
       "\n",
       "    .dataframe thead th {\n",
       "        text-align: right;\n",
       "    }\n",
       "</style>\n",
       "<table border=\"1\" class=\"dataframe\">\n",
       "  <thead>\n",
       "    <tr style=\"text-align: right;\">\n",
       "      <th></th>\n",
       "      <th>STORE_CD</th>\n",
       "      <th>LAST_90DAYS_DEPL</th>\n",
       "      <th>LAST_180DAYS_DEPL</th>\n",
       "      <th>STORE_AREA_SQ_FT</th>\n",
       "      <th>STORE_WEEKLY_VOLUME</th>\n",
       "      <th>LAST_365DAYS_DEPL</th>\n",
       "      <th>INCOME_FEATURE_1</th>\n",
       "      <th>INCOME_FEATURE2</th>\n",
       "      <th>INCOME_FEATURE3</th>\n",
       "      <th>INCOME_FEATURE4</th>\n",
       "      <th>...</th>\n",
       "      <th>MALE_POP_5</th>\n",
       "      <th>MALE_POP_6</th>\n",
       "      <th>MALE_POP_7</th>\n",
       "      <th>FEMALE_POP_1</th>\n",
       "      <th>FEMALE_POP_2</th>\n",
       "      <th>FEMALE_POP_3</th>\n",
       "      <th>FEMALE_POP_4</th>\n",
       "      <th>FEMALE_POP_5</th>\n",
       "      <th>FEMALE_POP_6</th>\n",
       "      <th>FEMALE_POP_7</th>\n",
       "    </tr>\n",
       "  </thead>\n",
       "  <tbody>\n",
       "    <tr>\n",
       "      <th>0</th>\n",
       "      <td>STORE_A</td>\n",
       "      <td>541.2502</td>\n",
       "      <td>1018.5504</td>\n",
       "      <td>8</td>\n",
       "      <td>20</td>\n",
       "      <td>1715.3688</td>\n",
       "      <td>0.0231</td>\n",
       "      <td>0.0388</td>\n",
       "      <td>0.0526</td>\n",
       "      <td>0.0711</td>\n",
       "      <td>...</td>\n",
       "      <td>0.0494</td>\n",
       "      <td>0.0295</td>\n",
       "      <td>0.0132</td>\n",
       "      <td>0.0273</td>\n",
       "      <td>0.0877</td>\n",
       "      <td>0.0682</td>\n",
       "      <td>0.0538</td>\n",
       "      <td>0.0518</td>\n",
       "      <td>0.0317</td>\n",
       "      <td>0.0181</td>\n",
       "    </tr>\n",
       "    <tr>\n",
       "      <th>1</th>\n",
       "      <td>STORE_B</td>\n",
       "      <td>51.7506</td>\n",
       "      <td>438.1680</td>\n",
       "      <td>55</td>\n",
       "      <td>1350</td>\n",
       "      <td>1149.0872</td>\n",
       "      <td>0.0236</td>\n",
       "      <td>0.0440</td>\n",
       "      <td>0.0585</td>\n",
       "      <td>0.0754</td>\n",
       "      <td>...</td>\n",
       "      <td>0.0484</td>\n",
       "      <td>0.0288</td>\n",
       "      <td>0.0137</td>\n",
       "      <td>0.0270</td>\n",
       "      <td>0.0894</td>\n",
       "      <td>0.0685</td>\n",
       "      <td>0.0520</td>\n",
       "      <td>0.0509</td>\n",
       "      <td>0.0318</td>\n",
       "      <td>0.0192</td>\n",
       "    </tr>\n",
       "    <tr>\n",
       "      <th>2</th>\n",
       "      <td>STORE_C</td>\n",
       "      <td>207.9166</td>\n",
       "      <td>428.4165</td>\n",
       "      <td>7</td>\n",
       "      <td>90</td>\n",
       "      <td>812.4164</td>\n",
       "      <td>0.0262</td>\n",
       "      <td>0.0474</td>\n",
       "      <td>0.0523</td>\n",
       "      <td>0.0977</td>\n",
       "      <td>...</td>\n",
       "      <td>0.0313</td>\n",
       "      <td>0.0176</td>\n",
       "      <td>0.0080</td>\n",
       "      <td>0.0275</td>\n",
       "      <td>0.0989</td>\n",
       "      <td>0.0751</td>\n",
       "      <td>0.0458</td>\n",
       "      <td>0.0295</td>\n",
       "      <td>0.0169</td>\n",
       "      <td>0.0106</td>\n",
       "    </tr>\n",
       "    <tr>\n",
       "      <th>3</th>\n",
       "      <td>STORE_D</td>\n",
       "      <td>23.8919</td>\n",
       "      <td>54.6919</td>\n",
       "      <td>9</td>\n",
       "      <td>350</td>\n",
       "      <td>113.8689</td>\n",
       "      <td>0.0236</td>\n",
       "      <td>0.0440</td>\n",
       "      <td>0.0585</td>\n",
       "      <td>0.0754</td>\n",
       "      <td>...</td>\n",
       "      <td>0.0484</td>\n",
       "      <td>0.0288</td>\n",
       "      <td>0.0137</td>\n",
       "      <td>0.0270</td>\n",
       "      <td>0.0894</td>\n",
       "      <td>0.0685</td>\n",
       "      <td>0.0520</td>\n",
       "      <td>0.0509</td>\n",
       "      <td>0.0318</td>\n",
       "      <td>0.0192</td>\n",
       "    </tr>\n",
       "    <tr>\n",
       "      <th>4</th>\n",
       "      <td>STORE_E</td>\n",
       "      <td>NaN</td>\n",
       "      <td>NaN</td>\n",
       "      <td>8</td>\n",
       "      <td>100</td>\n",
       "      <td>471.3765</td>\n",
       "      <td>0.0236</td>\n",
       "      <td>0.0440</td>\n",
       "      <td>0.0585</td>\n",
       "      <td>0.0754</td>\n",
       "      <td>...</td>\n",
       "      <td>0.0484</td>\n",
       "      <td>0.0288</td>\n",
       "      <td>0.0137</td>\n",
       "      <td>0.0270</td>\n",
       "      <td>0.0894</td>\n",
       "      <td>0.0685</td>\n",
       "      <td>0.0520</td>\n",
       "      <td>0.0509</td>\n",
       "      <td>0.0318</td>\n",
       "      <td>0.0192</td>\n",
       "    </tr>\n",
       "  </tbody>\n",
       "</table>\n",
       "<p>5 rows × 28 columns</p>\n",
       "</div>"
      ],
      "text/plain": [
       "  STORE_CD  LAST_90DAYS_DEPL  LAST_180DAYS_DEPL  STORE_AREA_SQ_FT  \\\n",
       "0  STORE_A          541.2502          1018.5504                 8   \n",
       "1  STORE_B           51.7506           438.1680                55   \n",
       "2  STORE_C          207.9166           428.4165                 7   \n",
       "3  STORE_D           23.8919            54.6919                 9   \n",
       "4  STORE_E               NaN                NaN                 8   \n",
       "\n",
       "   STORE_WEEKLY_VOLUME  LAST_365DAYS_DEPL  INCOME_FEATURE_1  INCOME_FEATURE2  \\\n",
       "0                   20          1715.3688            0.0231           0.0388   \n",
       "1                 1350          1149.0872            0.0236           0.0440   \n",
       "2                   90           812.4164            0.0262           0.0474   \n",
       "3                  350           113.8689            0.0236           0.0440   \n",
       "4                  100           471.3765            0.0236           0.0440   \n",
       "\n",
       "   INCOME_FEATURE3  INCOME_FEATURE4      ...       MALE_POP_5  MALE_POP_6  \\\n",
       "0           0.0526           0.0711      ...           0.0494      0.0295   \n",
       "1           0.0585           0.0754      ...           0.0484      0.0288   \n",
       "2           0.0523           0.0977      ...           0.0313      0.0176   \n",
       "3           0.0585           0.0754      ...           0.0484      0.0288   \n",
       "4           0.0585           0.0754      ...           0.0484      0.0288   \n",
       "\n",
       "   MALE_POP_7  FEMALE_POP_1  FEMALE_POP_2  FEMALE_POP_3  FEMALE_POP_4  \\\n",
       "0      0.0132        0.0273        0.0877        0.0682        0.0538   \n",
       "1      0.0137        0.0270        0.0894        0.0685        0.0520   \n",
       "2      0.0080        0.0275        0.0989        0.0751        0.0458   \n",
       "3      0.0137        0.0270        0.0894        0.0685        0.0520   \n",
       "4      0.0137        0.0270        0.0894        0.0685        0.0520   \n",
       "\n",
       "   FEMALE_POP_5  FEMALE_POP_6  FEMALE_POP_7  \n",
       "0        0.0518        0.0317        0.0181  \n",
       "1        0.0509        0.0318        0.0192  \n",
       "2        0.0295        0.0169        0.0106  \n",
       "3        0.0509        0.0318        0.0192  \n",
       "4        0.0509        0.0318        0.0192  \n",
       "\n",
       "[5 rows x 28 columns]"
      ]
     },
     "execution_count": 42,
     "metadata": {},
     "output_type": "execute_result"
    }
   ],
   "source": [
    "store1=store.copy()\n",
    "store1.head()"
   ]
  },
  {
   "cell_type": "code",
   "execution_count": 43,
   "metadata": {},
   "outputs": [],
   "source": [
    "# replace NAN with 100 for 'LAST_90DAYS_DEPL' column and 200 for 'LAST_180DAYS_DEPL'\n",
    "# one reason to choose this because 'LAST_365DAYS_DEPL' is 400 for all fissings columns\n",
    "# we can guess first 90 days sales was 100 , and 180 days sales was 200.\n",
    "store1[['LAST_90DAYS_DEPL']] = store1[['LAST_90DAYS_DEPL']].fillna(value=100)\n",
    "store1[['LAST_180DAYS_DEPL']] = store1[['LAST_180DAYS_DEPL']].fillna(value=200)"
   ]
  },
  {
   "cell_type": "code",
   "execution_count": 44,
   "metadata": {},
   "outputs": [
    {
     "data": {
      "text/html": [
       "<div>\n",
       "<style scoped>\n",
       "    .dataframe tbody tr th:only-of-type {\n",
       "        vertical-align: middle;\n",
       "    }\n",
       "\n",
       "    .dataframe tbody tr th {\n",
       "        vertical-align: top;\n",
       "    }\n",
       "\n",
       "    .dataframe thead th {\n",
       "        text-align: right;\n",
       "    }\n",
       "</style>\n",
       "<table border=\"1\" class=\"dataframe\">\n",
       "  <thead>\n",
       "    <tr style=\"text-align: right;\">\n",
       "      <th></th>\n",
       "      <th>LAST_90DAYS_DEPL</th>\n",
       "      <th>LAST_180DAYS_DEPL</th>\n",
       "      <th>STORE_AREA_SQ_FT</th>\n",
       "      <th>STORE_WEEKLY_VOLUME</th>\n",
       "      <th>LAST_365DAYS_DEPL</th>\n",
       "      <th>INCOME_FEATURE_1</th>\n",
       "      <th>INCOME_FEATURE2</th>\n",
       "      <th>INCOME_FEATURE3</th>\n",
       "      <th>INCOME_FEATURE4</th>\n",
       "      <th>INCOME_FEATURE5</th>\n",
       "      <th>...</th>\n",
       "      <th>MALE_POP_5</th>\n",
       "      <th>MALE_POP_6</th>\n",
       "      <th>MALE_POP_7</th>\n",
       "      <th>FEMALE_POP_1</th>\n",
       "      <th>FEMALE_POP_2</th>\n",
       "      <th>FEMALE_POP_3</th>\n",
       "      <th>FEMALE_POP_4</th>\n",
       "      <th>FEMALE_POP_5</th>\n",
       "      <th>FEMALE_POP_6</th>\n",
       "      <th>FEMALE_POP_7</th>\n",
       "    </tr>\n",
       "    <tr>\n",
       "      <th>STORE_CD</th>\n",
       "      <th></th>\n",
       "      <th></th>\n",
       "      <th></th>\n",
       "      <th></th>\n",
       "      <th></th>\n",
       "      <th></th>\n",
       "      <th></th>\n",
       "      <th></th>\n",
       "      <th></th>\n",
       "      <th></th>\n",
       "      <th></th>\n",
       "      <th></th>\n",
       "      <th></th>\n",
       "      <th></th>\n",
       "      <th></th>\n",
       "      <th></th>\n",
       "      <th></th>\n",
       "      <th></th>\n",
       "      <th></th>\n",
       "      <th></th>\n",
       "      <th></th>\n",
       "    </tr>\n",
       "  </thead>\n",
       "  <tbody>\n",
       "    <tr>\n",
       "      <th>STORE_A</th>\n",
       "      <td>541.2502</td>\n",
       "      <td>1018.5504</td>\n",
       "      <td>8</td>\n",
       "      <td>20</td>\n",
       "      <td>1715.3688</td>\n",
       "      <td>0.0231</td>\n",
       "      <td>0.0388</td>\n",
       "      <td>0.0526</td>\n",
       "      <td>0.0711</td>\n",
       "      <td>0.0792</td>\n",
       "      <td>...</td>\n",
       "      <td>0.0494</td>\n",
       "      <td>0.0295</td>\n",
       "      <td>0.0132</td>\n",
       "      <td>0.0273</td>\n",
       "      <td>0.0877</td>\n",
       "      <td>0.0682</td>\n",
       "      <td>0.0538</td>\n",
       "      <td>0.0518</td>\n",
       "      <td>0.0317</td>\n",
       "      <td>0.0181</td>\n",
       "    </tr>\n",
       "    <tr>\n",
       "      <th>STORE_B</th>\n",
       "      <td>51.7506</td>\n",
       "      <td>438.1680</td>\n",
       "      <td>55</td>\n",
       "      <td>1350</td>\n",
       "      <td>1149.0872</td>\n",
       "      <td>0.0236</td>\n",
       "      <td>0.0440</td>\n",
       "      <td>0.0585</td>\n",
       "      <td>0.0754</td>\n",
       "      <td>0.0829</td>\n",
       "      <td>...</td>\n",
       "      <td>0.0484</td>\n",
       "      <td>0.0288</td>\n",
       "      <td>0.0137</td>\n",
       "      <td>0.0270</td>\n",
       "      <td>0.0894</td>\n",
       "      <td>0.0685</td>\n",
       "      <td>0.0520</td>\n",
       "      <td>0.0509</td>\n",
       "      <td>0.0318</td>\n",
       "      <td>0.0192</td>\n",
       "    </tr>\n",
       "    <tr>\n",
       "      <th>STORE_C</th>\n",
       "      <td>207.9166</td>\n",
       "      <td>428.4165</td>\n",
       "      <td>7</td>\n",
       "      <td>90</td>\n",
       "      <td>812.4164</td>\n",
       "      <td>0.0262</td>\n",
       "      <td>0.0474</td>\n",
       "      <td>0.0523</td>\n",
       "      <td>0.0977</td>\n",
       "      <td>0.1190</td>\n",
       "      <td>...</td>\n",
       "      <td>0.0313</td>\n",
       "      <td>0.0176</td>\n",
       "      <td>0.0080</td>\n",
       "      <td>0.0275</td>\n",
       "      <td>0.0989</td>\n",
       "      <td>0.0751</td>\n",
       "      <td>0.0458</td>\n",
       "      <td>0.0295</td>\n",
       "      <td>0.0169</td>\n",
       "      <td>0.0106</td>\n",
       "    </tr>\n",
       "    <tr>\n",
       "      <th>STORE_D</th>\n",
       "      <td>23.8919</td>\n",
       "      <td>54.6919</td>\n",
       "      <td>9</td>\n",
       "      <td>350</td>\n",
       "      <td>113.8689</td>\n",
       "      <td>0.0236</td>\n",
       "      <td>0.0440</td>\n",
       "      <td>0.0585</td>\n",
       "      <td>0.0754</td>\n",
       "      <td>0.0829</td>\n",
       "      <td>...</td>\n",
       "      <td>0.0484</td>\n",
       "      <td>0.0288</td>\n",
       "      <td>0.0137</td>\n",
       "      <td>0.0270</td>\n",
       "      <td>0.0894</td>\n",
       "      <td>0.0685</td>\n",
       "      <td>0.0520</td>\n",
       "      <td>0.0509</td>\n",
       "      <td>0.0318</td>\n",
       "      <td>0.0192</td>\n",
       "    </tr>\n",
       "    <tr>\n",
       "      <th>STORE_E</th>\n",
       "      <td>100.0000</td>\n",
       "      <td>200.0000</td>\n",
       "      <td>8</td>\n",
       "      <td>100</td>\n",
       "      <td>471.3765</td>\n",
       "      <td>0.0236</td>\n",
       "      <td>0.0440</td>\n",
       "      <td>0.0585</td>\n",
       "      <td>0.0754</td>\n",
       "      <td>0.0829</td>\n",
       "      <td>...</td>\n",
       "      <td>0.0484</td>\n",
       "      <td>0.0288</td>\n",
       "      <td>0.0137</td>\n",
       "      <td>0.0270</td>\n",
       "      <td>0.0894</td>\n",
       "      <td>0.0685</td>\n",
       "      <td>0.0520</td>\n",
       "      <td>0.0509</td>\n",
       "      <td>0.0318</td>\n",
       "      <td>0.0192</td>\n",
       "    </tr>\n",
       "  </tbody>\n",
       "</table>\n",
       "<p>5 rows × 27 columns</p>\n",
       "</div>"
      ],
      "text/plain": [
       "          LAST_90DAYS_DEPL  LAST_180DAYS_DEPL  STORE_AREA_SQ_FT  \\\n",
       "STORE_CD                                                          \n",
       "STORE_A           541.2502          1018.5504                 8   \n",
       "STORE_B            51.7506           438.1680                55   \n",
       "STORE_C           207.9166           428.4165                 7   \n",
       "STORE_D            23.8919            54.6919                 9   \n",
       "STORE_E           100.0000           200.0000                 8   \n",
       "\n",
       "          STORE_WEEKLY_VOLUME  LAST_365DAYS_DEPL  INCOME_FEATURE_1  \\\n",
       "STORE_CD                                                             \n",
       "STORE_A                    20          1715.3688            0.0231   \n",
       "STORE_B                  1350          1149.0872            0.0236   \n",
       "STORE_C                    90           812.4164            0.0262   \n",
       "STORE_D                   350           113.8689            0.0236   \n",
       "STORE_E                   100           471.3765            0.0236   \n",
       "\n",
       "          INCOME_FEATURE2  INCOME_FEATURE3  INCOME_FEATURE4  INCOME_FEATURE5  \\\n",
       "STORE_CD                                                                       \n",
       "STORE_A            0.0388           0.0526           0.0711           0.0792   \n",
       "STORE_B            0.0440           0.0585           0.0754           0.0829   \n",
       "STORE_C            0.0474           0.0523           0.0977           0.1190   \n",
       "STORE_D            0.0440           0.0585           0.0754           0.0829   \n",
       "STORE_E            0.0440           0.0585           0.0754           0.0829   \n",
       "\n",
       "              ...       MALE_POP_5  MALE_POP_6  MALE_POP_7  FEMALE_POP_1  \\\n",
       "STORE_CD      ...                                                          \n",
       "STORE_A       ...           0.0494      0.0295      0.0132        0.0273   \n",
       "STORE_B       ...           0.0484      0.0288      0.0137        0.0270   \n",
       "STORE_C       ...           0.0313      0.0176      0.0080        0.0275   \n",
       "STORE_D       ...           0.0484      0.0288      0.0137        0.0270   \n",
       "STORE_E       ...           0.0484      0.0288      0.0137        0.0270   \n",
       "\n",
       "          FEMALE_POP_2  FEMALE_POP_3  FEMALE_POP_4  FEMALE_POP_5  \\\n",
       "STORE_CD                                                           \n",
       "STORE_A         0.0877        0.0682        0.0538        0.0518   \n",
       "STORE_B         0.0894        0.0685        0.0520        0.0509   \n",
       "STORE_C         0.0989        0.0751        0.0458        0.0295   \n",
       "STORE_D         0.0894        0.0685        0.0520        0.0509   \n",
       "STORE_E         0.0894        0.0685        0.0520        0.0509   \n",
       "\n",
       "          FEMALE_POP_6  FEMALE_POP_7  \n",
       "STORE_CD                              \n",
       "STORE_A         0.0317        0.0181  \n",
       "STORE_B         0.0318        0.0192  \n",
       "STORE_C         0.0169        0.0106  \n",
       "STORE_D         0.0318        0.0192  \n",
       "STORE_E         0.0318        0.0192  \n",
       "\n",
       "[5 rows x 27 columns]"
      ]
     },
     "execution_count": 44,
     "metadata": {},
     "output_type": "execute_result"
    }
   ],
   "source": [
    "store2=store1.copy()\n",
    "store2 = store2.set_index('STORE_CD')\n",
    "store2.head()"
   ]
  },
  {
   "cell_type": "code",
   "execution_count": 45,
   "metadata": {},
   "outputs": [
    {
     "data": {
      "text/html": [
       "<div>\n",
       "<style scoped>\n",
       "    .dataframe tbody tr th:only-of-type {\n",
       "        vertical-align: middle;\n",
       "    }\n",
       "\n",
       "    .dataframe tbody tr th {\n",
       "        vertical-align: top;\n",
       "    }\n",
       "\n",
       "    .dataframe thead th {\n",
       "        text-align: right;\n",
       "    }\n",
       "</style>\n",
       "<table border=\"1\" class=\"dataframe\">\n",
       "  <thead>\n",
       "    <tr style=\"text-align: right;\">\n",
       "      <th>STORE_CD</th>\n",
       "      <th>STORE_A</th>\n",
       "      <th>STORE_B</th>\n",
       "      <th>STORE_C</th>\n",
       "      <th>STORE_D</th>\n",
       "      <th>STORE_E</th>\n",
       "      <th>STORE_F</th>\n",
       "      <th>STORE_G</th>\n",
       "      <th>STORE_H</th>\n",
       "      <th>STORE_I</th>\n",
       "      <th>STORE_J</th>\n",
       "      <th>STORE_K</th>\n",
       "      <th>STORE_L</th>\n",
       "      <th>STORE_M</th>\n",
       "      <th>STORE_N</th>\n",
       "      <th>STORE_O</th>\n",
       "      <th>STORE_P</th>\n",
       "      <th>STORE_Q</th>\n",
       "      <th>STORE_R</th>\n",
       "      <th>STORE_S</th>\n",
       "      <th>STORE_T</th>\n",
       "    </tr>\n",
       "    <tr>\n",
       "      <th>STORE_CD</th>\n",
       "      <th></th>\n",
       "      <th></th>\n",
       "      <th></th>\n",
       "      <th></th>\n",
       "      <th></th>\n",
       "      <th></th>\n",
       "      <th></th>\n",
       "      <th></th>\n",
       "      <th></th>\n",
       "      <th></th>\n",
       "      <th></th>\n",
       "      <th></th>\n",
       "      <th></th>\n",
       "      <th></th>\n",
       "      <th></th>\n",
       "      <th></th>\n",
       "      <th></th>\n",
       "      <th></th>\n",
       "      <th></th>\n",
       "      <th></th>\n",
       "    </tr>\n",
       "  </thead>\n",
       "  <tbody>\n",
       "    <tr>\n",
       "      <th>STORE_A</th>\n",
       "      <td>1.000000</td>\n",
       "      <td>0.654489</td>\n",
       "      <td>0.994244</td>\n",
       "      <td>0.351533</td>\n",
       "      <td>0.972879</td>\n",
       "      <td>0.879197</td>\n",
       "      <td>0.978796</td>\n",
       "      <td>0.890207</td>\n",
       "      <td>0.991139</td>\n",
       "      <td>0.448196</td>\n",
       "      <td>0.921082</td>\n",
       "      <td>0.163064</td>\n",
       "      <td>0.989559</td>\n",
       "      <td>0.987610</td>\n",
       "      <td>0.978832</td>\n",
       "      <td>0.895862</td>\n",
       "      <td>0.394569</td>\n",
       "      <td>0.418111</td>\n",
       "      <td>0.992566</td>\n",
       "      <td>0.895031</td>\n",
       "    </tr>\n",
       "    <tr>\n",
       "      <th>STORE_B</th>\n",
       "      <td>0.654489</td>\n",
       "      <td>1.000000</td>\n",
       "      <td>0.725194</td>\n",
       "      <td>0.922760</td>\n",
       "      <td>0.792864</td>\n",
       "      <td>0.933326</td>\n",
       "      <td>0.769948</td>\n",
       "      <td>0.925975</td>\n",
       "      <td>0.748587</td>\n",
       "      <td>0.957750</td>\n",
       "      <td>0.870411</td>\n",
       "      <td>0.830043</td>\n",
       "      <td>0.753023</td>\n",
       "      <td>0.742291</td>\n",
       "      <td>0.769823</td>\n",
       "      <td>0.919501</td>\n",
       "      <td>0.937183</td>\n",
       "      <td>0.935754</td>\n",
       "      <td>0.734816</td>\n",
       "      <td>0.718463</td>\n",
       "    </tr>\n",
       "    <tr>\n",
       "      <th>STORE_C</th>\n",
       "      <td>0.994244</td>\n",
       "      <td>0.725194</td>\n",
       "      <td>1.000000</td>\n",
       "      <td>0.432127</td>\n",
       "      <td>0.991815</td>\n",
       "      <td>0.921610</td>\n",
       "      <td>0.994609</td>\n",
       "      <td>0.928642</td>\n",
       "      <td>0.998521</td>\n",
       "      <td>0.526074</td>\n",
       "      <td>0.943823</td>\n",
       "      <td>0.246689</td>\n",
       "      <td>0.998875</td>\n",
       "      <td>0.990532</td>\n",
       "      <td>0.994626</td>\n",
       "      <td>0.935400</td>\n",
       "      <td>0.473093</td>\n",
       "      <td>0.492097</td>\n",
       "      <td>0.998661</td>\n",
       "      <td>0.908086</td>\n",
       "    </tr>\n",
       "    <tr>\n",
       "      <th>STORE_D</th>\n",
       "      <td>0.351533</td>\n",
       "      <td>0.922760</td>\n",
       "      <td>0.432127</td>\n",
       "      <td>1.000000</td>\n",
       "      <td>0.515129</td>\n",
       "      <td>0.742432</td>\n",
       "      <td>0.482860</td>\n",
       "      <td>0.735532</td>\n",
       "      <td>0.468401</td>\n",
       "      <td>0.993437</td>\n",
       "      <td>0.676848</td>\n",
       "      <td>0.980188</td>\n",
       "      <td>0.468772</td>\n",
       "      <td>0.479909</td>\n",
       "      <td>0.482751</td>\n",
       "      <td>0.716273</td>\n",
       "      <td>0.998893</td>\n",
       "      <td>0.995531</td>\n",
       "      <td>0.447451</td>\n",
       "      <td>0.459706</td>\n",
       "    </tr>\n",
       "    <tr>\n",
       "      <th>STORE_E</th>\n",
       "      <td>0.972879</td>\n",
       "      <td>0.792864</td>\n",
       "      <td>0.991815</td>\n",
       "      <td>0.515129</td>\n",
       "      <td>1.000000</td>\n",
       "      <td>0.956602</td>\n",
       "      <td>0.999306</td>\n",
       "      <td>0.957771</td>\n",
       "      <td>0.991311</td>\n",
       "      <td>0.605455</td>\n",
       "      <td>0.953002</td>\n",
       "      <td>0.335608</td>\n",
       "      <td>0.993902</td>\n",
       "      <td>0.977800</td>\n",
       "      <td>0.999279</td>\n",
       "      <td>0.967037</td>\n",
       "      <td>0.553328</td>\n",
       "      <td>0.566082</td>\n",
       "      <td>0.990151</td>\n",
       "      <td>0.907146</td>\n",
       "    </tr>\n",
       "    <tr>\n",
       "      <th>STORE_F</th>\n",
       "      <td>0.879197</td>\n",
       "      <td>0.933326</td>\n",
       "      <td>0.921610</td>\n",
       "      <td>0.742432</td>\n",
       "      <td>0.956602</td>\n",
       "      <td>1.000000</td>\n",
       "      <td>0.945096</td>\n",
       "      <td>0.998236</td>\n",
       "      <td>0.933401</td>\n",
       "      <td>0.810681</td>\n",
       "      <td>0.973776</td>\n",
       "      <td>0.595358</td>\n",
       "      <td>0.935634</td>\n",
       "      <td>0.926371</td>\n",
       "      <td>0.945075</td>\n",
       "      <td>0.999268</td>\n",
       "      <td>0.771868</td>\n",
       "      <td>0.780427</td>\n",
       "      <td>0.925114</td>\n",
       "      <td>0.861888</td>\n",
       "    </tr>\n",
       "    <tr>\n",
       "      <th>STORE_G</th>\n",
       "      <td>0.978796</td>\n",
       "      <td>0.769948</td>\n",
       "      <td>0.994609</td>\n",
       "      <td>0.482860</td>\n",
       "      <td>0.999306</td>\n",
       "      <td>0.945096</td>\n",
       "      <td>1.000000</td>\n",
       "      <td>0.946624</td>\n",
       "      <td>0.992545</td>\n",
       "      <td>0.575387</td>\n",
       "      <td>0.944376</td>\n",
       "      <td>0.300299</td>\n",
       "      <td>0.995164</td>\n",
       "      <td>0.978272</td>\n",
       "      <td>0.999984</td>\n",
       "      <td>0.956895</td>\n",
       "      <td>0.521936</td>\n",
       "      <td>0.535148</td>\n",
       "      <td>0.992222</td>\n",
       "      <td>0.906532</td>\n",
       "    </tr>\n",
       "    <tr>\n",
       "      <th>STORE_H</th>\n",
       "      <td>0.890207</td>\n",
       "      <td>0.925975</td>\n",
       "      <td>0.928642</td>\n",
       "      <td>0.735532</td>\n",
       "      <td>0.957771</td>\n",
       "      <td>0.998236</td>\n",
       "      <td>0.946624</td>\n",
       "      <td>1.000000</td>\n",
       "      <td>0.941994</td>\n",
       "      <td>0.803752</td>\n",
       "      <td>0.985039</td>\n",
       "      <td>0.587707</td>\n",
       "      <td>0.942897</td>\n",
       "      <td>0.939297</td>\n",
       "      <td>0.946576</td>\n",
       "      <td>0.997872</td>\n",
       "      <td>0.765715</td>\n",
       "      <td>0.777763</td>\n",
       "      <td>0.933783</td>\n",
       "      <td>0.872495</td>\n",
       "    </tr>\n",
       "    <tr>\n",
       "      <th>STORE_I</th>\n",
       "      <td>0.991139</td>\n",
       "      <td>0.748587</td>\n",
       "      <td>0.998521</td>\n",
       "      <td>0.468401</td>\n",
       "      <td>0.991311</td>\n",
       "      <td>0.933401</td>\n",
       "      <td>0.992545</td>\n",
       "      <td>0.941994</td>\n",
       "      <td>1.000000</td>\n",
       "      <td>0.559051</td>\n",
       "      <td>0.959386</td>\n",
       "      <td>0.286734</td>\n",
       "      <td>0.999530</td>\n",
       "      <td>0.995459</td>\n",
       "      <td>0.992584</td>\n",
       "      <td>0.945644</td>\n",
       "      <td>0.508579</td>\n",
       "      <td>0.529016</td>\n",
       "      <td>0.998730</td>\n",
       "      <td>0.909744</td>\n",
       "    </tr>\n",
       "    <tr>\n",
       "      <th>STORE_J</th>\n",
       "      <td>0.448196</td>\n",
       "      <td>0.957750</td>\n",
       "      <td>0.526074</td>\n",
       "      <td>0.993437</td>\n",
       "      <td>0.605455</td>\n",
       "      <td>0.810681</td>\n",
       "      <td>0.575387</td>\n",
       "      <td>0.803752</td>\n",
       "      <td>0.559051</td>\n",
       "      <td>1.000000</td>\n",
       "      <td>0.747183</td>\n",
       "      <td>0.952369</td>\n",
       "      <td>0.559988</td>\n",
       "      <td>0.567429</td>\n",
       "      <td>0.575111</td>\n",
       "      <td>0.787706</td>\n",
       "      <td>0.997271</td>\n",
       "      <td>0.995025</td>\n",
       "      <td>0.540815</td>\n",
       "      <td>0.551714</td>\n",
       "    </tr>\n",
       "    <tr>\n",
       "      <th>STORE_K</th>\n",
       "      <td>0.921082</td>\n",
       "      <td>0.870411</td>\n",
       "      <td>0.943823</td>\n",
       "      <td>0.676848</td>\n",
       "      <td>0.953002</td>\n",
       "      <td>0.973776</td>\n",
       "      <td>0.944376</td>\n",
       "      <td>0.985039</td>\n",
       "      <td>0.959386</td>\n",
       "      <td>0.747183</td>\n",
       "      <td>1.000000</td>\n",
       "      <td>0.525465</td>\n",
       "      <td>0.955879</td>\n",
       "      <td>0.969555</td>\n",
       "      <td>0.944260</td>\n",
       "      <td>0.975853</td>\n",
       "      <td>0.710193</td>\n",
       "      <td>0.732515</td>\n",
       "      <td>0.951996</td>\n",
       "      <td>0.888830</td>\n",
       "    </tr>\n",
       "    <tr>\n",
       "      <th>STORE_L</th>\n",
       "      <td>0.163064</td>\n",
       "      <td>0.830043</td>\n",
       "      <td>0.246689</td>\n",
       "      <td>0.980188</td>\n",
       "      <td>0.335608</td>\n",
       "      <td>0.595358</td>\n",
       "      <td>0.300299</td>\n",
       "      <td>0.587707</td>\n",
       "      <td>0.286734</td>\n",
       "      <td>0.952369</td>\n",
       "      <td>0.525465</td>\n",
       "      <td>1.000000</td>\n",
       "      <td>0.286233</td>\n",
       "      <td>0.303395</td>\n",
       "      <td>0.300149</td>\n",
       "      <td>0.564200</td>\n",
       "      <td>0.970328</td>\n",
       "      <td>0.964068</td>\n",
       "      <td>0.264138</td>\n",
       "      <td>0.297871</td>\n",
       "    </tr>\n",
       "    <tr>\n",
       "      <th>STORE_M</th>\n",
       "      <td>0.989559</td>\n",
       "      <td>0.753023</td>\n",
       "      <td>0.998875</td>\n",
       "      <td>0.468772</td>\n",
       "      <td>0.993902</td>\n",
       "      <td>0.935634</td>\n",
       "      <td>0.995164</td>\n",
       "      <td>0.942897</td>\n",
       "      <td>0.999530</td>\n",
       "      <td>0.559988</td>\n",
       "      <td>0.955879</td>\n",
       "      <td>0.286233</td>\n",
       "      <td>1.000000</td>\n",
       "      <td>0.992179</td>\n",
       "      <td>0.995199</td>\n",
       "      <td>0.947933</td>\n",
       "      <td>0.508694</td>\n",
       "      <td>0.527508</td>\n",
       "      <td>0.998629</td>\n",
       "      <td>0.911340</td>\n",
       "    </tr>\n",
       "    <tr>\n",
       "      <th>STORE_N</th>\n",
       "      <td>0.987610</td>\n",
       "      <td>0.742291</td>\n",
       "      <td>0.990532</td>\n",
       "      <td>0.479909</td>\n",
       "      <td>0.977800</td>\n",
       "      <td>0.926371</td>\n",
       "      <td>0.978272</td>\n",
       "      <td>0.939297</td>\n",
       "      <td>0.995459</td>\n",
       "      <td>0.567429</td>\n",
       "      <td>0.969555</td>\n",
       "      <td>0.303395</td>\n",
       "      <td>0.992179</td>\n",
       "      <td>1.000000</td>\n",
       "      <td>0.978253</td>\n",
       "      <td>0.937712</td>\n",
       "      <td>0.520177</td>\n",
       "      <td>0.545457</td>\n",
       "      <td>0.993233</td>\n",
       "      <td>0.906322</td>\n",
       "    </tr>\n",
       "    <tr>\n",
       "      <th>STORE_O</th>\n",
       "      <td>0.978832</td>\n",
       "      <td>0.769823</td>\n",
       "      <td>0.994626</td>\n",
       "      <td>0.482751</td>\n",
       "      <td>0.999279</td>\n",
       "      <td>0.945075</td>\n",
       "      <td>0.999984</td>\n",
       "      <td>0.946576</td>\n",
       "      <td>0.992584</td>\n",
       "      <td>0.575111</td>\n",
       "      <td>0.944260</td>\n",
       "      <td>0.300149</td>\n",
       "      <td>0.995199</td>\n",
       "      <td>0.978253</td>\n",
       "      <td>1.000000</td>\n",
       "      <td>0.956883</td>\n",
       "      <td>0.521817</td>\n",
       "      <td>0.535033</td>\n",
       "      <td>0.992019</td>\n",
       "      <td>0.904299</td>\n",
       "    </tr>\n",
       "    <tr>\n",
       "      <th>STORE_P</th>\n",
       "      <td>0.895862</td>\n",
       "      <td>0.919501</td>\n",
       "      <td>0.935400</td>\n",
       "      <td>0.716273</td>\n",
       "      <td>0.967037</td>\n",
       "      <td>0.999268</td>\n",
       "      <td>0.956895</td>\n",
       "      <td>0.997872</td>\n",
       "      <td>0.945644</td>\n",
       "      <td>0.787706</td>\n",
       "      <td>0.975853</td>\n",
       "      <td>0.564200</td>\n",
       "      <td>0.947933</td>\n",
       "      <td>0.937712</td>\n",
       "      <td>0.956883</td>\n",
       "      <td>1.000000</td>\n",
       "      <td>0.747002</td>\n",
       "      <td>0.756155</td>\n",
       "      <td>0.938177</td>\n",
       "      <td>0.871425</td>\n",
       "    </tr>\n",
       "    <tr>\n",
       "      <th>STORE_Q</th>\n",
       "      <td>0.394569</td>\n",
       "      <td>0.937183</td>\n",
       "      <td>0.473093</td>\n",
       "      <td>0.998893</td>\n",
       "      <td>0.553328</td>\n",
       "      <td>0.771868</td>\n",
       "      <td>0.521936</td>\n",
       "      <td>0.765715</td>\n",
       "      <td>0.508579</td>\n",
       "      <td>0.997271</td>\n",
       "      <td>0.710193</td>\n",
       "      <td>0.970328</td>\n",
       "      <td>0.508694</td>\n",
       "      <td>0.520177</td>\n",
       "      <td>0.521817</td>\n",
       "      <td>0.747002</td>\n",
       "      <td>1.000000</td>\n",
       "      <td>0.998042</td>\n",
       "      <td>0.488118</td>\n",
       "      <td>0.495532</td>\n",
       "    </tr>\n",
       "    <tr>\n",
       "      <th>STORE_R</th>\n",
       "      <td>0.418111</td>\n",
       "      <td>0.935754</td>\n",
       "      <td>0.492097</td>\n",
       "      <td>0.995531</td>\n",
       "      <td>0.566082</td>\n",
       "      <td>0.780427</td>\n",
       "      <td>0.535148</td>\n",
       "      <td>0.777763</td>\n",
       "      <td>0.529016</td>\n",
       "      <td>0.995025</td>\n",
       "      <td>0.732515</td>\n",
       "      <td>0.964068</td>\n",
       "      <td>0.527508</td>\n",
       "      <td>0.545457</td>\n",
       "      <td>0.535033</td>\n",
       "      <td>0.756155</td>\n",
       "      <td>0.998042</td>\n",
       "      <td>1.000000</td>\n",
       "      <td>0.508306</td>\n",
       "      <td>0.512836</td>\n",
       "    </tr>\n",
       "    <tr>\n",
       "      <th>STORE_S</th>\n",
       "      <td>0.992566</td>\n",
       "      <td>0.734816</td>\n",
       "      <td>0.998661</td>\n",
       "      <td>0.447451</td>\n",
       "      <td>0.990151</td>\n",
       "      <td>0.925114</td>\n",
       "      <td>0.992222</td>\n",
       "      <td>0.933783</td>\n",
       "      <td>0.998730</td>\n",
       "      <td>0.540815</td>\n",
       "      <td>0.951996</td>\n",
       "      <td>0.264138</td>\n",
       "      <td>0.998629</td>\n",
       "      <td>0.993233</td>\n",
       "      <td>0.992019</td>\n",
       "      <td>0.938177</td>\n",
       "      <td>0.488118</td>\n",
       "      <td>0.508306</td>\n",
       "      <td>1.000000</td>\n",
       "      <td>0.925770</td>\n",
       "    </tr>\n",
       "    <tr>\n",
       "      <th>STORE_T</th>\n",
       "      <td>0.895031</td>\n",
       "      <td>0.718463</td>\n",
       "      <td>0.908086</td>\n",
       "      <td>0.459706</td>\n",
       "      <td>0.907146</td>\n",
       "      <td>0.861888</td>\n",
       "      <td>0.906532</td>\n",
       "      <td>0.872495</td>\n",
       "      <td>0.909744</td>\n",
       "      <td>0.551714</td>\n",
       "      <td>0.888830</td>\n",
       "      <td>0.297871</td>\n",
       "      <td>0.911340</td>\n",
       "      <td>0.906322</td>\n",
       "      <td>0.904299</td>\n",
       "      <td>0.871425</td>\n",
       "      <td>0.495532</td>\n",
       "      <td>0.512836</td>\n",
       "      <td>0.925770</td>\n",
       "      <td>1.000000</td>\n",
       "    </tr>\n",
       "  </tbody>\n",
       "</table>\n",
       "</div>"
      ],
      "text/plain": [
       "STORE_CD   STORE_A   STORE_B   STORE_C   STORE_D   STORE_E   STORE_F  \\\n",
       "STORE_CD                                                               \n",
       "STORE_A   1.000000  0.654489  0.994244  0.351533  0.972879  0.879197   \n",
       "STORE_B   0.654489  1.000000  0.725194  0.922760  0.792864  0.933326   \n",
       "STORE_C   0.994244  0.725194  1.000000  0.432127  0.991815  0.921610   \n",
       "STORE_D   0.351533  0.922760  0.432127  1.000000  0.515129  0.742432   \n",
       "STORE_E   0.972879  0.792864  0.991815  0.515129  1.000000  0.956602   \n",
       "STORE_F   0.879197  0.933326  0.921610  0.742432  0.956602  1.000000   \n",
       "STORE_G   0.978796  0.769948  0.994609  0.482860  0.999306  0.945096   \n",
       "STORE_H   0.890207  0.925975  0.928642  0.735532  0.957771  0.998236   \n",
       "STORE_I   0.991139  0.748587  0.998521  0.468401  0.991311  0.933401   \n",
       "STORE_J   0.448196  0.957750  0.526074  0.993437  0.605455  0.810681   \n",
       "STORE_K   0.921082  0.870411  0.943823  0.676848  0.953002  0.973776   \n",
       "STORE_L   0.163064  0.830043  0.246689  0.980188  0.335608  0.595358   \n",
       "STORE_M   0.989559  0.753023  0.998875  0.468772  0.993902  0.935634   \n",
       "STORE_N   0.987610  0.742291  0.990532  0.479909  0.977800  0.926371   \n",
       "STORE_O   0.978832  0.769823  0.994626  0.482751  0.999279  0.945075   \n",
       "STORE_P   0.895862  0.919501  0.935400  0.716273  0.967037  0.999268   \n",
       "STORE_Q   0.394569  0.937183  0.473093  0.998893  0.553328  0.771868   \n",
       "STORE_R   0.418111  0.935754  0.492097  0.995531  0.566082  0.780427   \n",
       "STORE_S   0.992566  0.734816  0.998661  0.447451  0.990151  0.925114   \n",
       "STORE_T   0.895031  0.718463  0.908086  0.459706  0.907146  0.861888   \n",
       "\n",
       "STORE_CD   STORE_G   STORE_H   STORE_I   STORE_J   STORE_K   STORE_L  \\\n",
       "STORE_CD                                                               \n",
       "STORE_A   0.978796  0.890207  0.991139  0.448196  0.921082  0.163064   \n",
       "STORE_B   0.769948  0.925975  0.748587  0.957750  0.870411  0.830043   \n",
       "STORE_C   0.994609  0.928642  0.998521  0.526074  0.943823  0.246689   \n",
       "STORE_D   0.482860  0.735532  0.468401  0.993437  0.676848  0.980188   \n",
       "STORE_E   0.999306  0.957771  0.991311  0.605455  0.953002  0.335608   \n",
       "STORE_F   0.945096  0.998236  0.933401  0.810681  0.973776  0.595358   \n",
       "STORE_G   1.000000  0.946624  0.992545  0.575387  0.944376  0.300299   \n",
       "STORE_H   0.946624  1.000000  0.941994  0.803752  0.985039  0.587707   \n",
       "STORE_I   0.992545  0.941994  1.000000  0.559051  0.959386  0.286734   \n",
       "STORE_J   0.575387  0.803752  0.559051  1.000000  0.747183  0.952369   \n",
       "STORE_K   0.944376  0.985039  0.959386  0.747183  1.000000  0.525465   \n",
       "STORE_L   0.300299  0.587707  0.286734  0.952369  0.525465  1.000000   \n",
       "STORE_M   0.995164  0.942897  0.999530  0.559988  0.955879  0.286233   \n",
       "STORE_N   0.978272  0.939297  0.995459  0.567429  0.969555  0.303395   \n",
       "STORE_O   0.999984  0.946576  0.992584  0.575111  0.944260  0.300149   \n",
       "STORE_P   0.956895  0.997872  0.945644  0.787706  0.975853  0.564200   \n",
       "STORE_Q   0.521936  0.765715  0.508579  0.997271  0.710193  0.970328   \n",
       "STORE_R   0.535148  0.777763  0.529016  0.995025  0.732515  0.964068   \n",
       "STORE_S   0.992222  0.933783  0.998730  0.540815  0.951996  0.264138   \n",
       "STORE_T   0.906532  0.872495  0.909744  0.551714  0.888830  0.297871   \n",
       "\n",
       "STORE_CD   STORE_M   STORE_N   STORE_O   STORE_P   STORE_Q   STORE_R  \\\n",
       "STORE_CD                                                               \n",
       "STORE_A   0.989559  0.987610  0.978832  0.895862  0.394569  0.418111   \n",
       "STORE_B   0.753023  0.742291  0.769823  0.919501  0.937183  0.935754   \n",
       "STORE_C   0.998875  0.990532  0.994626  0.935400  0.473093  0.492097   \n",
       "STORE_D   0.468772  0.479909  0.482751  0.716273  0.998893  0.995531   \n",
       "STORE_E   0.993902  0.977800  0.999279  0.967037  0.553328  0.566082   \n",
       "STORE_F   0.935634  0.926371  0.945075  0.999268  0.771868  0.780427   \n",
       "STORE_G   0.995164  0.978272  0.999984  0.956895  0.521936  0.535148   \n",
       "STORE_H   0.942897  0.939297  0.946576  0.997872  0.765715  0.777763   \n",
       "STORE_I   0.999530  0.995459  0.992584  0.945644  0.508579  0.529016   \n",
       "STORE_J   0.559988  0.567429  0.575111  0.787706  0.997271  0.995025   \n",
       "STORE_K   0.955879  0.969555  0.944260  0.975853  0.710193  0.732515   \n",
       "STORE_L   0.286233  0.303395  0.300149  0.564200  0.970328  0.964068   \n",
       "STORE_M   1.000000  0.992179  0.995199  0.947933  0.508694  0.527508   \n",
       "STORE_N   0.992179  1.000000  0.978253  0.937712  0.520177  0.545457   \n",
       "STORE_O   0.995199  0.978253  1.000000  0.956883  0.521817  0.535033   \n",
       "STORE_P   0.947933  0.937712  0.956883  1.000000  0.747002  0.756155   \n",
       "STORE_Q   0.508694  0.520177  0.521817  0.747002  1.000000  0.998042   \n",
       "STORE_R   0.527508  0.545457  0.535033  0.756155  0.998042  1.000000   \n",
       "STORE_S   0.998629  0.993233  0.992019  0.938177  0.488118  0.508306   \n",
       "STORE_T   0.911340  0.906322  0.904299  0.871425  0.495532  0.512836   \n",
       "\n",
       "STORE_CD   STORE_S   STORE_T  \n",
       "STORE_CD                      \n",
       "STORE_A   0.992566  0.895031  \n",
       "STORE_B   0.734816  0.718463  \n",
       "STORE_C   0.998661  0.908086  \n",
       "STORE_D   0.447451  0.459706  \n",
       "STORE_E   0.990151  0.907146  \n",
       "STORE_F   0.925114  0.861888  \n",
       "STORE_G   0.992222  0.906532  \n",
       "STORE_H   0.933783  0.872495  \n",
       "STORE_I   0.998730  0.909744  \n",
       "STORE_J   0.540815  0.551714  \n",
       "STORE_K   0.951996  0.888830  \n",
       "STORE_L   0.264138  0.297871  \n",
       "STORE_M   0.998629  0.911340  \n",
       "STORE_N   0.993233  0.906322  \n",
       "STORE_O   0.992019  0.904299  \n",
       "STORE_P   0.938177  0.871425  \n",
       "STORE_Q   0.488118  0.495532  \n",
       "STORE_R   0.508306  0.512836  \n",
       "STORE_S   1.000000  0.925770  \n",
       "STORE_T   0.925770  1.000000  "
      ]
     },
     "execution_count": 45,
     "metadata": {},
     "output_type": "execute_result"
    }
   ],
   "source": [
    "# calculate store similarity matrix using cosine similarity \n",
    "from sklearn.metrics.pairwise import cosine_similarity\n",
    "ID=store2.index\n",
    "similarity_values = pd.DataFrame(cosine_similarity(store2), index = ID, columns= ID)\n",
    "similarity_values"
   ]
  },
  {
   "cell_type": "code",
   "execution_count": 46,
   "metadata": {},
   "outputs": [],
   "source": [
    "# function to calculate most similar stores base on cosine similarity\n",
    "def similar_store(store):\n",
    "    similarity_values['store_cd'] = list(similarity_values.index)\n",
    "    similarity_values_1 = pd.melt(similarity_values, id_vars=['store_cd'])\n",
    "    similarity_values_1 = similarity_values_1.sort_values(by = ['store_cd', 'value'], ascending = [True, False])\n",
    "    sim_store=similarity_values_1[(similarity_values_1.store_cd == store) & (similarity_values_1.STORE_CD != store)].head(5)\n",
    "    return list(sim_store.STORE_CD)\n"
   ]
  },
  {
   "cell_type": "code",
   "execution_count": 47,
   "metadata": {},
   "outputs": [
    {
     "data": {
      "text/plain": [
       "['STORE_G', 'STORE_O', 'STORE_M', 'STORE_C', 'STORE_I']"
      ]
     },
     "execution_count": 47,
     "metadata": {},
     "output_type": "execute_result"
    }
   ],
   "source": [
    "similar_store_list=similar_store('STORE_E')\n",
    "similar_store_list"
   ]
  },
  {
   "cell_type": "code",
   "execution_count": 48,
   "metadata": {},
   "outputs": [],
   "source": [
    "# final recomendation of the product for any stores\n",
    "\n",
    "def final_reco_prod(store):\n",
    "    if store in list(sales1.STORE_CD.unique()):\n",
    "        return product_recomendation(store)\n",
    "    else:\n",
    "        similar_store_list=similar_store(store)\n",
    "        for i in similar_store_list:\n",
    "            if i in list(sales1.STORE_CD.unique()):\n",
    "                return product_recomendation(i)"
   ]
  },
  {
   "cell_type": "code",
   "execution_count": 49,
   "metadata": {},
   "outputs": [
    {
     "data": {
      "text/plain": [
       "['PRODUCT_20|PRODUCT_12|PRODUCT_32|PRODUCT_28|PRODUCT_29']"
      ]
     },
     "execution_count": 49,
     "metadata": {},
     "output_type": "execute_result"
    }
   ],
   "source": [
    "final_reco_prod('STORE_A')"
   ]
  },
  {
   "cell_type": "code",
   "execution_count": 50,
   "metadata": {},
   "outputs": [],
   "source": [
    "fin_arr = []\n",
    "for i in store.STORE_CD.unique():\n",
    "    res = final_reco_prod(i)\n",
    "    res = [i] + res\n",
    "    fin_arr.append(res)\n",
    "    "
   ]
  },
  {
   "cell_type": "code",
   "execution_count": 51,
   "metadata": {},
   "outputs": [],
   "source": [
    "fin_df = pd.DataFrame(fin_arr, columns=['Store_CD', 'Product_Recommendation'])"
   ]
  },
  {
   "cell_type": "code",
   "execution_count": 52,
   "metadata": {},
   "outputs": [
    {
     "data": {
      "text/html": [
       "<div>\n",
       "<style scoped>\n",
       "    .dataframe tbody tr th:only-of-type {\n",
       "        vertical-align: middle;\n",
       "    }\n",
       "\n",
       "    .dataframe tbody tr th {\n",
       "        vertical-align: top;\n",
       "    }\n",
       "\n",
       "    .dataframe thead th {\n",
       "        text-align: right;\n",
       "    }\n",
       "</style>\n",
       "<table border=\"1\" class=\"dataframe\">\n",
       "  <thead>\n",
       "    <tr style=\"text-align: right;\">\n",
       "      <th></th>\n",
       "      <th>Store_CD</th>\n",
       "      <th>Product_Recommendation</th>\n",
       "    </tr>\n",
       "  </thead>\n",
       "  <tbody>\n",
       "    <tr>\n",
       "      <th>0</th>\n",
       "      <td>STORE_A</td>\n",
       "      <td>PRODUCT_20|PRODUCT_12|PRODUCT_32|PRODUCT_28|PR...</td>\n",
       "    </tr>\n",
       "    <tr>\n",
       "      <th>1</th>\n",
       "      <td>STORE_B</td>\n",
       "      <td>PRODUCT_15|PRODUCT_23|PRODUCT_10|PRODUCT_36|PR...</td>\n",
       "    </tr>\n",
       "    <tr>\n",
       "      <th>2</th>\n",
       "      <td>STORE_C</td>\n",
       "      <td>PRODUCT_26|PRODUCT_31|PRODUCT_8|PRODUCT_13|PRO...</td>\n",
       "    </tr>\n",
       "    <tr>\n",
       "      <th>3</th>\n",
       "      <td>STORE_D</td>\n",
       "      <td>PRODUCT_13|PRODUCT_15|PRODUCT_30|PRODUCT_18|PR...</td>\n",
       "    </tr>\n",
       "    <tr>\n",
       "      <th>4</th>\n",
       "      <td>STORE_E</td>\n",
       "      <td>PRODUCT_25|PRODUCT_18|PRODUCT_8|PRODUCT_24|PRO...</td>\n",
       "    </tr>\n",
       "    <tr>\n",
       "      <th>5</th>\n",
       "      <td>STORE_F</td>\n",
       "      <td>PRODUCT_15|PRODUCT_27|PRODUCT_17|PRODUCT_31|PR...</td>\n",
       "    </tr>\n",
       "    <tr>\n",
       "      <th>6</th>\n",
       "      <td>STORE_G</td>\n",
       "      <td>PRODUCT_25|PRODUCT_18|PRODUCT_8|PRODUCT_24|PRO...</td>\n",
       "    </tr>\n",
       "    <tr>\n",
       "      <th>7</th>\n",
       "      <td>STORE_H</td>\n",
       "      <td>PRODUCT_15|PRODUCT_27|PRODUCT_17|PRODUCT_31|PR...</td>\n",
       "    </tr>\n",
       "    <tr>\n",
       "      <th>8</th>\n",
       "      <td>STORE_I</td>\n",
       "      <td>PRODUCT_1|PRODUCT_22|PRODUCT_10|PRODUCT_40|PRO...</td>\n",
       "    </tr>\n",
       "    <tr>\n",
       "      <th>9</th>\n",
       "      <td>STORE_J</td>\n",
       "      <td>PRODUCT_13|PRODUCT_15|PRODUCT_30|PRODUCT_18|PR...</td>\n",
       "    </tr>\n",
       "    <tr>\n",
       "      <th>10</th>\n",
       "      <td>STORE_K</td>\n",
       "      <td>PRODUCT_15|PRODUCT_27|PRODUCT_17|PRODUCT_31|PR...</td>\n",
       "    </tr>\n",
       "    <tr>\n",
       "      <th>11</th>\n",
       "      <td>STORE_L</td>\n",
       "      <td>PRODUCT_39|PRODUCT_2|PRODUCT_24|PRODUCT_20|PRO...</td>\n",
       "    </tr>\n",
       "    <tr>\n",
       "      <th>12</th>\n",
       "      <td>STORE_M</td>\n",
       "      <td>PRODUCT_25|PRODUCT_18|PRODUCT_8|PRODUCT_24|PRO...</td>\n",
       "    </tr>\n",
       "    <tr>\n",
       "      <th>13</th>\n",
       "      <td>STORE_N</td>\n",
       "      <td>PRODUCT_19|PRODUCT_31|PRODUCT_22|PRODUCT_35|PR...</td>\n",
       "    </tr>\n",
       "    <tr>\n",
       "      <th>14</th>\n",
       "      <td>STORE_O</td>\n",
       "      <td>PRODUCT_25|PRODUCT_18|PRODUCT_8|PRODUCT_24|PRO...</td>\n",
       "    </tr>\n",
       "    <tr>\n",
       "      <th>15</th>\n",
       "      <td>STORE_P</td>\n",
       "      <td>PRODUCT_15|PRODUCT_27|PRODUCT_17|PRODUCT_31|PR...</td>\n",
       "    </tr>\n",
       "    <tr>\n",
       "      <th>16</th>\n",
       "      <td>STORE_Q</td>\n",
       "      <td>PRODUCT_13|PRODUCT_15|PRODUCT_30|PRODUCT_18|PR...</td>\n",
       "    </tr>\n",
       "    <tr>\n",
       "      <th>17</th>\n",
       "      <td>STORE_R</td>\n",
       "      <td>PRODUCT_13|PRODUCT_15|PRODUCT_30|PRODUCT_18|PR...</td>\n",
       "    </tr>\n",
       "    <tr>\n",
       "      <th>18</th>\n",
       "      <td>STORE_S</td>\n",
       "      <td>PRODUCT_25|PRODUCT_6|PRODUCT_29|PRODUCT_30|PRO...</td>\n",
       "    </tr>\n",
       "    <tr>\n",
       "      <th>19</th>\n",
       "      <td>STORE_T</td>\n",
       "      <td>PRODUCT_11|PRODUCT_35|PRODUCT_20|PRODUCT_1|PRO...</td>\n",
       "    </tr>\n",
       "  </tbody>\n",
       "</table>\n",
       "</div>"
      ],
      "text/plain": [
       "   Store_CD                             Product_Recommendation\n",
       "0   STORE_A  PRODUCT_20|PRODUCT_12|PRODUCT_32|PRODUCT_28|PR...\n",
       "1   STORE_B  PRODUCT_15|PRODUCT_23|PRODUCT_10|PRODUCT_36|PR...\n",
       "2   STORE_C  PRODUCT_26|PRODUCT_31|PRODUCT_8|PRODUCT_13|PRO...\n",
       "3   STORE_D  PRODUCT_13|PRODUCT_15|PRODUCT_30|PRODUCT_18|PR...\n",
       "4   STORE_E  PRODUCT_25|PRODUCT_18|PRODUCT_8|PRODUCT_24|PRO...\n",
       "5   STORE_F  PRODUCT_15|PRODUCT_27|PRODUCT_17|PRODUCT_31|PR...\n",
       "6   STORE_G  PRODUCT_25|PRODUCT_18|PRODUCT_8|PRODUCT_24|PRO...\n",
       "7   STORE_H  PRODUCT_15|PRODUCT_27|PRODUCT_17|PRODUCT_31|PR...\n",
       "8   STORE_I  PRODUCT_1|PRODUCT_22|PRODUCT_10|PRODUCT_40|PRO...\n",
       "9   STORE_J  PRODUCT_13|PRODUCT_15|PRODUCT_30|PRODUCT_18|PR...\n",
       "10  STORE_K  PRODUCT_15|PRODUCT_27|PRODUCT_17|PRODUCT_31|PR...\n",
       "11  STORE_L  PRODUCT_39|PRODUCT_2|PRODUCT_24|PRODUCT_20|PRO...\n",
       "12  STORE_M  PRODUCT_25|PRODUCT_18|PRODUCT_8|PRODUCT_24|PRO...\n",
       "13  STORE_N  PRODUCT_19|PRODUCT_31|PRODUCT_22|PRODUCT_35|PR...\n",
       "14  STORE_O  PRODUCT_25|PRODUCT_18|PRODUCT_8|PRODUCT_24|PRO...\n",
       "15  STORE_P  PRODUCT_15|PRODUCT_27|PRODUCT_17|PRODUCT_31|PR...\n",
       "16  STORE_Q  PRODUCT_13|PRODUCT_15|PRODUCT_30|PRODUCT_18|PR...\n",
       "17  STORE_R  PRODUCT_13|PRODUCT_15|PRODUCT_30|PRODUCT_18|PR...\n",
       "18  STORE_S  PRODUCT_25|PRODUCT_6|PRODUCT_29|PRODUCT_30|PRO...\n",
       "19  STORE_T  PRODUCT_11|PRODUCT_35|PRODUCT_20|PRODUCT_1|PRO..."
      ]
     },
     "execution_count": 52,
     "metadata": {},
     "output_type": "execute_result"
    }
   ],
   "source": [
    "fin_df"
   ]
  },
  {
   "cell_type": "code",
   "execution_count": null,
   "metadata": {},
   "outputs": [],
   "source": [
    "# save in file csv file \n",
    "# fin_df.to_csv('store_recom.csv', sep='\\t')"
   ]
  }
 ],
 "metadata": {
  "kernelspec": {
   "display_name": "Python 3",
   "language": "python",
   "name": "python3"
  },
  "language_info": {
   "codemirror_mode": {
    "name": "ipython",
    "version": 3
   },
   "file_extension": ".py",
   "mimetype": "text/x-python",
   "name": "python",
   "nbconvert_exporter": "python",
   "pygments_lexer": "ipython3",
   "version": "3.6.4"
  }
 },
 "nbformat": 4,
 "nbformat_minor": 2
}
