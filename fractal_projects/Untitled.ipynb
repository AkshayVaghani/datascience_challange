{
 "cells": [
  {
   "cell_type": "markdown",
   "metadata": {},
   "source": [
    "# Sequence2sequence prediction\n",
    "## Encoder-Decoder(LSTM) text summary "
   ]
  },
  {
   "cell_type": "code",
   "execution_count": 37,
   "metadata": {},
   "outputs": [],
   "source": [
    "# Modules\n",
    "import os\n",
    "\n",
    "import numpy as np\n",
    "from keras import *\n",
    "from keras.layers import *\n",
    "from keras.models import Sequential\n",
    "from keras.preprocessing.text import Tokenizer, one_hot\n",
    "from keras.preprocessing.sequence import pad_sequences\n"
   ]
  },
  {
   "cell_type": "code",
   "execution_count": 41,
   "metadata": {},
   "outputs": [
    {
     "name": "stdout",
     "output_type": "stream",
     "text": [
      "Vocab_size: 20\n",
      "src_txt_length: 44\n",
      "sum_txt_length: 24\n"
     ]
    }
   ],
   "source": [
    "src_txt = [\"I read a nice book yesterday\", \"I have been living in canada for a long time\", \"I study computer science this year in frence\"]\n",
    "sum_txt = [\"I read a book\", \"I have been in canada\", \"I study computer science\"]\n",
    "\n",
    "vocab_size = len(set((\" \".join(src_txt)).split() + (\" \".join(sum_txt)).split()))\n",
    "print(\"Vocab_size: \" + str(vocab_size))\n",
    "src_txt_length = max([len(item) for item in src_txt])\n",
    "print(\"src_txt_length: \" + str(src_txt_length))\n",
    "sum_txt_length = max([len(item) for item in sum_txt])\n",
    "print(\"sum_txt_length: \" + str(sum_txt_length))\n",
    "\n"
   ]
  },
  {
   "cell_type": "code",
   "execution_count": 49,
   "metadata": {},
   "outputs": [
    {
     "name": "stdout",
     "output_type": "stream",
     "text": [
      "padded_articles: (3, 44)\n",
      "padded_summaries: (3, 5)\n"
     ]
    }
   ],
   "source": [
    "# integer encode the documents\n",
    "encoded_articles = [one_hot(d, vocab_size) for d in src_txt]\n",
    "encoded_summaries = [one_hot(d, vocab_size) for d in sum_txt]\n",
    "\n",
    "# pad documents to a max length of 4 words\n",
    "padded_articles = pad_sequences(encoded_articles, maxlen=44, padding='post')\n",
    "padded_summaries = pad_sequences(encoded_summaries, maxlen=5, padding='post')\n",
    "\n",
    "print(\"padded_articles: {}\".format(padded_articles.shape))\n",
    "print(\"padded_summaries: {}\".format(padded_summaries.shape))\n",
    "\n"
   ]
  },
  {
   "cell_type": "code",
   "execution_count": 65,
   "metadata": {},
   "outputs": [],
   "source": [
    "# encoder input model\n",
    "inputs = Input(shape=(src_txt_length,))\n",
    "encoder1 = Embedding(vocab_size, 128)(inputs)\n",
    "encoder2 = LSTM(128)(encoder1)\n",
    "encoder3 = RepeatVector(sum_txt_length)(encoder2)\n",
    "\n",
    "# decoder output model\n",
    "decoder1 = LSTM(128, return_sequences=True)(encoder3)\n",
    "outputs = TimeDistributed(Dense(vocab_size, activation='softmax'))(decoder1)\n",
    "outputs = Flatten()(outputs)\n",
    "outputs = (Dense(5, activation='linear'))(outputs)\n"
   ]
  },
  {
   "cell_type": "code",
   "execution_count": 66,
   "metadata": {},
   "outputs": [
    {
     "data": {
      "text/plain": [
       "<tf.Tensor 'dense_12/BiasAdd:0' shape=(?, 5) dtype=float32>"
      ]
     },
     "execution_count": 66,
     "metadata": {},
     "output_type": "execute_result"
    }
   ],
   "source": [
    "outputs"
   ]
  },
  {
   "cell_type": "code",
   "execution_count": 67,
   "metadata": {},
   "outputs": [],
   "source": [
    "# tie it together\n",
    "model = Model(inputs=inputs, outputs=outputs)\n",
    "model.compile(loss='categorical_crossentropy', optimizer='adam')\n",
    "\n"
   ]
  },
  {
   "cell_type": "code",
   "execution_count": 68,
   "metadata": {},
   "outputs": [
    {
     "data": {
      "text/plain": [
       "array([[ 5, 13, 16,  2, 18, 16,  0,  0,  0,  0,  0,  0,  0,  0,  0,  0,\n",
       "         0,  0,  0,  0,  0,  0,  0,  0,  0,  0,  0,  0,  0,  0,  0,  0,\n",
       "         0,  0,  0,  0,  0,  0,  0,  0,  0,  0,  0,  0],\n",
       "       [ 5,  1, 13, 12, 10, 10, 13, 16,  9, 10,  0,  0,  0,  0,  0,  0,\n",
       "         0,  0,  0,  0,  0,  0,  0,  0,  0,  0,  0,  0,  0,  0,  0,  0,\n",
       "         0,  0,  0,  0,  0,  0,  0,  0,  0,  0,  0,  0],\n",
       "       [ 5, 11, 11,  3,  4, 18, 10, 13,  0,  0,  0,  0,  0,  0,  0,  0,\n",
       "         0,  0,  0,  0,  0,  0,  0,  0,  0,  0,  0,  0,  0,  0,  0,  0,\n",
       "         0,  0,  0,  0,  0,  0,  0,  0,  0,  0,  0,  0]], dtype=int32)"
      ]
     },
     "execution_count": 68,
     "metadata": {},
     "output_type": "execute_result"
    }
   ],
   "source": [
    "padded_articles"
   ]
  },
  {
   "cell_type": "code",
   "execution_count": 69,
   "metadata": {},
   "outputs": [
    {
     "data": {
      "text/plain": [
       "array([[ 5, 13, 16, 18,  0],\n",
       "       [ 5,  1, 13, 10, 10],\n",
       "       [ 5, 11, 11,  3,  0]], dtype=int32)"
      ]
     },
     "execution_count": 69,
     "metadata": {},
     "output_type": "execute_result"
    }
   ],
   "source": [
    "padded_summaries"
   ]
  },
  {
   "cell_type": "code",
   "execution_count": 70,
   "metadata": {},
   "outputs": [
    {
     "name": "stdout",
     "output_type": "stream",
     "text": [
      "Epoch 1/10\n",
      "3/3 [==============================] - 2s 729ms/step - loss: 238.6268\n",
      "Epoch 2/10\n",
      "3/3 [==============================] - 0s 18ms/step - loss: 429.8159\n",
      "Epoch 3/10\n",
      "3/3 [==============================] - 0s 19ms/step - loss: 325.3823\n",
      "Epoch 4/10\n",
      "3/3 [==============================] - 0s 18ms/step - loss: 314.8108\n",
      "Epoch 5/10\n",
      "3/3 [==============================] - 0s 21ms/step - loss: 308.2018\n",
      "Epoch 6/10\n",
      "3/3 [==============================] - 0s 21ms/step - loss: 299.7028\n",
      "Epoch 7/10\n",
      "3/3 [==============================] - 0s 20ms/step - loss: 295.4984\n",
      "Epoch 8/10\n",
      "3/3 [==============================] - 0s 20ms/step - loss: 295.4984\n",
      "Epoch 9/10\n",
      "3/3 [==============================] - 0s 21ms/step - loss: 354.5981\n",
      "Epoch 10/10\n",
      "3/3 [==============================] - 0s 20ms/step - loss: 354.5981\n"
     ]
    },
    {
     "data": {
      "text/plain": [
       "<keras.callbacks.History at 0x182534fa58>"
      ]
     },
     "execution_count": 70,
     "metadata": {},
     "output_type": "execute_result"
    }
   ],
   "source": [
    "# Fitting the model\n",
    "model.fit(padded_articles, padded_summaries, epochs=10, batch_size=32)\n",
    "#model.fit(padded_articles, padded_summaries)"
   ]
  },
  {
   "cell_type": "code",
   "execution_count": null,
   "metadata": {},
   "outputs": [],
   "source": []
  },
  {
   "cell_type": "code",
   "execution_count": 83,
   "metadata": {},
   "outputs": [
    {
     "ename": "TypeError",
     "evalue": "predict() missing 1 required positional argument: 'self'",
     "output_type": "error",
     "traceback": [
      "\u001b[0;31m---------------------------------------------------------------------------\u001b[0m",
      "\u001b[0;31mTypeError\u001b[0m                                 Traceback (most recent call last)",
      "\u001b[0;32m<ipython-input-83-ec3f27b3d044>\u001b[0m in \u001b[0;36m<module>\u001b[0;34m()\u001b[0m\n\u001b[0;32m----> 1\u001b[0;31m \u001b[0mModel\u001b[0m\u001b[0;34m.\u001b[0m\u001b[0mpredict\u001b[0m\u001b[0;34m(\u001b[0m\u001b[0mx\u001b[0m\u001b[0;34m=\u001b[0m\u001b[0;34m'this is good mobile,this is good'\u001b[0m\u001b[0;34m)\u001b[0m\u001b[0;34m\u001b[0m\u001b[0m\n\u001b[0m",
      "\u001b[0;31mTypeError\u001b[0m: predict() missing 1 required positional argument: 'self'"
     ]
    }
   ],
   "source": [
    "Model.predict(x='this is good mobile,this is good')"
   ]
  },
  {
   "cell_type": "code",
   "execution_count": null,
   "metadata": {},
   "outputs": [],
   "source": []
  }
 ],
 "metadata": {
  "kernelspec": {
   "display_name": "Python 3",
   "language": "python",
   "name": "python3"
  },
  "language_info": {
   "codemirror_mode": {
    "name": "ipython",
    "version": 3
   },
   "file_extension": ".py",
   "mimetype": "text/x-python",
   "name": "python",
   "nbconvert_exporter": "python",
   "pygments_lexer": "ipython3",
   "version": "3.6.4"
  }
 },
 "nbformat": 4,
 "nbformat_minor": 2
}
